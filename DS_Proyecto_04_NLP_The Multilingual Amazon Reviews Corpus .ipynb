{
 "cells": [
  {
   "cell_type": "markdown",
   "metadata": {},
   "source": [
    "#### Nicolás García Gómez - DS 61"
   ]
  },
  {
   "cell_type": "markdown",
   "metadata": {
    "id": "2GRQnxMzISE_"
   },
   "source": [
    "# Proyecto 04 - Procesamiento del Lenguaje Natural - Segunda Parte\n",
    "\n",
    "## Dataset: The Multilingual Amazon Reviews Corpus\n",
    "\n",
    "**Recuerda descargar el dataset de [aquí](https://github.com/kang205/SASRec). Es un archivo .zip que contiene tres documentos. Más información sobre el dataset [aquí](https://registry.opendata.aws/amazon-reviews-ml/). Es importante que tengas en cuenta la [licencia](https://docs.opendata.aws/amazon-reviews-ml/license.txt) de este dataset.**\n",
    "\n",
    "## ETAPAS\n",
    "\n",
    "### 1-Exploración de datos\n",
    "\n",
    "### 2-Procesamiento del Lenguaje Natural - NLTK\n",
    "\n",
    "### 3- Vectorización\n",
    "\n",
    "### 4-Machine Learningv - Modelado\n",
    "\n",
    "\n"
   ]
  },
  {
   "cell_type": "code",
   "execution_count": 239,
   "metadata": {},
   "outputs": [],
   "source": [
    "import itertools\n",
    "\n",
    "import numpy as np\n",
    "import pandas as pd\n",
    "import matplotlib.pyplot as plt\n",
    "from matplotlib.ticker import PercentFormatter # para dar formato de porcentaje a las tablas de frecuencia\n",
    "import seaborn as sns\n",
    "sns.set()\n",
    "\n",
    "import warnings\n",
    "warnings.filterwarnings('ignore')"
   ]
  },
  {
   "cell_type": "markdown",
   "metadata": {},
   "source": [
    "## 1. Exploración del dataset - EDA"
   ]
  },
  {
   "cell_type": "code",
   "execution_count": 240,
   "metadata": {},
   "outputs": [
    {
     "data": {
      "text/plain": [
       "(200000, 8)"
      ]
     },
     "execution_count": 240,
     "metadata": {},
     "output_type": "execute_result"
    }
   ],
   "source": [
    "Amazon_train = pd.read_json('dataset_es_train.json', lines=True) # para abir un archivo tipo JSON\n",
    "Amazon_train.head()\n",
    "Amazon_train.shape"
   ]
  },
  {
   "cell_type": "code",
   "execution_count": 241,
   "metadata": {},
   "outputs": [
    {
     "data": {
      "text/html": [
       "<div>\n",
       "<style scoped>\n",
       "    .dataframe tbody tr th:only-of-type {\n",
       "        vertical-align: middle;\n",
       "    }\n",
       "\n",
       "    .dataframe tbody tr th {\n",
       "        vertical-align: top;\n",
       "    }\n",
       "\n",
       "    .dataframe thead th {\n",
       "        text-align: right;\n",
       "    }\n",
       "</style>\n",
       "<table border=\"1\" class=\"dataframe\">\n",
       "  <thead>\n",
       "    <tr style=\"text-align: right;\">\n",
       "      <th></th>\n",
       "      <th>review_id</th>\n",
       "      <th>product_id</th>\n",
       "      <th>reviewer_id</th>\n",
       "      <th>stars</th>\n",
       "      <th>review_body</th>\n",
       "      <th>review_title</th>\n",
       "      <th>language</th>\n",
       "      <th>product_category</th>\n",
       "    </tr>\n",
       "  </thead>\n",
       "  <tbody>\n",
       "    <tr>\n",
       "      <th>0</th>\n",
       "      <td>es_0491108</td>\n",
       "      <td>product_es_0296024</td>\n",
       "      <td>reviewer_es_0999081</td>\n",
       "      <td>1</td>\n",
       "      <td>Nada bueno se me fue ka pantalla en menos de 8...</td>\n",
       "      <td>television Nevir</td>\n",
       "      <td>es</td>\n",
       "      <td>electronics</td>\n",
       "    </tr>\n",
       "    <tr>\n",
       "      <th>1</th>\n",
       "      <td>es_0869872</td>\n",
       "      <td>product_es_0922286</td>\n",
       "      <td>reviewer_es_0216771</td>\n",
       "      <td>1</td>\n",
       "      <td>Horrible, nos tuvimos que comprar otro porque ...</td>\n",
       "      <td>Dinero tirado a la basura con esta compra</td>\n",
       "      <td>es</td>\n",
       "      <td>electronics</td>\n",
       "    </tr>\n",
       "    <tr>\n",
       "      <th>2</th>\n",
       "      <td>es_0811721</td>\n",
       "      <td>product_es_0474543</td>\n",
       "      <td>reviewer_es_0929213</td>\n",
       "      <td>1</td>\n",
       "      <td>Te obligan a comprar dos unidades y te llega s...</td>\n",
       "      <td>solo llega una unidad cuando te obligan a comp...</td>\n",
       "      <td>es</td>\n",
       "      <td>drugstore</td>\n",
       "    </tr>\n",
       "    <tr>\n",
       "      <th>3</th>\n",
       "      <td>es_0359921</td>\n",
       "      <td>product_es_0656090</td>\n",
       "      <td>reviewer_es_0224702</td>\n",
       "      <td>1</td>\n",
       "      <td>No entro en descalificar al vendedor, solo pue...</td>\n",
       "      <td>PRODUCTO NO RECIBIDO.</td>\n",
       "      <td>es</td>\n",
       "      <td>wireless</td>\n",
       "    </tr>\n",
       "    <tr>\n",
       "      <th>4</th>\n",
       "      <td>es_0068940</td>\n",
       "      <td>product_es_0662544</td>\n",
       "      <td>reviewer_es_0224827</td>\n",
       "      <td>1</td>\n",
       "      <td>Llega tarde y co la talla equivocada</td>\n",
       "      <td>Devuelto</td>\n",
       "      <td>es</td>\n",
       "      <td>shoes</td>\n",
       "    </tr>\n",
       "  </tbody>\n",
       "</table>\n",
       "</div>"
      ],
      "text/plain": [
       "    review_id          product_id          reviewer_id  stars  \\\n",
       "0  es_0491108  product_es_0296024  reviewer_es_0999081      1   \n",
       "1  es_0869872  product_es_0922286  reviewer_es_0216771      1   \n",
       "2  es_0811721  product_es_0474543  reviewer_es_0929213      1   \n",
       "3  es_0359921  product_es_0656090  reviewer_es_0224702      1   \n",
       "4  es_0068940  product_es_0662544  reviewer_es_0224827      1   \n",
       "\n",
       "                                         review_body  \\\n",
       "0  Nada bueno se me fue ka pantalla en menos de 8...   \n",
       "1  Horrible, nos tuvimos que comprar otro porque ...   \n",
       "2  Te obligan a comprar dos unidades y te llega s...   \n",
       "3  No entro en descalificar al vendedor, solo pue...   \n",
       "4               Llega tarde y co la talla equivocada   \n",
       "\n",
       "                                        review_title language product_category  \n",
       "0                                   television Nevir       es      electronics  \n",
       "1          Dinero tirado a la basura con esta compra       es      electronics  \n",
       "2  solo llega una unidad cuando te obligan a comp...       es        drugstore  \n",
       "3                              PRODUCTO NO RECIBIDO.       es         wireless  \n",
       "4                                           Devuelto       es            shoes  "
      ]
     },
     "execution_count": 241,
     "metadata": {},
     "output_type": "execute_result"
    }
   ],
   "source": [
    "Amazon_train.head()"
   ]
  },
  {
   "cell_type": "code",
   "execution_count": 242,
   "metadata": {},
   "outputs": [
    {
     "name": "stdout",
     "output_type": "stream",
     "text": [
      "review_id 200000 valore diferentes\n",
      "product_id 150938 valore diferentes\n",
      "reviewer_id 179076 valore diferentes\n",
      "stars 5 valore diferentes\n",
      "review_body 198264 valore diferentes\n",
      "review_title 112114 valore diferentes\n",
      "language 1 valore diferentes\n",
      "product_category 30 valore diferentes\n"
     ]
    }
   ],
   "source": [
    "# revisamos los valores únicos de cada una de las columnas del data set. \n",
    "for col in Amazon_train.columns:\n",
    "    print(col, len(Amazon_train[col].unique()), 'valore diferentes')"
   ]
  },
  {
   "cell_type": "code",
   "execution_count": 243,
   "metadata": {},
   "outputs": [
    {
     "data": {
      "text/plain": [
       "Index(['review_id', 'product_id', 'reviewer_id', 'stars', 'review_body',\n",
       "       'review_title', 'language', 'product_category'],\n",
       "      dtype='object')"
      ]
     },
     "execution_count": 243,
     "metadata": {},
     "output_type": "execute_result"
    }
   ],
   "source": [
    "Amazon_train.columns"
   ]
  },
  {
   "cell_type": "markdown",
   "metadata": {},
   "source": [
    "- **Mantenemos las columnas** \n",
    "  - Stars\n",
    "  - Review body\n",
    "  - Review title\n",
    "  - Product Category"
   ]
  },
  {
   "cell_type": "code",
   "execution_count": 244,
   "metadata": {},
   "outputs": [],
   "source": [
    "Amazon_train.drop(['review_id','product_id','reviewer_id','language'], axis=1, inplace= True)"
   ]
  },
  {
   "cell_type": "code",
   "execution_count": 245,
   "metadata": {},
   "outputs": [
    {
     "data": {
      "text/html": [
       "<div>\n",
       "<style scoped>\n",
       "    .dataframe tbody tr th:only-of-type {\n",
       "        vertical-align: middle;\n",
       "    }\n",
       "\n",
       "    .dataframe tbody tr th {\n",
       "        vertical-align: top;\n",
       "    }\n",
       "\n",
       "    .dataframe thead th {\n",
       "        text-align: right;\n",
       "    }\n",
       "</style>\n",
       "<table border=\"1\" class=\"dataframe\">\n",
       "  <thead>\n",
       "    <tr style=\"text-align: right;\">\n",
       "      <th></th>\n",
       "      <th>stars</th>\n",
       "      <th>review_body</th>\n",
       "      <th>review_title</th>\n",
       "      <th>product_category</th>\n",
       "    </tr>\n",
       "  </thead>\n",
       "  <tbody>\n",
       "    <tr>\n",
       "      <th>0</th>\n",
       "      <td>1</td>\n",
       "      <td>Nada bueno se me fue ka pantalla en menos de 8...</td>\n",
       "      <td>television Nevir</td>\n",
       "      <td>electronics</td>\n",
       "    </tr>\n",
       "    <tr>\n",
       "      <th>1</th>\n",
       "      <td>1</td>\n",
       "      <td>Horrible, nos tuvimos que comprar otro porque ...</td>\n",
       "      <td>Dinero tirado a la basura con esta compra</td>\n",
       "      <td>electronics</td>\n",
       "    </tr>\n",
       "    <tr>\n",
       "      <th>2</th>\n",
       "      <td>1</td>\n",
       "      <td>Te obligan a comprar dos unidades y te llega s...</td>\n",
       "      <td>solo llega una unidad cuando te obligan a comp...</td>\n",
       "      <td>drugstore</td>\n",
       "    </tr>\n",
       "    <tr>\n",
       "      <th>3</th>\n",
       "      <td>1</td>\n",
       "      <td>No entro en descalificar al vendedor, solo pue...</td>\n",
       "      <td>PRODUCTO NO RECIBIDO.</td>\n",
       "      <td>wireless</td>\n",
       "    </tr>\n",
       "    <tr>\n",
       "      <th>4</th>\n",
       "      <td>1</td>\n",
       "      <td>Llega tarde y co la talla equivocada</td>\n",
       "      <td>Devuelto</td>\n",
       "      <td>shoes</td>\n",
       "    </tr>\n",
       "  </tbody>\n",
       "</table>\n",
       "</div>"
      ],
      "text/plain": [
       "   stars                                        review_body  \\\n",
       "0      1  Nada bueno se me fue ka pantalla en menos de 8...   \n",
       "1      1  Horrible, nos tuvimos que comprar otro porque ...   \n",
       "2      1  Te obligan a comprar dos unidades y te llega s...   \n",
       "3      1  No entro en descalificar al vendedor, solo pue...   \n",
       "4      1               Llega tarde y co la talla equivocada   \n",
       "\n",
       "                                        review_title product_category  \n",
       "0                                   television Nevir      electronics  \n",
       "1          Dinero tirado a la basura con esta compra      electronics  \n",
       "2  solo llega una unidad cuando te obligan a comp...        drugstore  \n",
       "3                              PRODUCTO NO RECIBIDO.         wireless  \n",
       "4                                           Devuelto            shoes  "
      ]
     },
     "execution_count": 245,
     "metadata": {},
     "output_type": "execute_result"
    }
   ],
   "source": [
    "Amazon_train.head()"
   ]
  },
  {
   "cell_type": "markdown",
   "metadata": {},
   "source": [
    "- **Revisamos el largo en cantidad de caracteres de las diferentes reviews**"
   ]
  },
  {
   "cell_type": "code",
   "execution_count": 246,
   "metadata": {},
   "outputs": [],
   "source": [
    "Amazon_train['length']= Amazon_train['review_body'].apply(len)"
   ]
  },
  {
   "cell_type": "code",
   "execution_count": 247,
   "metadata": {},
   "outputs": [
    {
     "data": {
      "text/html": [
       "<div>\n",
       "<style scoped>\n",
       "    .dataframe tbody tr th:only-of-type {\n",
       "        vertical-align: middle;\n",
       "    }\n",
       "\n",
       "    .dataframe tbody tr th {\n",
       "        vertical-align: top;\n",
       "    }\n",
       "\n",
       "    .dataframe thead th {\n",
       "        text-align: right;\n",
       "    }\n",
       "</style>\n",
       "<table border=\"1\" class=\"dataframe\">\n",
       "  <thead>\n",
       "    <tr style=\"text-align: right;\">\n",
       "      <th></th>\n",
       "      <th>stars</th>\n",
       "      <th>length</th>\n",
       "    </tr>\n",
       "  </thead>\n",
       "  <tbody>\n",
       "    <tr>\n",
       "      <th>count</th>\n",
       "      <td>200000.000000</td>\n",
       "      <td>200000.000000</td>\n",
       "    </tr>\n",
       "    <tr>\n",
       "      <th>mean</th>\n",
       "      <td>3.000000</td>\n",
       "      <td>151.302910</td>\n",
       "    </tr>\n",
       "    <tr>\n",
       "      <th>std</th>\n",
       "      <td>1.414217</td>\n",
       "      <td>132.201785</td>\n",
       "    </tr>\n",
       "    <tr>\n",
       "      <th>min</th>\n",
       "      <td>1.000000</td>\n",
       "      <td>16.000000</td>\n",
       "    </tr>\n",
       "    <tr>\n",
       "      <th>25%</th>\n",
       "      <td>2.000000</td>\n",
       "      <td>68.000000</td>\n",
       "    </tr>\n",
       "    <tr>\n",
       "      <th>50%</th>\n",
       "      <td>3.000000</td>\n",
       "      <td>120.000000</td>\n",
       "    </tr>\n",
       "    <tr>\n",
       "      <th>75%</th>\n",
       "      <td>4.000000</td>\n",
       "      <td>186.000000</td>\n",
       "    </tr>\n",
       "    <tr>\n",
       "      <th>max</th>\n",
       "      <td>5.000000</td>\n",
       "      <td>3086.000000</td>\n",
       "    </tr>\n",
       "  </tbody>\n",
       "</table>\n",
       "</div>"
      ],
      "text/plain": [
       "               stars         length\n",
       "count  200000.000000  200000.000000\n",
       "mean        3.000000     151.302910\n",
       "std         1.414217     132.201785\n",
       "min         1.000000      16.000000\n",
       "25%         2.000000      68.000000\n",
       "50%         3.000000     120.000000\n",
       "75%         4.000000     186.000000\n",
       "max         5.000000    3086.000000"
      ]
     },
     "execution_count": 247,
     "metadata": {},
     "output_type": "execute_result"
    }
   ],
   "source": [
    "#Aplicamos .describe() a las dos variables núnmericas\n",
    "Amazon_train.describe()"
   ]
  },
  {
   "cell_type": "markdown",
   "metadata": {},
   "source": [
    "Como se observa en la tabla podemos ver que, \n",
    " - El 50% de las reviews tienen menos de 120 caracteres\n",
    " - El 75% de las reviews tienen menos de 186 caracteres"
   ]
  },
  {
   "cell_type": "code",
   "execution_count": 248,
   "metadata": {},
   "outputs": [],
   "source": [
    "#quito las reviews de más de 186 caracteres y redujo el data set a 150.385 registros, es decir nos quedamos con el 75% de las reviews del set de datos\n",
    "Amazon_train=Amazon_train[Amazon_train.length<=186]"
   ]
  },
  {
   "cell_type": "code",
   "execution_count": 249,
   "metadata": {},
   "outputs": [
    {
     "data": {
      "text/html": [
       "<div>\n",
       "<style scoped>\n",
       "    .dataframe tbody tr th:only-of-type {\n",
       "        vertical-align: middle;\n",
       "    }\n",
       "\n",
       "    .dataframe tbody tr th {\n",
       "        vertical-align: top;\n",
       "    }\n",
       "\n",
       "    .dataframe thead th {\n",
       "        text-align: right;\n",
       "    }\n",
       "</style>\n",
       "<table border=\"1\" class=\"dataframe\">\n",
       "  <thead>\n",
       "    <tr style=\"text-align: right;\">\n",
       "      <th></th>\n",
       "      <th>stars</th>\n",
       "      <th>review_body</th>\n",
       "      <th>review_title</th>\n",
       "      <th>product_category</th>\n",
       "      <th>length</th>\n",
       "    </tr>\n",
       "  </thead>\n",
       "  <tbody>\n",
       "    <tr>\n",
       "      <th>36282</th>\n",
       "      <td>1</td>\n",
       "      <td>Extremadamente pequeño. Cuando me llegó la caj...</td>\n",
       "      <td>Muy pequeño</td>\n",
       "      <td>pet_products</td>\n",
       "      <td>186</td>\n",
       "    </tr>\n",
       "    <tr>\n",
       "      <th>33304</th>\n",
       "      <td>1</td>\n",
       "      <td>Lo he probado varias veces. Con o sin lubrican...</td>\n",
       "      <td>Francamente una decepcion</td>\n",
       "      <td>drugstore</td>\n",
       "      <td>186</td>\n",
       "    </tr>\n",
       "    <tr>\n",
       "      <th>178941</th>\n",
       "      <td>5</td>\n",
       "      <td>Porque me ha encantado, se puede lavar. Con es...</td>\n",
       "      <td>Corrector de postura</td>\n",
       "      <td>personal_care_appliances</td>\n",
       "      <td>186</td>\n",
       "    </tr>\n",
       "    <tr>\n",
       "      <th>61982</th>\n",
       "      <td>2</td>\n",
       "      <td>Las pegatinas no tienen la suficiente fuerza p...</td>\n",
       "      <td>Poca adherencia</td>\n",
       "      <td>home</td>\n",
       "      <td>186</td>\n",
       "    </tr>\n",
       "    <tr>\n",
       "      <th>49490</th>\n",
       "      <td>2</td>\n",
       "      <td>El artículo sería genial sino es que a los 5 d...</td>\n",
       "      <td>Producto defectuoso</td>\n",
       "      <td>toy</td>\n",
       "      <td>186</td>\n",
       "    </tr>\n",
       "  </tbody>\n",
       "</table>\n",
       "</div>"
      ],
      "text/plain": [
       "        stars                                        review_body  \\\n",
       "36282       1  Extremadamente pequeño. Cuando me llegó la caj...   \n",
       "33304       1  Lo he probado varias veces. Con o sin lubrican...   \n",
       "178941      5  Porque me ha encantado, se puede lavar. Con es...   \n",
       "61982       2  Las pegatinas no tienen la suficiente fuerza p...   \n",
       "49490       2  El artículo sería genial sino es que a los 5 d...   \n",
       "\n",
       "                     review_title          product_category  length  \n",
       "36282                 Muy pequeño              pet_products     186  \n",
       "33304   Francamente una decepcion                 drugstore     186  \n",
       "178941       Corrector de postura  personal_care_appliances     186  \n",
       "61982             Poca adherencia                      home     186  \n",
       "49490         Producto defectuoso                       toy     186  "
      ]
     },
     "execution_count": 249,
     "metadata": {},
     "output_type": "execute_result"
    }
   ],
   "source": [
    "Amazon_train.sort_values('length',ascending=False).head()"
   ]
  },
  {
   "cell_type": "code",
   "execution_count": 250,
   "metadata": {},
   "outputs": [
    {
     "data": {
      "text/plain": [
       "(150385, 5)"
      ]
     },
     "execution_count": 250,
     "metadata": {},
     "output_type": "execute_result"
    }
   ],
   "source": [
    "Amazon_train.shape"
   ]
  },
  {
   "cell_type": "markdown",
   "metadata": {},
   "source": [
    "Graficamos algunas variables para visualizar su compartamiento\n",
    " - Agrupamiento de cantidad de reviws según categorias de stars => aca vemos una distribución homogenea y muy pareja pero no exacta como cuando tomamos el 100% del set Amazon_train que teníamos 40K de reviews en cada categoría de estrellas como sucedio en el 'Proyecto 3'\n",
    " - Distribución de la variable length en un histograma  => aca se observa que luego del lenght entre 120-120 la cantidad de reviews de largos mayores comieza a desender. Como se mencion´+o antes el 50% de las reviews tienen largos igual o menos a 120.\n",
    " - Distribución de la variable lenght por categoria de estrella usando boxplots => similar al agrupamiento de review por catidad de estrellas se observa un compartamiento muy regular por categoría de estrella"
   ]
  },
  {
   "cell_type": "code",
   "execution_count": 251,
   "metadata": {},
   "outputs": [
    {
     "name": "stdout",
     "output_type": "stream",
     "text": [
      "Agrupamiento de review por cantidad de estrellas\n",
      "\n",
      "   stars  Cantidad_ reviews_x_estrella\n",
      "4      5                         31721\n",
      "3      4                         31130\n",
      "0      1                         29805\n",
      "2      3                         29707\n",
      "1      2                         28022\n",
      "\n"
     ]
    },
    {
     "data": {
      "image/png": "[encoded data removed]",
      "text/plain": [
       "<Figure size 864x288 with 1 Axes>"
      ]
     },
     "metadata": {},
     "output_type": "display_data"
    },
    {
     "data": {
      "text/plain": [
       "<Figure size 432x288 with 0 Axes>"
      ]
     },
     "metadata": {},
     "output_type": "display_data"
    }
   ],
   "source": [
    "print('Agrupamiento de review por cantidad de estrellas')\n",
    "print('')\n",
    "print(Amazon_train.groupby(['stars']).size().reset_index(name='Cantidad_ reviews_x_estrella').sort_values('Cantidad_ reviews_x_estrella',ascending=False))\n",
    "\n",
    "#Armamos grafico en Seaborn para acompañar a la tabla de agrupamiento del punto anterior\n",
    "print('')\n",
    "plt.figure(figsize=(12, 4))\n",
    "\n",
    "ax=sns.countplot( x = 'stars',data = Amazon_train)\n",
    "\n",
    "plt.xticks(rotation = 45)\n",
    "plt.yticks(rotation = 0)\n",
    "plt.ylabel('Cantidad_Reviews (un)',fontweight= \"black\", fontsize = 14)\n",
    "plt.xlabel('Cantidad_Estrellas',fontweight= \"black\", fontsize = 14)\n",
    "plt.title('Agrupamiento_de_Reviews_x_Cantidad_de_Estrellas',fontweight= \"black\",fontsize = 16, color=\"blue\")\n",
    "#plt.legend(loc='lower center', shadow=False, fontsize='small')\n",
    "#plt.grid()\n",
    "plt.figure()\n",
    "plt.show()"
   ]
  },
  {
   "cell_type": "code",
   "execution_count": 252,
   "metadata": {},
   "outputs": [
    {
     "data": {
      "text/plain": [
       "Text(0.5, 1.0, 'Distribución de la variable length')"
      ]
     },
     "execution_count": 252,
     "metadata": {},
     "output_type": "execute_result"
    },
    {
     "data": {
      "image/png": "[encoded data removed]",
      "text/plain": [
       "<Figure size 720x360 with 1 Axes>"
      ]
     },
     "metadata": {},
     "output_type": "display_data"
    }
   ],
   "source": [
    "#Vemos la distribución de 'length'\n",
    "\n",
    "plt.figure(figsize = (10,5))\n",
    "sns.histplot(Amazon_train['length'], bins =50)\n",
    "plt.title('Distribución de la variable length', fontweight= 'black',fontsize = 16,color=\"blue\")"
   ]
  },
  {
   "cell_type": "code",
   "execution_count": 253,
   "metadata": {},
   "outputs": [
    {
     "data": {
      "text/plain": [
       "<AxesSubplot:xlabel='length'>"
      ]
     },
     "execution_count": 253,
     "metadata": {},
     "output_type": "execute_result"
    },
    {
     "data": {
      "image/png": "[encoded data removed]",
      "text/plain": [
       "<Figure size 432x288 with 1 Axes>"
      ]
     },
     "metadata": {},
     "output_type": "display_data"
    }
   ],
   "source": [
    "sns.boxplot(x ='length',data = Amazon_train, showfliers = False)"
   ]
  },
  {
   "cell_type": "code",
   "execution_count": 254,
   "metadata": {},
   "outputs": [
    {
     "data": {
      "text/plain": [
       "<AxesSubplot:xlabel='stars', ylabel='length'>"
      ]
     },
     "execution_count": 254,
     "metadata": {},
     "output_type": "execute_result"
    },
    {
     "data": {
      "image/png": "[encoded data removed]",
      "text/plain": [
       "<Figure size 432x288 with 1 Axes>"
      ]
     },
     "metadata": {},
     "output_type": "display_data"
    }
   ],
   "source": [
    "sns.boxplot(x ='stars' , y = 'length',data = Amazon_train, showfliers = False)"
   ]
  },
  {
   "cell_type": "markdown",
   "metadata": {},
   "source": [
    "- **Análizamos las categorías**"
   ]
  },
  {
   "cell_type": "markdown",
   "metadata": {},
   "source": [
    "- **Armamos la tabla de frecuencias** absolutas, relativas, acumuladas y un grafico de Pareto para las Categorías de producto => video: https://www.youtube.com/watch?v=NpEPEIMvItw"
   ]
  },
  {
   "cell_type": "code",
   "execution_count": 255,
   "metadata": {},
   "outputs": [
    {
     "data": {
      "text/html": [
       "<div>\n",
       "<style scoped>\n",
       "    .dataframe tbody tr th:only-of-type {\n",
       "        vertical-align: middle;\n",
       "    }\n",
       "\n",
       "    .dataframe tbody tr th {\n",
       "        vertical-align: top;\n",
       "    }\n",
       "\n",
       "    .dataframe thead th {\n",
       "        text-align: right;\n",
       "    }\n",
       "</style>\n",
       "<table border=\"1\" class=\"dataframe\">\n",
       "  <thead>\n",
       "    <tr style=\"text-align: right;\">\n",
       "      <th></th>\n",
       "      <th>Frec_abs</th>\n",
       "      <th>Frec_rel_%</th>\n",
       "      <th>frec_rel_%_acum</th>\n",
       "    </tr>\n",
       "  </thead>\n",
       "  <tbody>\n",
       "    <tr>\n",
       "      <th>home</th>\n",
       "      <td>20829</td>\n",
       "      <td>13.850451</td>\n",
       "      <td>13.850451</td>\n",
       "    </tr>\n",
       "    <tr>\n",
       "      <th>wireless</th>\n",
       "      <td>18719</td>\n",
       "      <td>12.447385</td>\n",
       "      <td>26.297836</td>\n",
       "    </tr>\n",
       "    <tr>\n",
       "      <th>toy</th>\n",
       "      <td>10691</td>\n",
       "      <td>7.109087</td>\n",
       "      <td>33.406922</td>\n",
       "    </tr>\n",
       "    <tr>\n",
       "      <th>sports</th>\n",
       "      <td>9978</td>\n",
       "      <td>6.634970</td>\n",
       "      <td>40.041892</td>\n",
       "    </tr>\n",
       "    <tr>\n",
       "      <th>home_improvement</th>\n",
       "      <td>8276</td>\n",
       "      <td>5.503208</td>\n",
       "      <td>45.545101</td>\n",
       "    </tr>\n",
       "    <tr>\n",
       "      <th>pc</th>\n",
       "      <td>7714</td>\n",
       "      <td>5.129501</td>\n",
       "      <td>50.674602</td>\n",
       "    </tr>\n",
       "    <tr>\n",
       "      <th>electronics</th>\n",
       "      <td>7330</td>\n",
       "      <td>4.874156</td>\n",
       "      <td>55.548758</td>\n",
       "    </tr>\n",
       "    <tr>\n",
       "      <th>beauty</th>\n",
       "      <td>5660</td>\n",
       "      <td>3.763673</td>\n",
       "      <td>59.312431</td>\n",
       "    </tr>\n",
       "    <tr>\n",
       "      <th>automotive</th>\n",
       "      <td>5651</td>\n",
       "      <td>3.757689</td>\n",
       "      <td>63.070120</td>\n",
       "    </tr>\n",
       "    <tr>\n",
       "      <th>apparel</th>\n",
       "      <td>4834</td>\n",
       "      <td>3.214416</td>\n",
       "      <td>66.284536</td>\n",
       "    </tr>\n",
       "    <tr>\n",
       "      <th>kitchen</th>\n",
       "      <td>4821</td>\n",
       "      <td>3.205772</td>\n",
       "      <td>69.490308</td>\n",
       "    </tr>\n",
       "    <tr>\n",
       "      <th>drugstore</th>\n",
       "      <td>4236</td>\n",
       "      <td>2.816770</td>\n",
       "      <td>72.307078</td>\n",
       "    </tr>\n",
       "    <tr>\n",
       "      <th>book</th>\n",
       "      <td>4127</td>\n",
       "      <td>2.744290</td>\n",
       "      <td>75.051368</td>\n",
       "    </tr>\n",
       "    <tr>\n",
       "      <th>furniture</th>\n",
       "      <td>3837</td>\n",
       "      <td>2.551451</td>\n",
       "      <td>77.602819</td>\n",
       "    </tr>\n",
       "    <tr>\n",
       "      <th>office_product</th>\n",
       "      <td>3658</td>\n",
       "      <td>2.432423</td>\n",
       "      <td>80.035243</td>\n",
       "    </tr>\n",
       "  </tbody>\n",
       "</table>\n",
       "</div>"
      ],
      "text/plain": [
       "                  Frec_abs  Frec_rel_%  frec_rel_%_acum\n",
       "home                 20829   13.850451        13.850451\n",
       "wireless             18719   12.447385        26.297836\n",
       "toy                  10691    7.109087        33.406922\n",
       "sports                9978    6.634970        40.041892\n",
       "home_improvement      8276    5.503208        45.545101\n",
       "pc                    7714    5.129501        50.674602\n",
       "electronics           7330    4.874156        55.548758\n",
       "beauty                5660    3.763673        59.312431\n",
       "automotive            5651    3.757689        63.070120\n",
       "apparel               4834    3.214416        66.284536\n",
       "kitchen               4821    3.205772        69.490308\n",
       "drugstore             4236    2.816770        72.307078\n",
       "book                  4127    2.744290        75.051368\n",
       "furniture             3837    2.551451        77.602819\n",
       "office_product        3658    2.432423        80.035243"
      ]
     },
     "execution_count": 255,
     "metadata": {},
     "output_type": "execute_result"
    }
   ],
   "source": [
    "#Agrupamiento por product_category\n",
    "frec = pd.value_counts(Amazon_train['product_category'])\n",
    "\n",
    "#transformo en el df de poandas\n",
    "df_frec= pd.DataFrame(frec)\n",
    "\n",
    "#agrego columnas 'Frec_abs'\n",
    "df_frec.columns = ['Frec_abs']\n",
    "\n",
    "#calculo la coliumna 'Frec_abs'\n",
    "df_frec['Frec_rel_%'] = 100* (df_frec.Frec_abs / Amazon_train.shape[0])\n",
    "\n",
    "#tabla de frecuencias absolutas / reltivas / acumulada\n",
    "\n",
    "frec_rel_val= df_frec['Frec_rel_%'].values # es una lista que contiene los valores de frec_rel_%\n",
    "\n",
    "acum = []\n",
    "valor_acum = 0\n",
    "\n",
    "for i in frec_rel_val:\n",
    "    valor_acum = valor_acum + i \n",
    "    acum.append(valor_acum)\n",
    "\n",
    "df_frec['frec_rel_%_acum'] = acum\n",
    "df_frec.head(15) # son las 15 categorías que acumulan el 80% de las review"
   ]
  },
  {
   "cell_type": "code",
   "execution_count": 256,
   "metadata": {},
   "outputs": [
    {
     "data": {
      "image/png": "[encoded data removed]",
      "text/plain": [
       "<Figure size 1008x432 with 2 Axes>"
      ]
     },
     "metadata": {},
     "output_type": "display_data"
    }
   ],
   "source": [
    "fig= plt.figure (figsize = (14,6))\n",
    "ax= fig.add_subplot(1,1,1)\n",
    "\n",
    "#Asignamos el titulo\n",
    "ax.set_title ('Diagrama de Pareto de las cateorías')\n",
    "\n",
    "#Creamos un grafico de barras con la frec_abs\n",
    "ax.bar (df_frec.index, df_frec['Frec_abs'], color='C0')\n",
    "        \n",
    "    \n",
    "#Graficamos la 'frec_rel_%_acum'\n",
    "ax2 = ax.twinx() # generamos un nuevo eje\n",
    "ax2.plot (df_frec.index, df_frec['frec_rel_%_acum'], color ='C1', marker='D', ms=5)\n",
    "ax2.yaxis.set_major_formatter (PercentFormatter()) # para que los numeros del eje de la derecha esten en %\n",
    "\n",
    "#Etiquetamos, asignamos color y damos rotación a las etiquetes de los ejes\n",
    "ax.tick_params (axis='y', color = 'C0')\n",
    "ax2.tick_params (axis='y', color = 'C1')\n",
    "ax.set_xticklabels(df_frec.index, rotation=75)\n",
    "\n",
    "plt.show()"
   ]
  },
  {
   "cell_type": "markdown",
   "metadata": {},
   "source": [
    "Podemos concluir de las tablas y del pareto que, \n",
    "* El 80% de las review corresponden a 15 categorías =>  home, wireless, toy, sports, home_improvement, PC, electronics, beauty, automotive, apparel, kitchen, drugstore, book, furniture and office_products"
   ]
  },
  {
   "cell_type": "markdown",
   "metadata": {},
   "source": [
    "Revisamos las cateogrías más populares por estrella tomando el top 15 de cada una y dejando las categorias unicas (17) al combinar el top 15 de las 5 categorías"
   ]
  },
  {
   "cell_type": "code",
   "execution_count": 257,
   "metadata": {},
   "outputs": [],
   "source": [
    "# 5 estrellas\n",
    "Amazon_train_5=Amazon_train[Amazon_train.stars ==5].groupby([ 'stars','product_category']).size().reset_index(name='Cantidad_reviews_x_categoría').sort_values('Cantidad_reviews_x_categoría',ascending=False)\n",
    "# 4 estrellas\n",
    "Amazon_train_4=Amazon_train[Amazon_train.stars ==4].groupby([ 'stars','product_category']).size().reset_index(name='Cantidad_reviews_x_categoría').sort_values('Cantidad_reviews_x_categoría',ascending=False)\n",
    "# 3 estrellas\n",
    "Amazon_train_3=Amazon_train[Amazon_train.stars ==3].groupby([ 'stars','product_category']).size().reset_index(name='Cantidad_reviews_x_categoría').sort_values('Cantidad_reviews_x_categoría',ascending=False)\n",
    "# 2 estrellas\n",
    "Amazon_train_2=Amazon_train[Amazon_train.stars ==2].groupby([ 'stars','product_category']).size().reset_index(name='Cantidad_reviews_x_categoría').sort_values('Cantidad_reviews_x_categoría',ascending=False)\n",
    "# 1 estrellas\n",
    "Amazon_train_1=Amazon_train[Amazon_train.stars ==1].groupby([ 'stars','product_category']).size().reset_index(name='Cantidad_reviews_x_categoría').sort_values('Cantidad_reviews_x_categoría',ascending=False)"
   ]
  },
  {
   "cell_type": "code",
   "execution_count": 258,
   "metadata": {},
   "outputs": [],
   "source": [
    "comparativo_1 = pd.concat([Amazon_train_5.product_category.head(15),Amazon_train_4.product_category.head(15),Amazon_train_3.product_category.head(15),Amazon_train_2.product_category.head(15),Amazon_train_1.product_category.head(15)],axis=0).unique()"
   ]
  },
  {
   "cell_type": "code",
   "execution_count": 259,
   "metadata": {},
   "outputs": [
    {
     "data": {
      "text/plain": [
       "array(['home', 'wireless', 'toy', 'sports', 'pc', 'home_improvement',\n",
       "       'electronics', 'book', 'automotive', 'beauty', 'kitchen',\n",
       "       'drugstore', 'office_product', 'baby_product', 'apparel',\n",
       "       'furniture', 'lawn_and_garden'], dtype=object)"
      ]
     },
     "execution_count": 259,
     "metadata": {},
     "output_type": "execute_result"
    }
   ],
   "source": [
    "#categorías en el top 15 combinando las 5 categoría de estrellas => Categorías únicas\n",
    "comparativo_1"
   ]
  },
  {
   "cell_type": "code",
   "execution_count": 260,
   "metadata": {},
   "outputs": [
    {
     "data": {
      "text/plain": [
       "(17,)"
      ]
     },
     "execution_count": 260,
     "metadata": {},
     "output_type": "execute_result"
    }
   ],
   "source": [
    "#tenemos 17 categorías a ver según la clasificación por estrella\n",
    "comparativo_1.shape"
   ]
  },
  {
   "cell_type": "markdown",
   "metadata": {},
   "source": [
    "- Renombro las columnas para luego ordenarlas y saber inequivocamente a que categoría de estrellas pertenecen\n",
    "- Luego se determino y armo una tabla con la cantidad y la frecuencia de las reviews por categoría de producto y por categoría de estrella "
   ]
  },
  {
   "cell_type": "code",
   "execution_count": 261,
   "metadata": {},
   "outputs": [],
   "source": [
    "# Renombro columnas\n",
    "\n",
    "Amazon_train_5=Amazon_train_5.rename(columns={'product_category':'category_5','Cantidad_reviews_x_categoría':'Q_rev_cat_5'})\n",
    "Amazon_train_4=Amazon_train_4.rename(columns={'product_category':'category_4','Cantidad_reviews_x_categoría':'Q_rev_cat_4'})\n",
    "Amazon_train_3=Amazon_train_3.rename(columns={'product_category':'category_3','Cantidad_reviews_x_categoría':'Q_rev_cat_3'})\n",
    "Amazon_train_2=Amazon_train_2.rename(columns={'product_category':'category_2','Cantidad_reviews_x_categoría':'Q_rev_cat_2'})\n",
    "Amazon_train_1=Amazon_train_1.rename(columns={'product_category':'category_1','Cantidad_reviews_x_categoría':'Q_rev_cat_1'})"
   ]
  },
  {
   "cell_type": "code",
   "execution_count": 262,
   "metadata": {},
   "outputs": [],
   "source": [
    "#genero data set por categoía que me sierven para el calculo de frecuencia. ya que necesito saber la cantidad de registros totales de cada categoría\n",
    "\n",
    "Amazon_train_solo_5=Amazon_train[Amazon_train.stars==5]\n",
    "Amazon_train_solo_4=Amazon_train[Amazon_train.stars==4]\n",
    "Amazon_train_solo_3=Amazon_train[Amazon_train.stars==3]\n",
    "Amazon_train_solo_2=Amazon_train[Amazon_train.stars==2]\n",
    "Amazon_train_solo_1=Amazon_train[Amazon_train.stars==1]"
   ]
  },
  {
   "cell_type": "code",
   "execution_count": 263,
   "metadata": {},
   "outputs": [
    {
     "data": {
      "text/html": [
       "<div>\n",
       "<style scoped>\n",
       "    .dataframe tbody tr th:only-of-type {\n",
       "        vertical-align: middle;\n",
       "    }\n",
       "\n",
       "    .dataframe tbody tr th {\n",
       "        vertical-align: top;\n",
       "    }\n",
       "\n",
       "    .dataframe thead th {\n",
       "        text-align: right;\n",
       "    }\n",
       "</style>\n",
       "<table border=\"1\" class=\"dataframe\">\n",
       "  <thead>\n",
       "    <tr style=\"text-align: right;\">\n",
       "      <th></th>\n",
       "      <th>CATEGORIA</th>\n",
       "      <th>Q_rev_cat_5</th>\n",
       "      <th>Q_rev_cat_4</th>\n",
       "      <th>Q_rev_cat_3</th>\n",
       "      <th>Q_rev_cat_2</th>\n",
       "      <th>Q_rev_cat_1</th>\n",
       "      <th>Frec_rel_%_5</th>\n",
       "      <th>Frec_rel_%_4</th>\n",
       "      <th>Frec_rel_%_3</th>\n",
       "      <th>Frec_rel_%_2</th>\n",
       "      <th>Frec_rel_%_1</th>\n",
       "    </tr>\n",
       "  </thead>\n",
       "  <tbody>\n",
       "    <tr>\n",
       "      <th>0</th>\n",
       "      <td>home</td>\n",
       "      <td>4185.0</td>\n",
       "      <td>4216.0</td>\n",
       "      <td>4215.0</td>\n",
       "      <td>4073.0</td>\n",
       "      <td>4140.0</td>\n",
       "      <td>13.19</td>\n",
       "      <td>13.54</td>\n",
       "      <td>14.19</td>\n",
       "      <td>14.54</td>\n",
       "      <td>13.89</td>\n",
       "    </tr>\n",
       "    <tr>\n",
       "      <th>1</th>\n",
       "      <td>wireless</td>\n",
       "      <td>3479.0</td>\n",
       "      <td>3462.0</td>\n",
       "      <td>3386.0</td>\n",
       "      <td>3855.0</td>\n",
       "      <td>4537.0</td>\n",
       "      <td>10.97</td>\n",
       "      <td>11.12</td>\n",
       "      <td>11.40</td>\n",
       "      <td>13.76</td>\n",
       "      <td>15.22</td>\n",
       "    </tr>\n",
       "    <tr>\n",
       "      <th>2</th>\n",
       "      <td>toy</td>\n",
       "      <td>2445.0</td>\n",
       "      <td>2126.0</td>\n",
       "      <td>2288.0</td>\n",
       "      <td>2000.0</td>\n",
       "      <td>1832.0</td>\n",
       "      <td>7.71</td>\n",
       "      <td>6.83</td>\n",
       "      <td>7.70</td>\n",
       "      <td>7.14</td>\n",
       "      <td>6.15</td>\n",
       "    </tr>\n",
       "    <tr>\n",
       "      <th>3</th>\n",
       "      <td>sports</td>\n",
       "      <td>1953.0</td>\n",
       "      <td>2235.0</td>\n",
       "      <td>2132.0</td>\n",
       "      <td>1778.0</td>\n",
       "      <td>1880.0</td>\n",
       "      <td>6.16</td>\n",
       "      <td>7.18</td>\n",
       "      <td>7.18</td>\n",
       "      <td>6.35</td>\n",
       "      <td>6.31</td>\n",
       "    </tr>\n",
       "    <tr>\n",
       "      <th>4</th>\n",
       "      <td>pc</td>\n",
       "      <td>1849.0</td>\n",
       "      <td>1724.0</td>\n",
       "      <td>1326.0</td>\n",
       "      <td>1300.0</td>\n",
       "      <td>1515.0</td>\n",
       "      <td>5.83</td>\n",
       "      <td>5.54</td>\n",
       "      <td>4.46</td>\n",
       "      <td>4.64</td>\n",
       "      <td>5.08</td>\n",
       "    </tr>\n",
       "    <tr>\n",
       "      <th>5</th>\n",
       "      <td>home_improvement</td>\n",
       "      <td>1691.0</td>\n",
       "      <td>1878.0</td>\n",
       "      <td>1635.0</td>\n",
       "      <td>1426.0</td>\n",
       "      <td>1646.0</td>\n",
       "      <td>5.33</td>\n",
       "      <td>6.03</td>\n",
       "      <td>5.50</td>\n",
       "      <td>5.09</td>\n",
       "      <td>5.52</td>\n",
       "    </tr>\n",
       "    <tr>\n",
       "      <th>6</th>\n",
       "      <td>electronics</td>\n",
       "      <td>1419.0</td>\n",
       "      <td>1458.0</td>\n",
       "      <td>1360.0</td>\n",
       "      <td>1385.0</td>\n",
       "      <td>1708.0</td>\n",
       "      <td>4.47</td>\n",
       "      <td>4.68</td>\n",
       "      <td>4.58</td>\n",
       "      <td>4.94</td>\n",
       "      <td>5.73</td>\n",
       "    </tr>\n",
       "    <tr>\n",
       "      <th>7</th>\n",
       "      <td>book</td>\n",
       "      <td>1368.0</td>\n",
       "      <td>914.0</td>\n",
       "      <td>735.0</td>\n",
       "      <td>NaN</td>\n",
       "      <td>NaN</td>\n",
       "      <td>4.31</td>\n",
       "      <td>2.94</td>\n",
       "      <td>2.47</td>\n",
       "      <td>NaN</td>\n",
       "      <td>NaN</td>\n",
       "    </tr>\n",
       "    <tr>\n",
       "      <th>8</th>\n",
       "      <td>automotive</td>\n",
       "      <td>1107.0</td>\n",
       "      <td>1158.0</td>\n",
       "      <td>1149.0</td>\n",
       "      <td>1011.0</td>\n",
       "      <td>1226.0</td>\n",
       "      <td>3.49</td>\n",
       "      <td>3.72</td>\n",
       "      <td>3.87</td>\n",
       "      <td>3.61</td>\n",
       "      <td>4.11</td>\n",
       "    </tr>\n",
       "    <tr>\n",
       "      <th>9</th>\n",
       "      <td>beauty</td>\n",
       "      <td>1090.0</td>\n",
       "      <td>1016.0</td>\n",
       "      <td>1214.0</td>\n",
       "      <td>1134.0</td>\n",
       "      <td>1206.0</td>\n",
       "      <td>3.44</td>\n",
       "      <td>3.26</td>\n",
       "      <td>4.09</td>\n",
       "      <td>4.05</td>\n",
       "      <td>4.05</td>\n",
       "    </tr>\n",
       "    <tr>\n",
       "      <th>10</th>\n",
       "      <td>kitchen</td>\n",
       "      <td>1025.0</td>\n",
       "      <td>1077.0</td>\n",
       "      <td>910.0</td>\n",
       "      <td>873.0</td>\n",
       "      <td>936.0</td>\n",
       "      <td>3.23</td>\n",
       "      <td>3.46</td>\n",
       "      <td>3.06</td>\n",
       "      <td>3.12</td>\n",
       "      <td>3.14</td>\n",
       "    </tr>\n",
       "    <tr>\n",
       "      <th>11</th>\n",
       "      <td>drugstore</td>\n",
       "      <td>903.0</td>\n",
       "      <td>822.0</td>\n",
       "      <td>828.0</td>\n",
       "      <td>812.0</td>\n",
       "      <td>871.0</td>\n",
       "      <td>2.85</td>\n",
       "      <td>2.64</td>\n",
       "      <td>2.79</td>\n",
       "      <td>2.90</td>\n",
       "      <td>2.92</td>\n",
       "    </tr>\n",
       "    <tr>\n",
       "      <th>12</th>\n",
       "      <td>office_product</td>\n",
       "      <td>877.0</td>\n",
       "      <td>796.0</td>\n",
       "      <td>NaN</td>\n",
       "      <td>NaN</td>\n",
       "      <td>641.0</td>\n",
       "      <td>2.76</td>\n",
       "      <td>2.56</td>\n",
       "      <td>NaN</td>\n",
       "      <td>NaN</td>\n",
       "      <td>2.15</td>\n",
       "    </tr>\n",
       "    <tr>\n",
       "      <th>13</th>\n",
       "      <td>baby_product</td>\n",
       "      <td>800.0</td>\n",
       "      <td>NaN</td>\n",
       "      <td>756.0</td>\n",
       "      <td>668.0</td>\n",
       "      <td>NaN</td>\n",
       "      <td>2.52</td>\n",
       "      <td>NaN</td>\n",
       "      <td>2.54</td>\n",
       "      <td>2.38</td>\n",
       "      <td>NaN</td>\n",
       "    </tr>\n",
       "    <tr>\n",
       "      <th>14</th>\n",
       "      <td>apparel</td>\n",
       "      <td>795.0</td>\n",
       "      <td>1004.0</td>\n",
       "      <td>970.0</td>\n",
       "      <td>995.0</td>\n",
       "      <td>1070.0</td>\n",
       "      <td>2.51</td>\n",
       "      <td>3.23</td>\n",
       "      <td>3.27</td>\n",
       "      <td>3.55</td>\n",
       "      <td>3.59</td>\n",
       "    </tr>\n",
       "    <tr>\n",
       "      <th>15</th>\n",
       "      <td>furniture</td>\n",
       "      <td>NaN</td>\n",
       "      <td>907.0</td>\n",
       "      <td>823.0</td>\n",
       "      <td>700.0</td>\n",
       "      <td>623.0</td>\n",
       "      <td>NaN</td>\n",
       "      <td>2.91</td>\n",
       "      <td>2.77</td>\n",
       "      <td>2.50</td>\n",
       "      <td>2.09</td>\n",
       "    </tr>\n",
       "    <tr>\n",
       "      <th>16</th>\n",
       "      <td>lawn_and_garden</td>\n",
       "      <td>NaN</td>\n",
       "      <td>NaN</td>\n",
       "      <td>NaN</td>\n",
       "      <td>673.0</td>\n",
       "      <td>813.0</td>\n",
       "      <td>NaN</td>\n",
       "      <td>NaN</td>\n",
       "      <td>NaN</td>\n",
       "      <td>2.40</td>\n",
       "      <td>2.73</td>\n",
       "    </tr>\n",
       "  </tbody>\n",
       "</table>\n",
       "</div>"
      ],
      "text/plain": [
       "           CATEGORIA  Q_rev_cat_5  Q_rev_cat_4  Q_rev_cat_3  Q_rev_cat_2  \\\n",
       "0               home       4185.0       4216.0       4215.0       4073.0   \n",
       "1           wireless       3479.0       3462.0       3386.0       3855.0   \n",
       "2                toy       2445.0       2126.0       2288.0       2000.0   \n",
       "3             sports       1953.0       2235.0       2132.0       1778.0   \n",
       "4                 pc       1849.0       1724.0       1326.0       1300.0   \n",
       "5   home_improvement       1691.0       1878.0       1635.0       1426.0   \n",
       "6        electronics       1419.0       1458.0       1360.0       1385.0   \n",
       "7               book       1368.0        914.0        735.0          NaN   \n",
       "8         automotive       1107.0       1158.0       1149.0       1011.0   \n",
       "9             beauty       1090.0       1016.0       1214.0       1134.0   \n",
       "10           kitchen       1025.0       1077.0        910.0        873.0   \n",
       "11         drugstore        903.0        822.0        828.0        812.0   \n",
       "12    office_product        877.0        796.0          NaN          NaN   \n",
       "13      baby_product        800.0          NaN        756.0        668.0   \n",
       "14           apparel        795.0       1004.0        970.0        995.0   \n",
       "15         furniture          NaN        907.0        823.0        700.0   \n",
       "16   lawn_and_garden          NaN          NaN          NaN        673.0   \n",
       "\n",
       "    Q_rev_cat_1  Frec_rel_%_5  Frec_rel_%_4  Frec_rel_%_3  Frec_rel_%_2  \\\n",
       "0        4140.0         13.19         13.54         14.19         14.54   \n",
       "1        4537.0         10.97         11.12         11.40         13.76   \n",
       "2        1832.0          7.71          6.83          7.70          7.14   \n",
       "3        1880.0          6.16          7.18          7.18          6.35   \n",
       "4        1515.0          5.83          5.54          4.46          4.64   \n",
       "5        1646.0          5.33          6.03          5.50          5.09   \n",
       "6        1708.0          4.47          4.68          4.58          4.94   \n",
       "7           NaN          4.31          2.94          2.47           NaN   \n",
       "8        1226.0          3.49          3.72          3.87          3.61   \n",
       "9        1206.0          3.44          3.26          4.09          4.05   \n",
       "10        936.0          3.23          3.46          3.06          3.12   \n",
       "11        871.0          2.85          2.64          2.79          2.90   \n",
       "12        641.0          2.76          2.56           NaN           NaN   \n",
       "13          NaN          2.52           NaN          2.54          2.38   \n",
       "14       1070.0          2.51          3.23          3.27          3.55   \n",
       "15        623.0           NaN          2.91          2.77          2.50   \n",
       "16        813.0           NaN           NaN           NaN          2.40   \n",
       "\n",
       "    Frec_rel_%_1  \n",
       "0          13.89  \n",
       "1          15.22  \n",
       "2           6.15  \n",
       "3           6.31  \n",
       "4           5.08  \n",
       "5           5.52  \n",
       "6           5.73  \n",
       "7            NaN  \n",
       "8           4.11  \n",
       "9           4.05  \n",
       "10          3.14  \n",
       "11          2.92  \n",
       "12          2.15  \n",
       "13           NaN  \n",
       "14          3.59  \n",
       "15          2.09  \n",
       "16          2.73  "
      ]
     },
     "execution_count": 263,
     "metadata": {},
     "output_type": "execute_result"
    }
   ],
   "source": [
    "# Chart comparativo de la cantidad y frecuencia de reviews en función de la cantidad de estrellas\n",
    "\n",
    "comparativo_2 = pd.concat([Amazon_train_5.category_5.head(15),Amazon_train_5.Q_rev_cat_5.head(15)  \n",
    "                           ,Amazon_train_4.category_4.head(15),Amazon_train_4.Q_rev_cat_4.head(15) \n",
    "                           ,Amazon_train_3.category_3.head(15),Amazon_train_3.Q_rev_cat_3.head(15) \n",
    "                           ,Amazon_train_2.category_2.head(15),Amazon_train_2.Q_rev_cat_2.head(15) \n",
    "                           ,Amazon_train_1.category_1.head(15),Amazon_train_1.Q_rev_cat_1.head(15)]\n",
    "                          ,axis=1).sort_values(by=['Q_rev_cat_5','Q_rev_cat_4','Q_rev_cat_3','Q_rev_cat_2','Q_rev_cat_1'],ascending=False,na_position='last',ignore_index=True)\n",
    "\n",
    "comparativo_2['Frec_rel_%_5'] = 100* round((comparativo_2.Q_rev_cat_5 / Amazon_train_solo_5.shape[0]),4)\n",
    "comparativo_2['Frec_rel_%_4'] = 100* round((comparativo_2.Q_rev_cat_4 / Amazon_train_solo_4.shape[0]),4)\n",
    "comparativo_2['Frec_rel_%_3'] = 100* round((comparativo_2.Q_rev_cat_3 / Amazon_train_solo_3.shape[0]),4)\n",
    "comparativo_2['Frec_rel_%_2'] = 100* round((comparativo_2.Q_rev_cat_2 / Amazon_train_solo_2.shape[0]),4)\n",
    "comparativo_2['Frec_rel_%_1'] = 100* round((comparativo_2.Q_rev_cat_1 / Amazon_train_solo_1.shape[0]),4)\n",
    "\n",
    "comparativo_2= comparativo_2.rename(columns={'category_5':'CATEGORIA'})\n",
    "comparativo_2.drop(['category_4','category_3','category_2','category_1'], axis=1, inplace= True)\n",
    "\n",
    "comparativo_2.iloc[15,0]= 'furniture'\n",
    "comparativo_2.iloc[16,0]= 'lawn_and_garden'\n",
    "\n",
    "\n",
    "comparativo_2"
   ]
  },
  {
   "cell_type": "markdown",
   "metadata": {},
   "source": [
    "De manera general se puede decir que al mirar la cantidad de review y la frecuencia de una misma categoría de producto la cantidad y frecuencia de las mismas para las diferentes clasificaciones de cantidad de estrellas se mantiene dentro de rango similares y proximos. Lo cual sigue demostrando que según este análisis tenemos un data set bastante balanceado para las reviews de largo <= 186 caracteres"
   ]
  },
  {
   "cell_type": "markdown",
   "metadata": {},
   "source": [
    "## 2.NLTK"
   ]
  },
  {
   "cell_type": "markdown",
   "metadata": {},
   "source": [
    "## 2.1 NORMALIZACIÓN\n",
    "- 2.1.0 Trabajamos sobre las 'Stops Words'\n",
    "- 2.1.1 'corro las fuciones clean_text_round1 y clean_text_round2'\n",
    "- 2.1.2 'pasamos texto a minuscula' \n",
    "- 2.1.3 'tokenizar' \n",
    "- 2.1.4 'limpiar caracteres'\n",
    "- 2.1.5 'quitar acentos'\n",
    "- 2.1.6 'quitar stopwords' \n",
    "- 2.1.7 'quito palabas con menos de tres caracteres'\n",
    "- 2.1.8 Llevamos las palabras a su raíz"
   ]
  },
  {
   "cell_type": "code",
   "execution_count": null,
   "metadata": {},
   "outputs": [],
   "source": [
    "import nltk # librería para NLP\n",
    "#Para configurar NLTK. \n",
    "nltk.download('punkt')\n",
    "nltk.download('stopwords') # aca descargamos las stop words, una lista predefinida de la librería\n",
    "from nltk.corpus import stopwords\n",
    "import re# Importamos esta libreria que nos permite reemplzar caracteres\n",
    "import string"
   ]
  },
  {
   "cell_type": "markdown",
   "metadata": {},
   "source": [
    " - **Función de eliminación de acentos**"
   ]
  },
  {
   "cell_type": "code",
   "execution_count": 265,
   "metadata": {},
   "outputs": [],
   "source": [
    "#funci+on para eliminación de acentos\n",
    "\n",
    "def eliminar_acentos(string):\n",
    "    \"\"\"\n",
    "    DESCRIPCION: Eliminar acentos de una cadena de texto\n",
    "    PARAMS:\n",
    "    * string (string): Cadena de texto\n",
    "    RETURN:\n",
    "    * Cadena de texto sin acentos\n",
    "    \"\"\"\n",
    "    trans = str.maketrans('ÁÉÍÓÚÜáéíóúü','AEIOUUaeiouu')\n",
    "    return string.translate(trans)"
   ]
  },
  {
   "cell_type": "markdown",
   "metadata": {},
   "source": [
    "### - **2.1.0 Trabajamos sobre las 'Stops Words'**"
   ]
  },
  {
   "cell_type": "code",
   "execution_count": 266,
   "metadata": {
    "scrolled": true
   },
   "outputs": [],
   "source": [
    "#Stopswords en español, no hay mayusculas y si hay acentos... \n",
    "stopwords = set(nltk.corpus.stopwords.words('spanish'))\n",
    "stopwords = nltk.corpus.stopwords.words('spanish') # lo transformo en una lista de np"
   ]
  },
  {
   "cell_type": "code",
   "execution_count": 267,
   "metadata": {},
   "outputs": [],
   "source": [
    "#quito los acentos en mi lista de stopswords y me aseguro de que todo este en minuscula\n",
    "stopwords_modificada = []\n",
    "for i in range (len(stopwords)):\n",
    "    stop= stopwords[i]\n",
    "    stop=stop.lower()\n",
    "    stop= nltk.tokenize.RegexpTokenizer('[\\w]+').tokenize(stop)# Tokeniza\n",
    "    stop= [eliminar_acentos(w) for w in stop]\n",
    "    stopwords_modificada.append(stop)\n",
    "stopwords_modificada = list(itertools.chain(*stopwords_modificada))"
   ]
  },
  {
   "cell_type": "code",
   "execution_count": 268,
   "metadata": {},
   "outputs": [
    {
     "data": {
      "text/plain": [
       "313"
      ]
     },
     "execution_count": 268,
     "metadata": {},
     "output_type": "execute_result"
    }
   ],
   "source": [
    "len (stopwords_modificada)"
   ]
  },
  {
   "cell_type": "markdown",
   "metadata": {},
   "source": [
    "### - **2.1.1 'corro las fuciones clean_text_round1 y clean_text_round2'**\n",
    "Función que remueve texto entre corchetes, elimina los signos de puntuación y las palabras que contengan números tanto el title como en body\n",
    "\n",
    "\n",
    "\n"
   ]
  },
  {
   "cell_type": "code",
   "execution_count": 269,
   "metadata": {},
   "outputs": [],
   "source": [
    "def clean_text_round1(text):\n",
    "    '''Make text lowercase, remove text in square brackets, remove punctuation and remove words containing numbers.'''\n",
    "    text = text.lower()\n",
    "    text = re.sub('\\[.*?¿\\]\\%', ' ', text)\n",
    "    text = re.sub('[%s]' % re.escape(string.punctuation), ' ', text)\n",
    "    text = re.sub('\\w*\\d\\w*', '', text)\n",
    "    return text\n",
    "  \n",
    "# Apply a second round of cleaning\n",
    "def clean_text_round2(text):\n",
    "    '''Get rid of some additional punctuation and non-sensical text that was missed the first time around.'''\n",
    "    text = re.sub('[‘’“”…«»]', '', text)\n",
    "    text = re.sub('\\n', ' ', text)\n",
    "    return text"
   ]
  },
  {
   "cell_type": "code",
   "execution_count": 271,
   "metadata": {},
   "outputs": [],
   "source": [
    "#Renombramos las columnas\n",
    "\n",
    "Amazon_train=Amazon_train.rename(columns={'review_title':'title','review_body':'body', 'product_category':'category'})"
   ]
  },
  {
   "cell_type": "code",
   "execution_count": 272,
   "metadata": {},
   "outputs": [],
   "source": [
    "Amazon_train['body'] = Amazon_train['body'].apply(lambda x: clean_text_round1(x))"
   ]
  },
  {
   "cell_type": "code",
   "execution_count": 273,
   "metadata": {},
   "outputs": [],
   "source": [
    "Amazon_train['body']= Amazon_train['body'].apply(lambda x: clean_text_round2(x))"
   ]
  },
  {
   "cell_type": "markdown",
   "metadata": {},
   "source": [
    "### BODY\n",
    "\n",
    "- **2.1.2 'pasamos texto a minuscula'** \n",
    "- **2.1.3 'tokenizar'** \n",
    "- **2.1.4 'limpiar caracteres'**\n",
    "- **2.1.5 'quitar acentos'**\n",
    "- **2.1.6 'quitar stopwords'** \n",
    "- **2.1.8 Llevamos las palabras a su raíz**\n",
    "    - Stemming => Snowballstemmer"
   ]
  },
  {
   "cell_type": "markdown",
   "metadata": {},
   "source": [
    "### - **Utilizamos SnowballStemmer**"
   ]
  },
  {
   "cell_type": "code",
   "execution_count": 274,
   "metadata": {},
   "outputs": [],
   "source": [
    "from nltk.stem.snowball import SnowballStemmer\n",
    "stemmer = SnowballStemmer(language='spanish')"
   ]
  },
  {
   "cell_type": "markdown",
   "metadata": {},
   "source": [
    "### - BODY"
   ]
  },
  {
   "cell_type": "code",
   "execution_count": 275,
   "metadata": {},
   "outputs": [],
   "source": [
    "Amazon_train_stem = []\n",
    "bow_train_stem = []\n",
    "\n",
    "for i in range(Amazon_train.shape[0]):\n",
    "    token= Amazon_train.iloc[i].body\n",
    "    token=token.lower()#pasamos texto a miniscula.\n",
    "    token=re.sub(\"[^a-zA-Z]\",\" \",str(token))# Vamos a reemplzar los caracteres que no sean letras por espacios\n",
    "    token= nltk.tokenize.RegexpTokenizer('[\\w]+').tokenize(token)# Tokeniza\n",
    "    token=  [eliminar_acentos(w) for w in token] # quito acentos\n",
    "    token=  [w for w in token if w not in stopwords_modificada] # Filtrar por stopwords\n",
    "    token = [w for w in token if len(w)>3]\n",
    "    \n",
    "    token = [stemmer.stem(w) for w in token]# Aplicamos el Lemmatizer\n",
    "\n",
    "    bow_train_stem.append(token)\n",
    "    \n",
    "    token=\" \".join(token)# Por ultimo volvemos a unir la review\n",
    "    \n",
    "    Amazon_train_stem.append(token) "
   ]
  },
  {
   "cell_type": "code",
   "execution_count": 276,
   "metadata": {},
   "outputs": [
    {
     "name": "stdout",
     "output_type": "stream",
     "text": [
      "buen pantall men mes recib respuest fabric\n",
      "horribl compr sab ingl inform tic despu hor capaz instal\n",
      "oblig compr unidad lleg sol form reclam autent estaf compreis\n"
     ]
    }
   ],
   "source": [
    "# ejemplo de las primeras 3 review, tokenizadas, sin stopwors y sin acentos\n",
    "print(Amazon_train_stem [0])\n",
    "print(Amazon_train_stem [1])\n",
    "print(Amazon_train_stem [2])"
   ]
  },
  {
   "cell_type": "code",
   "execution_count": 277,
   "metadata": {},
   "outputs": [
    {
     "data": {
      "text/plain": [
       "150385"
      ]
     },
     "execution_count": 277,
     "metadata": {},
     "output_type": "execute_result"
    }
   ],
   "source": [
    "len(bow_train_stem)"
   ]
  },
  {
   "cell_type": "code",
   "execution_count": 278,
   "metadata": {},
   "outputs": [],
   "source": [
    "# Esta celda convierte una lista de listas en una unica lista. Podemos decir que obtenemos el ´BAG OF WORDS´ (no olvidar tiene palabras repetidas, no son únicas)\n",
    "bow_train_stem = list(itertools.chain(*bow_train_stem))"
   ]
  },
  {
   "cell_type": "code",
   "execution_count": 279,
   "metadata": {},
   "outputs": [
    {
     "data": {
      "text/plain": [
       "1153006"
      ]
     },
     "execution_count": 279,
     "metadata": {},
     "output_type": "execute_result"
    }
   ],
   "source": [
    "#cantidad totales de palabras del BOW => 1.153.006. El BAG del 'Proyecto 3 tenía =>2.898.536 palabras (se redujo en un 40%)'\n",
    "len(bow_train_stem)"
   ]
  },
  {
   "cell_type": "code",
   "execution_count": 280,
   "metadata": {},
   "outputs": [
    {
     "data": {
      "text/plain": [
       "FreqDist({'bien': 32124, 'buen': 27207, 'calid': 21127, 'lleg': 16084, 'compr': 15471, 'preci': 15198, 'product': 14502, 'perfect': 13095, 'funcion': 12685, 'gust': 10021, ...})"
      ]
     },
     "execution_count": 280,
     "metadata": {},
     "output_type": "execute_result"
    }
   ],
   "source": [
    "# Frecuencia de repetición de las palabras dentro de la BOW\n",
    "freq_bow_train_stem = nltk.FreqDist(bow_train_stem)\n",
    "freq_bow_train_stem"
   ]
  },
  {
   "cell_type": "code",
   "execution_count": 281,
   "metadata": {},
   "outputs": [
    {
     "data": {
      "text/html": [
       "<div>\n",
       "<style scoped>\n",
       "    .dataframe tbody tr th:only-of-type {\n",
       "        vertical-align: middle;\n",
       "    }\n",
       "\n",
       "    .dataframe tbody tr th {\n",
       "        vertical-align: top;\n",
       "    }\n",
       "\n",
       "    .dataframe thead th {\n",
       "        text-align: right;\n",
       "    }\n",
       "</style>\n",
       "<table border=\"1\" class=\"dataframe\">\n",
       "  <thead>\n",
       "    <tr style=\"text-align: right;\">\n",
       "      <th></th>\n",
       "      <th>Word</th>\n",
       "      <th>Frequency</th>\n",
       "    </tr>\n",
       "  </thead>\n",
       "  <tbody>\n",
       "    <tr>\n",
       "      <th>0</th>\n",
       "      <td>bien</td>\n",
       "      <td>32124</td>\n",
       "    </tr>\n",
       "    <tr>\n",
       "      <th>1</th>\n",
       "      <td>buen</td>\n",
       "      <td>27207</td>\n",
       "    </tr>\n",
       "    <tr>\n",
       "      <th>2</th>\n",
       "      <td>calid</td>\n",
       "      <td>21127</td>\n",
       "    </tr>\n",
       "    <tr>\n",
       "      <th>3</th>\n",
       "      <td>lleg</td>\n",
       "      <td>16084</td>\n",
       "    </tr>\n",
       "    <tr>\n",
       "      <th>4</th>\n",
       "      <td>compr</td>\n",
       "      <td>15471</td>\n",
       "    </tr>\n",
       "  </tbody>\n",
       "</table>\n",
       "</div>"
      ],
      "text/plain": [
       "    Word  Frequency\n",
       "0   bien      32124\n",
       "1   buen      27207\n",
       "2  calid      21127\n",
       "3   lleg      16084\n",
       "4  compr      15471"
      ]
     },
     "execution_count": 281,
     "metadata": {},
     "output_type": "execute_result"
    }
   ],
   "source": [
    "freq_bow_train_stem_df= pd.DataFrame(list(freq_bow_train_stem.items()), columns=['Word', 'Frequency']).sort_values('Frequency',ascending=False).reset_index(drop = True)\n",
    "freq_bow_train_stem_df.head()"
   ]
  },
  {
   "cell_type": "code",
   "execution_count": 282,
   "metadata": {},
   "outputs": [
    {
     "data": {
      "text/plain": [
       "(16205, 2)"
      ]
     },
     "execution_count": 282,
     "metadata": {},
     "output_type": "execute_result"
    }
   ],
   "source": [
    "#BAG OF WORDS: 16.205 únicas\n",
    "freq_bow_train_stem_df.shape"
   ]
  },
  {
   "cell_type": "markdown",
   "metadata": {},
   "source": [
    "**Con la aplicación del stemmer vemos**\n",
    " - Body =>\n"
   ]
  },
  {
   "cell_type": "code",
   "execution_count": 283,
   "metadata": {},
   "outputs": [
    {
     "data": {
      "text/html": [
       "<div>\n",
       "<style scoped>\n",
       "    .dataframe tbody tr th:only-of-type {\n",
       "        vertical-align: middle;\n",
       "    }\n",
       "\n",
       "    .dataframe tbody tr th {\n",
       "        vertical-align: top;\n",
       "    }\n",
       "\n",
       "    .dataframe thead th {\n",
       "        text-align: right;\n",
       "    }\n",
       "</style>\n",
       "<table border=\"1\" class=\"dataframe\">\n",
       "  <thead>\n",
       "    <tr style=\"text-align: right;\">\n",
       "      <th></th>\n",
       "      <th>body</th>\n",
       "      <th>body_stem</th>\n",
       "    </tr>\n",
       "  </thead>\n",
       "  <tbody>\n",
       "    <tr>\n",
       "      <th>0</th>\n",
       "      <td>nada bueno se me fue ka pantalla en menos de  ...</td>\n",
       "      <td>buen pantall men mes recib respuest fabric</td>\n",
       "    </tr>\n",
       "    <tr>\n",
       "      <th>1</th>\n",
       "      <td>horrible  nos tuvimos que comprar otro porque ...</td>\n",
       "      <td>horribl compr sab ingl inform tic despu hor ca...</td>\n",
       "    </tr>\n",
       "    <tr>\n",
       "      <th>2</th>\n",
       "      <td>te obligan a comprar dos unidades y te llega s...</td>\n",
       "      <td>oblig compr unidad lleg sol form reclam autent...</td>\n",
       "    </tr>\n",
       "    <tr>\n",
       "      <th>4</th>\n",
       "      <td>llega tarde y co la talla equivocada</td>\n",
       "      <td>lleg tard tall equivoc</td>\n",
       "    </tr>\n",
       "    <tr>\n",
       "      <th>5</th>\n",
       "      <td>jamás me llegó y el vendedor nunca contacto co...</td>\n",
       "      <td>lleg vendedor nunc contact conmig pes intent vec</td>\n",
       "    </tr>\n",
       "  </tbody>\n",
       "</table>\n",
       "</div>"
      ],
      "text/plain": [
       "                                                body  \\\n",
       "0  nada bueno se me fue ka pantalla en menos de  ...   \n",
       "1  horrible  nos tuvimos que comprar otro porque ...   \n",
       "2  te obligan a comprar dos unidades y te llega s...   \n",
       "4               llega tarde y co la talla equivocada   \n",
       "5  jamás me llegó y el vendedor nunca contacto co...   \n",
       "\n",
       "                                           body_stem  \n",
       "0         buen pantall men mes recib respuest fabric  \n",
       "1  horribl compr sab ingl inform tic despu hor ca...  \n",
       "2  oblig compr unidad lleg sol form reclam autent...  \n",
       "4                             lleg tard tall equivoc  \n",
       "5   lleg vendedor nunc contact conmig pes intent vec  "
      ]
     },
     "execution_count": 283,
     "metadata": {},
     "output_type": "execute_result"
    }
   ],
   "source": [
    "#Comparamos el title y body con stemmer y sin stemmer para ver su efecto.\n",
    "\n",
    "Amazon_train['body_stem'] = Amazon_train_stem # Agregamos la columna 'body_stem' al set 'Amazon_train' con los valores existentes en 'Amazon_train_stem'\n",
    "\n",
    "Amazon_train[['body','body_stem']].head()"
   ]
  },
  {
   "cell_type": "markdown",
   "metadata": {},
   "source": [
    "## 3. VECTORIZACIÓN"
   ]
  },
  {
   "cell_type": "markdown",
   "metadata": {},
   "source": [
    " - Para BODY tomamos un max feature de 1000"
   ]
  },
  {
   "cell_type": "code",
   "execution_count": 286,
   "metadata": {},
   "outputs": [],
   "source": [
    "from sklearn.feature_extraction.text import TfidfVectorizer\n",
    "\n",
    "vectorizer_B=TfidfVectorizer(max_features=1000, min_df= 5) # stop_words=\"english\" , ngram_range=(1, 2)"
   ]
  },
  {
   "cell_type": "markdown",
   "metadata": {},
   "source": [
    "### - BODY"
   ]
  },
  {
   "cell_type": "code",
   "execution_count": 287,
   "metadata": {},
   "outputs": [
    {
     "data": {
      "text/plain": [
       "TfidfVectorizer(max_features=1000, min_df=5)"
      ]
     },
     "execution_count": 287,
     "metadata": {},
     "output_type": "execute_result"
    }
   ],
   "source": [
    "vectorizer_B"
   ]
  },
  {
   "cell_type": "code",
   "execution_count": 288,
   "metadata": {},
   "outputs": [],
   "source": [
    "vector_b= list(Amazon_train['body_stem'].values)\n",
    "stars_b = Amazon_train['stars']"
   ]
  },
  {
   "cell_type": "code",
   "execution_count": 289,
   "metadata": {},
   "outputs": [
    {
     "name": "stdout",
     "output_type": "stream",
     "text": [
      "50 palabras mas usadas:  ['abaj', 'abiert', 'abre', 'abrig', 'abrir', 'abrirl', 'absolut', 'acab', 'accesori', 'aceit', 'acept', 'acer', 'acert', 'aciert', 'acolch', 'aconsej', 'acopl', 'acord', 'acostumbr', 'activ', 'adapt', 'adecu', 'adem', 'adhes', 'adhier', 'adult', 'agarr', 'agrad', 'agu', 'aguant', 'agujer', 'ahor', 'ahorr', 'air', 'ajust', 'algui', 'algun', 'alta', 'altavoz', 'alto', 'altur', 'alumbr', 'amarill', 'amazon', 'amig', 'ampli', 'ancho', 'anill', 'anterior', 'antigu']\n"
     ]
    }
   ],
   "source": [
    "matriz_body = vectorizer_B.fit_transform(vector_b)\n",
    "\n",
    "# Tomamos las palabras\n",
    "all_words_b = vectorizer_B.get_feature_names()\n",
    "\n",
    "# Vizualizamos las 50 palabras mas usadas\n",
    "print(\"50 palabras mas usadas: \",all_words_b[0:50])"
   ]
  },
  {
   "cell_type": "code",
   "execution_count": 290,
   "metadata": {},
   "outputs": [
    {
     "data": {
      "text/plain": [
       "<150385x1000 sparse matrix of type '<class 'numpy.float64'>'\n",
       "\twith 946741 stored elements in Compressed Sparse Row format>"
      ]
     },
     "execution_count": 290,
     "metadata": {},
     "output_type": "execute_result"
    }
   ],
   "source": [
    "matriz_body #sparse matrix: 946.741"
   ]
  },
  {
   "cell_type": "markdown",
   "metadata": {},
   "source": [
    "## 4 Modelado"
   ]
  },
  {
   "cell_type": "markdown",
   "metadata": {},
   "source": [
    "Vamos a aplicar los tres modelos al BODY que se útilizaron en el PROYECTO 3 ya que hora estamos modificacndo el set de dato y vamos a probar un nuevo modelo no visto dutrante las clases que es XGBoost\n",
    "  - **Naives Bayes**\n",
    "  - **Random Forest**\n",
    "  - **Support Vector Machine**\n",
    "  - **XGBoost**\n",
    " \n",
    "En termino de metrcias vamos a ver tanto para train como para test \n",
    "  - **Confusion matrix**\n",
    "  - **classification_report**\n",
    "    - Precision\n",
    "    - Recall\n",
    "    - F1 Score\n",
    "    \n",
    "**Justificación de la elección del nuevo modelo => XGBoost**\n",
    "   - Investigando doy con que es un modelo muy popular y de amplia aplicación no visto en el presente curso el cual me gustaría invertir tiempo en conocer.\n",
    "   - Modelo reconocido por su velocidad de ejecución y rendimiento\n",
    "   - Como entrada admite una sparse matrix que es nuestro caso (Sparsity: acepta entradas dispersas tanto para el reforzador de árboles como para el reforzador lineal), y está optimizado para entradas dispersas\n",
    "   - Utiliza procesamiento en paralelo, poda de árboles, manejo de valores perdidos y regularización (optimización que penaliza la complejidad de los modelos) para evitar en lo posible sobreajuste o sesgo del modelo.\n",
    "   \n",
    "**Búsqueda en la web sobre XGBoost**\n",
    "\n",
    " - https://xgboost.readthedocs.io/en/latest/get_started.html ...sintaxis para intalar XGBoost\n",
    " - https://www.kaggle.com/bittlingmayer/amazonreviews/code ...resulociones\n",
    " - https://towardsdatascience.com/getting-started-with-xgboost-in-scikit-learn-f69f5f470a97\n",
    " - https://stackoverflow.com/questions/34674797/xgboost-xgbclassifier-defaults-in-python\n",
    " - https://xgboost.readthedocs.io/en/latest/python/python_api.html#xgboost.XGBClassifier\n",
    "   \n",
    "**Pruebas a realizar & pasos a seguir**\n",
    "   - **PRUEBA_1**. Correr los 3 modelos del Proyecto 3 más XGBoost para el data frame Amazon_train con reviews con largo igual o menor a 186 caracteres y extraer conclusiones\n",
    "   - **PRUEBA_2**. Correr el modelo que mejor performen en el punto 1 pero para las 3 categorías de producto más relevantes y extraer conclusiones\n",
    "   - **PRUEBA_3**. Correr el modelo del punto 1 pero modificacndo el data set Amazon_train que en lugar de 5 posibles clasificaciones tenga tres. Esto lo hacemos para  el set de datos con reviews de un largo menos o igual a 186 caracteres:\n",
    "   \n",
    "DS_1_reclasif:\n",
    "\n",
    " - 1 => Positivo\n",
    " - 2, 3 y 4 => Neutro. Aca es donde hemos visto más cuesta al modelo diferenciar\n",
    " - 5 => negativo\n",
    " \n",
    "\n",
    "DS_2_reclasif:\n",
    "\n",
    " - 1 y 2 => Positivo\n",
    " - 3 => Neutro\n",
    " - 4 y 5 => negativo "
   ]
  },
  {
   "cell_type": "markdown",
   "metadata": {},
   "source": [
    "Separamos los datos para suministrar al modelo\n",
    "\n",
    " - **x** => son los datos que vienen del **BODY**\n",
    " - **y** => es nuestra variable target que son las **STARS**"
   ]
  },
  {
   "cell_type": "code",
   "execution_count": 291,
   "metadata": {},
   "outputs": [],
   "source": [
    "x = matriz_body.toarray() # esto nos tranforma el data set a una lista / arreglo\n",
    "y = stars_b"
   ]
  },
  {
   "cell_type": "code",
   "execution_count": 292,
   "metadata": {},
   "outputs": [],
   "source": [
    "from sklearn.model_selection import train_test_split\n",
    "x_train, x_test, y_train, y_test = train_test_split(x,y,test_size=0.2,random_state=42,stratify=y)\n",
    "\n",
    "from sklearn.metrics import confusion_matrix,accuracy_score, classification_report\n",
    "\n",
    "#Codgo para dar formato a la matriz\n",
    "def confusion(y_test,y_pred):\n",
    "    names=['1','2','3','4','5']\n",
    "    cm=confusion_matrix(y_test,y_pred)\n",
    "    f,ax=plt.subplots(figsize=(5,5))\n",
    "    sns.heatmap(cm,annot=True,linewidth=.5,linecolor=\"r\",fmt=\".0f\",ax=ax)\n",
    "    plt.xlabel(\"y_pred\")\n",
    "    plt.ylabel(\"y_true\")\n",
    "    ax.set_xticklabels(names)\n",
    "    ax.set_yticklabels(names)\n",
    "    plt.show()\n",
    "\n",
    "    return"
   ]
  },
  {
   "cell_type": "markdown",
   "metadata": {},
   "source": [
    "###  PRUEBA_1"
   ]
  },
  {
   "cell_type": "markdown",
   "metadata": {},
   "source": [
    "### P1. Naive Bayes - Benchmark"
   ]
  },
  {
   "cell_type": "code",
   "execution_count": 293,
   "metadata": {},
   "outputs": [
    {
     "data": {
      "text/plain": [
       "GaussianNB()"
      ]
     },
     "execution_count": 293,
     "metadata": {},
     "output_type": "execute_result"
    }
   ],
   "source": [
    "from sklearn.naive_bayes import GaussianNB\n",
    "\n",
    "nb = GaussianNB()\n",
    "nb.fit(x_train,y_train)"
   ]
  },
  {
   "cell_type": "code",
   "execution_count": 294,
   "metadata": {},
   "outputs": [],
   "source": [
    "y_train_pred = nb.predict(x_train)\n",
    "y_test_pred = nb.predict(x_test)"
   ]
  },
  {
   "cell_type": "code",
   "execution_count": 295,
   "metadata": {},
   "outputs": [
    {
     "name": "stdout",
     "output_type": "stream",
     "text": [
      "RESULTADOS TRAIN\n",
      "              precision    recall  f1-score   support\n",
      "\n",
      "           1       0.49      0.63      0.55     23844\n",
      "           2       0.36      0.25      0.29     22417\n",
      "           3       0.35      0.18      0.24     23766\n",
      "           4       0.33      0.20      0.25     24904\n",
      "           5       0.40      0.74      0.52     25377\n",
      "\n",
      "    accuracy                           0.40    120308\n",
      "   macro avg       0.39      0.40      0.37    120308\n",
      "weighted avg       0.39      0.40      0.37    120308\n",
      "\n"
     ]
    },
    {
     "data": {
      "image/png": "[encoded data removed]",
      "text/plain": [
       "<Figure size 360x360 with 2 Axes>"
      ]
     },
     "metadata": {},
     "output_type": "display_data"
    },
    {
     "name": "stdout",
     "output_type": "stream",
     "text": [
      "RESULTADOS TEST\n",
      "              precision    recall  f1-score   support\n",
      "\n",
      "           1       0.48      0.61      0.53      5961\n",
      "           2       0.33      0.23      0.27      5605\n",
      "           3       0.31      0.16      0.21      5941\n",
      "           4       0.32      0.20      0.24      6226\n",
      "           5       0.39      0.72      0.50      6344\n",
      "\n",
      "    accuracy                           0.39     30077\n",
      "   macro avg       0.37      0.38      0.35     30077\n",
      "weighted avg       0.37      0.39      0.36     30077\n",
      "\n"
     ]
    },
    {
     "data": {
      "image/png": "[encoded data removed]",
      "text/plain": [
       "<Figure size 360x360 with 2 Axes>"
      ]
     },
     "metadata": {},
     "output_type": "display_data"
    }
   ],
   "source": [
    "print('RESULTADOS TRAIN')\n",
    "print(classification_report(y_train, y_train_pred))\n",
    "confusion(y_train,y_train_pred)\n",
    "\n",
    "print('RESULTADOS TEST')\n",
    "print(classification_report(y_test, y_test_pred))\n",
    "confusion(y_test,y_test_pred)"
   ]
  },
  {
   "cell_type": "markdown",
   "metadata": {},
   "source": [
    "### P1. Random Forest Classifier"
   ]
  },
  {
   "cell_type": "code",
   "execution_count": 296,
   "metadata": {},
   "outputs": [
    {
     "data": {
      "text/plain": [
       "RandomForestClassifier(max_depth=20, n_estimators=30, random_state=42)"
      ]
     },
     "execution_count": 296,
     "metadata": {},
     "output_type": "execute_result"
    }
   ],
   "source": [
    "from sklearn.ensemble import RandomForestClassifier\n",
    "\n",
    "rf = RandomForestClassifier(n_estimators = 30,max_depth=20,bootstrap=True,random_state=42)\n",
    "rf.fit(x_train,y_train)"
   ]
  },
  {
   "cell_type": "code",
   "execution_count": 297,
   "metadata": {},
   "outputs": [],
   "source": [
    "y_train_pred_rf = rf.predict(x_train)\n",
    "y_test_pred_rf = rf.predict(x_test)"
   ]
  },
  {
   "cell_type": "code",
   "execution_count": 298,
   "metadata": {},
   "outputs": [
    {
     "name": "stdout",
     "output_type": "stream",
     "text": [
      "RESULTADOS TRAIN\n",
      "              precision    recall  f1-score   support\n",
      "\n",
      "           1       0.56      0.70      0.63     23844\n",
      "           2       0.37      0.37      0.37     22417\n",
      "           3       0.40      0.36      0.38     23766\n",
      "           4       0.47      0.38      0.42     24904\n",
      "           5       0.57      0.60      0.58     25377\n",
      "\n",
      "    accuracy                           0.48    120308\n",
      "   macro avg       0.47      0.48      0.47    120308\n",
      "weighted avg       0.48      0.48      0.48    120308\n",
      "\n"
     ]
    },
    {
     "data": {
      "image/png": "[encoded data removed]",
      "text/plain": [
       "<Figure size 360x360 with 2 Axes>"
      ]
     },
     "metadata": {},
     "output_type": "display_data"
    },
    {
     "name": "stdout",
     "output_type": "stream",
     "text": [
      "RESULTADOS TEST\n",
      "              precision    recall  f1-score   support\n",
      "\n",
      "           1       0.53      0.68      0.59      5961\n",
      "           2       0.32      0.30      0.31      5605\n",
      "           3       0.32      0.28      0.30      5941\n",
      "           4       0.37      0.30      0.33      6226\n",
      "           5       0.51      0.55      0.53      6344\n",
      "\n",
      "    accuracy                           0.42     30077\n",
      "   macro avg       0.41      0.42      0.41     30077\n",
      "weighted avg       0.41      0.42      0.41     30077\n",
      "\n"
     ]
    },
    {
     "data": {
      "image/png": "[encoded data removed]",
      "text/plain": [
       "<Figure size 360x360 with 2 Axes>"
      ]
     },
     "metadata": {},
     "output_type": "display_data"
    }
   ],
   "source": [
    "print('RESULTADOS TRAIN')\n",
    "print(classification_report(y_train, y_train_pred_rf))\n",
    "confusion(y_train,y_train_pred_rf)\n",
    "\n",
    "print('RESULTADOS TEST')\n",
    "print(classification_report(y_test, y_test_pred_rf))\n",
    "confusion(y_test,y_test_pred_rf)"
   ]
  },
  {
   "cell_type": "markdown",
   "metadata": {},
   "source": [
    " - Aca podemos ver la importancia de los features que uso el modelo para clasificar"
   ]
  },
  {
   "cell_type": "markdown",
   "metadata": {},
   "source": [
    "### P1. SVM"
   ]
  },
  {
   "cell_type": "code",
   "execution_count": 299,
   "metadata": {},
   "outputs": [
    {
     "data": {
      "text/plain": [
       "LinearSVC(C=1)"
      ]
     },
     "execution_count": 299,
     "metadata": {},
     "output_type": "execute_result"
    }
   ],
   "source": [
    "from sklearn.svm import LinearSVC\n",
    "\n",
    "svc = LinearSVC(C = 1)\n",
    "svc.fit(x_train,y_train)"
   ]
  },
  {
   "cell_type": "code",
   "execution_count": 300,
   "metadata": {},
   "outputs": [],
   "source": [
    "y_train_pred_svm = svc.predict(x_train)\n",
    "y_test_pred_svm = svc.predict(x_test)"
   ]
  },
  {
   "cell_type": "code",
   "execution_count": 301,
   "metadata": {},
   "outputs": [
    {
     "name": "stdout",
     "output_type": "stream",
     "text": [
      "RESULTADOS TRAIN\n",
      "              precision    recall  f1-score   support\n",
      "\n",
      "           1       0.56      0.72      0.63     23844\n",
      "           2       0.41      0.33      0.36     22417\n",
      "           3       0.40      0.31      0.35     23766\n",
      "           4       0.43      0.35      0.39     24904\n",
      "           5       0.54      0.68      0.60     25377\n",
      "\n",
      "    accuracy                           0.48    120308\n",
      "   macro avg       0.46      0.48      0.47    120308\n",
      "weighted avg       0.47      0.48      0.47    120308\n",
      "\n"
     ]
    },
    {
     "data": {
      "image/png": "[encoded data removed]",
      "text/plain": [
       "<Figure size 360x360 with 2 Axes>"
      ]
     },
     "metadata": {},
     "output_type": "display_data"
    },
    {
     "name": "stdout",
     "output_type": "stream",
     "text": [
      "RESULTADOS TEST\n",
      "              precision    recall  f1-score   support\n",
      "\n",
      "           1       0.54      0.72      0.62      5961\n",
      "           2       0.37      0.30      0.33      5605\n",
      "           3       0.37      0.29      0.32      5941\n",
      "           4       0.41      0.33      0.37      6226\n",
      "           5       0.52      0.66      0.59      6344\n",
      "\n",
      "    accuracy                           0.46     30077\n",
      "   macro avg       0.44      0.46      0.45     30077\n",
      "weighted avg       0.45      0.46      0.45     30077\n",
      "\n"
     ]
    },
    {
     "data": {
      "image/png": "[encoded data removed]",
      "text/plain": [
       "<Figure size 360x360 with 2 Axes>"
      ]
     },
     "metadata": {},
     "output_type": "display_data"
    }
   ],
   "source": [
    "print('RESULTADOS TRAIN')\n",
    "print(classification_report(y_train, y_train_pred_svm))\n",
    "confusion(y_train,y_train_pred_svm)\n",
    "\n",
    "print('RESULTADOS TEST')\n",
    "print(classification_report(y_test, y_test_pred_svm))\n",
    "confusion(y_test,y_test_pred_svm)"
   ]
  },
  {
   "cell_type": "markdown",
   "metadata": {},
   "source": [
    "### P1. XGBoost"
   ]
  },
  {
   "cell_type": "code",
   "execution_count": null,
   "metadata": {},
   "outputs": [],
   "source": [
    "pip install xgboost"
   ]
  },
  {
   "cell_type": "code",
   "execution_count": 100,
   "metadata": {},
   "outputs": [],
   "source": [
    "import xgboost as xgb\n",
    "from xgboost import XGBClassifier\n",
    "\n",
    "clf_xgb = xgb.XGBClassifier(# objective='multi:softprob', \n",
    "                            # XGBoostError: bad allocation\n",
    "                            objective= 'multi:softmax',# probemos usar este que es multi\n",
    "                            # objective='binary:logistic',\n",
    "                            # XGBoostError: [19:41:01] C:/Users/Administrator/workspace/xgboost-win64_release_1.4.0/src/metric/rank_metric.cc:507: Check failed: preds.Size() == info.labels_.Size() (150385 vs. 30077) : label size predict size not match\n",
    "                            #missing = 1, \n",
    "                            seed = 42,\n",
    "                            #scale_pos_weight = 0.5, \n",
    "                            # { \"scale_pos_weight\" } might not be used.\n",
    "                            subsample = 0.8\n",
    "                           ,n_estimators = 100     )\n",
    "\n",
    "# Buscando en interne se sugiere usar el parametro missing= 1 en lugar de missing = None\n",
    "# https://stackoverflow.com/questions/67245147/getting-a-weird-error-when-trying-to-run-xgboost-predict-or-xgboost-score"
   ]
  },
  {
   "cell_type": "code",
   "execution_count": 101,
   "metadata": {},
   "outputs": [
    {
     "name": "stdout",
     "output_type": "stream",
     "text": [
      "[12:17:30] WARNING: C:/Users/Administrator/workspace/xgboost-win64_release_1.4.0/src/learner.cc:1095: Starting in XGBoost 1.3.0, the default evaluation metric used with the objective 'multi:softprob' was changed from 'merror' to 'mlogloss'. Explicitly set eval_metric if you'd like to restore the old behavior.\n"
     ]
    },
    {
     "data": {
      "text/plain": [
       "XGBClassifier(base_score=0.5, booster='gbtree', colsample_bylevel=1,\n",
       "              colsample_bynode=1, colsample_bytree=1, gamma=0, gpu_id=-1,\n",
       "              importance_type='gain', interaction_constraints='',\n",
       "              learning_rate=0.300000012, max_delta_step=0, max_depth=6,\n",
       "              min_child_weight=1, missing=nan, monotone_constraints='()',\n",
       "              n_estimators=100, n_jobs=8, num_parallel_tree=1,\n",
       "              objective='multi:softprob', random_state=42, reg_alpha=0,\n",
       "              reg_lambda=1, scale_pos_weight=None, seed=42, subsample=0.8,\n",
       "              tree_method='exact', validate_parameters=1, verbosity=None)"
      ]
     },
     "execution_count": 101,
     "metadata": {},
     "output_type": "execute_result"
    }
   ],
   "source": [
    "clf_xgb.fit(x_train,\n",
    "           y_train,\n",
    "           verbose =True\n",
    "           # early_stopping_rounds = 50,\n",
    "           # eval_metric = 'aucpr',\n",
    "           #eval_set=[(x_test,y_test)] # \n",
    "           )"
   ]
  },
  {
   "cell_type": "code",
   "execution_count": 102,
   "metadata": {},
   "outputs": [
    {
     "name": "stdout",
     "output_type": "stream",
     "text": [
      "RESULTADOS TRAIN\n",
      "              precision    recall  f1-score   support\n",
      "\n",
      "           1       0.62      0.70      0.65     23844\n",
      "           2       0.43      0.47      0.45     22417\n",
      "           3       0.47      0.40      0.43     23766\n",
      "           4       0.49      0.44      0.46     24904\n",
      "           5       0.61      0.63      0.62     25377\n",
      "\n",
      "    accuracy                           0.53    120308\n",
      "   macro avg       0.52      0.53      0.52    120308\n",
      "weighted avg       0.52      0.53      0.53    120308\n",
      "\n"
     ]
    },
    {
     "data": {
      "image/png": "[encoded data removed]",
      "text/plain": [
       "<Figure size 360x360 with 2 Axes>"
      ]
     },
     "metadata": {},
     "output_type": "display_data"
    },
    {
     "name": "stdout",
     "output_type": "stream",
     "text": [
      "RESULTADOS TEST\n",
      "              precision    recall  f1-score   support\n",
      "\n",
      "           1       0.58      0.66      0.62      5961\n",
      "           2       0.34      0.37      0.35      5605\n",
      "           3       0.36      0.31      0.33      5941\n",
      "           4       0.41      0.36      0.38      6226\n",
      "           5       0.56      0.58      0.57      6344\n",
      "\n",
      "    accuracy                           0.46     30077\n",
      "   macro avg       0.45      0.46      0.45     30077\n",
      "weighted avg       0.45      0.46      0.45     30077\n",
      "\n"
     ]
    },
    {
     "data": {
      "image/png": "[encoded data removed]",
      "text/plain": [
       "<Figure size 360x360 with 2 Axes>"
      ]
     },
     "metadata": {},
     "output_type": "display_data"
    }
   ],
   "source": [
    "pred_y = clf_xgb.predict(x_test)\n",
    "pred_y_train = clf_xgb.predict(x_train)\n",
    "\n",
    "print('RESULTADOS TRAIN')\n",
    "print(classification_report(y_train, pred_y_train))\n",
    "confusion(y_train,pred_y_train)\n",
    "\n",
    "print('RESULTADOS TEST')\n",
    "print(classification_report(y_test, pred_y))\n",
    "confusion(y_test,pred_y)"
   ]
  },
  {
   "cell_type": "markdown",
   "metadata": {},
   "source": [
    "## RESULTADOS PRUEBA 1"
   ]
  },
  {
   "cell_type": "markdown",
   "metadata": {},
   "source": [
    "#### TRAIN"
   ]
  },
  {
   "cell_type": "code",
   "execution_count": 110,
   "metadata": {},
   "outputs": [
    {
     "data": {
      "text/html": [
       "<div>\n",
       "<style scoped>\n",
       "    .dataframe tbody tr th:only-of-type {\n",
       "        vertical-align: middle;\n",
       "    }\n",
       "\n",
       "    .dataframe tbody tr th {\n",
       "        vertical-align: top;\n",
       "    }\n",
       "\n",
       "    .dataframe thead th {\n",
       "        text-align: right;\n",
       "    }\n",
       "</style>\n",
       "<table border=\"1\" class=\"dataframe\">\n",
       "  <thead>\n",
       "    <tr style=\"text-align: right;\">\n",
       "      <th></th>\n",
       "      <th># Modelo</th>\n",
       "      <th># Prueba</th>\n",
       "      <th>ID_Modelo</th>\n",
       "      <th>Accuracy</th>\n",
       "      <th>Prec_1</th>\n",
       "      <th>Prec_2</th>\n",
       "      <th>Prec_3</th>\n",
       "      <th>Prec_4</th>\n",
       "      <th>Prec_5</th>\n",
       "      <th>rec_1</th>\n",
       "      <th>rec_2</th>\n",
       "      <th>rec_3</th>\n",
       "      <th>rec_4</th>\n",
       "      <th>rec_5</th>\n",
       "      <th>F1_1</th>\n",
       "      <th>F1_2</th>\n",
       "      <th>F1_3</th>\n",
       "      <th>F1_4</th>\n",
       "      <th>F1_5</th>\n",
       "      <th>Observaciones</th>\n",
       "    </tr>\n",
       "  </thead>\n",
       "  <tbody>\n",
       "    <tr>\n",
       "      <th>0</th>\n",
       "      <td>M1</td>\n",
       "      <td>Prueba_1</td>\n",
       "      <td>NB_186</td>\n",
       "      <td>0.40</td>\n",
       "      <td>0.49</td>\n",
       "      <td>0.36</td>\n",
       "      <td>0.35</td>\n",
       "      <td>0.33</td>\n",
       "      <td>0.40</td>\n",
       "      <td>0.63</td>\n",
       "      <td>0.25</td>\n",
       "      <td>0.18</td>\n",
       "      <td>0.20</td>\n",
       "      <td>0.74</td>\n",
       "      <td>0.55</td>\n",
       "      <td>0.29</td>\n",
       "      <td>0.25</td>\n",
       "      <td>0.25</td>\n",
       "      <td>0.55</td>\n",
       "      <td>Complicado para clasificar 1,2 y 3</td>\n",
       "    </tr>\n",
       "    <tr>\n",
       "      <th>1</th>\n",
       "      <td>M2</td>\n",
       "      <td>Prueba_1</td>\n",
       "      <td>RF_186</td>\n",
       "      <td>0.48</td>\n",
       "      <td>0.56</td>\n",
       "      <td>0.37</td>\n",
       "      <td>0.40</td>\n",
       "      <td>0.47</td>\n",
       "      <td>0.57</td>\n",
       "      <td>0.70</td>\n",
       "      <td>0.37</td>\n",
       "      <td>0.36</td>\n",
       "      <td>0.38</td>\n",
       "      <td>0.60</td>\n",
       "      <td>0.63</td>\n",
       "      <td>0.37</td>\n",
       "      <td>0.38</td>\n",
       "      <td>0.42</td>\n",
       "      <td>0.58</td>\n",
       "      <td>Complicado para clasificar 1,2 y 3 pero mejor ...</td>\n",
       "    </tr>\n",
       "    <tr>\n",
       "      <th>2</th>\n",
       "      <td>M3</td>\n",
       "      <td>Prueba_1</td>\n",
       "      <td>SVM_186</td>\n",
       "      <td>0.48</td>\n",
       "      <td>0.56</td>\n",
       "      <td>0.41</td>\n",
       "      <td>0.40</td>\n",
       "      <td>0.43</td>\n",
       "      <td>0.54</td>\n",
       "      <td>0.72</td>\n",
       "      <td>0.33</td>\n",
       "      <td>0.31</td>\n",
       "      <td>0.35</td>\n",
       "      <td>0.68</td>\n",
       "      <td>0.63</td>\n",
       "      <td>0.36</td>\n",
       "      <td>0.35</td>\n",
       "      <td>0.39</td>\n",
       "      <td>0.60</td>\n",
       "      <td>Mejora las clasificaciones intermedias respect...</td>\n",
       "    </tr>\n",
       "    <tr>\n",
       "      <th>3</th>\n",
       "      <td>M4</td>\n",
       "      <td>Prueba_1</td>\n",
       "      <td>XGB_186</td>\n",
       "      <td>0.53</td>\n",
       "      <td>0.62</td>\n",
       "      <td>0.43</td>\n",
       "      <td>0.47</td>\n",
       "      <td>0.49</td>\n",
       "      <td>0.61</td>\n",
       "      <td>0.70</td>\n",
       "      <td>0.47</td>\n",
       "      <td>0.40</td>\n",
       "      <td>0.44</td>\n",
       "      <td>0.63</td>\n",
       "      <td>0.65</td>\n",
       "      <td>0.45</td>\n",
       "      <td>0.43</td>\n",
       "      <td>0.46</td>\n",
       "      <td>0.62</td>\n",
       "      <td>Modelo con Mejor accuracy y mejores métricas e...</td>\n",
       "    </tr>\n",
       "  </tbody>\n",
       "</table>\n",
       "</div>"
      ],
      "text/plain": [
       "  # Modelo  # Prueba ID_Modelo  Accuracy  Prec_1  Prec_2  Prec_3  Prec_4  \\\n",
       "0       M1  Prueba_1    NB_186      0.40    0.49    0.36    0.35    0.33   \n",
       "1       M2  Prueba_1    RF_186      0.48    0.56    0.37    0.40    0.47   \n",
       "2       M3  Prueba_1   SVM_186      0.48    0.56    0.41    0.40    0.43   \n",
       "3       M4  Prueba_1   XGB_186      0.53    0.62    0.43    0.47    0.49   \n",
       "\n",
       "   Prec_5  rec_1  rec_2  rec_3  rec_4  rec_5  F1_1  F1_2  F1_3  F1_4  F1_5  \\\n",
       "0    0.40   0.63   0.25   0.18   0.20   0.74  0.55  0.29  0.25  0.25  0.55   \n",
       "1    0.57   0.70   0.37   0.36   0.38   0.60  0.63  0.37  0.38  0.42  0.58   \n",
       "2    0.54   0.72   0.33   0.31   0.35   0.68  0.63  0.36  0.35  0.39  0.60   \n",
       "3    0.61   0.70   0.47   0.40   0.44   0.63  0.65  0.45  0.43  0.46  0.62   \n",
       "\n",
       "                                       Observaciones  \n",
       "0                 Complicado para clasificar 1,2 y 3  \n",
       "1  Complicado para clasificar 1,2 y 3 pero mejor ...  \n",
       "2  Mejora las clasificaciones intermedias respect...  \n",
       "3  Modelo con Mejor accuracy y mejores métricas e...  "
      ]
     },
     "execution_count": 110,
     "metadata": {},
     "output_type": "execute_result"
    }
   ],
   "source": [
    "resultados_P1_train = pd.read_excel('Resultados_P1.xlsx', sheet_name='TRAIN')\n",
    "resultados_P1_train"
   ]
  },
  {
   "cell_type": "markdown",
   "metadata": {},
   "source": [
    "#### TEST"
   ]
  },
  {
   "cell_type": "code",
   "execution_count": 111,
   "metadata": {},
   "outputs": [
    {
     "data": {
      "text/html": [
       "<div>\n",
       "<style scoped>\n",
       "    .dataframe tbody tr th:only-of-type {\n",
       "        vertical-align: middle;\n",
       "    }\n",
       "\n",
       "    .dataframe tbody tr th {\n",
       "        vertical-align: top;\n",
       "    }\n",
       "\n",
       "    .dataframe thead th {\n",
       "        text-align: right;\n",
       "    }\n",
       "</style>\n",
       "<table border=\"1\" class=\"dataframe\">\n",
       "  <thead>\n",
       "    <tr style=\"text-align: right;\">\n",
       "      <th></th>\n",
       "      <th># Modelo</th>\n",
       "      <th># Prueba</th>\n",
       "      <th>ID_Modelo</th>\n",
       "      <th>Accuracy</th>\n",
       "      <th>Prec_1</th>\n",
       "      <th>Prec_2</th>\n",
       "      <th>Prec_3</th>\n",
       "      <th>Prec_4</th>\n",
       "      <th>Prec_5</th>\n",
       "      <th>rec_1</th>\n",
       "      <th>rec_2</th>\n",
       "      <th>rec_3</th>\n",
       "      <th>rec_4</th>\n",
       "      <th>rec_5</th>\n",
       "      <th>F1_1</th>\n",
       "      <th>F1_2</th>\n",
       "      <th>F1_3</th>\n",
       "      <th>F1_4</th>\n",
       "      <th>F1_5</th>\n",
       "      <th>Observaciones</th>\n",
       "    </tr>\n",
       "  </thead>\n",
       "  <tbody>\n",
       "    <tr>\n",
       "      <th>0</th>\n",
       "      <td>M1</td>\n",
       "      <td>Prueba_1</td>\n",
       "      <td>NB_186</td>\n",
       "      <td>0.39</td>\n",
       "      <td>0.48</td>\n",
       "      <td>0.33</td>\n",
       "      <td>0.31</td>\n",
       "      <td>0.32</td>\n",
       "      <td>0.39</td>\n",
       "      <td>0.61</td>\n",
       "      <td>0.23</td>\n",
       "      <td>0.16</td>\n",
       "      <td>0.20</td>\n",
       "      <td>0.72</td>\n",
       "      <td>0.53</td>\n",
       "      <td>0.27</td>\n",
       "      <td>0.21</td>\n",
       "      <td>0.24</td>\n",
       "      <td>0.50</td>\n",
       "      <td>Complicado para clasificar 1,2 y 3</td>\n",
       "    </tr>\n",
       "    <tr>\n",
       "      <th>1</th>\n",
       "      <td>M2</td>\n",
       "      <td>Prueba_1</td>\n",
       "      <td>RF_186</td>\n",
       "      <td>0.42</td>\n",
       "      <td>0.53</td>\n",
       "      <td>0.32</td>\n",
       "      <td>0.32</td>\n",
       "      <td>0.37</td>\n",
       "      <td>0.51</td>\n",
       "      <td>0.68</td>\n",
       "      <td>0.30</td>\n",
       "      <td>0.28</td>\n",
       "      <td>0.30</td>\n",
       "      <td>0.55</td>\n",
       "      <td>0.59</td>\n",
       "      <td>0.31</td>\n",
       "      <td>0.30</td>\n",
       "      <td>0.33</td>\n",
       "      <td>0.53</td>\n",
       "      <td>Complicado para clasificar 1,2 y 3 pero mejor ...</td>\n",
       "    </tr>\n",
       "    <tr>\n",
       "      <th>2</th>\n",
       "      <td>M3</td>\n",
       "      <td>Prueba_1</td>\n",
       "      <td>SVM_186</td>\n",
       "      <td>0.46</td>\n",
       "      <td>0.54</td>\n",
       "      <td>0.37</td>\n",
       "      <td>0.37</td>\n",
       "      <td>0.41</td>\n",
       "      <td>0.52</td>\n",
       "      <td>0.72</td>\n",
       "      <td>0.30</td>\n",
       "      <td>0.29</td>\n",
       "      <td>0.33</td>\n",
       "      <td>0.66</td>\n",
       "      <td>0.62</td>\n",
       "      <td>0.33</td>\n",
       "      <td>0.32</td>\n",
       "      <td>0.37</td>\n",
       "      <td>0.59</td>\n",
       "      <td>Mejor acuracy y clasificación de 1,2 y 3</td>\n",
       "    </tr>\n",
       "    <tr>\n",
       "      <th>3</th>\n",
       "      <td>M4</td>\n",
       "      <td>Prueba_1</td>\n",
       "      <td>XGB_186</td>\n",
       "      <td>0.46</td>\n",
       "      <td>0.58</td>\n",
       "      <td>0.34</td>\n",
       "      <td>0.36</td>\n",
       "      <td>0.41</td>\n",
       "      <td>0.56</td>\n",
       "      <td>0.66</td>\n",
       "      <td>0.37</td>\n",
       "      <td>0.31</td>\n",
       "      <td>0.36</td>\n",
       "      <td>0.58</td>\n",
       "      <td>0.62</td>\n",
       "      <td>0.35</td>\n",
       "      <td>0.33</td>\n",
       "      <td>0.38</td>\n",
       "      <td>0.57</td>\n",
       "      <td>Mejor acuracy y clasificación de 1,2 y 3</td>\n",
       "    </tr>\n",
       "  </tbody>\n",
       "</table>\n",
       "</div>"
      ],
      "text/plain": [
       "  # Modelo  # Prueba ID_Modelo  Accuracy  Prec_1  Prec_2  Prec_3  Prec_4  \\\n",
       "0       M1  Prueba_1    NB_186      0.39    0.48    0.33    0.31    0.32   \n",
       "1       M2  Prueba_1    RF_186      0.42    0.53    0.32    0.32    0.37   \n",
       "2       M3  Prueba_1   SVM_186      0.46    0.54    0.37    0.37    0.41   \n",
       "3       M4  Prueba_1   XGB_186      0.46    0.58    0.34    0.36    0.41   \n",
       "\n",
       "   Prec_5  rec_1  rec_2  rec_3  rec_4  rec_5  F1_1  F1_2  F1_3  F1_4  F1_5  \\\n",
       "0    0.39   0.61   0.23   0.16   0.20   0.72  0.53  0.27  0.21  0.24  0.50   \n",
       "1    0.51   0.68   0.30   0.28   0.30   0.55  0.59  0.31  0.30  0.33  0.53   \n",
       "2    0.52   0.72   0.30   0.29   0.33   0.66  0.62  0.33  0.32  0.37  0.59   \n",
       "3    0.56   0.66   0.37   0.31   0.36   0.58  0.62  0.35  0.33  0.38  0.57   \n",
       "\n",
       "                                       Observaciones  \n",
       "0                 Complicado para clasificar 1,2 y 3  \n",
       "1  Complicado para clasificar 1,2 y 3 pero mejor ...  \n",
       "2           Mejor acuracy y clasificación de 1,2 y 3  \n",
       "3           Mejor acuracy y clasificación de 1,2 y 3  "
      ]
     },
     "execution_count": 111,
     "metadata": {},
     "output_type": "execute_result"
    }
   ],
   "source": [
    "resultados_P1_Test = pd.read_excel('Resultados_P1.xlsx', sheet_name='TEST')\n",
    "resultados_P1_Test"
   ]
  },
  {
   "cell_type": "markdown",
   "metadata": {},
   "source": [
    "## Conlusiones PRUEBA 1\n",
    "Detalles: Correr los 3 modelos del Proyecto 3 más XGBoost para el data frame Amazon_train con reviews cuyo largo es igual o menor a 186 caracteres\n",
    "\n",
    "Se ejecutan los 4 modelos mencionados. En el modelo que se nota una diferencia importante respecto al 'Proyecto 3' es el el RF que baja de gran manera su nivel de overfiting entre train y test. \n",
    "\n",
    "Por otro lado el mejor modelo del 'Proyecto 3' que fue el SVM sigue siendo el mejor en esta prueba 1 del  'Proyecto 4'. \n",
    "  - Accuracy Proyecto 3 => 0.50 y 0.46\n",
    "  - Accuracy Proyecto 4 en P1 => 0.48 y 0.46\n",
    "  \n",
    "Luego de esto no se ven mejoras de peso respecto a los resultados del 'proyecto 3' al trabajar con un data set reducido (largo de las reviews menor igual a 186 caracteres)\n",
    "\n",
    "Lo que si se puede apreciar que el nuevo modelo utilizado => XGBoost iguala en terminos de accuracy al SVM que en el 'proyecto 3' había sido el modelo con mejores métricas. Igualmente de la comparación de las metricas de ambos modelos se interpreta que el SVM es mejor en terminos de overfiting. Dicho esto para Prueba_2 y Prueba_3 vamos a útilizar\n",
    "\n",
    "   - SVM"
   ]
  },
  {
   "cell_type": "markdown",
   "metadata": {},
   "source": [
    "###  PRUEBA_2\n",
    "Detalles:  Correr el modelo que mejor performe en el punto 1 pero para las 3 categorías de producto más relevantes\n",
    "\n",
    " - Home\n",
    " - Wireless\n",
    " - Toys"
   ]
  },
  {
   "cell_type": "markdown",
   "metadata": {},
   "source": [
    "#### Vectorización - HOME"
   ]
  },
  {
   "cell_type": "code",
   "execution_count": 316,
   "metadata": {},
   "outputs": [],
   "source": [
    "#Filtramos del set de datos => Amazon_train por categoría 'home'\n",
    "\n",
    "Amazon_train_home=Amazon_train[Amazon_train.category=='home']"
   ]
  },
  {
   "cell_type": "code",
   "execution_count": null,
   "metadata": {},
   "outputs": [],
   "source": [
    "Amazon_train_home.head()"
   ]
  },
  {
   "cell_type": "code",
   "execution_count": 320,
   "metadata": {},
   "outputs": [],
   "source": [
    "from sklearn.feature_extraction.text import TfidfVectorizer\n",
    "\n",
    "vectorizer_B_home=TfidfVectorizer(max_features=1000, min_df= 5) # stop_words=\"english\" , ngram_range=(1, 2)"
   ]
  },
  {
   "cell_type": "code",
   "execution_count": 321,
   "metadata": {},
   "outputs": [
    {
     "data": {
      "text/plain": [
       "TfidfVectorizer(max_features=1000, min_df=5)"
      ]
     },
     "execution_count": 321,
     "metadata": {},
     "output_type": "execute_result"
    }
   ],
   "source": [
    "vectorizer_B_home"
   ]
  },
  {
   "cell_type": "code",
   "execution_count": 322,
   "metadata": {},
   "outputs": [],
   "source": [
    "vector_b_home= list(Amazon_train_home['body_stem'].values)\n",
    "stars_b_home = Amazon_train_home['stars']"
   ]
  },
  {
   "cell_type": "code",
   "execution_count": 323,
   "metadata": {},
   "outputs": [
    {
     "name": "stdout",
     "output_type": "stream",
     "text": [
      "50 palabras mas usadas:  ['abaj', 'abiert', 'abre', 'abrig', 'abrir', 'abrirl', 'absolut', 'acab', 'accesori', 'aceit', 'acept', 'acer', 'acert', 'aciert', 'aconsej', 'acord', 'adapt', 'adecu', 'adem', 'adhes', 'adorn', 'afil', 'agarr', 'agrad', 'agu', 'aguant', 'aguj', 'agujer', 'ahor', 'ahorr', 'air', 'ajust', 'alarm', 'algod', 'algui', 'algun', 'aliment', 'almacen', 'almacenaj', 'almoh', 'alta', 'alto', 'altur', 'alumbr', 'alumini', 'amarill', 'amazon', 'ambient', 'amig', 'amos']\n"
     ]
    }
   ],
   "source": [
    "matriz_body_home = vectorizer_B_home.fit_transform(vector_b_home)\n",
    "\n",
    "# Tomamos las palabras\n",
    "all_words_b_home = vectorizer_B_home.get_feature_names()\n",
    "\n",
    "# Vizualizamos las 50 palabras mas usadas\n",
    "print(\"50 palabras mas usadas: \",all_words_b_home[0:50])"
   ]
  },
  {
   "cell_type": "markdown",
   "metadata": {},
   "source": [
    "#### Vectorización - Wireless"
   ]
  },
  {
   "cell_type": "code",
   "execution_count": 324,
   "metadata": {},
   "outputs": [],
   "source": [
    "#Filtramos del set de datos => Amazon_train por categoría 'wireless'\n",
    "\n",
    "Amazon_train_wireless=Amazon_train[Amazon_train.category=='wireless']"
   ]
  },
  {
   "cell_type": "code",
   "execution_count": 341,
   "metadata": {},
   "outputs": [
    {
     "data": {
      "text/plain": [
       "(18719, 6)"
      ]
     },
     "execution_count": 341,
     "metadata": {},
     "output_type": "execute_result"
    }
   ],
   "source": [
    "Amazon_train_wireless.shape"
   ]
  },
  {
   "cell_type": "code",
   "execution_count": 326,
   "metadata": {},
   "outputs": [],
   "source": [
    "from sklearn.feature_extraction.text import TfidfVectorizer\n",
    "\n",
    "vectorizer_B_wire=TfidfVectorizer(max_features=1000, min_df= 5) # stop_words=\"english\" , ngram_range=(1, 2)"
   ]
  },
  {
   "cell_type": "code",
   "execution_count": 327,
   "metadata": {},
   "outputs": [
    {
     "data": {
      "text/plain": [
       "TfidfVectorizer(max_features=1000, min_df=5)"
      ]
     },
     "execution_count": 327,
     "metadata": {},
     "output_type": "execute_result"
    }
   ],
   "source": [
    "vectorizer_B_wire"
   ]
  },
  {
   "cell_type": "code",
   "execution_count": 328,
   "metadata": {},
   "outputs": [],
   "source": [
    "vector_b_wire= list(Amazon_train_wireless['body_stem'].values)\n",
    "stars_b_wire = Amazon_train_wireless['stars']"
   ]
  },
  {
   "cell_type": "code",
   "execution_count": 329,
   "metadata": {},
   "outputs": [
    {
     "name": "stdout",
     "output_type": "stream",
     "text": [
      "50 palabras mas usadas:  ['abaj', 'abiert', 'abre', 'abril', 'abrir', 'abrirl', 'absolut', 'abult', 'acab', 'acces', 'accesori', 'acept', 'aconsej', 'acopl', 'acord', 'acostumbr', 'activ', 'actualiz', 'adapt', 'adecu', 'adem', 'adher', 'adherent', 'adhes', 'adhier', 'adquir', 'afect', 'afloj', 'agarr', 'agot', 'agrad', 'agriet', 'agu', 'aguant', 'agujer', 'ahor', 'ahorr', 'air', 'ajust', 'alcanc', 'algui', 'algun', 'almacen', 'alrededor', 'alta', 'altavoc', 'altavoz', 'alto', 'altur', 'amarill']\n"
     ]
    }
   ],
   "source": [
    "matriz_body_wire = vectorizer_B_wire.fit_transform(vector_b_wire)\n",
    "\n",
    "# Tomamos las palabras\n",
    "all_words_b_wire = vectorizer_B_wire.get_feature_names()\n",
    "\n",
    "# Vizualizamos las 50 palabras mas usadas\n",
    "print(\"50 palabras mas usadas: \",all_words_b_wire[0:50])"
   ]
  },
  {
   "cell_type": "markdown",
   "metadata": {},
   "source": [
    "#### Vectorización - Toy"
   ]
  },
  {
   "cell_type": "code",
   "execution_count": 334,
   "metadata": {},
   "outputs": [],
   "source": [
    "#Filtramos del set de datos => Amazon_train por categoría 'toys'\n",
    "\n",
    "Amazon_train_toy=Amazon_train[Amazon_train.category=='toy']"
   ]
  },
  {
   "cell_type": "code",
   "execution_count": 340,
   "metadata": {},
   "outputs": [
    {
     "data": {
      "text/plain": [
       "(10691, 6)"
      ]
     },
     "execution_count": 340,
     "metadata": {},
     "output_type": "execute_result"
    }
   ],
   "source": [
    "Amazon_train_toy.shape"
   ]
  },
  {
   "cell_type": "code",
   "execution_count": 336,
   "metadata": {},
   "outputs": [],
   "source": [
    "from sklearn.feature_extraction.text import TfidfVectorizer\n",
    "\n",
    "vectorizer_B_toy=TfidfVectorizer(max_features=1000, min_df= 5) # stop_words=\"english\" , ngram_range=(1, 2)"
   ]
  },
  {
   "cell_type": "code",
   "execution_count": 337,
   "metadata": {},
   "outputs": [
    {
     "data": {
      "text/plain": [
       "TfidfVectorizer(max_features=1000, min_df=5)"
      ]
     },
     "execution_count": 337,
     "metadata": {},
     "output_type": "execute_result"
    }
   ],
   "source": [
    "vectorizer_B_toy"
   ]
  },
  {
   "cell_type": "code",
   "execution_count": 338,
   "metadata": {},
   "outputs": [],
   "source": [
    "vector_b_toy= list(Amazon_train_toy['body_stem'].values)\n",
    "stars_b_toy = Amazon_train_toy['stars']"
   ]
  },
  {
   "cell_type": "code",
   "execution_count": 339,
   "metadata": {},
   "outputs": [
    {
     "name": "stdout",
     "output_type": "stream",
     "text": [
      "50 palabras mas usadas:  ['abaj', 'abiert', 'aboll', 'abon', 'abre', 'abrir', 'abrirl', 'absolut', 'aburr', 'acab', 'accesori', 'acept', 'acert', 'aciert', 'aconsej', 'acopl', 'acord', 'activ', 'adapt', 'adecu', 'adem', 'ador', 'adorn', 'adult', 'agarr', 'agrad', 'agu', 'aguant', 'agujer', 'ahor', 'air', 'ajust', 'alas', 'algui', 'algun', 'alta', 'alto', 'alucin', 'amarill', 'amazon', 'amig', 'amos', 'ampli', 'andar', 'anill', 'animal', 'anterior', 'antigu', 'anul', 'anunci']\n"
     ]
    }
   ],
   "source": [
    "matriz_body_toy = vectorizer_B_toy.fit_transform(vector_b_toy)\n",
    "\n",
    "# Tomamos las palabras\n",
    "all_words_b_toy = vectorizer_B_toy.get_feature_names()\n",
    "\n",
    "# Vizualizamos las 50 palabras mas usadas\n",
    "print(\"50 palabras mas usadas: \",all_words_b_toy[0:50])"
   ]
  },
  {
   "cell_type": "markdown",
   "metadata": {},
   "source": [
    "#### MODELO - SVM - PRUEBA 2 - Home"
   ]
  },
  {
   "cell_type": "code",
   "execution_count": 352,
   "metadata": {},
   "outputs": [],
   "source": [
    "x_M2_home = matriz_body_home.toarray() # esto nos tranforma el data set a una lista / arreglo\n",
    "y_M2_home = Amazon_train_home['stars']"
   ]
  },
  {
   "cell_type": "code",
   "execution_count": 353,
   "metadata": {},
   "outputs": [],
   "source": [
    "from sklearn.model_selection import train_test_split\n",
    "x_M2_home_train, x_M2_home_test, y_M2_home_train, y_M2_home_test = train_test_split(x_M2_home,y_M2_home,test_size=0.2,random_state=42,stratify=y_M2_home)\n",
    "\n",
    "from sklearn.metrics import confusion_matrix,accuracy_score, classification_report\n",
    "\n",
    "#Codgo para dar formato a la matriz\n",
    "def confusion(y_M2_home_test,y_M2_home_pred):\n",
    "    names=['1','2','3','4','5']\n",
    "    cm=confusion_matrix(y_M2_home_test,y_M2_home_pred)\n",
    "    f,ax=plt.subplots(figsize=(5,5))\n",
    "    sns.heatmap(cm,annot=True,linewidth=.5,linecolor=\"r\",fmt=\".0f\",ax=ax)\n",
    "    plt.xlabel(\"y_pred\")\n",
    "    plt.ylabel(\"y_true\")\n",
    "    ax.set_xticklabels(names)\n",
    "    ax.set_yticklabels(names)\n",
    "    plt.show()\n",
    "\n",
    "    return"
   ]
  },
  {
   "cell_type": "code",
   "execution_count": 354,
   "metadata": {},
   "outputs": [
    {
     "data": {
      "text/plain": [
       "LinearSVC(C=1)"
      ]
     },
     "execution_count": 354,
     "metadata": {},
     "output_type": "execute_result"
    }
   ],
   "source": [
    "from sklearn.svm import LinearSVC\n",
    "\n",
    "svc = LinearSVC(C = 1)\n",
    "svc.fit(x_M2_home_train,y_M2_home_train)"
   ]
  },
  {
   "cell_type": "code",
   "execution_count": 355,
   "metadata": {},
   "outputs": [],
   "source": [
    "y_M2_home_train_pred = svc.predict(x_M2_home_train)\n",
    "y_M2_home_test_pred = svc.predict(x_M2_home_test)"
   ]
  },
  {
   "cell_type": "code",
   "execution_count": 357,
   "metadata": {},
   "outputs": [
    {
     "name": "stdout",
     "output_type": "stream",
     "text": [
      "RESULTADOS TRAIN\n",
      "              precision    recall  f1-score   support\n",
      "\n",
      "           1       0.62      0.73      0.67      3312\n",
      "           2       0.50      0.47      0.49      3258\n",
      "           3       0.49      0.41      0.45      3372\n",
      "           4       0.50      0.43      0.46      3373\n",
      "           5       0.58      0.70      0.63      3348\n",
      "\n",
      "    accuracy                           0.55     16663\n",
      "   macro avg       0.54      0.55      0.54     16663\n",
      "weighted avg       0.54      0.55      0.54     16663\n",
      "\n"
     ]
    },
    {
     "data": {
      "image/png": "[encoded data removed]",
      "text/plain": [
       "<Figure size 360x360 with 2 Axes>"
      ]
     },
     "metadata": {},
     "output_type": "display_data"
    },
    {
     "name": "stdout",
     "output_type": "stream",
     "text": [
      "RESULTADOS TEST\n",
      "              precision    recall  f1-score   support\n",
      "\n",
      "           1       0.55      0.65      0.60       828\n",
      "           2       0.34      0.32      0.33       815\n",
      "           3       0.38      0.33      0.35       843\n",
      "           4       0.39      0.33      0.36       843\n",
      "           5       0.54      0.64      0.58       837\n",
      "\n",
      "    accuracy                           0.45      4166\n",
      "   macro avg       0.44      0.45      0.44      4166\n",
      "weighted avg       0.44      0.45      0.44      4166\n",
      "\n"
     ]
    },
    {
     "data": {
      "image/png": "[encoded data removed]",
      "text/plain": [
       "<Figure size 360x360 with 2 Axes>"
      ]
     },
     "metadata": {},
     "output_type": "display_data"
    }
   ],
   "source": [
    "print('RESULTADOS TRAIN')\n",
    "print(classification_report(y_M2_home_train, y_M2_home_train_pred))\n",
    "confusion(y_M2_home_train, y_M2_home_train_pred)\n",
    "\n",
    "print('RESULTADOS TEST')\n",
    "print(classification_report(y_M2_home_test, y_M2_home_test_pred))\n",
    "confusion(y_M2_home_test, y_M2_home_test_pred)"
   ]
  },
  {
   "cell_type": "markdown",
   "metadata": {},
   "source": [
    "#### MODELO - SVM - PRUEBA 2 - wireless"
   ]
  },
  {
   "cell_type": "code",
   "execution_count": 359,
   "metadata": {},
   "outputs": [],
   "source": [
    "x_M2_wire = matriz_body_wire.toarray() # esto nos tranforma el data set a una lista / arreglo\n",
    "y_M2_wire = Amazon_train_wireless['stars']"
   ]
  },
  {
   "cell_type": "code",
   "execution_count": 360,
   "metadata": {},
   "outputs": [],
   "source": [
    "from sklearn.model_selection import train_test_split\n",
    "x_M2_wire_train, x_M2_wire_test, y_M2_wire_train, y_M2_wire_test = train_test_split(x_M2_wire,y_M2_wire,test_size=0.2,random_state=42,stratify=y_M2_wire)\n",
    "\n",
    "from sklearn.metrics import confusion_matrix,accuracy_score, classification_report\n",
    "\n",
    "#Codgo para dar formato a la matriz\n",
    "def confusion(y_M2_wire_test,y_M2_wire_pred):\n",
    "    names=['1','2','3','4','5']\n",
    "    cm=confusion_matrix(y_M2_wire_test,y_M2_wire_pred)\n",
    "    f,ax=plt.subplots(figsize=(5,5))\n",
    "    sns.heatmap(cm,annot=True,linewidth=.5,linecolor=\"r\",fmt=\".0f\",ax=ax)\n",
    "    plt.xlabel(\"y_pred\")\n",
    "    plt.ylabel(\"y_true\")\n",
    "    ax.set_xticklabels(names)\n",
    "    ax.set_yticklabels(names)\n",
    "    plt.show()\n",
    "\n",
    "    return"
   ]
  },
  {
   "cell_type": "code",
   "execution_count": 361,
   "metadata": {},
   "outputs": [
    {
     "data": {
      "text/plain": [
       "LinearSVC(C=1)"
      ]
     },
     "execution_count": 361,
     "metadata": {},
     "output_type": "execute_result"
    }
   ],
   "source": [
    "from sklearn.svm import LinearSVC\n",
    "\n",
    "svc = LinearSVC(C = 1)\n",
    "svc.fit(x_M2_wire_train,y_M2_wire_train)"
   ]
  },
  {
   "cell_type": "code",
   "execution_count": 362,
   "metadata": {},
   "outputs": [],
   "source": [
    "y_M2_wire_train_pred = svc.predict(x_M2_wire_train)\n",
    "y_M2_wire_test_pred = svc.predict(x_M2_wire_test)"
   ]
  },
  {
   "cell_type": "code",
   "execution_count": 363,
   "metadata": {},
   "outputs": [
    {
     "name": "stdout",
     "output_type": "stream",
     "text": [
      "RESULTADOS TRAIN\n",
      "              precision    recall  f1-score   support\n",
      "\n",
      "           1       0.62      0.77      0.69      3629\n",
      "           2       0.50      0.46      0.48      3084\n",
      "           3       0.48      0.32      0.38      2709\n",
      "           4       0.51      0.46      0.48      2770\n",
      "           5       0.60      0.69      0.64      2783\n",
      "\n",
      "    accuracy                           0.55     14975\n",
      "   macro avg       0.54      0.54      0.53     14975\n",
      "weighted avg       0.54      0.55      0.54     14975\n",
      "\n"
     ]
    },
    {
     "data": {
      "image/png": "[encoded data removed]",
      "text/plain": [
       "<Figure size 360x360 with 2 Axes>"
      ]
     },
     "metadata": {},
     "output_type": "display_data"
    },
    {
     "name": "stdout",
     "output_type": "stream",
     "text": [
      "RESULTADOS TEST\n",
      "              precision    recall  f1-score   support\n",
      "\n",
      "           1       0.56      0.69      0.62       908\n",
      "           2       0.37      0.34      0.35       771\n",
      "           3       0.32      0.21      0.26       677\n",
      "           4       0.38      0.34      0.36       692\n",
      "           5       0.51      0.60      0.56       696\n",
      "\n",
      "    accuracy                           0.45      3744\n",
      "   macro avg       0.43      0.44      0.43      3744\n",
      "weighted avg       0.43      0.45      0.44      3744\n",
      "\n"
     ]
    },
    {
     "data": {
      "image/png": "[encoded data removed]",
      "text/plain": [
       "<Figure size 360x360 with 2 Axes>"
      ]
     },
     "metadata": {},
     "output_type": "display_data"
    }
   ],
   "source": [
    "print('RESULTADOS TRAIN')\n",
    "print(classification_report(y_M2_wire_train, y_M2_wire_train_pred))\n",
    "confusion(y_M2_wire_train, y_M2_wire_train_pred)\n",
    "\n",
    "print('RESULTADOS TEST')\n",
    "print(classification_report(y_M2_wire_test, y_M2_wire_test_pred))\n",
    "confusion(y_M2_wire_test, y_M2_wire_test_pred)"
   ]
  },
  {
   "cell_type": "markdown",
   "metadata": {},
   "source": [
    "#### MODELO - SVM - PRUEBA 2 - Toy"
   ]
  },
  {
   "cell_type": "code",
   "execution_count": 364,
   "metadata": {},
   "outputs": [],
   "source": [
    "x_M2_toy = matriz_body_toy.toarray() # esto nos tranforma el data set a una lista / arreglo\n",
    "y_M2_toy = Amazon_train_toy['stars']"
   ]
  },
  {
   "cell_type": "code",
   "execution_count": 365,
   "metadata": {},
   "outputs": [],
   "source": [
    "from sklearn.model_selection import train_test_split\n",
    "x_M2_toy_train, x_M2_toy_test, y_M2_toy_train, y_M2_toy_test = train_test_split(x_M2_toy,y_M2_toy,test_size=0.2,random_state=42,stratify=y_M2_toy)\n",
    "\n",
    "from sklearn.metrics import confusion_matrix,accuracy_score, classification_report\n",
    "\n",
    "#Codgo para dar formato a la matriz\n",
    "def confusion(y_M2_toy_test,y_M2_toy_pred):\n",
    "    names=['1','2','3','4','5']\n",
    "    cm=confusion_matrix(y_M2_toy_test,y_M2_toy_pred)\n",
    "    f,ax=plt.subplots(figsize=(5,5))\n",
    "    sns.heatmap(cm,annot=True,linewidth=.5,linecolor=\"r\",fmt=\".0f\",ax=ax)\n",
    "    plt.xlabel(\"y_pred\")\n",
    "    plt.ylabel(\"y_true\")\n",
    "    ax.set_xticklabels(names)\n",
    "    ax.set_yticklabels(names)\n",
    "    plt.show()\n",
    "\n",
    "    return"
   ]
  },
  {
   "cell_type": "code",
   "execution_count": 366,
   "metadata": {},
   "outputs": [
    {
     "data": {
      "text/plain": [
       "LinearSVC(C=1)"
      ]
     },
     "execution_count": 366,
     "metadata": {},
     "output_type": "execute_result"
    }
   ],
   "source": [
    "from sklearn.svm import LinearSVC\n",
    "\n",
    "svc = LinearSVC(C = 1)\n",
    "svc.fit(x_M2_toy_train,y_M2_toy_train)"
   ]
  },
  {
   "cell_type": "code",
   "execution_count": 367,
   "metadata": {},
   "outputs": [],
   "source": [
    "y_M2_toy_train_pred = svc.predict(x_M2_toy_train)\n",
    "y_M2_toy_test_pred = svc.predict(x_M2_toy_test)"
   ]
  },
  {
   "cell_type": "code",
   "execution_count": 368,
   "metadata": {},
   "outputs": [
    {
     "name": "stdout",
     "output_type": "stream",
     "text": [
      "RESULTADOS TRAIN\n",
      "              precision    recall  f1-score   support\n",
      "\n",
      "           1       0.69      0.75      0.72      1465\n",
      "           2       0.58      0.55      0.56      1600\n",
      "           3       0.56      0.55      0.55      1830\n",
      "           4       0.59      0.45      0.51      1701\n",
      "           5       0.64      0.78      0.70      1956\n",
      "\n",
      "    accuracy                           0.62      8552\n",
      "   macro avg       0.61      0.61      0.61      8552\n",
      "weighted avg       0.61      0.62      0.61      8552\n",
      "\n"
     ]
    },
    {
     "data": {
      "image/png": "[encoded data removed]",
      "text/plain": [
       "<Figure size 360x360 with 2 Axes>"
      ]
     },
     "metadata": {},
     "output_type": "display_data"
    },
    {
     "name": "stdout",
     "output_type": "stream",
     "text": [
      "RESULTADOS TEST\n",
      "              precision    recall  f1-score   support\n",
      "\n",
      "           1       0.53      0.56      0.54       367\n",
      "           2       0.34      0.33      0.33       400\n",
      "           3       0.35      0.35      0.35       458\n",
      "           4       0.34      0.25      0.29       425\n",
      "           5       0.54      0.66      0.60       489\n",
      "\n",
      "    accuracy                           0.43      2139\n",
      "   macro avg       0.42      0.43      0.42      2139\n",
      "weighted avg       0.42      0.43      0.43      2139\n",
      "\n"
     ]
    },
    {
     "data": {
      "image/png": "[encoded data removed]",
      "text/plain": [
       "<Figure size 360x360 with 2 Axes>"
      ]
     },
     "metadata": {},
     "output_type": "display_data"
    }
   ],
   "source": [
    "print('RESULTADOS TRAIN')\n",
    "print(classification_report(y_M2_toy_train, y_M2_toy_train_pred))\n",
    "confusion(y_M2_toy_train, y_M2_toy_train_pred)\n",
    "\n",
    "print('RESULTADOS TEST')\n",
    "print(classification_report(y_M2_toy_test, y_M2_toy_test_pred))\n",
    "confusion(y_M2_toy_test, y_M2_toy_test_pred)"
   ]
  },
  {
   "cell_type": "markdown",
   "metadata": {},
   "source": [
    "## RESULTADOS PRUEBA 2"
   ]
  },
  {
   "cell_type": "markdown",
   "metadata": {},
   "source": [
    "#### TRAIN"
   ]
  },
  {
   "cell_type": "code",
   "execution_count": 376,
   "metadata": {},
   "outputs": [
    {
     "data": {
      "text/html": [
       "<div>\n",
       "<style scoped>\n",
       "    .dataframe tbody tr th:only-of-type {\n",
       "        vertical-align: middle;\n",
       "    }\n",
       "\n",
       "    .dataframe tbody tr th {\n",
       "        vertical-align: top;\n",
       "    }\n",
       "\n",
       "    .dataframe thead th {\n",
       "        text-align: right;\n",
       "    }\n",
       "</style>\n",
       "<table border=\"1\" class=\"dataframe\">\n",
       "  <thead>\n",
       "    <tr style=\"text-align: right;\">\n",
       "      <th></th>\n",
       "      <th># Modelo</th>\n",
       "      <th># Prueba</th>\n",
       "      <th>ID_Modelo</th>\n",
       "      <th>Accuracy</th>\n",
       "      <th>Prec_1</th>\n",
       "      <th>Prec_2</th>\n",
       "      <th>Prec_3</th>\n",
       "      <th>Prec_4</th>\n",
       "      <th>Prec_5</th>\n",
       "      <th>rec_1</th>\n",
       "      <th>rec_2</th>\n",
       "      <th>rec_3</th>\n",
       "      <th>rec_4</th>\n",
       "      <th>rec_5</th>\n",
       "      <th>F1_1</th>\n",
       "      <th>F1_2</th>\n",
       "      <th>F1_3</th>\n",
       "      <th>F1_4</th>\n",
       "      <th>F1_5</th>\n",
       "      <th>Observaciones</th>\n",
       "    </tr>\n",
       "  </thead>\n",
       "  <tbody>\n",
       "    <tr>\n",
       "      <th>0</th>\n",
       "      <td>5</td>\n",
       "      <td>Prueba_2</td>\n",
       "      <td>M1_Home_186</td>\n",
       "      <td>0.55</td>\n",
       "      <td>0.32</td>\n",
       "      <td>0.50</td>\n",
       "      <td>0.49</td>\n",
       "      <td>0.50</td>\n",
       "      <td>0.58</td>\n",
       "      <td>0.73</td>\n",
       "      <td>0.47</td>\n",
       "      <td>0.41</td>\n",
       "      <td>0.43</td>\n",
       "      <td>0.63</td>\n",
       "      <td>0.67</td>\n",
       "      <td>0.49</td>\n",
       "      <td>0.45</td>\n",
       "      <td>0.46</td>\n",
       "      <td>0.63</td>\n",
       "      <td>Mejora las métricas de M1, M2, M3 y M4</td>\n",
       "    </tr>\n",
       "    <tr>\n",
       "      <th>1</th>\n",
       "      <td>6</td>\n",
       "      <td>Prueba_2</td>\n",
       "      <td>M1_Wireless_186</td>\n",
       "      <td>0.55</td>\n",
       "      <td>0.62</td>\n",
       "      <td>0.50</td>\n",
       "      <td>0.48</td>\n",
       "      <td>0.51</td>\n",
       "      <td>0.60</td>\n",
       "      <td>0.77</td>\n",
       "      <td>0.46</td>\n",
       "      <td>0.32</td>\n",
       "      <td>0.46</td>\n",
       "      <td>0.69</td>\n",
       "      <td>0.69</td>\n",
       "      <td>0.48</td>\n",
       "      <td>0.38</td>\n",
       "      <td>0.48</td>\n",
       "      <td>0.64</td>\n",
       "      <td>Mejora las métricas de M1, M2, M3 y M4</td>\n",
       "    </tr>\n",
       "    <tr>\n",
       "      <th>2</th>\n",
       "      <td>7</td>\n",
       "      <td>Prueba_2</td>\n",
       "      <td>M1_toy_186</td>\n",
       "      <td>0.62</td>\n",
       "      <td>0.69</td>\n",
       "      <td>0.58</td>\n",
       "      <td>0.56</td>\n",
       "      <td>0.59</td>\n",
       "      <td>0.64</td>\n",
       "      <td>0.75</td>\n",
       "      <td>0.55</td>\n",
       "      <td>0.55</td>\n",
       "      <td>0.45</td>\n",
       "      <td>0.78</td>\n",
       "      <td>0.72</td>\n",
       "      <td>0.56</td>\n",
       "      <td>0.55</td>\n",
       "      <td>0.51</td>\n",
       "      <td>0.71</td>\n",
       "      <td>Mejora las métricas de M1, M2, M3 y M4</td>\n",
       "    </tr>\n",
       "  </tbody>\n",
       "</table>\n",
       "</div>"
      ],
      "text/plain": [
       "   # Modelo  # Prueba        ID_Modelo  Accuracy  Prec_1  Prec_2  Prec_3  \\\n",
       "0         5  Prueba_2      M1_Home_186      0.55    0.32    0.50    0.49   \n",
       "1         6  Prueba_2  M1_Wireless_186      0.55    0.62    0.50    0.48   \n",
       "2         7  Prueba_2       M1_toy_186      0.62    0.69    0.58    0.56   \n",
       "\n",
       "   Prec_4  Prec_5  rec_1  rec_2  rec_3  rec_4  rec_5  F1_1  F1_2  F1_3  F1_4  \\\n",
       "0    0.50    0.58   0.73   0.47   0.41   0.43   0.63  0.67  0.49  0.45  0.46   \n",
       "1    0.51    0.60   0.77   0.46   0.32   0.46   0.69  0.69  0.48  0.38  0.48   \n",
       "2    0.59    0.64   0.75   0.55   0.55   0.45   0.78  0.72  0.56  0.55  0.51   \n",
       "\n",
       "   F1_5                           Observaciones  \n",
       "0  0.63  Mejora las métricas de M1, M2, M3 y M4  \n",
       "1  0.64  Mejora las métricas de M1, M2, M3 y M4  \n",
       "2  0.71  Mejora las métricas de M1, M2, M3 y M4  "
      ]
     },
     "execution_count": 376,
     "metadata": {},
     "output_type": "execute_result"
    }
   ],
   "source": [
    "resultados_P2_train = pd.read_excel('Resultados_P2.xlsx', sheet_name='TRAIN')\n",
    "resultados_P2_train"
   ]
  },
  {
   "cell_type": "markdown",
   "metadata": {},
   "source": [
    "#### TEST"
   ]
  },
  {
   "cell_type": "code",
   "execution_count": 377,
   "metadata": {},
   "outputs": [
    {
     "data": {
      "text/html": [
       "<div>\n",
       "<style scoped>\n",
       "    .dataframe tbody tr th:only-of-type {\n",
       "        vertical-align: middle;\n",
       "    }\n",
       "\n",
       "    .dataframe tbody tr th {\n",
       "        vertical-align: top;\n",
       "    }\n",
       "\n",
       "    .dataframe thead th {\n",
       "        text-align: right;\n",
       "    }\n",
       "</style>\n",
       "<table border=\"1\" class=\"dataframe\">\n",
       "  <thead>\n",
       "    <tr style=\"text-align: right;\">\n",
       "      <th></th>\n",
       "      <th># Modelo</th>\n",
       "      <th># Prueba</th>\n",
       "      <th>ID_Modelo</th>\n",
       "      <th>Accuracy</th>\n",
       "      <th>Prec_1</th>\n",
       "      <th>Prec_2</th>\n",
       "      <th>Prec_3</th>\n",
       "      <th>Prec_4</th>\n",
       "      <th>Prec_5</th>\n",
       "      <th>rec_1</th>\n",
       "      <th>rec_2</th>\n",
       "      <th>rec_3</th>\n",
       "      <th>rec_4</th>\n",
       "      <th>rec_5</th>\n",
       "      <th>F1_1</th>\n",
       "      <th>F1_2</th>\n",
       "      <th>F1_3</th>\n",
       "      <th>F1_4</th>\n",
       "      <th>F1_5</th>\n",
       "      <th>Observaciones</th>\n",
       "    </tr>\n",
       "  </thead>\n",
       "  <tbody>\n",
       "    <tr>\n",
       "      <th>0</th>\n",
       "      <td>5</td>\n",
       "      <td>Prueba_2</td>\n",
       "      <td>M1_Home_186</td>\n",
       "      <td>0.45</td>\n",
       "      <td>0.55</td>\n",
       "      <td>0.34</td>\n",
       "      <td>0.38</td>\n",
       "      <td>0.39</td>\n",
       "      <td>0.54</td>\n",
       "      <td>0.65</td>\n",
       "      <td>0.32</td>\n",
       "      <td>0.33</td>\n",
       "      <td>0.33</td>\n",
       "      <td>0.64</td>\n",
       "      <td>0.60</td>\n",
       "      <td>0.33</td>\n",
       "      <td>0.35</td>\n",
       "      <td>0.36</td>\n",
       "      <td>0.58</td>\n",
       "      <td>Parece caer en overfiting por la caída del acc...</td>\n",
       "    </tr>\n",
       "    <tr>\n",
       "      <th>1</th>\n",
       "      <td>6</td>\n",
       "      <td>Prueba_2</td>\n",
       "      <td>M1_Wireless_186</td>\n",
       "      <td>0.45</td>\n",
       "      <td>0.56</td>\n",
       "      <td>0.37</td>\n",
       "      <td>0.32</td>\n",
       "      <td>0.38</td>\n",
       "      <td>0.51</td>\n",
       "      <td>0.69</td>\n",
       "      <td>0.34</td>\n",
       "      <td>0.21</td>\n",
       "      <td>0.34</td>\n",
       "      <td>0.60</td>\n",
       "      <td>0.62</td>\n",
       "      <td>0.35</td>\n",
       "      <td>0.26</td>\n",
       "      <td>0.36</td>\n",
       "      <td>0.56</td>\n",
       "      <td>Parece caer en overfiting por la caída del acc...</td>\n",
       "    </tr>\n",
       "    <tr>\n",
       "      <th>2</th>\n",
       "      <td>7</td>\n",
       "      <td>Prueba_2</td>\n",
       "      <td>M1_toy_186</td>\n",
       "      <td>0.43</td>\n",
       "      <td>0.53</td>\n",
       "      <td>0.34</td>\n",
       "      <td>0.35</td>\n",
       "      <td>0.34</td>\n",
       "      <td>0.54</td>\n",
       "      <td>0.56</td>\n",
       "      <td>0.33</td>\n",
       "      <td>0.35</td>\n",
       "      <td>0.25</td>\n",
       "      <td>0.66</td>\n",
       "      <td>0.54</td>\n",
       "      <td>0.33</td>\n",
       "      <td>0.35</td>\n",
       "      <td>0.29</td>\n",
       "      <td>0.60</td>\n",
       "      <td>Parece caer en overfiting por la caída del acc...</td>\n",
       "    </tr>\n",
       "  </tbody>\n",
       "</table>\n",
       "</div>"
      ],
      "text/plain": [
       "   # Modelo  # Prueba        ID_Modelo  Accuracy  Prec_1  Prec_2  Prec_3  \\\n",
       "0         5  Prueba_2      M1_Home_186      0.45    0.55    0.34    0.38   \n",
       "1         6  Prueba_2  M1_Wireless_186      0.45    0.56    0.37    0.32   \n",
       "2         7  Prueba_2       M1_toy_186      0.43    0.53    0.34    0.35   \n",
       "\n",
       "   Prec_4  Prec_5  rec_1  rec_2  rec_3  rec_4  rec_5  F1_1  F1_2  F1_3  F1_4  \\\n",
       "0    0.39    0.54   0.65   0.32   0.33   0.33   0.64  0.60  0.33  0.35  0.36   \n",
       "1    0.38    0.51   0.69   0.34   0.21   0.34   0.60  0.62  0.35  0.26  0.36   \n",
       "2    0.34    0.54   0.56   0.33   0.35   0.25   0.66  0.54  0.33  0.35  0.29   \n",
       "\n",
       "   F1_5                                      Observaciones  \n",
       "0  0.58  Parece caer en overfiting por la caída del acc...  \n",
       "1  0.56  Parece caer en overfiting por la caída del acc...  \n",
       "2  0.60  Parece caer en overfiting por la caída del acc...  "
      ]
     },
     "execution_count": 377,
     "metadata": {},
     "output_type": "execute_result"
    }
   ],
   "source": [
    "resultados_P2_test = pd.read_excel('Resultados_P2.xlsx', sheet_name='TEST')\n",
    "resultados_P2_test"
   ]
  },
  {
   "cell_type": "markdown",
   "metadata": {},
   "source": [
    "## Conlusiones PRUEBA 2"
   ]
  },
  {
   "cell_type": "markdown",
   "metadata": {},
   "source": [
    "Detalles:  Correr el modelo que mejor performe en el punto 1 pero para las 3 categorías de producto más relevantes\n",
    "\n",
    " - Home\n",
    " - Wireless\n",
    " - Toys\n",
    " \n",
    " Al llevar adelante la 'Prueba 2' para las tres categías selccionadas podemos ver que en train obtenemos mucho mejores métricas que los 4 modelos de la 'Prueba 1'. igualmente no llegamos a resultado muy satisfactorio al ejecutar el modelo para test donde vemos que las métricas de los modelos aplicados sobre las tres categorías principales cae dando lugar a concluir que existe overfiting. "
   ]
  },
  {
   "cell_type": "markdown",
   "metadata": {},
   "source": [
    "###  PRUEBA_3\n",
    "Detalles: Correr el modelo que mejor performe en el punto 1 pero modificando el data set Amazon_train que en lugar de 5 posibles clasificaciones tenga tres. Esto lo hacemos para el set de datos con reviews de un largo menor o igual a 186 caracteres\n",
    "\n",
    "Opción 1:\n",
    "\n",
    " - 1 => Negativo\n",
    " - 2, 3 y 4 => Neutro. Aca es donde hemos visto más cuesta al modelo diferenciar\n",
    " - 5 => Positivo\n",
    "\n",
    "Opción 2\n",
    "\n",
    " - 1 y 2 => Negativo\n",
    " - 3 => Neutro\n",
    " - 4 y 5 => Positivo "
   ]
  },
  {
   "cell_type": "markdown",
   "metadata": {},
   "source": [
    "#### PRUEBA 3 - Opción 1: Data set 183"
   ]
  },
  {
   "cell_type": "markdown",
   "metadata": {},
   "source": [
    "#### Armado del set"
   ]
  },
  {
   "cell_type": "code",
   "execution_count": 125,
   "metadata": {},
   "outputs": [
    {
     "data": {
      "text/html": [
       "<div>\n",
       "<style scoped>\n",
       "    .dataframe tbody tr th:only-of-type {\n",
       "        vertical-align: middle;\n",
       "    }\n",
       "\n",
       "    .dataframe tbody tr th {\n",
       "        vertical-align: top;\n",
       "    }\n",
       "\n",
       "    .dataframe thead th {\n",
       "        text-align: right;\n",
       "    }\n",
       "</style>\n",
       "<table border=\"1\" class=\"dataframe\">\n",
       "  <thead>\n",
       "    <tr style=\"text-align: right;\">\n",
       "      <th></th>\n",
       "      <th>stars</th>\n",
       "      <th>body</th>\n",
       "      <th>title</th>\n",
       "      <th>category</th>\n",
       "      <th>length</th>\n",
       "      <th>body_stem</th>\n",
       "      <th>stars_opcion1</th>\n",
       "    </tr>\n",
       "  </thead>\n",
       "  <tbody>\n",
       "    <tr>\n",
       "      <th>0</th>\n",
       "      <td>1</td>\n",
       "      <td>nada bueno se me fue ka pantalla en menos de  ...</td>\n",
       "      <td>television Nevir</td>\n",
       "      <td>electronics</td>\n",
       "      <td>94</td>\n",
       "      <td>buen pantall men mes recib respuest fabric</td>\n",
       "      <td>1</td>\n",
       "    </tr>\n",
       "    <tr>\n",
       "      <th>1</th>\n",
       "      <td>1</td>\n",
       "      <td>horrible  nos tuvimos que comprar otro porque ...</td>\n",
       "      <td>Dinero tirado a la basura con esta compra</td>\n",
       "      <td>electronics</td>\n",
       "      <td>140</td>\n",
       "      <td>horribl compr sab ingl inform tic despu hor ca...</td>\n",
       "      <td>1</td>\n",
       "    </tr>\n",
       "    <tr>\n",
       "      <th>2</th>\n",
       "      <td>1</td>\n",
       "      <td>te obligan a comprar dos unidades y te llega s...</td>\n",
       "      <td>solo llega una unidad cuando te obligan a comp...</td>\n",
       "      <td>drugstore</td>\n",
       "      <td>117</td>\n",
       "      <td>oblig compr unidad lleg sol form reclam autent...</td>\n",
       "      <td>1</td>\n",
       "    </tr>\n",
       "    <tr>\n",
       "      <th>4</th>\n",
       "      <td>1</td>\n",
       "      <td>llega tarde y co la talla equivocada</td>\n",
       "      <td>Devuelto</td>\n",
       "      <td>shoes</td>\n",
       "      <td>36</td>\n",
       "      <td>lleg tard tall equivoc</td>\n",
       "      <td>1</td>\n",
       "    </tr>\n",
       "    <tr>\n",
       "      <th>5</th>\n",
       "      <td>1</td>\n",
       "      <td>jamás me llegó y el vendedor nunca contacto co...</td>\n",
       "      <td>Jamás me llegó</td>\n",
       "      <td>home</td>\n",
       "      <td>81</td>\n",
       "      <td>lleg vendedor nunc contact conmig pes intent vec</td>\n",
       "      <td>1</td>\n",
       "    </tr>\n",
       "  </tbody>\n",
       "</table>\n",
       "</div>"
      ],
      "text/plain": [
       "   stars                                               body  \\\n",
       "0      1  nada bueno se me fue ka pantalla en menos de  ...   \n",
       "1      1  horrible  nos tuvimos que comprar otro porque ...   \n",
       "2      1  te obligan a comprar dos unidades y te llega s...   \n",
       "4      1               llega tarde y co la talla equivocada   \n",
       "5      1  jamás me llegó y el vendedor nunca contacto co...   \n",
       "\n",
       "                                               title     category  length  \\\n",
       "0                                   television Nevir  electronics      94   \n",
       "1          Dinero tirado a la basura con esta compra  electronics     140   \n",
       "2  solo llega una unidad cuando te obligan a comp...    drugstore     117   \n",
       "4                                           Devuelto        shoes      36   \n",
       "5                                     Jamás me llegó         home      81   \n",
       "\n",
       "                                           body_stem  stars_opcion1  \n",
       "0         buen pantall men mes recib respuest fabric              1  \n",
       "1  horribl compr sab ingl inform tic despu hor ca...              1  \n",
       "2  oblig compr unidad lleg sol form reclam autent...              1  \n",
       "4                             lleg tard tall equivoc              1  \n",
       "5   lleg vendedor nunc contact conmig pes intent vec              1  "
      ]
     },
     "execution_count": 125,
     "metadata": {},
     "output_type": "execute_result"
    }
   ],
   "source": [
    "Amazon_train.head()"
   ]
  },
  {
   "cell_type": "markdown",
   "metadata": {},
   "source": [
    "Genero nueva columna 'Stars_opcion1' donde aplico las siguientes condicoines\n",
    "\n",
    "- Start=1 => 'Stars_opcion1' = 1\n",
    "- Start=5 => 'Stars_opcion1' = 5\n",
    "- Start= 2, 3 o 4 => 'Stars_opcion1' = 3\n"
   ]
  },
  {
   "cell_type": "code",
   "execution_count": 116,
   "metadata": {},
   "outputs": [
    {
     "data": {
      "text/html": [
       "<div>\n",
       "<style scoped>\n",
       "    .dataframe tbody tr th:only-of-type {\n",
       "        vertical-align: middle;\n",
       "    }\n",
       "\n",
       "    .dataframe tbody tr th {\n",
       "        vertical-align: top;\n",
       "    }\n",
       "\n",
       "    .dataframe thead th {\n",
       "        text-align: right;\n",
       "    }\n",
       "</style>\n",
       "<table border=\"1\" class=\"dataframe\">\n",
       "  <thead>\n",
       "    <tr style=\"text-align: right;\">\n",
       "      <th></th>\n",
       "      <th>stars</th>\n",
       "      <th>body</th>\n",
       "      <th>title</th>\n",
       "      <th>category</th>\n",
       "      <th>length</th>\n",
       "      <th>body_stem</th>\n",
       "      <th>stars_opcion1</th>\n",
       "    </tr>\n",
       "  </thead>\n",
       "  <tbody>\n",
       "    <tr>\n",
       "      <th>0</th>\n",
       "      <td>1</td>\n",
       "      <td>nada bueno se me fue ka pantalla en menos de  ...</td>\n",
       "      <td>television Nevir</td>\n",
       "      <td>electronics</td>\n",
       "      <td>94</td>\n",
       "      <td>buen pantall men mes recib respuest fabric</td>\n",
       "      <td>1</td>\n",
       "    </tr>\n",
       "  </tbody>\n",
       "</table>\n",
       "</div>"
      ],
      "text/plain": [
       "   stars                                               body             title  \\\n",
       "0      1  nada bueno se me fue ka pantalla en menos de  ...  television Nevir   \n",
       "\n",
       "      category  length                                   body_stem  \\\n",
       "0  electronics      94  buen pantall men mes recib respuest fabric   \n",
       "\n",
       "  stars_opcion1  \n",
       "0             1  "
      ]
     },
     "execution_count": 116,
     "metadata": {},
     "output_type": "execute_result"
    }
   ],
   "source": [
    "conditionlist = [\n",
    "    (Amazon_train['stars'] == 1) ,\n",
    "    (Amazon_train['stars'] == 5),\n",
    "    (Amazon_train['stars'] == 2) | (Amazon_train['stars'] == 3) | (Amazon_train['stars'] == 4)]\n",
    "choicelist = [1, 5, 3]\n",
    "Amazon_train['stars_opcion1'] = np.select(conditionlist, choicelist, default='Not Specified')\n",
    "\n",
    "Amazon_train.head(1)"
   ]
  },
  {
   "cell_type": "code",
   "execution_count": 119,
   "metadata": {},
   "outputs": [],
   "source": [
    "#pasamos el tipo de dato de 'stars_nueva' de objeto a númerico\n",
    "Amazon_train['stars_opcion1']=pd.to_numeric(Amazon_train['stars_opcion1'])"
   ]
  },
  {
   "cell_type": "code",
   "execution_count": 120,
   "metadata": {},
   "outputs": [
    {
     "data": {
      "text/plain": [
       "array([1, 3, 5], dtype=int64)"
      ]
     },
     "execution_count": 120,
     "metadata": {},
     "output_type": "execute_result"
    }
   ],
   "source": [
    "#verifico valores únicos\n",
    "Amazon_train['stars_opcion1'].unique()"
   ]
  },
  {
   "cell_type": "code",
   "execution_count": 121,
   "metadata": {},
   "outputs": [
    {
     "data": {
      "text/plain": [
       "stars             int64\n",
       "body             object\n",
       "title            object\n",
       "category         object\n",
       "length            int64\n",
       "body_stem        object\n",
       "stars_opcion1     int64\n",
       "dtype: object"
      ]
     },
     "execution_count": 121,
     "metadata": {},
     "output_type": "execute_result"
    }
   ],
   "source": [
    "#Verifico tipo de datos transformados\n",
    "Amazon_train.dtypes"
   ]
  },
  {
   "cell_type": "code",
   "execution_count": 123,
   "metadata": {},
   "outputs": [
    {
     "data": {
      "text/plain": [
       "3    88859\n",
       "5    31721\n",
       "1    29805\n",
       "Name: stars_opcion1, dtype: int64"
      ]
     },
     "execution_count": 123,
     "metadata": {},
     "output_type": "execute_result"
    }
   ],
   "source": [
    "# cantidad de valores en las 3 nuevas categorías d eestrellas definidas\n",
    "Amazon_train['stars_opcion1'].value_counts()"
   ]
  },
  {
   "cell_type": "code",
   "execution_count": 124,
   "metadata": {},
   "outputs": [
    {
     "data": {
      "text/html": [
       "<div>\n",
       "<style scoped>\n",
       "    .dataframe tbody tr th:only-of-type {\n",
       "        vertical-align: middle;\n",
       "    }\n",
       "\n",
       "    .dataframe tbody tr th {\n",
       "        vertical-align: top;\n",
       "    }\n",
       "\n",
       "    .dataframe thead th {\n",
       "        text-align: right;\n",
       "    }\n",
       "</style>\n",
       "<table border=\"1\" class=\"dataframe\">\n",
       "  <thead>\n",
       "    <tr style=\"text-align: right;\">\n",
       "      <th></th>\n",
       "      <th>stars</th>\n",
       "      <th>length</th>\n",
       "      <th>stars_opcion1</th>\n",
       "    </tr>\n",
       "  </thead>\n",
       "  <tbody>\n",
       "    <tr>\n",
       "      <th>count</th>\n",
       "      <td>150385.000000</td>\n",
       "      <td>150385.000000</td>\n",
       "      <td>150385.000000</td>\n",
       "    </tr>\n",
       "    <tr>\n",
       "      <th>mean</th>\n",
       "      <td>3.046148</td>\n",
       "      <td>95.657007</td>\n",
       "      <td>3.025481</td>\n",
       "    </tr>\n",
       "    <tr>\n",
       "      <th>std</th>\n",
       "      <td>1.423978</td>\n",
       "      <td>45.674835</td>\n",
       "      <td>1.279005</td>\n",
       "    </tr>\n",
       "    <tr>\n",
       "      <th>min</th>\n",
       "      <td>1.000000</td>\n",
       "      <td>16.000000</td>\n",
       "      <td>1.000000</td>\n",
       "    </tr>\n",
       "    <tr>\n",
       "      <th>25%</th>\n",
       "      <td>2.000000</td>\n",
       "      <td>55.000000</td>\n",
       "      <td>3.000000</td>\n",
       "    </tr>\n",
       "    <tr>\n",
       "      <th>50%</th>\n",
       "      <td>3.000000</td>\n",
       "      <td>98.000000</td>\n",
       "      <td>3.000000</td>\n",
       "    </tr>\n",
       "    <tr>\n",
       "      <th>75%</th>\n",
       "      <td>4.000000</td>\n",
       "      <td>131.000000</td>\n",
       "      <td>3.000000</td>\n",
       "    </tr>\n",
       "    <tr>\n",
       "      <th>max</th>\n",
       "      <td>5.000000</td>\n",
       "      <td>186.000000</td>\n",
       "      <td>5.000000</td>\n",
       "    </tr>\n",
       "  </tbody>\n",
       "</table>\n",
       "</div>"
      ],
      "text/plain": [
       "               stars         length  stars_opcion1\n",
       "count  150385.000000  150385.000000  150385.000000\n",
       "mean        3.046148      95.657007       3.025481\n",
       "std         1.423978      45.674835       1.279005\n",
       "min         1.000000      16.000000       1.000000\n",
       "25%         2.000000      55.000000       3.000000\n",
       "50%         3.000000      98.000000       3.000000\n",
       "75%         4.000000     131.000000       3.000000\n",
       "max         5.000000     186.000000       5.000000"
      ]
     },
     "execution_count": 124,
     "metadata": {},
     "output_type": "execute_result"
    }
   ],
   "source": [
    "Amazon_train.describe()"
   ]
  },
  {
   "cell_type": "markdown",
   "metadata": {},
   "source": [
    "#### MODELO - SVM - PRUEBA 3 - Opción 1 - Data set 183"
   ]
  },
  {
   "cell_type": "code",
   "execution_count": 187,
   "metadata": {},
   "outputs": [],
   "source": [
    "x_M3_Op1 = matriz_body.toarray() # esto nos tranforma el data set a una lista / arreglo\n",
    "y_M3_Op1 = Amazon_train['stars_opcion1']"
   ]
  },
  {
   "cell_type": "code",
   "execution_count": 188,
   "metadata": {},
   "outputs": [],
   "source": [
    "from sklearn.model_selection import train_test_split\n",
    "x_M3_Op1_train, x_M3_Op1_test, y_M3_Op1_train, y_M3_Op1_test = train_test_split(x_M3_Op1,y_M3_Op1,test_size=0.2,random_state=42,stratify=y_M3_Op1)\n",
    "\n",
    "from sklearn.metrics import confusion_matrix,accuracy_score, classification_report\n",
    "\n",
    "#Codgo para dar formato a la matriz\n",
    "def confusion(y_M3_Op1_test,y_M3_Op1_pred):\n",
    "    names=['1','3','5']\n",
    "    cm=confusion_matrix(y_M3_Op1_test,y_M3_Op1_pred)\n",
    "    f,ax=plt.subplots(figsize=(5,5))\n",
    "    sns.heatmap(cm,annot=True,linewidth=.5,linecolor=\"r\",fmt=\".0f\",ax=ax)\n",
    "    plt.xlabel(\"y_pred\")\n",
    "    plt.ylabel(\"y_true\")\n",
    "    ax.set_xticklabels(names)\n",
    "    ax.set_yticklabels(names)\n",
    "    plt.show()\n",
    "\n",
    "    return"
   ]
  },
  {
   "cell_type": "code",
   "execution_count": 189,
   "metadata": {},
   "outputs": [
    {
     "data": {
      "text/plain": [
       "LinearSVC(C=1)"
      ]
     },
     "execution_count": 189,
     "metadata": {},
     "output_type": "execute_result"
    }
   ],
   "source": [
    "from sklearn.svm import LinearSVC\n",
    "\n",
    "svc = LinearSVC(C = 1)\n",
    "svc.fit(x_M3_Op1_train,y_M3_Op1_train)"
   ]
  },
  {
   "cell_type": "code",
   "execution_count": 190,
   "metadata": {},
   "outputs": [],
   "source": [
    "y_M3_Op1_train_pred = svc.predict(x_M3_Op1_train)\n",
    "y_M3_Op1_test_pred = svc.predict(x_M3_Op1_test)"
   ]
  },
  {
   "cell_type": "code",
   "execution_count": 201,
   "metadata": {},
   "outputs": [
    {
     "name": "stdout",
     "output_type": "stream",
     "text": [
      "RESULTADOS TRAIN\n",
      "              precision    recall  f1-score   support\n",
      "\n",
      "           1       0.72      0.49      0.59     23844\n",
      "           3       0.70      0.87      0.78     71087\n",
      "           5       0.67      0.41      0.51     25377\n",
      "\n",
      "    accuracy                           0.70    120308\n",
      "   macro avg       0.70      0.59      0.63    120308\n",
      "weighted avg       0.70      0.70      0.68    120308\n",
      "\n"
     ]
    },
    {
     "data": {
      "image/png": "[encoded data removed]",
      "text/plain": [
       "<Figure size 360x360 with 2 Axes>"
      ]
     },
     "metadata": {},
     "output_type": "display_data"
    },
    {
     "name": "stdout",
     "output_type": "stream",
     "text": [
      "RESULTADOS TEST\n",
      "              precision    recall  f1-score   support\n",
      "\n",
      "           1       0.71      0.49      0.58      5961\n",
      "           3       0.70      0.86      0.77     17772\n",
      "           5       0.65      0.41      0.50      6344\n",
      "\n",
      "    accuracy                           0.69     30077\n",
      "   macro avg       0.69      0.59      0.62     30077\n",
      "weighted avg       0.69      0.69      0.68     30077\n",
      "\n"
     ]
    },
    {
     "data": {
      "image/png": "[encoded data removed]",
      "text/plain": [
       "<Figure size 360x360 with 2 Axes>"
      ]
     },
     "metadata": {},
     "output_type": "display_data"
    }
   ],
   "source": [
    "print('RESULTADOS TRAIN')\n",
    "print(classification_report(y_M3_Op1_train, y_M3_Op1_train_pred))\n",
    "confusion(y_M3_Op1_train, y_M3_Op1_train_pred)\n",
    "\n",
    "print('RESULTADOS TEST')\n",
    "print(classification_report(y_M3_Op1_test, y_M3_Op1_test_pred))\n",
    "confusion(y_M3_Op1_test, y_M3_Op1_test_pred)"
   ]
  },
  {
   "cell_type": "markdown",
   "metadata": {},
   "source": [
    "#### PRUEBA 3 - Opción 2: Data set 183"
   ]
  },
  {
   "cell_type": "markdown",
   "metadata": {},
   "source": [
    "#### Armado del set"
   ]
  },
  {
   "cell_type": "code",
   "execution_count": 152,
   "metadata": {},
   "outputs": [
    {
     "data": {
      "text/html": [
       "<div>\n",
       "<style scoped>\n",
       "    .dataframe tbody tr th:only-of-type {\n",
       "        vertical-align: middle;\n",
       "    }\n",
       "\n",
       "    .dataframe tbody tr th {\n",
       "        vertical-align: top;\n",
       "    }\n",
       "\n",
       "    .dataframe thead th {\n",
       "        text-align: right;\n",
       "    }\n",
       "</style>\n",
       "<table border=\"1\" class=\"dataframe\">\n",
       "  <thead>\n",
       "    <tr style=\"text-align: right;\">\n",
       "      <th></th>\n",
       "      <th>stars</th>\n",
       "      <th>body</th>\n",
       "      <th>title</th>\n",
       "      <th>category</th>\n",
       "      <th>length</th>\n",
       "      <th>body_stem</th>\n",
       "      <th>stars_opcion1</th>\n",
       "    </tr>\n",
       "  </thead>\n",
       "  <tbody>\n",
       "    <tr>\n",
       "      <th>0</th>\n",
       "      <td>1</td>\n",
       "      <td>nada bueno se me fue ka pantalla en menos de  ...</td>\n",
       "      <td>television Nevir</td>\n",
       "      <td>electronics</td>\n",
       "      <td>94</td>\n",
       "      <td>buen pantall men mes recib respuest fabric</td>\n",
       "      <td>1</td>\n",
       "    </tr>\n",
       "    <tr>\n",
       "      <th>1</th>\n",
       "      <td>1</td>\n",
       "      <td>horrible  nos tuvimos que comprar otro porque ...</td>\n",
       "      <td>Dinero tirado a la basura con esta compra</td>\n",
       "      <td>electronics</td>\n",
       "      <td>140</td>\n",
       "      <td>horribl compr sab ingl inform tic despu hor ca...</td>\n",
       "      <td>1</td>\n",
       "    </tr>\n",
       "    <tr>\n",
       "      <th>2</th>\n",
       "      <td>1</td>\n",
       "      <td>te obligan a comprar dos unidades y te llega s...</td>\n",
       "      <td>solo llega una unidad cuando te obligan a comp...</td>\n",
       "      <td>drugstore</td>\n",
       "      <td>117</td>\n",
       "      <td>oblig compr unidad lleg sol form reclam autent...</td>\n",
       "      <td>1</td>\n",
       "    </tr>\n",
       "    <tr>\n",
       "      <th>4</th>\n",
       "      <td>1</td>\n",
       "      <td>llega tarde y co la talla equivocada</td>\n",
       "      <td>Devuelto</td>\n",
       "      <td>shoes</td>\n",
       "      <td>36</td>\n",
       "      <td>lleg tard tall equivoc</td>\n",
       "      <td>1</td>\n",
       "    </tr>\n",
       "    <tr>\n",
       "      <th>5</th>\n",
       "      <td>1</td>\n",
       "      <td>jamás me llegó y el vendedor nunca contacto co...</td>\n",
       "      <td>Jamás me llegó</td>\n",
       "      <td>home</td>\n",
       "      <td>81</td>\n",
       "      <td>lleg vendedor nunc contact conmig pes intent vec</td>\n",
       "      <td>1</td>\n",
       "    </tr>\n",
       "  </tbody>\n",
       "</table>\n",
       "</div>"
      ],
      "text/plain": [
       "   stars                                               body  \\\n",
       "0      1  nada bueno se me fue ka pantalla en menos de  ...   \n",
       "1      1  horrible  nos tuvimos que comprar otro porque ...   \n",
       "2      1  te obligan a comprar dos unidades y te llega s...   \n",
       "4      1               llega tarde y co la talla equivocada   \n",
       "5      1  jamás me llegó y el vendedor nunca contacto co...   \n",
       "\n",
       "                                               title     category  length  \\\n",
       "0                                   television Nevir  electronics      94   \n",
       "1          Dinero tirado a la basura con esta compra  electronics     140   \n",
       "2  solo llega una unidad cuando te obligan a comp...    drugstore     117   \n",
       "4                                           Devuelto        shoes      36   \n",
       "5                                     Jamás me llegó         home      81   \n",
       "\n",
       "                                           body_stem  stars_opcion1  \n",
       "0         buen pantall men mes recib respuest fabric              1  \n",
       "1  horribl compr sab ingl inform tic despu hor ca...              1  \n",
       "2  oblig compr unidad lleg sol form reclam autent...              1  \n",
       "4                             lleg tard tall equivoc              1  \n",
       "5   lleg vendedor nunc contact conmig pes intent vec              1  "
      ]
     },
     "execution_count": 152,
     "metadata": {},
     "output_type": "execute_result"
    }
   ],
   "source": [
    "Amazon_train.head()"
   ]
  },
  {
   "cell_type": "markdown",
   "metadata": {},
   "source": [
    "Genero nueva columna 'Stars_opcion2' donde aplico las siguientes condicoines\n",
    "\n",
    "- Start=1 y 2 => 'Stars_opcion2' = 1\n",
    "- Start=3 => 'Stars_opcion2' = 3\n",
    "- Start= 4 y 5 => 'Stars_opcion2' = 5"
   ]
  },
  {
   "cell_type": "code",
   "execution_count": 159,
   "metadata": {},
   "outputs": [
    {
     "data": {
      "text/html": [
       "<div>\n",
       "<style scoped>\n",
       "    .dataframe tbody tr th:only-of-type {\n",
       "        vertical-align: middle;\n",
       "    }\n",
       "\n",
       "    .dataframe tbody tr th {\n",
       "        vertical-align: top;\n",
       "    }\n",
       "\n",
       "    .dataframe thead th {\n",
       "        text-align: right;\n",
       "    }\n",
       "</style>\n",
       "<table border=\"1\" class=\"dataframe\">\n",
       "  <thead>\n",
       "    <tr style=\"text-align: right;\">\n",
       "      <th></th>\n",
       "      <th>stars</th>\n",
       "      <th>body</th>\n",
       "      <th>title</th>\n",
       "      <th>category</th>\n",
       "      <th>length</th>\n",
       "      <th>body_stem</th>\n",
       "      <th>stars_opcion1</th>\n",
       "      <th>stars_opcion2</th>\n",
       "    </tr>\n",
       "  </thead>\n",
       "  <tbody>\n",
       "    <tr>\n",
       "      <th>0</th>\n",
       "      <td>1</td>\n",
       "      <td>nada bueno se me fue ka pantalla en menos de  ...</td>\n",
       "      <td>television Nevir</td>\n",
       "      <td>electronics</td>\n",
       "      <td>94</td>\n",
       "      <td>buen pantall men mes recib respuest fabric</td>\n",
       "      <td>1</td>\n",
       "      <td>1</td>\n",
       "    </tr>\n",
       "  </tbody>\n",
       "</table>\n",
       "</div>"
      ],
      "text/plain": [
       "   stars                                               body             title  \\\n",
       "0      1  nada bueno se me fue ka pantalla en menos de  ...  television Nevir   \n",
       "\n",
       "      category  length                                   body_stem  \\\n",
       "0  electronics      94  buen pantall men mes recib respuest fabric   \n",
       "\n",
       "   stars_opcion1 stars_opcion2  \n",
       "0              1             1  "
      ]
     },
     "execution_count": 159,
     "metadata": {},
     "output_type": "execute_result"
    }
   ],
   "source": [
    "conditionlist = [\n",
    "    (Amazon_train['stars'] == 1) | (Amazon_train['stars'] == 2) ,\n",
    "    (Amazon_train['stars'] == 3),\n",
    "    (Amazon_train['stars'] == 4) | (Amazon_train['stars'] == 5)]\n",
    "choicelist = [1, 3, 5]\n",
    "Amazon_train['stars_opcion2'] = np.select(conditionlist, choicelist, default='Not Specified')\n",
    "\n",
    "Amazon_train.head(1)"
   ]
  },
  {
   "cell_type": "code",
   "execution_count": 181,
   "metadata": {},
   "outputs": [
    {
     "data": {
      "text/html": [
       "<div>\n",
       "<style scoped>\n",
       "    .dataframe tbody tr th:only-of-type {\n",
       "        vertical-align: middle;\n",
       "    }\n",
       "\n",
       "    .dataframe tbody tr th {\n",
       "        vertical-align: top;\n",
       "    }\n",
       "\n",
       "    .dataframe thead th {\n",
       "        text-align: right;\n",
       "    }\n",
       "</style>\n",
       "<table border=\"1\" class=\"dataframe\">\n",
       "  <thead>\n",
       "    <tr style=\"text-align: right;\">\n",
       "      <th></th>\n",
       "      <th>stars</th>\n",
       "      <th>body</th>\n",
       "      <th>title</th>\n",
       "      <th>category</th>\n",
       "      <th>length</th>\n",
       "      <th>body_stem</th>\n",
       "      <th>stars_opcion1</th>\n",
       "      <th>stars_opcion2</th>\n",
       "    </tr>\n",
       "  </thead>\n",
       "  <tbody>\n",
       "    <tr>\n",
       "      <th>120000</th>\n",
       "      <td>4</td>\n",
       "      <td>tiene buena pinta  veremos el resultado</td>\n",
       "      <td>Calidad</td>\n",
       "      <td>sports</td>\n",
       "      <td>39</td>\n",
       "      <td>buen pint ver result</td>\n",
       "      <td>3</td>\n",
       "      <td>5</td>\n",
       "    </tr>\n",
       "    <tr>\n",
       "      <th>120001</th>\n",
       "      <td>4</td>\n",
       "      <td>entrega rápida como siempre pero falta factura</td>\n",
       "      <td>Falta factura</td>\n",
       "      <td>wireless</td>\n",
       "      <td>46</td>\n",
       "      <td>entreg pid siempr falt factur</td>\n",
       "      <td>3</td>\n",
       "      <td>5</td>\n",
       "    </tr>\n",
       "    <tr>\n",
       "      <th>120002</th>\n",
       "      <td>4</td>\n",
       "      <td>está bien y envío rápido</td>\n",
       "      <td>Bueno</td>\n",
       "      <td>pc</td>\n",
       "      <td>24</td>\n",
       "      <td>bien pid</td>\n",
       "      <td>3</td>\n",
       "      <td>5</td>\n",
       "    </tr>\n",
       "    <tr>\n",
       "      <th>120003</th>\n",
       "      <td>4</td>\n",
       "      <td>queda muy bien  material duradero y tamaño per...</td>\n",
       "      <td>Material duradero</td>\n",
       "      <td>home</td>\n",
       "      <td>51</td>\n",
       "      <td>qued bien material durader tam perfect</td>\n",
       "      <td>3</td>\n",
       "      <td>5</td>\n",
       "    </tr>\n",
       "    <tr>\n",
       "      <th>120004</th>\n",
       "      <td>4</td>\n",
       "      <td>genial aunque huele mucho a pegamento</td>\n",
       "      <td>Buena</td>\n",
       "      <td>personal_care_appliances</td>\n",
       "      <td>37</td>\n",
       "      <td>genial aunqu huel pegament</td>\n",
       "      <td>3</td>\n",
       "      <td>5</td>\n",
       "    </tr>\n",
       "  </tbody>\n",
       "</table>\n",
       "</div>"
      ],
      "text/plain": [
       "        stars                                               body  \\\n",
       "120000      4            tiene buena pinta  veremos el resultado   \n",
       "120001      4     entrega rápida como siempre pero falta factura   \n",
       "120002      4                           está bien y envío rápido   \n",
       "120003      4  queda muy bien  material duradero y tamaño per...   \n",
       "120004      4              genial aunque huele mucho a pegamento   \n",
       "\n",
       "                    title                  category  length  \\\n",
       "120000            Calidad                    sports      39   \n",
       "120001      Falta factura                  wireless      46   \n",
       "120002              Bueno                        pc      24   \n",
       "120003  Material duradero                      home      51   \n",
       "120004              Buena  personal_care_appliances      37   \n",
       "\n",
       "                                     body_stem  stars_opcion1  stars_opcion2  \n",
       "120000                    buen pint ver result              3              5  \n",
       "120001           entreg pid siempr falt factur              3              5  \n",
       "120002                                bien pid              3              5  \n",
       "120003  qued bien material durader tam perfect              3              5  \n",
       "120004              genial aunqu huel pegament              3              5  "
      ]
     },
     "execution_count": 181,
     "metadata": {},
     "output_type": "execute_result"
    }
   ],
   "source": [
    "# verifico algunos casos de que el conditionalist funciona ok. \n",
    "Amazon_train[Amazon_train.stars==4].head()"
   ]
  },
  {
   "cell_type": "code",
   "execution_count": 182,
   "metadata": {},
   "outputs": [],
   "source": [
    "#pasamos el tipo de dato de 'stars_nueva' de objeto a númerico\n",
    "Amazon_train['stars_opcion2']=pd.to_numeric(Amazon_train['stars_opcion2'])"
   ]
  },
  {
   "cell_type": "code",
   "execution_count": 183,
   "metadata": {},
   "outputs": [
    {
     "data": {
      "text/plain": [
       "array([1, 3, 5], dtype=int64)"
      ]
     },
     "execution_count": 183,
     "metadata": {},
     "output_type": "execute_result"
    }
   ],
   "source": [
    "#verifico valores únicos\n",
    "Amazon_train['stars_opcion2'].unique()"
   ]
  },
  {
   "cell_type": "code",
   "execution_count": 184,
   "metadata": {},
   "outputs": [
    {
     "data": {
      "text/plain": [
       "stars             int64\n",
       "body             object\n",
       "title            object\n",
       "category         object\n",
       "length            int64\n",
       "body_stem        object\n",
       "stars_opcion1     int64\n",
       "stars_opcion2     int64\n",
       "dtype: object"
      ]
     },
     "execution_count": 184,
     "metadata": {},
     "output_type": "execute_result"
    }
   ],
   "source": [
    "#Verifico tipo de datos transformados\n",
    "Amazon_train.dtypes"
   ]
  },
  {
   "cell_type": "code",
   "execution_count": 185,
   "metadata": {},
   "outputs": [
    {
     "data": {
      "text/plain": [
       "5    62851\n",
       "1    57827\n",
       "3    29707\n",
       "Name: stars_opcion2, dtype: int64"
      ]
     },
     "execution_count": 185,
     "metadata": {},
     "output_type": "execute_result"
    }
   ],
   "source": [
    "# cantidad de valores en las 3 nuevas categorías d eestrellas definidas\n",
    "Amazon_train['stars_opcion2'].value_counts()"
   ]
  },
  {
   "cell_type": "code",
   "execution_count": 186,
   "metadata": {},
   "outputs": [
    {
     "data": {
      "text/html": [
       "<div>\n",
       "<style scoped>\n",
       "    .dataframe tbody tr th:only-of-type {\n",
       "        vertical-align: middle;\n",
       "    }\n",
       "\n",
       "    .dataframe tbody tr th {\n",
       "        vertical-align: top;\n",
       "    }\n",
       "\n",
       "    .dataframe thead th {\n",
       "        text-align: right;\n",
       "    }\n",
       "</style>\n",
       "<table border=\"1\" class=\"dataframe\">\n",
       "  <thead>\n",
       "    <tr style=\"text-align: right;\">\n",
       "      <th></th>\n",
       "      <th>stars</th>\n",
       "      <th>length</th>\n",
       "      <th>stars_opcion1</th>\n",
       "      <th>stars_opcion2</th>\n",
       "    </tr>\n",
       "  </thead>\n",
       "  <tbody>\n",
       "    <tr>\n",
       "      <th>count</th>\n",
       "      <td>150385.000000</td>\n",
       "      <td>150385.000000</td>\n",
       "      <td>150385.000000</td>\n",
       "      <td>150385.000000</td>\n",
       "    </tr>\n",
       "    <tr>\n",
       "      <th>mean</th>\n",
       "      <td>3.046148</td>\n",
       "      <td>95.657007</td>\n",
       "      <td>3.025481</td>\n",
       "      <td>3.066815</td>\n",
       "    </tr>\n",
       "    <tr>\n",
       "      <th>std</th>\n",
       "      <td>1.423978</td>\n",
       "      <td>45.674835</td>\n",
       "      <td>1.279005</td>\n",
       "      <td>1.790363</td>\n",
       "    </tr>\n",
       "    <tr>\n",
       "      <th>min</th>\n",
       "      <td>1.000000</td>\n",
       "      <td>16.000000</td>\n",
       "      <td>1.000000</td>\n",
       "      <td>1.000000</td>\n",
       "    </tr>\n",
       "    <tr>\n",
       "      <th>25%</th>\n",
       "      <td>2.000000</td>\n",
       "      <td>55.000000</td>\n",
       "      <td>3.000000</td>\n",
       "      <td>1.000000</td>\n",
       "    </tr>\n",
       "    <tr>\n",
       "      <th>50%</th>\n",
       "      <td>3.000000</td>\n",
       "      <td>98.000000</td>\n",
       "      <td>3.000000</td>\n",
       "      <td>3.000000</td>\n",
       "    </tr>\n",
       "    <tr>\n",
       "      <th>75%</th>\n",
       "      <td>4.000000</td>\n",
       "      <td>131.000000</td>\n",
       "      <td>3.000000</td>\n",
       "      <td>5.000000</td>\n",
       "    </tr>\n",
       "    <tr>\n",
       "      <th>max</th>\n",
       "      <td>5.000000</td>\n",
       "      <td>186.000000</td>\n",
       "      <td>5.000000</td>\n",
       "      <td>5.000000</td>\n",
       "    </tr>\n",
       "  </tbody>\n",
       "</table>\n",
       "</div>"
      ],
      "text/plain": [
       "               stars         length  stars_opcion1  stars_opcion2\n",
       "count  150385.000000  150385.000000  150385.000000  150385.000000\n",
       "mean        3.046148      95.657007       3.025481       3.066815\n",
       "std         1.423978      45.674835       1.279005       1.790363\n",
       "min         1.000000      16.000000       1.000000       1.000000\n",
       "25%         2.000000      55.000000       3.000000       1.000000\n",
       "50%         3.000000      98.000000       3.000000       3.000000\n",
       "75%         4.000000     131.000000       3.000000       5.000000\n",
       "max         5.000000     186.000000       5.000000       5.000000"
      ]
     },
     "execution_count": 186,
     "metadata": {},
     "output_type": "execute_result"
    }
   ],
   "source": [
    "Amazon_train.describe()"
   ]
  },
  {
   "cell_type": "markdown",
   "metadata": {},
   "source": [
    "#### MODELO - SVM - PRUEBA 3 - Opción 2 - Data set 183"
   ]
  },
  {
   "cell_type": "code",
   "execution_count": 193,
   "metadata": {},
   "outputs": [],
   "source": [
    "x_M3_Op2 = matriz_body.toarray() # esto nos tranforma el data set a una lista / arreglo\n",
    "y_M3_Op2 = Amazon_train['stars_opcion2']"
   ]
  },
  {
   "cell_type": "code",
   "execution_count": 194,
   "metadata": {},
   "outputs": [],
   "source": [
    "from sklearn.model_selection import train_test_split\n",
    "x_M3_Op2_train, x_M3_Op2_test, y_M3_Op2_train, y_M3_Op2_test = train_test_split(x_M3_Op2,y_M3_Op2,test_size=0.2,random_state=42,stratify=y_M3_Op2)\n",
    "\n",
    "from sklearn.metrics import confusion_matrix,accuracy_score, classification_report\n",
    "\n",
    "#Codgo para dar formato a la matriz\n",
    "def confusion(y_M3_Op2_test,y_M3_Op2_pred):\n",
    "    names=['1','3','5']\n",
    "    cm=confusion_matrix(y_M3_Op2_test,y_M3_Op2_pred)\n",
    "    f,ax=plt.subplots(figsize=(5,5))\n",
    "    sns.heatmap(cm,annot=True,linewidth=.5,linecolor=\"r\",fmt=\".0f\",ax=ax)\n",
    "    plt.xlabel(\"y_pred\")\n",
    "    plt.ylabel(\"y_true\")\n",
    "    ax.set_xticklabels(names)\n",
    "    ax.set_yticklabels(names)\n",
    "    plt.show()\n",
    "\n",
    "    return"
   ]
  },
  {
   "cell_type": "code",
   "execution_count": 197,
   "metadata": {},
   "outputs": [
    {
     "data": {
      "text/plain": [
       "LinearSVC(C=1)"
      ]
     },
     "execution_count": 197,
     "metadata": {},
     "output_type": "execute_result"
    }
   ],
   "source": [
    "from sklearn.svm import LinearSVC\n",
    "\n",
    "svc = LinearSVC(C = 1)\n",
    "svc.fit(x_M3_Op2_train,y_M3_Op2_train)"
   ]
  },
  {
   "cell_type": "code",
   "execution_count": 198,
   "metadata": {},
   "outputs": [],
   "source": [
    "y_M3_Op2_train_pred = svc.predict(x_M3_Op2_train)\n",
    "y_M3_Op2_test_pred = svc.predict(x_M3_Op2_test)"
   ]
  },
  {
   "cell_type": "code",
   "execution_count": 200,
   "metadata": {},
   "outputs": [
    {
     "name": "stdout",
     "output_type": "stream",
     "text": [
      "RESULTADOS TRAIN\n",
      "              precision    recall  f1-score   support\n",
      "\n",
      "           1       0.68      0.84      0.75     46261\n",
      "           3       0.47      0.09      0.15     23766\n",
      "           5       0.72      0.84      0.77     50281\n",
      "\n",
      "    accuracy                           0.69    120308\n",
      "   macro avg       0.62      0.59      0.56    120308\n",
      "weighted avg       0.65      0.69      0.64    120308\n",
      "\n"
     ]
    },
    {
     "data": {
      "image/png": "[encoded data removed]",
      "text/plain": [
       "<Figure size 360x360 with 2 Axes>"
      ]
     },
     "metadata": {},
     "output_type": "display_data"
    },
    {
     "name": "stdout",
     "output_type": "stream",
     "text": [
      "RESULTADOS TEST\n",
      "              precision    recall  f1-score   support\n",
      "\n",
      "           1       0.68      0.84      0.75     11566\n",
      "           3       0.45      0.08      0.14      5941\n",
      "           5       0.71      0.84      0.77     12570\n",
      "\n",
      "    accuracy                           0.69     30077\n",
      "   macro avg       0.61      0.58      0.55     30077\n",
      "weighted avg       0.65      0.69      0.64     30077\n",
      "\n"
     ]
    },
    {
     "data": {
      "image/png": "[encoded data removed]",
      "text/plain": [
       "<Figure size 360x360 with 2 Axes>"
      ]
     },
     "metadata": {},
     "output_type": "display_data"
    }
   ],
   "source": [
    "print('RESULTADOS TRAIN')\n",
    "print(classification_report(y_M3_Op2_train, y_M3_Op2_train_pred))\n",
    "confusion(y_M3_Op2_train, y_M3_Op2_train_pred)\n",
    "\n",
    "print('RESULTADOS TEST')\n",
    "print(classification_report(y_M3_Op2_test, y_M3_Op2_test_pred))\n",
    "confusion(y_M3_Op2_test, y_M3_Op2_test_pred)"
   ]
  },
  {
   "cell_type": "markdown",
   "metadata": {},
   "source": [
    "## RESULTADOS PRUEBA 3"
   ]
  },
  {
   "cell_type": "markdown",
   "metadata": {},
   "source": [
    "#### TRAIN"
   ]
  },
  {
   "cell_type": "code",
   "execution_count": 370,
   "metadata": {},
   "outputs": [
    {
     "data": {
      "text/html": [
       "<div>\n",
       "<style scoped>\n",
       "    .dataframe tbody tr th:only-of-type {\n",
       "        vertical-align: middle;\n",
       "    }\n",
       "\n",
       "    .dataframe tbody tr th {\n",
       "        vertical-align: top;\n",
       "    }\n",
       "\n",
       "    .dataframe thead th {\n",
       "        text-align: right;\n",
       "    }\n",
       "</style>\n",
       "<table border=\"1\" class=\"dataframe\">\n",
       "  <thead>\n",
       "    <tr style=\"text-align: right;\">\n",
       "      <th></th>\n",
       "      <th># Modelo</th>\n",
       "      <th># Prueba</th>\n",
       "      <th>ID_Modelo</th>\n",
       "      <th>Accuracy</th>\n",
       "      <th>Prec_1</th>\n",
       "      <th>Prec_3</th>\n",
       "      <th>Prec_5</th>\n",
       "      <th>rec_1</th>\n",
       "      <th>rec_3</th>\n",
       "      <th>rec_5</th>\n",
       "      <th>F1_1</th>\n",
       "      <th>F1_3</th>\n",
       "      <th>F1_5</th>\n",
       "      <th>Observaciones</th>\n",
       "    </tr>\n",
       "  </thead>\n",
       "  <tbody>\n",
       "    <tr>\n",
       "      <th>0</th>\n",
       "      <td>M8</td>\n",
       "      <td>Prueba_3</td>\n",
       "      <td>M_SVM_OP_1_reclasif_183</td>\n",
       "      <td>0.7</td>\n",
       "      <td>0.72</td>\n",
       "      <td>0.7</td>\n",
       "      <td>0.67</td>\n",
       "      <td>0.49</td>\n",
       "      <td>0.87</td>\n",
       "      <td>0.41</td>\n",
       "      <td>0.59</td>\n",
       "      <td>0.78</td>\n",
       "      <td>0.51</td>\n",
       "      <td>Se observa mejoras en la estimación de valores...</td>\n",
       "    </tr>\n",
       "  </tbody>\n",
       "</table>\n",
       "</div>"
      ],
      "text/plain": [
       "  # Modelo  # Prueba                ID_Modelo  Accuracy  Prec_1  Prec_3  \\\n",
       "0       M8  Prueba_3  M_SVM_OP_1_reclasif_183       0.7    0.72     0.7   \n",
       "\n",
       "   Prec_5  rec_1  rec_3  rec_5  F1_1  F1_3  F1_5  \\\n",
       "0    0.67   0.49   0.87   0.41  0.59  0.78  0.51   \n",
       "\n",
       "                                       Observaciones  \n",
       "0  Se observa mejoras en la estimación de valores...  "
      ]
     },
     "execution_count": 370,
     "metadata": {},
     "output_type": "execute_result"
    }
   ],
   "source": [
    "resultados_P3_train_Op1 = pd.read_excel('Resultados_P3.xlsx', sheet_name='TRAIN_OP_1')\n",
    "resultados_P3_train_Op1"
   ]
  },
  {
   "cell_type": "code",
   "execution_count": 371,
   "metadata": {},
   "outputs": [
    {
     "data": {
      "text/html": [
       "<div>\n",
       "<style scoped>\n",
       "    .dataframe tbody tr th:only-of-type {\n",
       "        vertical-align: middle;\n",
       "    }\n",
       "\n",
       "    .dataframe tbody tr th {\n",
       "        vertical-align: top;\n",
       "    }\n",
       "\n",
       "    .dataframe thead th {\n",
       "        text-align: right;\n",
       "    }\n",
       "</style>\n",
       "<table border=\"1\" class=\"dataframe\">\n",
       "  <thead>\n",
       "    <tr style=\"text-align: right;\">\n",
       "      <th></th>\n",
       "      <th># Modelo</th>\n",
       "      <th># Prueba</th>\n",
       "      <th>ID_Modelo</th>\n",
       "      <th>Accuracy</th>\n",
       "      <th>Prec_1</th>\n",
       "      <th>Prec_3</th>\n",
       "      <th>Prec_5</th>\n",
       "      <th>rec_1</th>\n",
       "      <th>rec_3</th>\n",
       "      <th>rec_5</th>\n",
       "      <th>F1_1</th>\n",
       "      <th>F1_3</th>\n",
       "      <th>F1_5</th>\n",
       "      <th>Observaciones</th>\n",
       "    </tr>\n",
       "  </thead>\n",
       "  <tbody>\n",
       "    <tr>\n",
       "      <th>0</th>\n",
       "      <td>M9</td>\n",
       "      <td>Prueba_3</td>\n",
       "      <td>M_SVM_OP_2_reclasif_183</td>\n",
       "      <td>0.69</td>\n",
       "      <td>0.68</td>\n",
       "      <td>0.47</td>\n",
       "      <td>0.72</td>\n",
       "      <td>0.84</td>\n",
       "      <td>0.09</td>\n",
       "      <td>0.84</td>\n",
       "      <td>0.75</td>\n",
       "      <td>0.15</td>\n",
       "      <td>0.77</td>\n",
       "      <td>Se observan resultado no satisfactorios en la ...</td>\n",
       "    </tr>\n",
       "  </tbody>\n",
       "</table>\n",
       "</div>"
      ],
      "text/plain": [
       "  # Modelo  # Prueba                ID_Modelo  Accuracy  Prec_1  Prec_3  \\\n",
       "0       M9  Prueba_3  M_SVM_OP_2_reclasif_183      0.69    0.68    0.47   \n",
       "\n",
       "   Prec_5  rec_1  rec_3  rec_5  F1_1  F1_3  F1_5  \\\n",
       "0    0.72   0.84   0.09   0.84  0.75  0.15  0.77   \n",
       "\n",
       "                                       Observaciones  \n",
       "0  Se observan resultado no satisfactorios en la ...  "
      ]
     },
     "execution_count": 371,
     "metadata": {},
     "output_type": "execute_result"
    }
   ],
   "source": [
    "resultados_P3_train_Op2 = pd.read_excel('Resultados_P3.xlsx', sheet_name='TRAIN_OP_2')\n",
    "resultados_P3_train_Op2"
   ]
  },
  {
   "cell_type": "markdown",
   "metadata": {},
   "source": [
    "#### TEST"
   ]
  },
  {
   "cell_type": "code",
   "execution_count": 372,
   "metadata": {},
   "outputs": [
    {
     "data": {
      "text/html": [
       "<div>\n",
       "<style scoped>\n",
       "    .dataframe tbody tr th:only-of-type {\n",
       "        vertical-align: middle;\n",
       "    }\n",
       "\n",
       "    .dataframe tbody tr th {\n",
       "        vertical-align: top;\n",
       "    }\n",
       "\n",
       "    .dataframe thead th {\n",
       "        text-align: right;\n",
       "    }\n",
       "</style>\n",
       "<table border=\"1\" class=\"dataframe\">\n",
       "  <thead>\n",
       "    <tr style=\"text-align: right;\">\n",
       "      <th></th>\n",
       "      <th># Modelo</th>\n",
       "      <th># Prueba</th>\n",
       "      <th>ID_Modelo</th>\n",
       "      <th>Accuracy</th>\n",
       "      <th>Prec_1</th>\n",
       "      <th>Prec_3</th>\n",
       "      <th>Prec_5</th>\n",
       "      <th>rec_1</th>\n",
       "      <th>rec_3</th>\n",
       "      <th>rec_5</th>\n",
       "      <th>F1_1</th>\n",
       "      <th>F1_3</th>\n",
       "      <th>F1_5</th>\n",
       "      <th>Observaciones</th>\n",
       "    </tr>\n",
       "  </thead>\n",
       "  <tbody>\n",
       "    <tr>\n",
       "      <th>0</th>\n",
       "      <td>M8</td>\n",
       "      <td>Prueba_3</td>\n",
       "      <td>M_SVM_OP_1_reclasif_183</td>\n",
       "      <td>0.69</td>\n",
       "      <td>0.71</td>\n",
       "      <td>0.7</td>\n",
       "      <td>0.65</td>\n",
       "      <td>0.49</td>\n",
       "      <td>0.86</td>\n",
       "      <td>0.41</td>\n",
       "      <td>0.58</td>\n",
       "      <td>0.77</td>\n",
       "      <td>0.5</td>\n",
       "      <td>Se observa mejoras en la estimación de valores...</td>\n",
       "    </tr>\n",
       "  </tbody>\n",
       "</table>\n",
       "</div>"
      ],
      "text/plain": [
       "  # Modelo  # Prueba                ID_Modelo  Accuracy  Prec_1  Prec_3  \\\n",
       "0       M8  Prueba_3  M_SVM_OP_1_reclasif_183      0.69    0.71     0.7   \n",
       "\n",
       "   Prec_5  rec_1  rec_3  rec_5  F1_1  F1_3  F1_5  \\\n",
       "0    0.65   0.49   0.86   0.41  0.58  0.77   0.5   \n",
       "\n",
       "                                       Observaciones  \n",
       "0  Se observa mejoras en la estimación de valores...  "
      ]
     },
     "execution_count": 372,
     "metadata": {},
     "output_type": "execute_result"
    }
   ],
   "source": [
    "resultados_P3_TEST_Op1 = pd.read_excel('Resultados_P3.xlsx', sheet_name='TEST_OP_1')\n",
    "resultados_P3_TEST_Op1"
   ]
  },
  {
   "cell_type": "code",
   "execution_count": 373,
   "metadata": {},
   "outputs": [
    {
     "data": {
      "text/html": [
       "<div>\n",
       "<style scoped>\n",
       "    .dataframe tbody tr th:only-of-type {\n",
       "        vertical-align: middle;\n",
       "    }\n",
       "\n",
       "    .dataframe tbody tr th {\n",
       "        vertical-align: top;\n",
       "    }\n",
       "\n",
       "    .dataframe thead th {\n",
       "        text-align: right;\n",
       "    }\n",
       "</style>\n",
       "<table border=\"1\" class=\"dataframe\">\n",
       "  <thead>\n",
       "    <tr style=\"text-align: right;\">\n",
       "      <th></th>\n",
       "      <th># Modelo</th>\n",
       "      <th># Prueba</th>\n",
       "      <th>ID_Modelo</th>\n",
       "      <th>Accuracy</th>\n",
       "      <th>Prec_1</th>\n",
       "      <th>Prec_3</th>\n",
       "      <th>Prec_5</th>\n",
       "      <th>rec_1</th>\n",
       "      <th>rec_3</th>\n",
       "      <th>rec_5</th>\n",
       "      <th>F1_1</th>\n",
       "      <th>F1_3</th>\n",
       "      <th>F1_5</th>\n",
       "      <th>Observaciones</th>\n",
       "    </tr>\n",
       "  </thead>\n",
       "  <tbody>\n",
       "    <tr>\n",
       "      <th>0</th>\n",
       "      <td>M9</td>\n",
       "      <td>Prueba_3</td>\n",
       "      <td>M_SVM_OP_2_reclasif_183</td>\n",
       "      <td>0.69</td>\n",
       "      <td>0.68</td>\n",
       "      <td>0.45</td>\n",
       "      <td>0.71</td>\n",
       "      <td>0.84</td>\n",
       "      <td>0.08</td>\n",
       "      <td>0.84</td>\n",
       "      <td>0.75</td>\n",
       "      <td>0.14</td>\n",
       "      <td>0.77</td>\n",
       "      <td>Se observan resultado no satisfactorios en la ...</td>\n",
       "    </tr>\n",
       "  </tbody>\n",
       "</table>\n",
       "</div>"
      ],
      "text/plain": [
       "  # Modelo  # Prueba                ID_Modelo  Accuracy  Prec_1  Prec_3  \\\n",
       "0       M9  Prueba_3  M_SVM_OP_2_reclasif_183      0.69    0.68    0.45   \n",
       "\n",
       "   Prec_5  rec_1  rec_3  rec_5  F1_1  F1_3  F1_5  \\\n",
       "0    0.71   0.84   0.08   0.84  0.75  0.14  0.77   \n",
       "\n",
       "                                       Observaciones  \n",
       "0  Se observan resultado no satisfactorios en la ...  "
      ]
     },
     "execution_count": 373,
     "metadata": {},
     "output_type": "execute_result"
    }
   ],
   "source": [
    "resultados_P3_test_Op2 = pd.read_excel('Resultados_P3.xlsx', sheet_name='TEST_OP_2')\n",
    "resultados_P3_test_Op2"
   ]
  },
  {
   "cell_type": "markdown",
   "metadata": {},
   "source": [
    "## Conclusiones PRUEBA 3"
   ]
  },
  {
   "cell_type": "markdown",
   "metadata": {},
   "source": [
    "Detalles: Correr el modelo que mejor performe en el punto 1 pero modificando el data set Amazon_train que en lugar de 5 posibles clasificaciones tenga tres. Esto lo hacemos para el set de datos con reviews de un largo menor o igual a 186 caracteres\n",
    "\n",
    "En la 'opción 1' donde agrupamos los valores intermedios originales 2,3,4 bajo el valor 3 observamos mejoras sustanciales en las predicción de los valores intermedios y si bien los extremos bajan sobre todo en el F1 no es tan significativa esta bajada como la ganancia que se obtiene en los valores intermedios    \n",
    "\n",
    "En la 'opción 2' donde agrupamos (1 y 2) => 1 , 3=>3 y (4 y 5) =>5, se ve una muy buena predicción en los extremos (la más alta lograda al momento) pero el valor medio cae abruptamente, por lo cual no se considera una opción a seguir explorando.  "
   ]
  },
  {
   "cell_type": "markdown",
   "metadata": {},
   "source": [
    "## CONSLUSIÓN FINAL"
   ]
  },
  {
   "cell_type": "markdown",
   "metadata": {},
   "source": [
    "Durante el presente trabajo se corrieron tres pruebas diferentes Prueba 1 / Prueba 2 / Prueba 3\n",
    "\n",
    " - Prueba 1 => 4 modelos diferentes => TOTAL 4 modelos\n",
    " - Pueba 2 => se selecciono el modelo que merjor performo en Prueba 1 y se uso el mismo para tres set de datos diferentes. Cada set correspondía a una categoría de producto diferente => TOTAL 3 modelos\n",
    " - Prueba 3 => se selecciono el modelo que merjor performo en Prueba 1 y se restructuro la manera de clasificar (asignar estrellas) en dos opciones previamente descriptas => => TOTAL 2 modelos\n",
    " \n",
    "En total se corrieron y compararon las métricas de 9 modelos y concluímos que las mejores metricas y capacidad de predecir la tiene el modelo 8 => M8. \n",
    " \n",
    "M8 muestra el accuracy más elevado y en principio casi nulo overfiting al revisar las métricas del train y el test, por lo que la recomendación para poder mejorar las predicciones respecto al sistema de puntuación por estrellas sería aplicarle al mismo las siguientes modificaciones, \n",
    " \n",
    "     - Transformar el sistema de clasificaicón de 5 estrellas a uno de 3 estrellas o una clasificación descriptiva de 'Muy Bueno' / 'Bueno'/ 'Regular o malo'\n",
    "     - No permitir reviews de largo mayor a 186 caracteres. \n",
    " \n"
   ]
  },
  {
   "cell_type": "markdown",
   "metadata": {},
   "source": [
    "**Métricas modelo M8**"
   ]
  },
  {
   "cell_type": "code",
   "execution_count": 381,
   "metadata": {},
   "outputs": [
    {
     "data": {
      "text/html": [
       "<div>\n",
       "<style scoped>\n",
       "    .dataframe tbody tr th:only-of-type {\n",
       "        vertical-align: middle;\n",
       "    }\n",
       "\n",
       "    .dataframe tbody tr th {\n",
       "        vertical-align: top;\n",
       "    }\n",
       "\n",
       "    .dataframe thead th {\n",
       "        text-align: right;\n",
       "    }\n",
       "</style>\n",
       "<table border=\"1\" class=\"dataframe\">\n",
       "  <thead>\n",
       "    <tr style=\"text-align: right;\">\n",
       "      <th></th>\n",
       "      <th># Modelo</th>\n",
       "      <th># Prueba</th>\n",
       "      <th>ID_Modelo</th>\n",
       "      <th>Accuracy</th>\n",
       "      <th>Prec_1</th>\n",
       "      <th>Prec_3</th>\n",
       "      <th>Prec_5</th>\n",
       "      <th>rec_1</th>\n",
       "      <th>rec_3</th>\n",
       "      <th>rec_5</th>\n",
       "      <th>F1_1</th>\n",
       "      <th>F1_3</th>\n",
       "      <th>F1_5</th>\n",
       "      <th>Observaciones</th>\n",
       "    </tr>\n",
       "  </thead>\n",
       "  <tbody>\n",
       "    <tr>\n",
       "      <th>0</th>\n",
       "      <td>M8</td>\n",
       "      <td>Prueba_3</td>\n",
       "      <td>M_SVM_OP_1_reclasif_183</td>\n",
       "      <td>0.7</td>\n",
       "      <td>0.72</td>\n",
       "      <td>0.7</td>\n",
       "      <td>0.67</td>\n",
       "      <td>0.49</td>\n",
       "      <td>0.87</td>\n",
       "      <td>0.41</td>\n",
       "      <td>0.59</td>\n",
       "      <td>0.78</td>\n",
       "      <td>0.51</td>\n",
       "      <td>Se observa mejoras en la estimación de valores...</td>\n",
       "    </tr>\n",
       "  </tbody>\n",
       "</table>\n",
       "</div>"
      ],
      "text/plain": [
       "  # Modelo  # Prueba                ID_Modelo  Accuracy  Prec_1  Prec_3  \\\n",
       "0       M8  Prueba_3  M_SVM_OP_1_reclasif_183       0.7    0.72     0.7   \n",
       "\n",
       "   Prec_5  rec_1  rec_3  rec_5  F1_1  F1_3  F1_5  \\\n",
       "0    0.67   0.49   0.87   0.41  0.59  0.78  0.51   \n",
       "\n",
       "                                       Observaciones  \n",
       "0  Se observa mejoras en la estimación de valores...  "
      ]
     },
     "execution_count": 381,
     "metadata": {},
     "output_type": "execute_result"
    }
   ],
   "source": [
    "resultados_P3_train_Op1"
   ]
  },
  {
   "cell_type": "code",
   "execution_count": 380,
   "metadata": {},
   "outputs": [
    {
     "data": {
      "text/html": [
       "<div>\n",
       "<style scoped>\n",
       "    .dataframe tbody tr th:only-of-type {\n",
       "        vertical-align: middle;\n",
       "    }\n",
       "\n",
       "    .dataframe tbody tr th {\n",
       "        vertical-align: top;\n",
       "    }\n",
       "\n",
       "    .dataframe thead th {\n",
       "        text-align: right;\n",
       "    }\n",
       "</style>\n",
       "<table border=\"1\" class=\"dataframe\">\n",
       "  <thead>\n",
       "    <tr style=\"text-align: right;\">\n",
       "      <th></th>\n",
       "      <th># Modelo</th>\n",
       "      <th># Prueba</th>\n",
       "      <th>ID_Modelo</th>\n",
       "      <th>Accuracy</th>\n",
       "      <th>Prec_1</th>\n",
       "      <th>Prec_3</th>\n",
       "      <th>Prec_5</th>\n",
       "      <th>rec_1</th>\n",
       "      <th>rec_3</th>\n",
       "      <th>rec_5</th>\n",
       "      <th>F1_1</th>\n",
       "      <th>F1_3</th>\n",
       "      <th>F1_5</th>\n",
       "      <th>Observaciones</th>\n",
       "    </tr>\n",
       "  </thead>\n",
       "  <tbody>\n",
       "    <tr>\n",
       "      <th>0</th>\n",
       "      <td>M8</td>\n",
       "      <td>Prueba_3</td>\n",
       "      <td>M_SVM_OP_1_reclasif_183</td>\n",
       "      <td>0.69</td>\n",
       "      <td>0.71</td>\n",
       "      <td>0.7</td>\n",
       "      <td>0.65</td>\n",
       "      <td>0.49</td>\n",
       "      <td>0.86</td>\n",
       "      <td>0.41</td>\n",
       "      <td>0.58</td>\n",
       "      <td>0.77</td>\n",
       "      <td>0.5</td>\n",
       "      <td>Se observa mejoras en la estimación de valores...</td>\n",
       "    </tr>\n",
       "  </tbody>\n",
       "</table>\n",
       "</div>"
      ],
      "text/plain": [
       "  # Modelo  # Prueba                ID_Modelo  Accuracy  Prec_1  Prec_3  \\\n",
       "0       M8  Prueba_3  M_SVM_OP_1_reclasif_183      0.69    0.71     0.7   \n",
       "\n",
       "   Prec_5  rec_1  rec_3  rec_5  F1_1  F1_3  F1_5  \\\n",
       "0    0.65   0.49   0.86   0.41  0.58  0.77   0.5   \n",
       "\n",
       "                                       Observaciones  \n",
       "0  Se observa mejoras en la estimación de valores...  "
      ]
     },
     "execution_count": 380,
     "metadata": {},
     "output_type": "execute_result"
    }
   ],
   "source": [
    "resultados_P3_TEST_Op1"
   ]
  }
 ],
 "metadata": {
  "colab": {
   "collapsed_sections": [],
   "name": "Copia de DS_Proyecto_03_NLP.ipynb",
   "provenance": [
    {
     "file_id": "1oK2UQA57i6GpzRjqmW2wjOQ4l1MyEyia",
     "timestamp": 1620347758104
    }
   ]
  },
  "kernelspec": {
   "display_name": "Python 3",
   "language": "python",
   "name": "python3"
  },
  "language_info": {
   "codemirror_mode": {
    "name": "ipython",
    "version": 3
   },
   "file_extension": ".py",
   "mimetype": "text/x-python",
   "name": "python",
   "nbconvert_exporter": "python",
   "pygments_lexer": "ipython3",
   "version": "3.8.5"
  }
 },
 "nbformat": 4,
 "nbformat_minor": 4
}
