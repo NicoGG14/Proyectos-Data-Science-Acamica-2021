{
 "cells": [
  {
   "cell_type": "markdown",
   "metadata": {},
   "source": [
    "#### Nicolás García Gómez - DS 61"
   ]
  },
  {
   "cell_type": "markdown",
   "metadata": {
    "id": "2GRQnxMzISE_"
   },
   "source": [
    "# Proyecto 03 - Procesamiento del Lenguaje Natural\n",
    "\n",
    "## Dataset: The Multilingual Amazon Reviews Corpus\n",
    "\n",
    "**Recuerda descargar el dataset de [aquí](https://github.com/kang205/SASRec). Es un archivo .zip que contiene tres documentos. Más información sobre el dataset [aquí](https://registry.opendata.aws/amazon-reviews-ml/). Es importante que tengas en cuenta la [licencia](https://docs.opendata.aws/amazon-reviews-ml/license.txt) de este dataset.**\n",
    "\n",
    "### Exploración de datos y Procesamiento del Lenguaje Natural\n",
    "\n",
    "Dedícale un buen tiempo a hacer un Análisis Exploratorio de Datos. Considera que hasta que no hayas aplicado las herramientas de Procesamiento del Lenguaje Natural vistas, será difícil completar este análisis. Elige preguntas que creas que puedas responder con este dataset. Por ejemplo, ¿qué palabras están asociadas a calificaciones positivas y qué palabras a calificaciones negativas?\n",
    "\n",
    "### Machine Learning\n",
    "\n",
    "Implementa un modelo que, dada la crítica de un producto, asigne la cantidad de estrellas correspondiente. **Para pensar**: ¿es un problema de Clasificación o de Regresión?\n",
    "\n",
    "1. Haz todas las transformaciones de datos que consideres necesarias. Justifica.\n",
    "1. Evalúa de forma apropiada sus resultados. Justifica la métrica elegida.\n",
    "1. Elige un modelo benchmark y compara tus resultados con este modelo.\n",
    "1. Optimiza los hiperparámetros de tu modelo.\n",
    "1. Intenta responder la pregunta: ¿Qué información está usando el modelo para predecir?\n",
    "\n",
    "**Recomendación:** si no te resulta conveniente trabajar en español con NLTK, te recomendamos que explores la librería [spaCy](https://spacy.io/).\n",
    "\n",
    "### Para pensar, investigar y, opcionalmente, implementar\n",
    "1. ¿Valdrá la pena convertir el problema de Machine Learning en un problema binario? Es decir, asignar únicamente las etiquetas Positiva y Negativa a cada crítica y hacer un modelo que, en lugar de predecir las estrellas, prediga esa etiqueta. Pensar en qué situación puede ser útil. ¿Esperas que el desempeño sea mejor o peor?\n",
    "1. ¿Hay algo que te gustaría investigar o probar?\n",
    "\n",
    "### **¡Tómate tiempo para investigar y leer mucho!**"
   ]
  },
  {
   "cell_type": "markdown",
   "metadata": {},
   "source": [
    "**IMPORTANTE**:\n",
    "**POR QUE HAY TRES DATA SET** => A veces los datasets de problemas de machine learning se pre-splitean en train, dev y test para garantizar que los resultados sean reproducibles (se entrena con train y se testea con test). El otro split \"dev\" se usa para tunear los hiperparámetros del modelo, o, cuando el modelo lo permite, ajustar los parámetros en el entrenamiento con una función de costo para dev.  **Bajo esa modalidad el workflow sería: entrenar con train -> ajustar hiperparámetros contra dev -> medir performance (y capacidad de generalización) con test**"
   ]
  },
  {
   "cell_type": "code",
   "execution_count": 1,
   "metadata": {},
   "outputs": [],
   "source": [
    "import itertools\n",
    "\n",
    "import numpy as np\n",
    "import pandas as pd\n",
    "import matplotlib.pyplot as plt\n",
    "from matplotlib.ticker import PercentFormatter # para dar formato de porcentaje a las tablas de frecuencia\n",
    "import seaborn as sns\n",
    "sns.set()\n",
    "\n",
    "import warnings\n",
    "warnings.filterwarnings('ignore')"
   ]
  },
  {
   "cell_type": "markdown",
   "metadata": {},
   "source": [
    "## 1. Exploración del dataset - EDA"
   ]
  },
  {
   "cell_type": "markdown",
   "metadata": {},
   "source": [
    "**Consultamos los 3 data set**\n",
    "- DEV\n",
    "- TEST\n",
    "- TRAIN"
   ]
  },
  {
   "cell_type": "code",
   "execution_count": 2,
   "metadata": {},
   "outputs": [
    {
     "data": {
      "text/plain": [
       "(5000, 8)"
      ]
     },
     "execution_count": 2,
     "metadata": {},
     "output_type": "execute_result"
    }
   ],
   "source": [
    "Amazon_dev = pd.read_json('dataset_es_dev.json', lines=True) # para abir un archivo tipo JSON\n",
    "Amazon_dev.head()\n",
    "Amazon_dev.shape # 5000 x 8"
   ]
  },
  {
   "cell_type": "code",
   "execution_count": 3,
   "metadata": {},
   "outputs": [
    {
     "data": {
      "text/plain": [
       "(5000, 8)"
      ]
     },
     "execution_count": 3,
     "metadata": {},
     "output_type": "execute_result"
    }
   ],
   "source": [
    "Amazon_test = pd.read_json('dataset_es_test.json', lines=True) # para abir un archivo tipo JSON\n",
    "Amazon_test.head()\n",
    "Amazon_test.shape"
   ]
  },
  {
   "cell_type": "code",
   "execution_count": 2,
   "metadata": {},
   "outputs": [
    {
     "data": {
      "text/plain": [
       "(200000, 8)"
      ]
     },
     "execution_count": 2,
     "metadata": {},
     "output_type": "execute_result"
    }
   ],
   "source": [
    "Amazon_train = pd.read_json('dataset_es_train.json', lines=True) # para abir un archivo tipo JSON\n",
    "Amazon_train.head()\n",
    "Amazon_train.shape"
   ]
  },
  {
   "cell_type": "code",
   "execution_count": 5,
   "metadata": {},
   "outputs": [
    {
     "data": {
      "text/html": [
       "<div>\n",
       "<style scoped>\n",
       "    .dataframe tbody tr th:only-of-type {\n",
       "        vertical-align: middle;\n",
       "    }\n",
       "\n",
       "    .dataframe tbody tr th {\n",
       "        vertical-align: top;\n",
       "    }\n",
       "\n",
       "    .dataframe thead th {\n",
       "        text-align: right;\n",
       "    }\n",
       "</style>\n",
       "<table border=\"1\" class=\"dataframe\">\n",
       "  <thead>\n",
       "    <tr style=\"text-align: right;\">\n",
       "      <th></th>\n",
       "      <th>review_id</th>\n",
       "      <th>product_id</th>\n",
       "      <th>reviewer_id</th>\n",
       "      <th>stars</th>\n",
       "      <th>review_body</th>\n",
       "      <th>review_title</th>\n",
       "      <th>language</th>\n",
       "      <th>product_category</th>\n",
       "    </tr>\n",
       "  </thead>\n",
       "  <tbody>\n",
       "    <tr>\n",
       "      <th>0</th>\n",
       "      <td>es_0491108</td>\n",
       "      <td>product_es_0296024</td>\n",
       "      <td>reviewer_es_0999081</td>\n",
       "      <td>1</td>\n",
       "      <td>Nada bueno se me fue ka pantalla en menos de 8...</td>\n",
       "      <td>television Nevir</td>\n",
       "      <td>es</td>\n",
       "      <td>electronics</td>\n",
       "    </tr>\n",
       "    <tr>\n",
       "      <th>1</th>\n",
       "      <td>es_0869872</td>\n",
       "      <td>product_es_0922286</td>\n",
       "      <td>reviewer_es_0216771</td>\n",
       "      <td>1</td>\n",
       "      <td>Horrible, nos tuvimos que comprar otro porque ...</td>\n",
       "      <td>Dinero tirado a la basura con esta compra</td>\n",
       "      <td>es</td>\n",
       "      <td>electronics</td>\n",
       "    </tr>\n",
       "    <tr>\n",
       "      <th>2</th>\n",
       "      <td>es_0811721</td>\n",
       "      <td>product_es_0474543</td>\n",
       "      <td>reviewer_es_0929213</td>\n",
       "      <td>1</td>\n",
       "      <td>Te obligan a comprar dos unidades y te llega s...</td>\n",
       "      <td>solo llega una unidad cuando te obligan a comp...</td>\n",
       "      <td>es</td>\n",
       "      <td>drugstore</td>\n",
       "    </tr>\n",
       "    <tr>\n",
       "      <th>3</th>\n",
       "      <td>es_0359921</td>\n",
       "      <td>product_es_0656090</td>\n",
       "      <td>reviewer_es_0224702</td>\n",
       "      <td>1</td>\n",
       "      <td>No entro en descalificar al vendedor, solo pue...</td>\n",
       "      <td>PRODUCTO NO RECIBIDO.</td>\n",
       "      <td>es</td>\n",
       "      <td>wireless</td>\n",
       "    </tr>\n",
       "    <tr>\n",
       "      <th>4</th>\n",
       "      <td>es_0068940</td>\n",
       "      <td>product_es_0662544</td>\n",
       "      <td>reviewer_es_0224827</td>\n",
       "      <td>1</td>\n",
       "      <td>Llega tarde y co la talla equivocada</td>\n",
       "      <td>Devuelto</td>\n",
       "      <td>es</td>\n",
       "      <td>shoes</td>\n",
       "    </tr>\n",
       "  </tbody>\n",
       "</table>\n",
       "</div>"
      ],
      "text/plain": [
       "    review_id          product_id          reviewer_id  stars  \\\n",
       "0  es_0491108  product_es_0296024  reviewer_es_0999081      1   \n",
       "1  es_0869872  product_es_0922286  reviewer_es_0216771      1   \n",
       "2  es_0811721  product_es_0474543  reviewer_es_0929213      1   \n",
       "3  es_0359921  product_es_0656090  reviewer_es_0224702      1   \n",
       "4  es_0068940  product_es_0662544  reviewer_es_0224827      1   \n",
       "\n",
       "                                         review_body  \\\n",
       "0  Nada bueno se me fue ka pantalla en menos de 8...   \n",
       "1  Horrible, nos tuvimos que comprar otro porque ...   \n",
       "2  Te obligan a comprar dos unidades y te llega s...   \n",
       "3  No entro en descalificar al vendedor, solo pue...   \n",
       "4               Llega tarde y co la talla equivocada   \n",
       "\n",
       "                                        review_title language product_category  \n",
       "0                                   television Nevir       es      electronics  \n",
       "1          Dinero tirado a la basura con esta compra       es      electronics  \n",
       "2  solo llega una unidad cuando te obligan a comp...       es        drugstore  \n",
       "3                              PRODUCTO NO RECIBIDO.       es         wireless  \n",
       "4                                           Devuelto       es            shoes  "
      ]
     },
     "execution_count": 5,
     "metadata": {},
     "output_type": "execute_result"
    }
   ],
   "source": [
    "Amazon_train.head()"
   ]
  },
  {
   "cell_type": "code",
   "execution_count": 6,
   "metadata": {},
   "outputs": [
    {
     "data": {
      "text/plain": [
       "review_id           200000\n",
       "product_id          200000\n",
       "reviewer_id         200000\n",
       "stars               200000\n",
       "review_body         200000\n",
       "review_title        200000\n",
       "language            200000\n",
       "product_category    200000\n",
       "dtype: int64"
      ]
     },
     "execution_count": 6,
     "metadata": {},
     "output_type": "execute_result"
    }
   ],
   "source": [
    "#Contamos cantidad de registros por columna\n",
    "Amazon_train.count()"
   ]
  },
  {
   "cell_type": "code",
   "execution_count": 7,
   "metadata": {},
   "outputs": [
    {
     "data": {
      "text/plain": [
       "review_id           0\n",
       "product_id          0\n",
       "reviewer_id         0\n",
       "stars               0\n",
       "review_body         0\n",
       "review_title        0\n",
       "language            0\n",
       "product_category    0\n",
       "dtype: int64"
      ]
     },
     "execution_count": 7,
     "metadata": {},
     "output_type": "execute_result"
    }
   ],
   "source": [
    "# No hay valore NAN\n",
    "Amazon_train.isna().sum()"
   ]
  },
  {
   "cell_type": "code",
   "execution_count": 8,
   "metadata": {},
   "outputs": [
    {
     "data": {
      "text/plain": [
       "review_id           0\n",
       "product_id          0\n",
       "reviewer_id         0\n",
       "stars               0\n",
       "review_body         0\n",
       "review_title        0\n",
       "language            0\n",
       "product_category    0\n",
       "dtype: int64"
      ]
     },
     "execution_count": 8,
     "metadata": {},
     "output_type": "execute_result"
    }
   ],
   "source": [
    "# No hay valores nulos\n",
    "Amazon_train.isnull().sum() "
   ]
  },
  {
   "cell_type": "code",
   "execution_count": 9,
   "metadata": {},
   "outputs": [
    {
     "data": {
      "text/plain": [
       "review_id           object\n",
       "product_id          object\n",
       "reviewer_id         object\n",
       "stars                int64\n",
       "review_body         object\n",
       "review_title        object\n",
       "language            object\n",
       "product_category    object\n",
       "dtype: object"
      ]
     },
     "execution_count": 9,
     "metadata": {},
     "output_type": "execute_result"
    }
   ],
   "source": [
    "#Tipo de Datos\n",
    "Amazon_train.dtypes"
   ]
  },
  {
   "cell_type": "code",
   "execution_count": 10,
   "metadata": {},
   "outputs": [
    {
     "name": "stdout",
     "output_type": "stream",
     "text": [
      "<class 'pandas.core.frame.DataFrame'>\n",
      "RangeIndex: 200000 entries, 0 to 199999\n",
      "Data columns (total 8 columns):\n",
      " #   Column            Non-Null Count   Dtype \n",
      "---  ------            --------------   ----- \n",
      " 0   review_id         200000 non-null  object\n",
      " 1   product_id        200000 non-null  object\n",
      " 2   reviewer_id       200000 non-null  object\n",
      " 3   stars             200000 non-null  int64 \n",
      " 4   review_body       200000 non-null  object\n",
      " 5   review_title      200000 non-null  object\n",
      " 6   language          200000 non-null  object\n",
      " 7   product_category  200000 non-null  object\n",
      "dtypes: int64(1), object(7)\n",
      "memory usage: 12.2+ MB\n"
     ]
    }
   ],
   "source": [
    "Amazon_train.info() "
   ]
  },
  {
   "cell_type": "code",
   "execution_count": 11,
   "metadata": {},
   "outputs": [
    {
     "name": "stdout",
     "output_type": "stream",
     "text": [
      "number of duplicate rows:  0\n"
     ]
    }
   ],
   "source": [
    "#No tenemos filas duplicadas en el data set\n",
    "Amazon_train.duplicated()\n",
    "print('number of duplicate rows: ', Amazon_train[Amazon_train.duplicated()].shape[0])"
   ]
  },
  {
   "cell_type": "code",
   "execution_count": 12,
   "metadata": {},
   "outputs": [
    {
     "data": {
      "text/plain": [
       "array([1, 2, 3, 4, 5], dtype=int64)"
      ]
     },
     "execution_count": 12,
     "metadata": {},
     "output_type": "execute_result"
    }
   ],
   "source": [
    "#Tenemos solo 5 valores posibles para las estrellas del 1 al 5\n",
    "pd.unique(Amazon_train['stars'])\n",
    "#Amazon_train['stars'].unique()"
   ]
  },
  {
   "cell_type": "code",
   "execution_count": 3,
   "metadata": {},
   "outputs": [
    {
     "name": "stdout",
     "output_type": "stream",
     "text": [
      "review_id 200000 valore diferentes\n",
      "product_id 150938 valore diferentes\n",
      "reviewer_id 179076 valore diferentes\n",
      "stars 5 valore diferentes\n",
      "review_body 198264 valore diferentes\n",
      "review_title 112114 valore diferentes\n",
      "language 1 valore diferentes\n",
      "product_category 30 valore diferentes\n"
     ]
    }
   ],
   "source": [
    "# revisamos los valores únicos de cada una de las columnas del data set. \n",
    "\n",
    "for col in Amazon_train.columns:\n",
    "    print(col, len(Amazon_train[col].unique()), 'valore diferentes')"
   ]
  },
  {
   "cell_type": "markdown",
   "metadata": {},
   "source": [
    "- **Elimino columnas que entiendo no voy a necesitar**\n",
    " - 'review_id': es un id con el que no puedo caractrerizar la review\n",
    " - 'product_id':  es un id con el que no puedo caracterizar al producto y saber por ejemplo algunas de sus caracteristicas\n",
    " - 'reviewer_id':es un id con el que no puedo caracterizar la review\n",
    " - 'language': todo en un único idioma"
   ]
  },
  {
   "cell_type": "code",
   "execution_count": 4,
   "metadata": {},
   "outputs": [
    {
     "data": {
      "text/plain": [
       "Index(['review_id', 'product_id', 'reviewer_id', 'stars', 'review_body',\n",
       "       'review_title', 'language', 'product_category'],\n",
       "      dtype='object')"
      ]
     },
     "execution_count": 4,
     "metadata": {},
     "output_type": "execute_result"
    }
   ],
   "source": [
    "Amazon_train.columns"
   ]
  },
  {
   "cell_type": "code",
   "execution_count": null,
   "metadata": {},
   "outputs": [],
   "source": [
    "Amazon_train.drop(['review_id','product_id','reviewer_id','language'], axis=1, inplace= True)"
   ]
  },
  {
   "cell_type": "markdown",
   "metadata": {},
   "source": [
    "- **Mantenemos las columnas** \n",
    "  - Stars\n",
    "  - Review body\n",
    "  - Review title\n",
    "  - Product Category"
   ]
  },
  {
   "cell_type": "code",
   "execution_count": 7,
   "metadata": {},
   "outputs": [
    {
     "data": {
      "text/html": [
       "<div>\n",
       "<style scoped>\n",
       "    .dataframe tbody tr th:only-of-type {\n",
       "        vertical-align: middle;\n",
       "    }\n",
       "\n",
       "    .dataframe tbody tr th {\n",
       "        vertical-align: top;\n",
       "    }\n",
       "\n",
       "    .dataframe thead th {\n",
       "        text-align: right;\n",
       "    }\n",
       "</style>\n",
       "<table border=\"1\" class=\"dataframe\">\n",
       "  <thead>\n",
       "    <tr style=\"text-align: right;\">\n",
       "      <th></th>\n",
       "      <th>stars</th>\n",
       "      <th>review_body</th>\n",
       "      <th>review_title</th>\n",
       "      <th>product_category</th>\n",
       "    </tr>\n",
       "  </thead>\n",
       "  <tbody>\n",
       "    <tr>\n",
       "      <th>0</th>\n",
       "      <td>1</td>\n",
       "      <td>Nada bueno se me fue ka pantalla en menos de 8...</td>\n",
       "      <td>television Nevir</td>\n",
       "      <td>electronics</td>\n",
       "    </tr>\n",
       "    <tr>\n",
       "      <th>1</th>\n",
       "      <td>1</td>\n",
       "      <td>Horrible, nos tuvimos que comprar otro porque ...</td>\n",
       "      <td>Dinero tirado a la basura con esta compra</td>\n",
       "      <td>electronics</td>\n",
       "    </tr>\n",
       "    <tr>\n",
       "      <th>2</th>\n",
       "      <td>1</td>\n",
       "      <td>Te obligan a comprar dos unidades y te llega s...</td>\n",
       "      <td>solo llega una unidad cuando te obligan a comp...</td>\n",
       "      <td>drugstore</td>\n",
       "    </tr>\n",
       "    <tr>\n",
       "      <th>3</th>\n",
       "      <td>1</td>\n",
       "      <td>No entro en descalificar al vendedor, solo pue...</td>\n",
       "      <td>PRODUCTO NO RECIBIDO.</td>\n",
       "      <td>wireless</td>\n",
       "    </tr>\n",
       "    <tr>\n",
       "      <th>4</th>\n",
       "      <td>1</td>\n",
       "      <td>Llega tarde y co la talla equivocada</td>\n",
       "      <td>Devuelto</td>\n",
       "      <td>shoes</td>\n",
       "    </tr>\n",
       "  </tbody>\n",
       "</table>\n",
       "</div>"
      ],
      "text/plain": [
       "   stars                                        review_body  \\\n",
       "0      1  Nada bueno se me fue ka pantalla en menos de 8...   \n",
       "1      1  Horrible, nos tuvimos que comprar otro porque ...   \n",
       "2      1  Te obligan a comprar dos unidades y te llega s...   \n",
       "3      1  No entro en descalificar al vendedor, solo pue...   \n",
       "4      1               Llega tarde y co la talla equivocada   \n",
       "\n",
       "                                        review_title product_category  \n",
       "0                                   television Nevir      electronics  \n",
       "1          Dinero tirado a la basura con esta compra      electronics  \n",
       "2  solo llega una unidad cuando te obligan a comp...        drugstore  \n",
       "3                              PRODUCTO NO RECIBIDO.         wireless  \n",
       "4                                           Devuelto            shoes  "
      ]
     },
     "execution_count": 7,
     "metadata": {},
     "output_type": "execute_result"
    }
   ],
   "source": [
    "Amazon_train.head()"
   ]
  },
  {
   "cell_type": "markdown",
   "metadata": {},
   "source": [
    "- **Revisamos el largo en cantidad de caracteres de las diferentes reviews**"
   ]
  },
  {
   "cell_type": "code",
   "execution_count": 17,
   "metadata": {},
   "outputs": [],
   "source": [
    "Amazon_train['length']= Amazon_train['review_body'].apply(len)"
   ]
  },
  {
   "cell_type": "code",
   "execution_count": 18,
   "metadata": {},
   "outputs": [
    {
     "data": {
      "text/html": [
       "<div>\n",
       "<style scoped>\n",
       "    .dataframe tbody tr th:only-of-type {\n",
       "        vertical-align: middle;\n",
       "    }\n",
       "\n",
       "    .dataframe tbody tr th {\n",
       "        vertical-align: top;\n",
       "    }\n",
       "\n",
       "    .dataframe thead th {\n",
       "        text-align: right;\n",
       "    }\n",
       "</style>\n",
       "<table border=\"1\" class=\"dataframe\">\n",
       "  <thead>\n",
       "    <tr style=\"text-align: right;\">\n",
       "      <th></th>\n",
       "      <th>review_body</th>\n",
       "      <th>length</th>\n",
       "    </tr>\n",
       "  </thead>\n",
       "  <tbody>\n",
       "    <tr>\n",
       "      <th>0</th>\n",
       "      <td>Nada bueno se me fue ka pantalla en menos de 8...</td>\n",
       "      <td>94</td>\n",
       "    </tr>\n",
       "    <tr>\n",
       "      <th>1</th>\n",
       "      <td>Horrible, nos tuvimos que comprar otro porque ...</td>\n",
       "      <td>140</td>\n",
       "    </tr>\n",
       "    <tr>\n",
       "      <th>2</th>\n",
       "      <td>Te obligan a comprar dos unidades y te llega s...</td>\n",
       "      <td>117</td>\n",
       "    </tr>\n",
       "    <tr>\n",
       "      <th>3</th>\n",
       "      <td>No entro en descalificar al vendedor, solo pue...</td>\n",
       "      <td>332</td>\n",
       "    </tr>\n",
       "    <tr>\n",
       "      <th>4</th>\n",
       "      <td>Llega tarde y co la talla equivocada</td>\n",
       "      <td>36</td>\n",
       "    </tr>\n",
       "  </tbody>\n",
       "</table>\n",
       "</div>"
      ],
      "text/plain": [
       "                                         review_body  length\n",
       "0  Nada bueno se me fue ka pantalla en menos de 8...      94\n",
       "1  Horrible, nos tuvimos que comprar otro porque ...     140\n",
       "2  Te obligan a comprar dos unidades y te llega s...     117\n",
       "3  No entro en descalificar al vendedor, solo pue...     332\n",
       "4               Llega tarde y co la talla equivocada      36"
      ]
     },
     "execution_count": 18,
     "metadata": {},
     "output_type": "execute_result"
    }
   ],
   "source": [
    "Amazon_train[['review_body','length']].head()"
   ]
  },
  {
   "cell_type": "code",
   "execution_count": 19,
   "metadata": {},
   "outputs": [
    {
     "data": {
      "text/html": [
       "<div>\n",
       "<style scoped>\n",
       "    .dataframe tbody tr th:only-of-type {\n",
       "        vertical-align: middle;\n",
       "    }\n",
       "\n",
       "    .dataframe tbody tr th {\n",
       "        vertical-align: top;\n",
       "    }\n",
       "\n",
       "    .dataframe thead th {\n",
       "        text-align: right;\n",
       "    }\n",
       "</style>\n",
       "<table border=\"1\" class=\"dataframe\">\n",
       "  <thead>\n",
       "    <tr style=\"text-align: right;\">\n",
       "      <th></th>\n",
       "      <th>stars</th>\n",
       "      <th>length</th>\n",
       "    </tr>\n",
       "  </thead>\n",
       "  <tbody>\n",
       "    <tr>\n",
       "      <th>count</th>\n",
       "      <td>200000.000000</td>\n",
       "      <td>200000.000000</td>\n",
       "    </tr>\n",
       "    <tr>\n",
       "      <th>mean</th>\n",
       "      <td>3.000000</td>\n",
       "      <td>151.302910</td>\n",
       "    </tr>\n",
       "    <tr>\n",
       "      <th>std</th>\n",
       "      <td>1.414217</td>\n",
       "      <td>132.201785</td>\n",
       "    </tr>\n",
       "    <tr>\n",
       "      <th>min</th>\n",
       "      <td>1.000000</td>\n",
       "      <td>16.000000</td>\n",
       "    </tr>\n",
       "    <tr>\n",
       "      <th>25%</th>\n",
       "      <td>2.000000</td>\n",
       "      <td>68.000000</td>\n",
       "    </tr>\n",
       "    <tr>\n",
       "      <th>50%</th>\n",
       "      <td>3.000000</td>\n",
       "      <td>120.000000</td>\n",
       "    </tr>\n",
       "    <tr>\n",
       "      <th>75%</th>\n",
       "      <td>4.000000</td>\n",
       "      <td>186.000000</td>\n",
       "    </tr>\n",
       "    <tr>\n",
       "      <th>max</th>\n",
       "      <td>5.000000</td>\n",
       "      <td>3086.000000</td>\n",
       "    </tr>\n",
       "  </tbody>\n",
       "</table>\n",
       "</div>"
      ],
      "text/plain": [
       "               stars         length\n",
       "count  200000.000000  200000.000000\n",
       "mean        3.000000     151.302910\n",
       "std         1.414217     132.201785\n",
       "min         1.000000      16.000000\n",
       "25%         2.000000      68.000000\n",
       "50%         3.000000     120.000000\n",
       "75%         4.000000     186.000000\n",
       "max         5.000000    3086.000000"
      ]
     },
     "execution_count": 19,
     "metadata": {},
     "output_type": "execute_result"
    }
   ],
   "source": [
    "#Aplicamos .describe() a las dos variables núnmericas\n",
    "\n",
    "Amazon_train.describe()"
   ]
  },
  {
   "cell_type": "code",
   "execution_count": 20,
   "metadata": {},
   "outputs": [
    {
     "data": {
      "text/plain": [
       "Text(0.5, 1.0, 'Distribución de la variable length')"
      ]
     },
     "execution_count": 20,
     "metadata": {},
     "output_type": "execute_result"
    },
    {
     "data": {
      "image/png": "[encoded data removed]",
      "text/plain": [
       "<Figure size 720x360 with 1 Axes>"
      ]
     },
     "metadata": {},
     "output_type": "display_data"
    }
   ],
   "source": [
    "#Vemos la distribución de 'length'\n",
    "\n",
    "plt.figure(figsize = (10,5))\n",
    "sns.histplot(Amazon_train['length'], bins =50)\n",
    "plt.title('Distribución de la variable length', fontweight= 'black',fontsize = 16,color=\"blue\")"
   ]
  },
  {
   "cell_type": "code",
   "execution_count": 21,
   "metadata": {},
   "outputs": [
    {
     "data": {
      "text/plain": [
       "<AxesSubplot:xlabel='length'>"
      ]
     },
     "execution_count": 21,
     "metadata": {},
     "output_type": "execute_result"
    },
    {
     "data": {
      "image/png": "[encoded data removed]",
      "text/plain": [
       "<Figure size 432x288 with 1 Axes>"
      ]
     },
     "metadata": {},
     "output_type": "display_data"
    }
   ],
   "source": [
    "sns.boxplot(x ='length',data = Amazon_train, showfliers = False)\n",
    "#showfliers => If False, suppress the plotting of outliers"
   ]
  },
  {
   "cell_type": "markdown",
   "metadata": {},
   "source": [
    "Como se observa en la tabla y el gráfico podemos ver que, \n",
    " - El 50% de las reviews tienen menos de 120 caracteres\n",
    " - El 75% de las reviews tienen menos de 186 caracteres"
   ]
  },
  {
   "cell_type": "markdown",
   "metadata": {},
   "source": [
    "- Revisamos el largo en cantidad de caracteres de las diferentes reviews en función de las estrellas y vemos una distribución similar etre las diferentes clasificaciones"
   ]
  },
  {
   "cell_type": "code",
   "execution_count": 22,
   "metadata": {},
   "outputs": [
    {
     "data": {
      "text/plain": [
       "<AxesSubplot:xlabel='stars', ylabel='length'>"
      ]
     },
     "execution_count": 22,
     "metadata": {},
     "output_type": "execute_result"
    },
    {
     "data": {
      "image/png": "[encoded data removed]",
      "text/plain": [
       "<Figure size 432x288 with 1 Axes>"
      ]
     },
     "metadata": {},
     "output_type": "display_data"
    }
   ],
   "source": [
    "sns.boxplot(x ='stars' , y = 'length',data = Amazon_train, showfliers = False)\n",
    "#showfliers => If False, suppress the plotting of outliers"
   ]
  },
  {
   "cell_type": "markdown",
   "metadata": {},
   "source": [
    "- Observada esta concentración del data set le doy un vistazo a aquellas review de gran longitud. "
   ]
  },
  {
   "cell_type": "code",
   "execution_count": 23,
   "metadata": {},
   "outputs": [
    {
     "data": {
      "text/html": [
       "<div>\n",
       "<style scoped>\n",
       "    .dataframe tbody tr th:only-of-type {\n",
       "        vertical-align: middle;\n",
       "    }\n",
       "\n",
       "    .dataframe tbody tr th {\n",
       "        vertical-align: top;\n",
       "    }\n",
       "\n",
       "    .dataframe thead th {\n",
       "        text-align: right;\n",
       "    }\n",
       "</style>\n",
       "<table border=\"1\" class=\"dataframe\">\n",
       "  <thead>\n",
       "    <tr style=\"text-align: right;\">\n",
       "      <th></th>\n",
       "      <th>review_body</th>\n",
       "      <th>length</th>\n",
       "      <th>stars</th>\n",
       "    </tr>\n",
       "  </thead>\n",
       "  <tbody>\n",
       "    <tr>\n",
       "      <th>192038</th>\n",
       "      <td>Hago estos cambios en mi opinión, no por el pr...</td>\n",
       "      <td>3086</td>\n",
       "      <td>5</td>\n",
       "    </tr>\n",
       "    <tr>\n",
       "      <th>69098</th>\n",
       "      <td>Compré esta depiladora recomendada por una ami...</td>\n",
       "      <td>2898</td>\n",
       "      <td>2</td>\n",
       "    </tr>\n",
       "    <tr>\n",
       "      <th>44542</th>\n",
       "      <td>La idea de este producto está bastante bien: m...</td>\n",
       "      <td>2727</td>\n",
       "      <td>2</td>\n",
       "    </tr>\n",
       "    <tr>\n",
       "      <th>108629</th>\n",
       "      <td>La linterna funciona muy bien, en términos gen...</td>\n",
       "      <td>2459</td>\n",
       "      <td>3</td>\n",
       "    </tr>\n",
       "    <tr>\n",
       "      <th>176581</th>\n",
       "      <td>La idea era comprar un radio reloj despertador...</td>\n",
       "      <td>2392</td>\n",
       "      <td>5</td>\n",
       "    </tr>\n",
       "  </tbody>\n",
       "</table>\n",
       "</div>"
      ],
      "text/plain": [
       "                                              review_body  length  stars\n",
       "192038  Hago estos cambios en mi opinión, no por el pr...    3086      5\n",
       "69098   Compré esta depiladora recomendada por una ami...    2898      2\n",
       "44542   La idea de este producto está bastante bien: m...    2727      2\n",
       "108629  La linterna funciona muy bien, en términos gen...    2459      3\n",
       "176581  La idea era comprar un radio reloj despertador...    2392      5"
      ]
     },
     "execution_count": 23,
     "metadata": {},
     "output_type": "execute_result"
    }
   ],
   "source": [
    "# Reviews de gran longitud\n",
    "\n",
    "Amazon_train[['review_body','length','stars']].sort_values('length',ascending=False).head()"
   ]
  },
  {
   "cell_type": "code",
   "execution_count": 24,
   "metadata": {},
   "outputs": [
    {
     "data": {
      "text/html": [
       "<div>\n",
       "<style scoped>\n",
       "    .dataframe tbody tr th:only-of-type {\n",
       "        vertical-align: middle;\n",
       "    }\n",
       "\n",
       "    .dataframe tbody tr th {\n",
       "        vertical-align: top;\n",
       "    }\n",
       "\n",
       "    .dataframe thead th {\n",
       "        text-align: right;\n",
       "    }\n",
       "</style>\n",
       "<table border=\"1\" class=\"dataframe\">\n",
       "  <thead>\n",
       "    <tr style=\"text-align: right;\">\n",
       "      <th></th>\n",
       "      <th>stars</th>\n",
       "      <th>review_body</th>\n",
       "      <th>review_title</th>\n",
       "      <th>product_category</th>\n",
       "      <th>length</th>\n",
       "    </tr>\n",
       "  </thead>\n",
       "  <tbody>\n",
       "    <tr>\n",
       "      <th>69098</th>\n",
       "      <td>2</td>\n",
       "      <td>Compré esta depiladora recomendada por una ami...</td>\n",
       "      <td>Resultados regulares, sensor muy mejorable</td>\n",
       "      <td>personal_care_appliances</td>\n",
       "      <td>2898</td>\n",
       "    </tr>\n",
       "  </tbody>\n",
       "</table>\n",
       "</div>"
      ],
      "text/plain": [
       "       stars                                        review_body  \\\n",
       "69098      2  Compré esta depiladora recomendada por una ami...   \n",
       "\n",
       "                                     review_title          product_category  \\\n",
       "69098  Resultados regulares, sensor muy mejorable  personal_care_appliances   \n",
       "\n",
       "       length  \n",
       "69098    2898  "
      ]
     },
     "execution_count": 24,
     "metadata": {},
     "output_type": "execute_result"
    }
   ],
   "source": [
    "Amazon_train[Amazon_train['length']==2898]"
   ]
  },
  {
   "cell_type": "code",
   "execution_count": null,
   "metadata": {},
   "outputs": [],
   "source": [
    "# a modo de curisosidad miro los 5 casos con review más extensas => 3086 / 2898 / 2727 / 2459 / 2392\n",
    "Amazon_train[Amazon_train['length']==2898]['review_body'].iloc[0]"
   ]
  },
  {
   "cell_type": "markdown",
   "metadata": {},
   "source": [
    "- Revisamos otros datos descriptivos en el siguiente chart haciendo foco en el title, body y category\n",
    " - Acá nos damos cuenta que el titulo puede ser un  muy buen predictor al revisar el 'top' y su 'freq '\n",
    "      - 1 estrella => 'mala calidad'\n",
    "      - 2 estrella => 'Regular'\n",
    "      - 3 estrella => 'bien'\n",
    "      - 4 estrella => 'bien'\n",
    "      - 5 estrella => 'perfecto'\n",
    " - En cambio el review body\n",
    "      - 1 estrella => 'no he recibido el producto'\n",
    "      - 2 estrella => 'no es lo que esperaba'\n",
    "      - 3, 4 y 5 estrella => 'buena relación calidad precio'"
   ]
  },
  {
   "cell_type": "code",
   "execution_count": 26,
   "metadata": {},
   "outputs": [],
   "source": [
    "Amazon_train.drop(['length'], axis=1, inplace= True)"
   ]
  },
  {
   "cell_type": "code",
   "execution_count": 27,
   "metadata": {},
   "outputs": [
    {
     "data": {
      "text/html": [
       "<div>\n",
       "<style scoped>\n",
       "    .dataframe tbody tr th:only-of-type {\n",
       "        vertical-align: middle;\n",
       "    }\n",
       "\n",
       "    .dataframe tbody tr th {\n",
       "        vertical-align: top;\n",
       "    }\n",
       "\n",
       "    .dataframe thead th {\n",
       "        text-align: right;\n",
       "    }\n",
       "</style>\n",
       "<table border=\"1\" class=\"dataframe\">\n",
       "  <thead>\n",
       "    <tr style=\"text-align: right;\">\n",
       "      <th></th>\n",
       "      <th>stars</th>\n",
       "      <th>1</th>\n",
       "      <th>2</th>\n",
       "      <th>3</th>\n",
       "      <th>4</th>\n",
       "      <th>5</th>\n",
       "    </tr>\n",
       "  </thead>\n",
       "  <tbody>\n",
       "    <tr>\n",
       "      <th rowspan=\"4\" valign=\"top\">review_body</th>\n",
       "      <th>count</th>\n",
       "      <td>40000</td>\n",
       "      <td>40000</td>\n",
       "      <td>40000</td>\n",
       "      <td>40000</td>\n",
       "      <td>40000</td>\n",
       "    </tr>\n",
       "    <tr>\n",
       "      <th>unique</th>\n",
       "      <td>39800</td>\n",
       "      <td>39909</td>\n",
       "      <td>39839</td>\n",
       "      <td>39585</td>\n",
       "      <td>39602</td>\n",
       "    </tr>\n",
       "    <tr>\n",
       "      <th>top</th>\n",
       "      <td>No he recibido el producto</td>\n",
       "      <td>No es lo que esperaba</td>\n",
       "      <td>Buena relación calidad precio</td>\n",
       "      <td>Buena relación calidad precio</td>\n",
       "      <td>Buena relación calidad precio</td>\n",
       "    </tr>\n",
       "    <tr>\n",
       "      <th>freq</th>\n",
       "      <td>15</td>\n",
       "      <td>21</td>\n",
       "      <td>15</td>\n",
       "      <td>57</td>\n",
       "      <td>32</td>\n",
       "    </tr>\n",
       "    <tr>\n",
       "      <th rowspan=\"4\" valign=\"top\">review_title</th>\n",
       "      <th>count</th>\n",
       "      <td>40000</td>\n",
       "      <td>40000</td>\n",
       "      <td>40000</td>\n",
       "      <td>40000</td>\n",
       "      <td>40000</td>\n",
       "    </tr>\n",
       "    <tr>\n",
       "      <th>unique</th>\n",
       "      <td>24965</td>\n",
       "      <td>28158</td>\n",
       "      <td>27217</td>\n",
       "      <td>22917</td>\n",
       "      <td>21390</td>\n",
       "    </tr>\n",
       "    <tr>\n",
       "      <th>top</th>\n",
       "      <td>Mala calidad</td>\n",
       "      <td>Regular</td>\n",
       "      <td>Bien</td>\n",
       "      <td>Bien</td>\n",
       "      <td>Perfecto</td>\n",
       "    </tr>\n",
       "    <tr>\n",
       "      <th>freq</th>\n",
       "      <td>597</td>\n",
       "      <td>542</td>\n",
       "      <td>701</td>\n",
       "      <td>869</td>\n",
       "      <td>1361</td>\n",
       "    </tr>\n",
       "    <tr>\n",
       "      <th rowspan=\"4\" valign=\"top\">product_category</th>\n",
       "      <th>count</th>\n",
       "      <td>40000</td>\n",
       "      <td>40000</td>\n",
       "      <td>40000</td>\n",
       "      <td>40000</td>\n",
       "      <td>40000</td>\n",
       "    </tr>\n",
       "    <tr>\n",
       "      <th>unique</th>\n",
       "      <td>30</td>\n",
       "      <td>30</td>\n",
       "      <td>30</td>\n",
       "      <td>30</td>\n",
       "      <td>30</td>\n",
       "    </tr>\n",
       "    <tr>\n",
       "      <th>top</th>\n",
       "      <td>wireless</td>\n",
       "      <td>wireless</td>\n",
       "      <td>home</td>\n",
       "      <td>home</td>\n",
       "      <td>home</td>\n",
       "    </tr>\n",
       "    <tr>\n",
       "      <th>freq</th>\n",
       "      <td>6283</td>\n",
       "      <td>5684</td>\n",
       "      <td>5477</td>\n",
       "      <td>5309</td>\n",
       "      <td>5243</td>\n",
       "    </tr>\n",
       "  </tbody>\n",
       "</table>\n",
       "</div>"
      ],
      "text/plain": [
       "stars                                             1                      2  \\\n",
       "review_body      count                        40000                  40000   \n",
       "                 unique                       39800                  39909   \n",
       "                 top     No he recibido el producto  No es lo que esperaba   \n",
       "                 freq                            15                     21   \n",
       "review_title     count                        40000                  40000   \n",
       "                 unique                       24965                  28158   \n",
       "                 top                   Mala calidad                Regular   \n",
       "                 freq                           597                    542   \n",
       "product_category count                        40000                  40000   \n",
       "                 unique                          30                     30   \n",
       "                 top                       wireless               wireless   \n",
       "                 freq                          6283                   5684   \n",
       "\n",
       "stars                                                3  \\\n",
       "review_body      count                           40000   \n",
       "                 unique                          39839   \n",
       "                 top     Buena relación calidad precio   \n",
       "                 freq                               15   \n",
       "review_title     count                           40000   \n",
       "                 unique                          27217   \n",
       "                 top                              Bien   \n",
       "                 freq                              701   \n",
       "product_category count                           40000   \n",
       "                 unique                             30   \n",
       "                 top                              home   \n",
       "                 freq                             5477   \n",
       "\n",
       "stars                                                4  \\\n",
       "review_body      count                           40000   \n",
       "                 unique                          39585   \n",
       "                 top     Buena relación calidad precio   \n",
       "                 freq                               57   \n",
       "review_title     count                           40000   \n",
       "                 unique                          22917   \n",
       "                 top                              Bien   \n",
       "                 freq                              869   \n",
       "product_category count                           40000   \n",
       "                 unique                             30   \n",
       "                 top                              home   \n",
       "                 freq                             5309   \n",
       "\n",
       "stars                                                5  \n",
       "review_body      count                           40000  \n",
       "                 unique                          39602  \n",
       "                 top     Buena relación calidad precio  \n",
       "                 freq                               32  \n",
       "review_title     count                           40000  \n",
       "                 unique                          21390  \n",
       "                 top                          Perfecto  \n",
       "                 freq                             1361  \n",
       "product_category count                           40000  \n",
       "                 unique                             30  \n",
       "                 top                              home  \n",
       "                 freq                             5243  "
      ]
     },
     "execution_count": 27,
     "metadata": {},
     "output_type": "execute_result"
    }
   ],
   "source": [
    "Amazon_train.groupby('stars').describe().transpose()"
   ]
  },
  {
   "cell_type": "markdown",
   "metadata": {},
   "source": [
    "- Revisando los titulos vemos que los primeros 10 con más repitición denotan una conotación positiva. Igualmente esto es solo indicativo"
   ]
  },
  {
   "cell_type": "code",
   "execution_count": 28,
   "metadata": {},
   "outputs": [
    {
     "data": {
      "image/png": "[encoded data removed]",
      "text/plain": [
       "<Figure size 1800x360 with 1 Axes>"
      ]
     },
     "metadata": {},
     "output_type": "display_data"
    },
    {
     "data": {
      "text/plain": [
       "<Figure size 432x288 with 0 Axes>"
      ]
     },
     "metadata": {},
     "output_type": "display_data"
    }
   ],
   "source": [
    "plt.figure(figsize=(25, 5))\n",
    "\n",
    "ax=sns.countplot( x = 'review_title',data = Amazon_train, order= Amazon_train ['review_title'].value_counts().head(10).index)\n",
    "\n",
    "plt.xticks(rotation = 45)\n",
    "plt.yticks(rotation = 0)\n",
    "plt.ylabel('Cantidad_Reviews (un)',fontweight= \"black\", fontsize = 14)\n",
    "plt.xlabel('review_title',fontweight= \"black\", fontsize = 14)\n",
    "plt.title('Agrupamiento_de_Reviews_x_title',fontweight= \"black\",fontsize = 16, color=\"blue\")\n",
    "# plt.grid()\n",
    "plt.figure()\n",
    "plt.show()"
   ]
  },
  {
   "cell_type": "markdown",
   "metadata": {},
   "source": [
    "- **Análizamos las categorías**"
   ]
  },
  {
   "cell_type": "code",
   "execution_count": 29,
   "metadata": {},
   "outputs": [
    {
     "name": "stdout",
     "output_type": "stream",
     "text": [
      "Agrupamiento de reviews por categoría\n",
      "\n"
     ]
    },
    {
     "data": {
      "text/html": [
       "<div>\n",
       "<style scoped>\n",
       "    .dataframe tbody tr th:only-of-type {\n",
       "        vertical-align: middle;\n",
       "    }\n",
       "\n",
       "    .dataframe tbody tr th {\n",
       "        vertical-align: top;\n",
       "    }\n",
       "\n",
       "    .dataframe thead th {\n",
       "        text-align: right;\n",
       "    }\n",
       "</style>\n",
       "<table border=\"1\" class=\"dataframe\">\n",
       "  <thead>\n",
       "    <tr style=\"text-align: right;\">\n",
       "      <th></th>\n",
       "      <th>product_category</th>\n",
       "      <th>Cantidad_ reviews_x_categoría</th>\n",
       "    </tr>\n",
       "  </thead>\n",
       "  <tbody>\n",
       "    <tr>\n",
       "      <th>11</th>\n",
       "      <td>home</td>\n",
       "      <td>26962</td>\n",
       "    </tr>\n",
       "    <tr>\n",
       "      <th>29</th>\n",
       "      <td>wireless</td>\n",
       "      <td>25886</td>\n",
       "    </tr>\n",
       "    <tr>\n",
       "      <th>26</th>\n",
       "      <td>toy</td>\n",
       "      <td>13647</td>\n",
       "    </tr>\n",
       "    <tr>\n",
       "      <th>25</th>\n",
       "      <td>sports</td>\n",
       "      <td>13189</td>\n",
       "    </tr>\n",
       "    <tr>\n",
       "      <th>21</th>\n",
       "      <td>pc</td>\n",
       "      <td>11191</td>\n",
       "    </tr>\n",
       "    <tr>\n",
       "      <th>12</th>\n",
       "      <td>home_improvement</td>\n",
       "      <td>10879</td>\n",
       "    </tr>\n",
       "    <tr>\n",
       "      <th>8</th>\n",
       "      <td>electronics</td>\n",
       "      <td>10385</td>\n",
       "    </tr>\n",
       "    <tr>\n",
       "      <th>3</th>\n",
       "      <td>beauty</td>\n",
       "      <td>7337</td>\n",
       "    </tr>\n",
       "    <tr>\n",
       "      <th>1</th>\n",
       "      <td>automotive</td>\n",
       "      <td>7143</td>\n",
       "    </tr>\n",
       "    <tr>\n",
       "      <th>15</th>\n",
       "      <td>kitchen</td>\n",
       "      <td>6695</td>\n",
       "    </tr>\n",
       "  </tbody>\n",
       "</table>\n",
       "</div>"
      ],
      "text/plain": [
       "    product_category  Cantidad_ reviews_x_categoría\n",
       "11              home                          26962\n",
       "29          wireless                          25886\n",
       "26               toy                          13647\n",
       "25            sports                          13189\n",
       "21                pc                          11191\n",
       "12  home_improvement                          10879\n",
       "8        electronics                          10385\n",
       "3             beauty                           7337\n",
       "1         automotive                           7143\n",
       "15           kitchen                           6695"
      ]
     },
     "execution_count": 29,
     "metadata": {},
     "output_type": "execute_result"
    }
   ],
   "source": [
    "#Agrupamos las review en función del product_category\n",
    " \n",
    "print('Agrupamiento de reviews por categoría')\n",
    "print('')\n",
    "Amazon_train.groupby(['product_category']).size().reset_index(name='Cantidad_ reviews_x_categoría').sort_values('Cantidad_ reviews_x_categoría',ascending=False).head(10)\n",
    "#Amazon_dev['product_category'].value_counts()"
   ]
  },
  {
   "cell_type": "code",
   "execution_count": 30,
   "metadata": {},
   "outputs": [
    {
     "name": "stdout",
     "output_type": "stream",
     "text": [
      "\n"
     ]
    },
    {
     "data": {
      "image/png": "[encoded data removed]",
      "text/plain": [
       "<Figure size 1800x360 with 1 Axes>"
      ]
     },
     "metadata": {},
     "output_type": "display_data"
    },
    {
     "data": {
      "text/plain": [
       "<Figure size 432x288 with 0 Axes>"
      ]
     },
     "metadata": {},
     "output_type": "display_data"
    }
   ],
   "source": [
    "#Armamos grafico en Seaborn para acompañar a la tabla de agrupamiento del punto anterior y visualizamos las primeras 15 categorías que como vasmos a ver debajo acumulan el 80% de las reviews\n",
    "print('')\n",
    "plt.figure(figsize=(25, 5))\n",
    "\n",
    "ax=sns.countplot( x = 'product_category',data = Amazon_train, order= Amazon_train ['product_category'].value_counts().head(15).index)\n",
    "\n",
    "plt.xticks(rotation = 45)\n",
    "plt.yticks(rotation = 0)\n",
    "plt.ylabel('Cantidad_Reviews (un)',fontweight= \"black\", fontsize = 14)\n",
    "plt.xlabel('Categoría',fontweight= \"black\", fontsize = 14)\n",
    "plt.title('Agrupamiento_de_Reviews_x_Categoría',fontweight= \"black\",fontsize = 16, color=\"blue\")\n",
    "# plt.grid()\n",
    "plt.figure()\n",
    "plt.show()"
   ]
  },
  {
   "cell_type": "markdown",
   "metadata": {},
   "source": [
    "- **Armamos la tabla de frecuencias** absolutas, relativas, acumuladas y un grafico de Pareto para las Categorías => video: https://www.youtube.com/watch?v=NpEPEIMvItw"
   ]
  },
  {
   "cell_type": "code",
   "execution_count": 31,
   "metadata": {},
   "outputs": [
    {
     "data": {
      "text/html": [
       "<div>\n",
       "<style scoped>\n",
       "    .dataframe tbody tr th:only-of-type {\n",
       "        vertical-align: middle;\n",
       "    }\n",
       "\n",
       "    .dataframe tbody tr th {\n",
       "        vertical-align: top;\n",
       "    }\n",
       "\n",
       "    .dataframe thead th {\n",
       "        text-align: right;\n",
       "    }\n",
       "</style>\n",
       "<table border=\"1\" class=\"dataframe\">\n",
       "  <thead>\n",
       "    <tr style=\"text-align: right;\">\n",
       "      <th></th>\n",
       "      <th>Frec_abs</th>\n",
       "      <th>Frec_rel_%</th>\n",
       "      <th>frec_rel_%_acum</th>\n",
       "    </tr>\n",
       "  </thead>\n",
       "  <tbody>\n",
       "    <tr>\n",
       "      <th>home</th>\n",
       "      <td>26962</td>\n",
       "      <td>13.4810</td>\n",
       "      <td>13.4810</td>\n",
       "    </tr>\n",
       "    <tr>\n",
       "      <th>wireless</th>\n",
       "      <td>25886</td>\n",
       "      <td>12.9430</td>\n",
       "      <td>26.4240</td>\n",
       "    </tr>\n",
       "    <tr>\n",
       "      <th>toy</th>\n",
       "      <td>13647</td>\n",
       "      <td>6.8235</td>\n",
       "      <td>33.2475</td>\n",
       "    </tr>\n",
       "    <tr>\n",
       "      <th>sports</th>\n",
       "      <td>13189</td>\n",
       "      <td>6.5945</td>\n",
       "      <td>39.8420</td>\n",
       "    </tr>\n",
       "    <tr>\n",
       "      <th>pc</th>\n",
       "      <td>11191</td>\n",
       "      <td>5.5955</td>\n",
       "      <td>45.4375</td>\n",
       "    </tr>\n",
       "    <tr>\n",
       "      <th>home_improvement</th>\n",
       "      <td>10879</td>\n",
       "      <td>5.4395</td>\n",
       "      <td>50.8770</td>\n",
       "    </tr>\n",
       "    <tr>\n",
       "      <th>electronics</th>\n",
       "      <td>10385</td>\n",
       "      <td>5.1925</td>\n",
       "      <td>56.0695</td>\n",
       "    </tr>\n",
       "    <tr>\n",
       "      <th>beauty</th>\n",
       "      <td>7337</td>\n",
       "      <td>3.6685</td>\n",
       "      <td>59.7380</td>\n",
       "    </tr>\n",
       "    <tr>\n",
       "      <th>automotive</th>\n",
       "      <td>7143</td>\n",
       "      <td>3.5715</td>\n",
       "      <td>63.3095</td>\n",
       "    </tr>\n",
       "    <tr>\n",
       "      <th>kitchen</th>\n",
       "      <td>6695</td>\n",
       "      <td>3.3475</td>\n",
       "      <td>66.6570</td>\n",
       "    </tr>\n",
       "    <tr>\n",
       "      <th>apparel</th>\n",
       "      <td>5737</td>\n",
       "      <td>2.8685</td>\n",
       "      <td>69.5255</td>\n",
       "    </tr>\n",
       "    <tr>\n",
       "      <th>drugstore</th>\n",
       "      <td>5513</td>\n",
       "      <td>2.7565</td>\n",
       "      <td>72.2820</td>\n",
       "    </tr>\n",
       "    <tr>\n",
       "      <th>book</th>\n",
       "      <td>5264</td>\n",
       "      <td>2.6320</td>\n",
       "      <td>74.9140</td>\n",
       "    </tr>\n",
       "    <tr>\n",
       "      <th>furniture</th>\n",
       "      <td>5229</td>\n",
       "      <td>2.6145</td>\n",
       "      <td>77.5285</td>\n",
       "    </tr>\n",
       "    <tr>\n",
       "      <th>baby_product</th>\n",
       "      <td>4881</td>\n",
       "      <td>2.4405</td>\n",
       "      <td>79.9690</td>\n",
       "    </tr>\n",
       "  </tbody>\n",
       "</table>\n",
       "</div>"
      ],
      "text/plain": [
       "                  Frec_abs  Frec_rel_%  frec_rel_%_acum\n",
       "home                 26962     13.4810          13.4810\n",
       "wireless             25886     12.9430          26.4240\n",
       "toy                  13647      6.8235          33.2475\n",
       "sports               13189      6.5945          39.8420\n",
       "pc                   11191      5.5955          45.4375\n",
       "home_improvement     10879      5.4395          50.8770\n",
       "electronics          10385      5.1925          56.0695\n",
       "beauty                7337      3.6685          59.7380\n",
       "automotive            7143      3.5715          63.3095\n",
       "kitchen               6695      3.3475          66.6570\n",
       "apparel               5737      2.8685          69.5255\n",
       "drugstore             5513      2.7565          72.2820\n",
       "book                  5264      2.6320          74.9140\n",
       "furniture             5229      2.6145          77.5285\n",
       "baby_product          4881      2.4405          79.9690"
      ]
     },
     "execution_count": 31,
     "metadata": {},
     "output_type": "execute_result"
    }
   ],
   "source": [
    "#Agrupamiento por product_category\n",
    "frec = pd.value_counts(Amazon_train['product_category'])\n",
    "\n",
    "#transformo en el df de poandas\n",
    "df_frec= pd.DataFrame(frec)\n",
    "\n",
    "#agrego columnas 'Frec_abs'\n",
    "df_frec.columns = ['Frec_abs']\n",
    "\n",
    "#calculo la coliumna 'Frec_abs'\n",
    "df_frec['Frec_rel_%'] = 100* (df_frec.Frec_abs / Amazon_train.shape[0])\n",
    "\n",
    "#tabla de frecuencias absolutas / reltivas / acumulada\n",
    "\n",
    "frec_rel_val= df_frec['Frec_rel_%'].values # es una lista que contiene los valores de frec_rel_%\n",
    "\n",
    "acum = []\n",
    "valor_acum = 0\n",
    "\n",
    "for i in frec_rel_val:\n",
    "    valor_acum = valor_acum + i \n",
    "    acum.append(valor_acum)\n",
    "\n",
    "df_frec['frec_rel_%_acum'] = acum\n",
    "df_frec.head(15) # son las 15 categorías que acumulan el 80% de las review"
   ]
  },
  {
   "cell_type": "code",
   "execution_count": 32,
   "metadata": {},
   "outputs": [
    {
     "data": {
      "image/png": "[encoded data removed]",
      "text/plain": [
       "<Figure size 1008x432 with 2 Axes>"
      ]
     },
     "metadata": {},
     "output_type": "display_data"
    }
   ],
   "source": [
    "fig= plt.figure (figsize = (14,6))\n",
    "ax= fig.add_subplot(1,1,1)\n",
    "\n",
    "#Asignamos el titulo\n",
    "ax.set_title ('Diagrama de Pareto de las cateorías')\n",
    "\n",
    "#Creamos un grafico de barras con la frec_abs\n",
    "ax.bar (df_frec.index, df_frec['Frec_abs'], color='C0')\n",
    "        \n",
    "    \n",
    "#Graficamos la 'frec_rel_%_acum'\n",
    "ax2 = ax.twinx() # generamos un nuevo eje\n",
    "ax2.plot (df_frec.index, df_frec['frec_rel_%_acum'], color ='C1', marker='D', ms=5)\n",
    "ax2.yaxis.set_major_formatter (PercentFormatter()) # para que los numeros del eje de la derecha esten en %\n",
    "\n",
    "#Etiquetamos, asignamos color y damos rotación a las etiquetes de los ejes\n",
    "ax.tick_params (axis='y', color = 'C0')\n",
    "ax2.tick_params (axis='y', color = 'C1')\n",
    "ax.set_xticklabels(df_frec.index, rotation=75)\n",
    "\n",
    "plt.show()\n"
   ]
  },
  {
   "cell_type": "markdown",
   "metadata": {},
   "source": [
    "Podemos concluir de las tablas y del pareto que, \n",
    "* El 80% de las review corresponden a 15 categorías =>  home, wireless, toy, sports, PC, home, electronics, beauty, automotive, kitchen, apparel,drugstore, book, furnitur and baby_products"
   ]
  },
  {
   "cell_type": "markdown",
   "metadata": {},
   "source": [
    "- **Revisamos las review en función de la cantidad de estrellas, de 5 a 1**\n",
    " - Vemos que la cantidad de reviews es de la misma cantidad segun la clasiicación de las entrellas del 1 al 5"
   ]
  },
  {
   "cell_type": "code",
   "execution_count": 33,
   "metadata": {},
   "outputs": [
    {
     "name": "stdout",
     "output_type": "stream",
     "text": [
      "Agrupamiento de review por cantidad de estrellas\n",
      "\n",
      "   stars  Cantidad_ reviews_x_estrella\n",
      "0      1                         40000\n",
      "1      2                         40000\n",
      "2      3                         40000\n",
      "3      4                         40000\n",
      "4      5                         40000\n",
      "\n"
     ]
    },
    {
     "data": {
      "image/png": "[encoded data removed]",
      "text/plain": [
       "<Figure size 864x288 with 1 Axes>"
      ]
     },
     "metadata": {},
     "output_type": "display_data"
    },
    {
     "data": {
      "text/plain": [
       "<Figure size 432x288 with 0 Axes>"
      ]
     },
     "metadata": {},
     "output_type": "display_data"
    }
   ],
   "source": [
    "print('Agrupamiento de review por cantidad de estrellas')\n",
    "print('')\n",
    "print(Amazon_train.groupby(['stars']).size().reset_index(name='Cantidad_ reviews_x_estrella').sort_values('Cantidad_ reviews_x_estrella',ascending=False))\n",
    "\n",
    "#Armamos grafico en Seaborn para acompañar a la tabla de agrupamiento del punto anterior\n",
    "print('')\n",
    "plt.figure(figsize=(12, 4))\n",
    "\n",
    "ax=sns.countplot( x = 'stars',data = Amazon_train)\n",
    "\n",
    "plt.xticks(rotation = 45)\n",
    "plt.yticks(rotation = 0)\n",
    "plt.ylabel('Cantidad_Reviews (un)',fontweight= \"black\", fontsize = 14)\n",
    "plt.xlabel('Cantidad_Estrellas',fontweight= \"black\", fontsize = 14)\n",
    "plt.title('Agrupamiento_de_Reviews_x_Cantidad_de_Estrellas',fontweight= \"black\",fontsize = 16, color=\"blue\")\n",
    "#plt.legend(loc='lower center', shadow=False, fontsize='small')\n",
    "#plt.grid()\n",
    "plt.figure()\n",
    "plt.show()"
   ]
  },
  {
   "cell_type": "code",
   "execution_count": 34,
   "metadata": {
    "scrolled": true
   },
   "outputs": [
    {
     "data": {
      "text/html": [
       "<div>\n",
       "<style scoped>\n",
       "    .dataframe tbody tr th:only-of-type {\n",
       "        vertical-align: middle;\n",
       "    }\n",
       "\n",
       "    .dataframe tbody tr th {\n",
       "        vertical-align: top;\n",
       "    }\n",
       "\n",
       "    .dataframe thead th {\n",
       "        text-align: right;\n",
       "    }\n",
       "</style>\n",
       "<table border=\"1\" class=\"dataframe\">\n",
       "  <thead>\n",
       "    <tr style=\"text-align: right;\">\n",
       "      <th></th>\n",
       "      <th>stars</th>\n",
       "      <th>product_category</th>\n",
       "      <th>Cantidad_ reviews_x_categoría</th>\n",
       "    </tr>\n",
       "  </thead>\n",
       "  <tbody>\n",
       "    <tr>\n",
       "      <th>131</th>\n",
       "      <td>5</td>\n",
       "      <td>home</td>\n",
       "      <td>5243</td>\n",
       "    </tr>\n",
       "    <tr>\n",
       "      <th>149</th>\n",
       "      <td>5</td>\n",
       "      <td>wireless</td>\n",
       "      <td>4516</td>\n",
       "    </tr>\n",
       "    <tr>\n",
       "      <th>146</th>\n",
       "      <td>5</td>\n",
       "      <td>toy</td>\n",
       "      <td>2827</td>\n",
       "    </tr>\n",
       "    <tr>\n",
       "      <th>145</th>\n",
       "      <td>5</td>\n",
       "      <td>sports</td>\n",
       "      <td>2512</td>\n",
       "    </tr>\n",
       "    <tr>\n",
       "      <th>141</th>\n",
       "      <td>5</td>\n",
       "      <td>pc</td>\n",
       "      <td>2455</td>\n",
       "    </tr>\n",
       "    <tr>\n",
       "      <th>132</th>\n",
       "      <td>5</td>\n",
       "      <td>home_improvement</td>\n",
       "      <td>2167</td>\n",
       "    </tr>\n",
       "    <tr>\n",
       "      <th>128</th>\n",
       "      <td>5</td>\n",
       "      <td>electronics</td>\n",
       "      <td>1932</td>\n",
       "    </tr>\n",
       "    <tr>\n",
       "      <th>124</th>\n",
       "      <td>5</td>\n",
       "      <td>book</td>\n",
       "      <td>1605</td>\n",
       "    </tr>\n",
       "    <tr>\n",
       "      <th>123</th>\n",
       "      <td>5</td>\n",
       "      <td>beauty</td>\n",
       "      <td>1423</td>\n",
       "    </tr>\n",
       "    <tr>\n",
       "      <th>135</th>\n",
       "      <td>5</td>\n",
       "      <td>kitchen</td>\n",
       "      <td>1323</td>\n",
       "    </tr>\n",
       "    <tr>\n",
       "      <th>121</th>\n",
       "      <td>5</td>\n",
       "      <td>automotive</td>\n",
       "      <td>1313</td>\n",
       "    </tr>\n",
       "    <tr>\n",
       "      <th>127</th>\n",
       "      <td>5</td>\n",
       "      <td>drugstore</td>\n",
       "      <td>1173</td>\n",
       "    </tr>\n",
       "    <tr>\n",
       "      <th>139</th>\n",
       "      <td>5</td>\n",
       "      <td>office_product</td>\n",
       "      <td>1033</td>\n",
       "    </tr>\n",
       "    <tr>\n",
       "      <th>122</th>\n",
       "      <td>5</td>\n",
       "      <td>baby_product</td>\n",
       "      <td>1031</td>\n",
       "    </tr>\n",
       "    <tr>\n",
       "      <th>129</th>\n",
       "      <td>5</td>\n",
       "      <td>furniture</td>\n",
       "      <td>966</td>\n",
       "    </tr>\n",
       "    <tr>\n",
       "      <th>140</th>\n",
       "      <td>5</td>\n",
       "      <td>other</td>\n",
       "      <td>940</td>\n",
       "    </tr>\n",
       "    <tr>\n",
       "      <th>120</th>\n",
       "      <td>5</td>\n",
       "      <td>apparel</td>\n",
       "      <td>928</td>\n",
       "    </tr>\n",
       "    <tr>\n",
       "      <th>137</th>\n",
       "      <td>5</td>\n",
       "      <td>luggage</td>\n",
       "      <td>818</td>\n",
       "    </tr>\n",
       "    <tr>\n",
       "      <th>143</th>\n",
       "      <td>5</td>\n",
       "      <td>pet_products</td>\n",
       "      <td>741</td>\n",
       "    </tr>\n",
       "    <tr>\n",
       "      <th>142</th>\n",
       "      <td>5</td>\n",
       "      <td>personal_care_appliances</td>\n",
       "      <td>738</td>\n",
       "    </tr>\n",
       "    <tr>\n",
       "      <th>136</th>\n",
       "      <td>5</td>\n",
       "      <td>lawn_and_garden</td>\n",
       "      <td>688</td>\n",
       "    </tr>\n",
       "    <tr>\n",
       "      <th>125</th>\n",
       "      <td>5</td>\n",
       "      <td>camera</td>\n",
       "      <td>642</td>\n",
       "    </tr>\n",
       "    <tr>\n",
       "      <th>144</th>\n",
       "      <td>5</td>\n",
       "      <td>shoes</td>\n",
       "      <td>582</td>\n",
       "    </tr>\n",
       "    <tr>\n",
       "      <th>147</th>\n",
       "      <td>5</td>\n",
       "      <td>video_games</td>\n",
       "      <td>459</td>\n",
       "    </tr>\n",
       "    <tr>\n",
       "      <th>126</th>\n",
       "      <td>5</td>\n",
       "      <td>digital_ebook_purchase</td>\n",
       "      <td>440</td>\n",
       "    </tr>\n",
       "    <tr>\n",
       "      <th>138</th>\n",
       "      <td>5</td>\n",
       "      <td>musical_instruments</td>\n",
       "      <td>362</td>\n",
       "    </tr>\n",
       "    <tr>\n",
       "      <th>134</th>\n",
       "      <td>5</td>\n",
       "      <td>jewelry</td>\n",
       "      <td>301</td>\n",
       "    </tr>\n",
       "    <tr>\n",
       "      <th>133</th>\n",
       "      <td>5</td>\n",
       "      <td>industrial_supplies</td>\n",
       "      <td>297</td>\n",
       "    </tr>\n",
       "    <tr>\n",
       "      <th>148</th>\n",
       "      <td>5</td>\n",
       "      <td>watch</td>\n",
       "      <td>288</td>\n",
       "    </tr>\n",
       "    <tr>\n",
       "      <th>130</th>\n",
       "      <td>5</td>\n",
       "      <td>grocery</td>\n",
       "      <td>257</td>\n",
       "    </tr>\n",
       "    <tr>\n",
       "      <th>101</th>\n",
       "      <td>4</td>\n",
       "      <td>home</td>\n",
       "      <td>5309</td>\n",
       "    </tr>\n",
       "    <tr>\n",
       "      <th>119</th>\n",
       "      <td>4</td>\n",
       "      <td>wireless</td>\n",
       "      <td>4606</td>\n",
       "    </tr>\n",
       "    <tr>\n",
       "      <th>115</th>\n",
       "      <td>4</td>\n",
       "      <td>sports</td>\n",
       "      <td>2860</td>\n",
       "    </tr>\n",
       "    <tr>\n",
       "      <th>116</th>\n",
       "      <td>4</td>\n",
       "      <td>toy</td>\n",
       "      <td>2639</td>\n",
       "    </tr>\n",
       "    <tr>\n",
       "      <th>111</th>\n",
       "      <td>4</td>\n",
       "      <td>pc</td>\n",
       "      <td>2379</td>\n",
       "    </tr>\n",
       "    <tr>\n",
       "      <th>102</th>\n",
       "      <td>4</td>\n",
       "      <td>home_improvement</td>\n",
       "      <td>2375</td>\n",
       "    </tr>\n",
       "    <tr>\n",
       "      <th>98</th>\n",
       "      <td>4</td>\n",
       "      <td>electronics</td>\n",
       "      <td>1961</td>\n",
       "    </tr>\n",
       "    <tr>\n",
       "      <th>91</th>\n",
       "      <td>4</td>\n",
       "      <td>automotive</td>\n",
       "      <td>1441</td>\n",
       "    </tr>\n",
       "    <tr>\n",
       "      <th>105</th>\n",
       "      <td>4</td>\n",
       "      <td>kitchen</td>\n",
       "      <td>1438</td>\n",
       "    </tr>\n",
       "    <tr>\n",
       "      <th>93</th>\n",
       "      <td>4</td>\n",
       "      <td>beauty</td>\n",
       "      <td>1302</td>\n",
       "    </tr>\n",
       "    <tr>\n",
       "      <th>99</th>\n",
       "      <td>4</td>\n",
       "      <td>furniture</td>\n",
       "      <td>1182</td>\n",
       "    </tr>\n",
       "    <tr>\n",
       "      <th>90</th>\n",
       "      <td>4</td>\n",
       "      <td>apparel</td>\n",
       "      <td>1131</td>\n",
       "    </tr>\n",
       "    <tr>\n",
       "      <th>94</th>\n",
       "      <td>4</td>\n",
       "      <td>book</td>\n",
       "      <td>1106</td>\n",
       "    </tr>\n",
       "    <tr>\n",
       "      <th>97</th>\n",
       "      <td>4</td>\n",
       "      <td>drugstore</td>\n",
       "      <td>1034</td>\n",
       "    </tr>\n",
       "    <tr>\n",
       "      <th>92</th>\n",
       "      <td>4</td>\n",
       "      <td>baby_product</td>\n",
       "      <td>999</td>\n",
       "    </tr>\n",
       "    <tr>\n",
       "      <th>109</th>\n",
       "      <td>4</td>\n",
       "      <td>office_product</td>\n",
       "      <td>989</td>\n",
       "    </tr>\n",
       "    <tr>\n",
       "      <th>107</th>\n",
       "      <td>4</td>\n",
       "      <td>luggage</td>\n",
       "      <td>825</td>\n",
       "    </tr>\n",
       "    <tr>\n",
       "      <th>106</th>\n",
       "      <td>4</td>\n",
       "      <td>lawn_and_garden</td>\n",
       "      <td>749</td>\n",
       "    </tr>\n",
       "    <tr>\n",
       "      <th>112</th>\n",
       "      <td>4</td>\n",
       "      <td>personal_care_appliances</td>\n",
       "      <td>725</td>\n",
       "    </tr>\n",
       "    <tr>\n",
       "      <th>110</th>\n",
       "      <td>4</td>\n",
       "      <td>other</td>\n",
       "      <td>717</td>\n",
       "    </tr>\n",
       "  </tbody>\n",
       "</table>\n",
       "</div>"
      ],
      "text/plain": [
       "     stars          product_category  Cantidad_ reviews_x_categoría\n",
       "131      5                      home                           5243\n",
       "149      5                  wireless                           4516\n",
       "146      5                       toy                           2827\n",
       "145      5                    sports                           2512\n",
       "141      5                        pc                           2455\n",
       "132      5          home_improvement                           2167\n",
       "128      5               electronics                           1932\n",
       "124      5                      book                           1605\n",
       "123      5                    beauty                           1423\n",
       "135      5                   kitchen                           1323\n",
       "121      5                automotive                           1313\n",
       "127      5                 drugstore                           1173\n",
       "139      5            office_product                           1033\n",
       "122      5              baby_product                           1031\n",
       "129      5                 furniture                            966\n",
       "140      5                     other                            940\n",
       "120      5                   apparel                            928\n",
       "137      5                   luggage                            818\n",
       "143      5              pet_products                            741\n",
       "142      5  personal_care_appliances                            738\n",
       "136      5           lawn_and_garden                            688\n",
       "125      5                    camera                            642\n",
       "144      5                     shoes                            582\n",
       "147      5               video_games                            459\n",
       "126      5    digital_ebook_purchase                            440\n",
       "138      5       musical_instruments                            362\n",
       "134      5                   jewelry                            301\n",
       "133      5       industrial_supplies                            297\n",
       "148      5                     watch                            288\n",
       "130      5                   grocery                            257\n",
       "101      4                      home                           5309\n",
       "119      4                  wireless                           4606\n",
       "115      4                    sports                           2860\n",
       "116      4                       toy                           2639\n",
       "111      4                        pc                           2379\n",
       "102      4          home_improvement                           2375\n",
       "98       4               electronics                           1961\n",
       "91       4                automotive                           1441\n",
       "105      4                   kitchen                           1438\n",
       "93       4                    beauty                           1302\n",
       "99       4                 furniture                           1182\n",
       "90       4                   apparel                           1131\n",
       "94       4                      book                           1106\n",
       "97       4                 drugstore                           1034\n",
       "92       4              baby_product                            999\n",
       "109      4            office_product                            989\n",
       "107      4                   luggage                            825\n",
       "106      4           lawn_and_garden                            749\n",
       "112      4  personal_care_appliances                            725\n",
       "110      4                     other                            717"
      ]
     },
     "execution_count": 34,
     "metadata": {},
     "output_type": "execute_result"
    }
   ],
   "source": [
    "#Todas las estrellas (1 a 5)\n",
    "Amazon_train_todos=Amazon_train.groupby([ 'stars','product_category']).size().reset_index(name='Cantidad_ reviews_x_categoría').sort_values(['stars','Cantidad_ reviews_x_categoría'],ascending=False)\n",
    "Amazon_train_todos.head(50)"
   ]
  },
  {
   "cell_type": "code",
   "execution_count": 35,
   "metadata": {},
   "outputs": [
    {
     "data": {
      "text/html": [
       "<div>\n",
       "<style scoped>\n",
       "    .dataframe tbody tr th:only-of-type {\n",
       "        vertical-align: middle;\n",
       "    }\n",
       "\n",
       "    .dataframe tbody tr th {\n",
       "        vertical-align: top;\n",
       "    }\n",
       "\n",
       "    .dataframe thead th {\n",
       "        text-align: right;\n",
       "    }\n",
       "</style>\n",
       "<table border=\"1\" class=\"dataframe\">\n",
       "  <thead>\n",
       "    <tr style=\"text-align: right;\">\n",
       "      <th></th>\n",
       "      <th>stars</th>\n",
       "      <th>product_category</th>\n",
       "      <th>Cantidad_ reviews_x_categoría</th>\n",
       "    </tr>\n",
       "  </thead>\n",
       "  <tbody>\n",
       "    <tr>\n",
       "      <th>11</th>\n",
       "      <td>5</td>\n",
       "      <td>home</td>\n",
       "      <td>5243</td>\n",
       "    </tr>\n",
       "    <tr>\n",
       "      <th>29</th>\n",
       "      <td>5</td>\n",
       "      <td>wireless</td>\n",
       "      <td>4516</td>\n",
       "    </tr>\n",
       "    <tr>\n",
       "      <th>26</th>\n",
       "      <td>5</td>\n",
       "      <td>toy</td>\n",
       "      <td>2827</td>\n",
       "    </tr>\n",
       "    <tr>\n",
       "      <th>25</th>\n",
       "      <td>5</td>\n",
       "      <td>sports</td>\n",
       "      <td>2512</td>\n",
       "    </tr>\n",
       "    <tr>\n",
       "      <th>21</th>\n",
       "      <td>5</td>\n",
       "      <td>pc</td>\n",
       "      <td>2455</td>\n",
       "    </tr>\n",
       "    <tr>\n",
       "      <th>12</th>\n",
       "      <td>5</td>\n",
       "      <td>home_improvement</td>\n",
       "      <td>2167</td>\n",
       "    </tr>\n",
       "  </tbody>\n",
       "</table>\n",
       "</div>"
      ],
      "text/plain": [
       "    stars  product_category  Cantidad_ reviews_x_categoría\n",
       "11      5              home                           5243\n",
       "29      5          wireless                           4516\n",
       "26      5               toy                           2827\n",
       "25      5            sports                           2512\n",
       "21      5                pc                           2455\n",
       "12      5  home_improvement                           2167"
      ]
     },
     "execution_count": 35,
     "metadata": {},
     "output_type": "execute_result"
    }
   ],
   "source": [
    "# 5 estrellas\n",
    "Amazon_train_5=Amazon_train[Amazon_train.stars ==5].groupby([ 'stars','product_category']).size().reset_index(name='Cantidad_ reviews_x_categoría').sort_values('Cantidad_ reviews_x_categoría',ascending=False)\n",
    "Amazon_train_5.head(6)"
   ]
  },
  {
   "cell_type": "code",
   "execution_count": 36,
   "metadata": {},
   "outputs": [
    {
     "data": {
      "text/html": [
       "<div>\n",
       "<style scoped>\n",
       "    .dataframe tbody tr th:only-of-type {\n",
       "        vertical-align: middle;\n",
       "    }\n",
       "\n",
       "    .dataframe tbody tr th {\n",
       "        vertical-align: top;\n",
       "    }\n",
       "\n",
       "    .dataframe thead th {\n",
       "        text-align: right;\n",
       "    }\n",
       "</style>\n",
       "<table border=\"1\" class=\"dataframe\">\n",
       "  <thead>\n",
       "    <tr style=\"text-align: right;\">\n",
       "      <th></th>\n",
       "      <th>stars</th>\n",
       "      <th>product_category</th>\n",
       "      <th>Cantidad_ reviews_x_categoría</th>\n",
       "    </tr>\n",
       "  </thead>\n",
       "  <tbody>\n",
       "    <tr>\n",
       "      <th>11</th>\n",
       "      <td>4</td>\n",
       "      <td>home</td>\n",
       "      <td>5309</td>\n",
       "    </tr>\n",
       "    <tr>\n",
       "      <th>29</th>\n",
       "      <td>4</td>\n",
       "      <td>wireless</td>\n",
       "      <td>4606</td>\n",
       "    </tr>\n",
       "    <tr>\n",
       "      <th>25</th>\n",
       "      <td>4</td>\n",
       "      <td>sports</td>\n",
       "      <td>2860</td>\n",
       "    </tr>\n",
       "    <tr>\n",
       "      <th>26</th>\n",
       "      <td>4</td>\n",
       "      <td>toy</td>\n",
       "      <td>2639</td>\n",
       "    </tr>\n",
       "    <tr>\n",
       "      <th>21</th>\n",
       "      <td>4</td>\n",
       "      <td>pc</td>\n",
       "      <td>2379</td>\n",
       "    </tr>\n",
       "  </tbody>\n",
       "</table>\n",
       "</div>"
      ],
      "text/plain": [
       "    stars product_category  Cantidad_ reviews_x_categoría\n",
       "11      4             home                           5309\n",
       "29      4         wireless                           4606\n",
       "25      4           sports                           2860\n",
       "26      4              toy                           2639\n",
       "21      4               pc                           2379"
      ]
     },
     "execution_count": 36,
     "metadata": {},
     "output_type": "execute_result"
    }
   ],
   "source": [
    "# 4 estrellas\n",
    "Amazon_train_4=Amazon_train[Amazon_train.stars ==4].groupby([ 'stars','product_category']).size().reset_index(name='Cantidad_ reviews_x_categoría').sort_values('Cantidad_ reviews_x_categoría',ascending=False)\n",
    "Amazon_train_4.head()"
   ]
  },
  {
   "cell_type": "code",
   "execution_count": 37,
   "metadata": {},
   "outputs": [
    {
     "data": {
      "text/html": [
       "<div>\n",
       "<style scoped>\n",
       "    .dataframe tbody tr th:only-of-type {\n",
       "        vertical-align: middle;\n",
       "    }\n",
       "\n",
       "    .dataframe tbody tr th {\n",
       "        vertical-align: top;\n",
       "    }\n",
       "\n",
       "    .dataframe thead th {\n",
       "        text-align: right;\n",
       "    }\n",
       "</style>\n",
       "<table border=\"1\" class=\"dataframe\">\n",
       "  <thead>\n",
       "    <tr style=\"text-align: right;\">\n",
       "      <th></th>\n",
       "      <th>stars</th>\n",
       "      <th>product_category</th>\n",
       "      <th>Cantidad_ reviews_x_categoría</th>\n",
       "    </tr>\n",
       "  </thead>\n",
       "  <tbody>\n",
       "    <tr>\n",
       "      <th>11</th>\n",
       "      <td>3</td>\n",
       "      <td>home</td>\n",
       "      <td>5477</td>\n",
       "    </tr>\n",
       "    <tr>\n",
       "      <th>29</th>\n",
       "      <td>3</td>\n",
       "      <td>wireless</td>\n",
       "      <td>4797</td>\n",
       "    </tr>\n",
       "    <tr>\n",
       "      <th>26</th>\n",
       "      <td>3</td>\n",
       "      <td>toy</td>\n",
       "      <td>2965</td>\n",
       "    </tr>\n",
       "    <tr>\n",
       "      <th>25</th>\n",
       "      <td>3</td>\n",
       "      <td>sports</td>\n",
       "      <td>2828</td>\n",
       "    </tr>\n",
       "    <tr>\n",
       "      <th>12</th>\n",
       "      <td>3</td>\n",
       "      <td>home_improvement</td>\n",
       "      <td>2188</td>\n",
       "    </tr>\n",
       "    <tr>\n",
       "      <th>21</th>\n",
       "      <td>3</td>\n",
       "      <td>pc</td>\n",
       "      <td>1988</td>\n",
       "    </tr>\n",
       "  </tbody>\n",
       "</table>\n",
       "</div>"
      ],
      "text/plain": [
       "    stars  product_category  Cantidad_ reviews_x_categoría\n",
       "11      3              home                           5477\n",
       "29      3          wireless                           4797\n",
       "26      3               toy                           2965\n",
       "25      3            sports                           2828\n",
       "12      3  home_improvement                           2188\n",
       "21      3                pc                           1988"
      ]
     },
     "execution_count": 37,
     "metadata": {},
     "output_type": "execute_result"
    }
   ],
   "source": [
    "# 3 estrellas\n",
    "Amazon_train_3=Amazon_train[Amazon_train.stars ==3].groupby([ 'stars','product_category']).size().reset_index(name='Cantidad_ reviews_x_categoría').sort_values('Cantidad_ reviews_x_categoría',ascending=False)\n",
    "Amazon_train_3.head(6)"
   ]
  },
  {
   "cell_type": "code",
   "execution_count": 38,
   "metadata": {},
   "outputs": [
    {
     "data": {
      "text/html": [
       "<div>\n",
       "<style scoped>\n",
       "    .dataframe tbody tr th:only-of-type {\n",
       "        vertical-align: middle;\n",
       "    }\n",
       "\n",
       "    .dataframe tbody tr th {\n",
       "        vertical-align: top;\n",
       "    }\n",
       "\n",
       "    .dataframe thead th {\n",
       "        text-align: right;\n",
       "    }\n",
       "</style>\n",
       "<table border=\"1\" class=\"dataframe\">\n",
       "  <thead>\n",
       "    <tr style=\"text-align: right;\">\n",
       "      <th></th>\n",
       "      <th>stars</th>\n",
       "      <th>product_category</th>\n",
       "      <th>Cantidad_ reviews_x_categoría</th>\n",
       "    </tr>\n",
       "  </thead>\n",
       "  <tbody>\n",
       "    <tr>\n",
       "      <th>29</th>\n",
       "      <td>2</td>\n",
       "      <td>wireless</td>\n",
       "      <td>5684</td>\n",
       "    </tr>\n",
       "    <tr>\n",
       "      <th>11</th>\n",
       "      <td>2</td>\n",
       "      <td>home</td>\n",
       "      <td>5542</td>\n",
       "    </tr>\n",
       "    <tr>\n",
       "      <th>26</th>\n",
       "      <td>2</td>\n",
       "      <td>toy</td>\n",
       "      <td>2713</td>\n",
       "    </tr>\n",
       "    <tr>\n",
       "      <th>25</th>\n",
       "      <td>2</td>\n",
       "      <td>sports</td>\n",
       "      <td>2551</td>\n",
       "    </tr>\n",
       "    <tr>\n",
       "      <th>8</th>\n",
       "      <td>2</td>\n",
       "      <td>electronics</td>\n",
       "      <td>2188</td>\n",
       "    </tr>\n",
       "    <tr>\n",
       "      <th>21</th>\n",
       "      <td>2</td>\n",
       "      <td>pc</td>\n",
       "      <td>2149</td>\n",
       "    </tr>\n",
       "  </tbody>\n",
       "</table>\n",
       "</div>"
      ],
      "text/plain": [
       "    stars product_category  Cantidad_ reviews_x_categoría\n",
       "29      2         wireless                           5684\n",
       "11      2             home                           5542\n",
       "26      2              toy                           2713\n",
       "25      2           sports                           2551\n",
       "8       2      electronics                           2188\n",
       "21      2               pc                           2149"
      ]
     },
     "execution_count": 38,
     "metadata": {},
     "output_type": "execute_result"
    }
   ],
   "source": [
    "# 2 estrellas\n",
    "Amazon_train_2=Amazon_train[Amazon_train.stars ==2].groupby([ 'stars','product_category']).size().reset_index(name='Cantidad_ reviews_x_categoría').sort_values('Cantidad_ reviews_x_categoría',ascending=False)\n",
    "Amazon_train_2.head(6)"
   ]
  },
  {
   "cell_type": "code",
   "execution_count": 39,
   "metadata": {},
   "outputs": [
    {
     "data": {
      "text/html": [
       "<div>\n",
       "<style scoped>\n",
       "    .dataframe tbody tr th:only-of-type {\n",
       "        vertical-align: middle;\n",
       "    }\n",
       "\n",
       "    .dataframe tbody tr th {\n",
       "        vertical-align: top;\n",
       "    }\n",
       "\n",
       "    .dataframe thead th {\n",
       "        text-align: right;\n",
       "    }\n",
       "</style>\n",
       "<table border=\"1\" class=\"dataframe\">\n",
       "  <thead>\n",
       "    <tr style=\"text-align: right;\">\n",
       "      <th></th>\n",
       "      <th>stars</th>\n",
       "      <th>product_category</th>\n",
       "      <th>Cantidad_ reviews_x_categoría</th>\n",
       "    </tr>\n",
       "  </thead>\n",
       "  <tbody>\n",
       "    <tr>\n",
       "      <th>29</th>\n",
       "      <td>1</td>\n",
       "      <td>wireless</td>\n",
       "      <td>6283</td>\n",
       "    </tr>\n",
       "    <tr>\n",
       "      <th>11</th>\n",
       "      <td>1</td>\n",
       "      <td>home</td>\n",
       "      <td>5391</td>\n",
       "    </tr>\n",
       "    <tr>\n",
       "      <th>26</th>\n",
       "      <td>1</td>\n",
       "      <td>toy</td>\n",
       "      <td>2503</td>\n",
       "    </tr>\n",
       "    <tr>\n",
       "      <th>25</th>\n",
       "      <td>1</td>\n",
       "      <td>sports</td>\n",
       "      <td>2438</td>\n",
       "    </tr>\n",
       "    <tr>\n",
       "      <th>8</th>\n",
       "      <td>1</td>\n",
       "      <td>electronics</td>\n",
       "      <td>2402</td>\n",
       "    </tr>\n",
       "    <tr>\n",
       "      <th>21</th>\n",
       "      <td>1</td>\n",
       "      <td>pc</td>\n",
       "      <td>2220</td>\n",
       "    </tr>\n",
       "  </tbody>\n",
       "</table>\n",
       "</div>"
      ],
      "text/plain": [
       "    stars product_category  Cantidad_ reviews_x_categoría\n",
       "29      1         wireless                           6283\n",
       "11      1             home                           5391\n",
       "26      1              toy                           2503\n",
       "25      1           sports                           2438\n",
       "8       1      electronics                           2402\n",
       "21      1               pc                           2220"
      ]
     },
     "execution_count": 39,
     "metadata": {},
     "output_type": "execute_result"
    }
   ],
   "source": [
    "# 1 estrellas\n",
    "Amazon_train_1=Amazon_train[Amazon_train.stars ==1].groupby([ 'stars','product_category']).size().reset_index(name='Cantidad_ reviews_x_categoría').sort_values('Cantidad_ reviews_x_categoría',ascending=False)\n",
    "Amazon_train_1.head(6)"
   ]
  },
  {
   "cell_type": "markdown",
   "metadata": {},
   "source": [
    "Podemos concluir de las tablas que, \n",
    "\n",
    "- Al revisar cantidad de reviews en función de la categoría encontramos una distribución homogena debido a que las categorías => 'wireless', 'home', 'sports' ´toy´, 'PC', 'electronics' son las 6 que aparecen en cada categoría de estrellas (de 1 a 5)"
   ]
  },
  {
   "cell_type": "markdown",
   "metadata": {},
   "source": [
    "### A modo de una revisión más exaustivo del data set ejecutamos => 'PANDAS-PROFILING'"
   ]
  },
  {
   "cell_type": "code",
   "execution_count": null,
   "metadata": {},
   "outputs": [],
   "source": [
    "pip install pandas-profiling "
   ]
  },
  {
   "cell_type": "code",
   "execution_count": null,
   "metadata": {},
   "outputs": [],
   "source": [
    "from pandas_profiling import ProfileReport\n",
    "profile = ProfileReport(Amazon_test,title='Reporte Análisis Exploratorio',html={'style':{'full_width':True}})\n",
    "profile.to_file(\"Amazon_test_EDA.html\")#extraigo "
   ]
  },
  {
   "cell_type": "code",
   "execution_count": null,
   "metadata": {},
   "outputs": [],
   "source": [
    "#visualizo el EDA en el mismo note book\n",
    "profile"
   ]
  },
  {
   "cell_type": "markdown",
   "metadata": {},
   "source": [
    "**Conclusiones del EDA y pandas-profiling** \n",
    "- Tenemos un data set 'Muy balanceado',es decir, las review se separan de manera equilibrada en función de la clasificación de las estrellas y dentro de cada putuación de estrellas (1-5) la distribuciuón de las categorías tambien esta balanceada\n",
    "- El data set no presenta valores nulos, ni duplicados, ni campos vacíos\n",
    "- El 'review title' parece un buen indicador para la determinación de las estrellas"
   ]
  },
  {
   "cell_type": "markdown",
   "metadata": {},
   "source": [
    "## 2.NLTK"
   ]
  },
  {
   "cell_type": "markdown",
   "metadata": {},
   "source": [
    "## 2.1 NORMALIZACIÓN\n",
    "- 2.1.0 Trabajamos sobre las 'Stops Words'\n",
    "- 2.1.1 'corro las fuciones clean_text_round1 y clean_text_round2'\n",
    "- 2.1.2 'pasamos texto a minuscula' \n",
    "- 2.1.3 'tokenizar' \n",
    "- 2.1.4 'limpiar caracteres'\n",
    "- 2.1.5 'quitar acentos'\n",
    "- 2.1.6 'quitar stopwords' \n",
    "- 2.1.7 'quito palabas con menos de tres caracteres'\n",
    "- 2.1.8 Llevamos las palabras a su raíz"
   ]
  },
  {
   "cell_type": "code",
   "execution_count": null,
   "metadata": {},
   "outputs": [],
   "source": [
    "import nltk # librería para NLP\n",
    "#Para configurar NLTK. \n",
    "nltk.download('punkt')\n",
    "nltk.download('stopwords') # aca descargamos las stop words, una lista predefinida de la librería\n",
    "from nltk.corpus import stopwords\n",
    "import re# Importamos esta libreria que nos permite reemplzar caracteres\n",
    "import string"
   ]
  },
  {
   "cell_type": "code",
   "execution_count": 9,
   "metadata": {},
   "outputs": [
    {
     "data": {
      "text/html": [
       "<div>\n",
       "<style scoped>\n",
       "    .dataframe tbody tr th:only-of-type {\n",
       "        vertical-align: middle;\n",
       "    }\n",
       "\n",
       "    .dataframe tbody tr th {\n",
       "        vertical-align: top;\n",
       "    }\n",
       "\n",
       "    .dataframe thead th {\n",
       "        text-align: right;\n",
       "    }\n",
       "</style>\n",
       "<table border=\"1\" class=\"dataframe\">\n",
       "  <thead>\n",
       "    <tr style=\"text-align: right;\">\n",
       "      <th></th>\n",
       "      <th>stars</th>\n",
       "      <th>review_body</th>\n",
       "      <th>review_title</th>\n",
       "      <th>product_category</th>\n",
       "    </tr>\n",
       "  </thead>\n",
       "  <tbody>\n",
       "    <tr>\n",
       "      <th>0</th>\n",
       "      <td>1</td>\n",
       "      <td>Nada bueno se me fue ka pantalla en menos de 8...</td>\n",
       "      <td>television Nevir</td>\n",
       "      <td>electronics</td>\n",
       "    </tr>\n",
       "    <tr>\n",
       "      <th>1</th>\n",
       "      <td>1</td>\n",
       "      <td>Horrible, nos tuvimos que comprar otro porque ...</td>\n",
       "      <td>Dinero tirado a la basura con esta compra</td>\n",
       "      <td>electronics</td>\n",
       "    </tr>\n",
       "    <tr>\n",
       "      <th>2</th>\n",
       "      <td>1</td>\n",
       "      <td>Te obligan a comprar dos unidades y te llega s...</td>\n",
       "      <td>solo llega una unidad cuando te obligan a comp...</td>\n",
       "      <td>drugstore</td>\n",
       "    </tr>\n",
       "    <tr>\n",
       "      <th>3</th>\n",
       "      <td>1</td>\n",
       "      <td>No entro en descalificar al vendedor, solo pue...</td>\n",
       "      <td>PRODUCTO NO RECIBIDO.</td>\n",
       "      <td>wireless</td>\n",
       "    </tr>\n",
       "    <tr>\n",
       "      <th>4</th>\n",
       "      <td>1</td>\n",
       "      <td>Llega tarde y co la talla equivocada</td>\n",
       "      <td>Devuelto</td>\n",
       "      <td>shoes</td>\n",
       "    </tr>\n",
       "  </tbody>\n",
       "</table>\n",
       "</div>"
      ],
      "text/plain": [
       "   stars                                        review_body  \\\n",
       "0      1  Nada bueno se me fue ka pantalla en menos de 8...   \n",
       "1      1  Horrible, nos tuvimos que comprar otro porque ...   \n",
       "2      1  Te obligan a comprar dos unidades y te llega s...   \n",
       "3      1  No entro en descalificar al vendedor, solo pue...   \n",
       "4      1               Llega tarde y co la talla equivocada   \n",
       "\n",
       "                                        review_title product_category  \n",
       "0                                   television Nevir      electronics  \n",
       "1          Dinero tirado a la basura con esta compra      electronics  \n",
       "2  solo llega una unidad cuando te obligan a comp...        drugstore  \n",
       "3                              PRODUCTO NO RECIBIDO.         wireless  \n",
       "4                                           Devuelto            shoes  "
      ]
     },
     "execution_count": 9,
     "metadata": {},
     "output_type": "execute_result"
    }
   ],
   "source": [
    "Amazon_train.head()"
   ]
  },
  {
   "cell_type": "code",
   "execution_count": 10,
   "metadata": {},
   "outputs": [
    {
     "data": {
      "text/html": [
       "<div>\n",
       "<style scoped>\n",
       "    .dataframe tbody tr th:only-of-type {\n",
       "        vertical-align: middle;\n",
       "    }\n",
       "\n",
       "    .dataframe tbody tr th {\n",
       "        vertical-align: top;\n",
       "    }\n",
       "\n",
       "    .dataframe thead th {\n",
       "        text-align: right;\n",
       "    }\n",
       "</style>\n",
       "<table border=\"1\" class=\"dataframe\">\n",
       "  <thead>\n",
       "    <tr style=\"text-align: right;\">\n",
       "      <th></th>\n",
       "      <th>review_title</th>\n",
       "      <th>review_body</th>\n",
       "      <th>product_category</th>\n",
       "      <th>stars</th>\n",
       "    </tr>\n",
       "  </thead>\n",
       "  <tbody>\n",
       "    <tr>\n",
       "      <th>0</th>\n",
       "      <td>television Nevir</td>\n",
       "      <td>Nada bueno se me fue ka pantalla en menos de 8...</td>\n",
       "      <td>electronics</td>\n",
       "      <td>1</td>\n",
       "    </tr>\n",
       "    <tr>\n",
       "      <th>1</th>\n",
       "      <td>Dinero tirado a la basura con esta compra</td>\n",
       "      <td>Horrible, nos tuvimos que comprar otro porque ...</td>\n",
       "      <td>electronics</td>\n",
       "      <td>1</td>\n",
       "    </tr>\n",
       "    <tr>\n",
       "      <th>2</th>\n",
       "      <td>solo llega una unidad cuando te obligan a comp...</td>\n",
       "      <td>Te obligan a comprar dos unidades y te llega s...</td>\n",
       "      <td>drugstore</td>\n",
       "      <td>1</td>\n",
       "    </tr>\n",
       "    <tr>\n",
       "      <th>3</th>\n",
       "      <td>PRODUCTO NO RECIBIDO.</td>\n",
       "      <td>No entro en descalificar al vendedor, solo pue...</td>\n",
       "      <td>wireless</td>\n",
       "      <td>1</td>\n",
       "    </tr>\n",
       "    <tr>\n",
       "      <th>4</th>\n",
       "      <td>Devuelto</td>\n",
       "      <td>Llega tarde y co la talla equivocada</td>\n",
       "      <td>shoes</td>\n",
       "      <td>1</td>\n",
       "    </tr>\n",
       "  </tbody>\n",
       "</table>\n",
       "</div>"
      ],
      "text/plain": [
       "                                        review_title  \\\n",
       "0                                   television Nevir   \n",
       "1          Dinero tirado a la basura con esta compra   \n",
       "2  solo llega una unidad cuando te obligan a comp...   \n",
       "3                              PRODUCTO NO RECIBIDO.   \n",
       "4                                           Devuelto   \n",
       "\n",
       "                                         review_body product_category  stars  \n",
       "0  Nada bueno se me fue ka pantalla en menos de 8...      electronics      1  \n",
       "1  Horrible, nos tuvimos que comprar otro porque ...      electronics      1  \n",
       "2  Te obligan a comprar dos unidades y te llega s...        drugstore      1  \n",
       "3  No entro en descalificar al vendedor, solo pue...         wireless      1  \n",
       "4               Llega tarde y co la talla equivocada            shoes      1  "
      ]
     },
     "execution_count": 10,
     "metadata": {},
     "output_type": "execute_result"
    }
   ],
   "source": [
    "#Armo un data set con las columnas que considero centrales y en el orden que me parece mejor => titulo del review, cuerpo del review y la clasificación del 1 al 5 con estrellas\n",
    "\n",
    "Amazon_train_concat = pd.concat([Amazon_train.review_title,Amazon_train.review_body,Amazon_train.product_category,Amazon_train.stars],axis=1)\n",
    "Amazon_train_concat.head()"
   ]
  },
  {
   "cell_type": "code",
   "execution_count": 11,
   "metadata": {},
   "outputs": [
    {
     "data": {
      "text/html": [
       "<div>\n",
       "<style scoped>\n",
       "    .dataframe tbody tr th:only-of-type {\n",
       "        vertical-align: middle;\n",
       "    }\n",
       "\n",
       "    .dataframe tbody tr th {\n",
       "        vertical-align: top;\n",
       "    }\n",
       "\n",
       "    .dataframe thead th {\n",
       "        text-align: right;\n",
       "    }\n",
       "</style>\n",
       "<table border=\"1\" class=\"dataframe\">\n",
       "  <thead>\n",
       "    <tr style=\"text-align: right;\">\n",
       "      <th></th>\n",
       "      <th>title</th>\n",
       "      <th>body</th>\n",
       "      <th>category</th>\n",
       "      <th>stars</th>\n",
       "    </tr>\n",
       "  </thead>\n",
       "  <tbody>\n",
       "    <tr>\n",
       "      <th>0</th>\n",
       "      <td>television Nevir</td>\n",
       "      <td>Nada bueno se me fue ka pantalla en menos de 8...</td>\n",
       "      <td>electronics</td>\n",
       "      <td>1</td>\n",
       "    </tr>\n",
       "    <tr>\n",
       "      <th>1</th>\n",
       "      <td>Dinero tirado a la basura con esta compra</td>\n",
       "      <td>Horrible, nos tuvimos que comprar otro porque ...</td>\n",
       "      <td>electronics</td>\n",
       "      <td>1</td>\n",
       "    </tr>\n",
       "    <tr>\n",
       "      <th>2</th>\n",
       "      <td>solo llega una unidad cuando te obligan a comp...</td>\n",
       "      <td>Te obligan a comprar dos unidades y te llega s...</td>\n",
       "      <td>drugstore</td>\n",
       "      <td>1</td>\n",
       "    </tr>\n",
       "    <tr>\n",
       "      <th>3</th>\n",
       "      <td>PRODUCTO NO RECIBIDO.</td>\n",
       "      <td>No entro en descalificar al vendedor, solo pue...</td>\n",
       "      <td>wireless</td>\n",
       "      <td>1</td>\n",
       "    </tr>\n",
       "    <tr>\n",
       "      <th>4</th>\n",
       "      <td>Devuelto</td>\n",
       "      <td>Llega tarde y co la talla equivocada</td>\n",
       "      <td>shoes</td>\n",
       "      <td>1</td>\n",
       "    </tr>\n",
       "  </tbody>\n",
       "</table>\n",
       "</div>"
      ],
      "text/plain": [
       "                                               title  \\\n",
       "0                                   television Nevir   \n",
       "1          Dinero tirado a la basura con esta compra   \n",
       "2  solo llega una unidad cuando te obligan a comp...   \n",
       "3                              PRODUCTO NO RECIBIDO.   \n",
       "4                                           Devuelto   \n",
       "\n",
       "                                                body     category  stars  \n",
       "0  Nada bueno se me fue ka pantalla en menos de 8...  electronics      1  \n",
       "1  Horrible, nos tuvimos que comprar otro porque ...  electronics      1  \n",
       "2  Te obligan a comprar dos unidades y te llega s...    drugstore      1  \n",
       "3  No entro en descalificar al vendedor, solo pue...     wireless      1  \n",
       "4               Llega tarde y co la talla equivocada        shoes      1  "
      ]
     },
     "execution_count": 11,
     "metadata": {},
     "output_type": "execute_result"
    }
   ],
   "source": [
    "#Renombramos las columnas\n",
    "\n",
    "Amazon_train_concat=Amazon_train_concat.rename(columns={'review_title':'title','review_body':'body', 'product_category':'category'})\n",
    "Amazon_train_concat.head()"
   ]
  },
  {
   "cell_type": "markdown",
   "metadata": {},
   "source": [
    " - **Función de eliminación de acentos**"
   ]
  },
  {
   "cell_type": "code",
   "execution_count": 12,
   "metadata": {},
   "outputs": [],
   "source": [
    "#funci+on para eliminación de acentos\n",
    "\n",
    "def eliminar_acentos(string):\n",
    "    \"\"\"\n",
    "    DESCRIPCION: Eliminar acentos de una cadena de texto\n",
    "    PARAMS:\n",
    "    * string (string): Cadena de texto\n",
    "    RETURN:\n",
    "    * Cadena de texto sin acentos\n",
    "    \"\"\"\n",
    "    trans = str.maketrans('ÁÉÍÓÚÜáéíóúü','AEIOUUaeiouu')\n",
    "    return string.translate(trans)"
   ]
  },
  {
   "cell_type": "markdown",
   "metadata": {},
   "source": [
    "### - **2.1.0 Trabajamos sobre las 'Stops Words'**"
   ]
  },
  {
   "cell_type": "code",
   "execution_count": 13,
   "metadata": {
    "scrolled": true
   },
   "outputs": [
    {
     "data": {
      "text/plain": [
       "['de',\n",
       " 'la',\n",
       " 'que',\n",
       " 'el',\n",
       " 'en',\n",
       " 'y',\n",
       " 'a',\n",
       " 'los',\n",
       " 'del',\n",
       " 'se',\n",
       " 'las',\n",
       " 'por',\n",
       " 'un',\n",
       " 'para',\n",
       " 'con',\n",
       " 'no',\n",
       " 'una',\n",
       " 'su',\n",
       " 'al',\n",
       " 'lo',\n",
       " 'como',\n",
       " 'más',\n",
       " 'pero',\n",
       " 'sus',\n",
       " 'le',\n",
       " 'ya',\n",
       " 'o',\n",
       " 'este',\n",
       " 'sí',\n",
       " 'porque',\n",
       " 'esta',\n",
       " 'entre',\n",
       " 'cuando',\n",
       " 'muy',\n",
       " 'sin',\n",
       " 'sobre',\n",
       " 'también',\n",
       " 'me',\n",
       " 'hasta',\n",
       " 'hay',\n",
       " 'donde',\n",
       " 'quien',\n",
       " 'desde',\n",
       " 'todo',\n",
       " 'nos',\n",
       " 'durante',\n",
       " 'todos',\n",
       " 'uno',\n",
       " 'les',\n",
       " 'ni',\n",
       " 'contra',\n",
       " 'otros',\n",
       " 'ese',\n",
       " 'eso',\n",
       " 'ante',\n",
       " 'ellos',\n",
       " 'e',\n",
       " 'esto',\n",
       " 'mí',\n",
       " 'antes',\n",
       " 'algunos',\n",
       " 'qué',\n",
       " 'unos',\n",
       " 'yo',\n",
       " 'otro',\n",
       " 'otras',\n",
       " 'otra',\n",
       " 'él',\n",
       " 'tanto',\n",
       " 'esa',\n",
       " 'estos',\n",
       " 'mucho',\n",
       " 'quienes',\n",
       " 'nada',\n",
       " 'muchos',\n",
       " 'cual',\n",
       " 'poco',\n",
       " 'ella',\n",
       " 'estar',\n",
       " 'estas',\n",
       " 'algunas',\n",
       " 'algo',\n",
       " 'nosotros',\n",
       " 'mi',\n",
       " 'mis',\n",
       " 'tú',\n",
       " 'te',\n",
       " 'ti',\n",
       " 'tu',\n",
       " 'tus',\n",
       " 'ellas',\n",
       " 'nosotras',\n",
       " 'vosotros',\n",
       " 'vosotras',\n",
       " 'os',\n",
       " 'mío',\n",
       " 'mía',\n",
       " 'míos',\n",
       " 'mías',\n",
       " 'tuyo',\n",
       " 'tuya',\n",
       " 'tuyos',\n",
       " 'tuyas',\n",
       " 'suyo',\n",
       " 'suya',\n",
       " 'suyos',\n",
       " 'suyas',\n",
       " 'nuestro',\n",
       " 'nuestra',\n",
       " 'nuestros',\n",
       " 'nuestras',\n",
       " 'vuestro',\n",
       " 'vuestra',\n",
       " 'vuestros',\n",
       " 'vuestras',\n",
       " 'esos',\n",
       " 'esas',\n",
       " 'estoy',\n",
       " 'estás',\n",
       " 'está',\n",
       " 'estamos',\n",
       " 'estáis',\n",
       " 'están',\n",
       " 'esté',\n",
       " 'estés',\n",
       " 'estemos',\n",
       " 'estéis',\n",
       " 'estén',\n",
       " 'estaré',\n",
       " 'estarás',\n",
       " 'estará',\n",
       " 'estaremos',\n",
       " 'estaréis',\n",
       " 'estarán',\n",
       " 'estaría',\n",
       " 'estarías',\n",
       " 'estaríamos',\n",
       " 'estaríais',\n",
       " 'estarían',\n",
       " 'estaba',\n",
       " 'estabas',\n",
       " 'estábamos',\n",
       " 'estabais',\n",
       " 'estaban',\n",
       " 'estuve',\n",
       " 'estuviste',\n",
       " 'estuvo',\n",
       " 'estuvimos',\n",
       " 'estuvisteis',\n",
       " 'estuvieron',\n",
       " 'estuviera',\n",
       " 'estuvieras',\n",
       " 'estuviéramos',\n",
       " 'estuvierais',\n",
       " 'estuvieran',\n",
       " 'estuviese',\n",
       " 'estuvieses',\n",
       " 'estuviésemos',\n",
       " 'estuvieseis',\n",
       " 'estuviesen',\n",
       " 'estando',\n",
       " 'estado',\n",
       " 'estada',\n",
       " 'estados',\n",
       " 'estadas',\n",
       " 'estad',\n",
       " 'he',\n",
       " 'has',\n",
       " 'ha',\n",
       " 'hemos',\n",
       " 'habéis',\n",
       " 'han',\n",
       " 'haya',\n",
       " 'hayas',\n",
       " 'hayamos',\n",
       " 'hayáis',\n",
       " 'hayan',\n",
       " 'habré',\n",
       " 'habrás',\n",
       " 'habrá',\n",
       " 'habremos',\n",
       " 'habréis',\n",
       " 'habrán',\n",
       " 'habría',\n",
       " 'habrías',\n",
       " 'habríamos',\n",
       " 'habríais',\n",
       " 'habrían',\n",
       " 'había',\n",
       " 'habías',\n",
       " 'habíamos',\n",
       " 'habíais',\n",
       " 'habían',\n",
       " 'hube',\n",
       " 'hubiste',\n",
       " 'hubo',\n",
       " 'hubimos',\n",
       " 'hubisteis',\n",
       " 'hubieron',\n",
       " 'hubiera',\n",
       " 'hubieras',\n",
       " 'hubiéramos',\n",
       " 'hubierais',\n",
       " 'hubieran',\n",
       " 'hubiese',\n",
       " 'hubieses',\n",
       " 'hubiésemos',\n",
       " 'hubieseis',\n",
       " 'hubiesen',\n",
       " 'habiendo',\n",
       " 'habido',\n",
       " 'habida',\n",
       " 'habidos',\n",
       " 'habidas',\n",
       " 'soy',\n",
       " 'eres',\n",
       " 'es',\n",
       " 'somos',\n",
       " 'sois',\n",
       " 'son',\n",
       " 'sea',\n",
       " 'seas',\n",
       " 'seamos',\n",
       " 'seáis',\n",
       " 'sean',\n",
       " 'seré',\n",
       " 'serás',\n",
       " 'será',\n",
       " 'seremos',\n",
       " 'seréis',\n",
       " 'serán',\n",
       " 'sería',\n",
       " 'serías',\n",
       " 'seríamos',\n",
       " 'seríais',\n",
       " 'serían',\n",
       " 'era',\n",
       " 'eras',\n",
       " 'éramos',\n",
       " 'erais',\n",
       " 'eran',\n",
       " 'fui',\n",
       " 'fuiste',\n",
       " 'fue',\n",
       " 'fuimos',\n",
       " 'fuisteis',\n",
       " 'fueron',\n",
       " 'fuera',\n",
       " 'fueras',\n",
       " 'fuéramos',\n",
       " 'fuerais',\n",
       " 'fueran',\n",
       " 'fuese',\n",
       " 'fueses',\n",
       " 'fuésemos',\n",
       " 'fueseis',\n",
       " 'fuesen',\n",
       " 'sintiendo',\n",
       " 'sentido',\n",
       " 'sentida',\n",
       " 'sentidos',\n",
       " 'sentidas',\n",
       " 'siente',\n",
       " 'sentid',\n",
       " 'tengo',\n",
       " 'tienes',\n",
       " 'tiene',\n",
       " 'tenemos',\n",
       " 'tenéis',\n",
       " 'tienen',\n",
       " 'tenga',\n",
       " 'tengas',\n",
       " 'tengamos',\n",
       " 'tengáis',\n",
       " 'tengan',\n",
       " 'tendré',\n",
       " 'tendrás',\n",
       " 'tendrá',\n",
       " 'tendremos',\n",
       " 'tendréis',\n",
       " 'tendrán',\n",
       " 'tendría',\n",
       " 'tendrías',\n",
       " 'tendríamos',\n",
       " 'tendríais',\n",
       " 'tendrían',\n",
       " 'tenía',\n",
       " 'tenías',\n",
       " 'teníamos',\n",
       " 'teníais',\n",
       " 'tenían',\n",
       " 'tuve',\n",
       " 'tuviste',\n",
       " 'tuvo',\n",
       " 'tuvimos',\n",
       " 'tuvisteis',\n",
       " 'tuvieron',\n",
       " 'tuviera',\n",
       " 'tuvieras',\n",
       " 'tuviéramos',\n",
       " 'tuvierais',\n",
       " 'tuvieran',\n",
       " 'tuviese',\n",
       " 'tuvieses',\n",
       " 'tuviésemos',\n",
       " 'tuvieseis',\n",
       " 'tuviesen',\n",
       " 'teniendo',\n",
       " 'tenido',\n",
       " 'tenida',\n",
       " 'tenidos',\n",
       " 'tenidas',\n",
       " 'tened']"
      ]
     },
     "execution_count": 13,
     "metadata": {},
     "output_type": "execute_result"
    }
   ],
   "source": [
    "#Stopswords en español\n",
    "stopwords = set(nltk.corpus.stopwords.words('spanish'))\n",
    "stopwords = nltk.corpus.stopwords.words('spanish') # lo transformo en una lista de np\n",
    "stopwords # no hay mayusculas y si hay acentos... "
   ]
  },
  {
   "cell_type": "code",
   "execution_count": 14,
   "metadata": {},
   "outputs": [],
   "source": [
    "#quito los acentos en mi lista de stopswords y me aseguro de que todo este en minuscula\n",
    "stopwords_modificada = []\n",
    "for i in range (len(stopwords)):\n",
    "    stop= stopwords[i]\n",
    "    stop=stop.lower()\n",
    "    stop= nltk.tokenize.RegexpTokenizer('[\\w]+').tokenize(stop)# Tokeniza\n",
    "    stop= [eliminar_acentos(w) for w in stop]\n",
    "    stopwords_modificada.append(stop)\n",
    "stopwords_modificada = list(itertools.chain(*stopwords_modificada))"
   ]
  },
  {
   "cell_type": "code",
   "execution_count": 15,
   "metadata": {
    "scrolled": true
   },
   "outputs": [
    {
     "data": {
      "text/plain": [
       "['de',\n",
       " 'la',\n",
       " 'que',\n",
       " 'el',\n",
       " 'en',\n",
       " 'y',\n",
       " 'a',\n",
       " 'los',\n",
       " 'del',\n",
       " 'se',\n",
       " 'las',\n",
       " 'por',\n",
       " 'un',\n",
       " 'para',\n",
       " 'con',\n",
       " 'no',\n",
       " 'una',\n",
       " 'su',\n",
       " 'al',\n",
       " 'lo',\n",
       " 'como',\n",
       " 'mas',\n",
       " 'pero',\n",
       " 'sus',\n",
       " 'le',\n",
       " 'ya',\n",
       " 'o',\n",
       " 'este',\n",
       " 'si',\n",
       " 'porque',\n",
       " 'esta',\n",
       " 'entre',\n",
       " 'cuando',\n",
       " 'muy',\n",
       " 'sin',\n",
       " 'sobre',\n",
       " 'tambien',\n",
       " 'me',\n",
       " 'hasta',\n",
       " 'hay',\n",
       " 'donde',\n",
       " 'quien',\n",
       " 'desde',\n",
       " 'todo',\n",
       " 'nos',\n",
       " 'durante',\n",
       " 'todos',\n",
       " 'uno',\n",
       " 'les',\n",
       " 'ni',\n",
       " 'contra',\n",
       " 'otros',\n",
       " 'ese',\n",
       " 'eso',\n",
       " 'ante',\n",
       " 'ellos',\n",
       " 'e',\n",
       " 'esto',\n",
       " 'mi',\n",
       " 'antes',\n",
       " 'algunos',\n",
       " 'que',\n",
       " 'unos',\n",
       " 'yo',\n",
       " 'otro',\n",
       " 'otras',\n",
       " 'otra',\n",
       " 'el',\n",
       " 'tanto',\n",
       " 'esa',\n",
       " 'estos',\n",
       " 'mucho',\n",
       " 'quienes',\n",
       " 'nada',\n",
       " 'muchos',\n",
       " 'cual',\n",
       " 'poco',\n",
       " 'ella',\n",
       " 'estar',\n",
       " 'estas',\n",
       " 'algunas',\n",
       " 'algo',\n",
       " 'nosotros',\n",
       " 'mi',\n",
       " 'mis',\n",
       " 'tu',\n",
       " 'te',\n",
       " 'ti',\n",
       " 'tu',\n",
       " 'tus',\n",
       " 'ellas',\n",
       " 'nosotras',\n",
       " 'vosotros',\n",
       " 'vosotras',\n",
       " 'os',\n",
       " 'mio',\n",
       " 'mia',\n",
       " 'mios',\n",
       " 'mias',\n",
       " 'tuyo',\n",
       " 'tuya',\n",
       " 'tuyos',\n",
       " 'tuyas',\n",
       " 'suyo',\n",
       " 'suya',\n",
       " 'suyos',\n",
       " 'suyas',\n",
       " 'nuestro',\n",
       " 'nuestra',\n",
       " 'nuestros',\n",
       " 'nuestras',\n",
       " 'vuestro',\n",
       " 'vuestra',\n",
       " 'vuestros',\n",
       " 'vuestras',\n",
       " 'esos',\n",
       " 'esas',\n",
       " 'estoy',\n",
       " 'estas',\n",
       " 'esta',\n",
       " 'estamos',\n",
       " 'estais',\n",
       " 'estan',\n",
       " 'este',\n",
       " 'estes',\n",
       " 'estemos',\n",
       " 'esteis',\n",
       " 'esten',\n",
       " 'estare',\n",
       " 'estaras',\n",
       " 'estara',\n",
       " 'estaremos',\n",
       " 'estareis',\n",
       " 'estaran',\n",
       " 'estaria',\n",
       " 'estarias',\n",
       " 'estariamos',\n",
       " 'estariais',\n",
       " 'estarian',\n",
       " 'estaba',\n",
       " 'estabas',\n",
       " 'estabamos',\n",
       " 'estabais',\n",
       " 'estaban',\n",
       " 'estuve',\n",
       " 'estuviste',\n",
       " 'estuvo',\n",
       " 'estuvimos',\n",
       " 'estuvisteis',\n",
       " 'estuvieron',\n",
       " 'estuviera',\n",
       " 'estuvieras',\n",
       " 'estuvieramos',\n",
       " 'estuvierais',\n",
       " 'estuvieran',\n",
       " 'estuviese',\n",
       " 'estuvieses',\n",
       " 'estuviesemos',\n",
       " 'estuvieseis',\n",
       " 'estuviesen',\n",
       " 'estando',\n",
       " 'estado',\n",
       " 'estada',\n",
       " 'estados',\n",
       " 'estadas',\n",
       " 'estad',\n",
       " 'he',\n",
       " 'has',\n",
       " 'ha',\n",
       " 'hemos',\n",
       " 'habeis',\n",
       " 'han',\n",
       " 'haya',\n",
       " 'hayas',\n",
       " 'hayamos',\n",
       " 'hayais',\n",
       " 'hayan',\n",
       " 'habre',\n",
       " 'habras',\n",
       " 'habra',\n",
       " 'habremos',\n",
       " 'habreis',\n",
       " 'habran',\n",
       " 'habria',\n",
       " 'habrias',\n",
       " 'habriamos',\n",
       " 'habriais',\n",
       " 'habrian',\n",
       " 'habia',\n",
       " 'habias',\n",
       " 'habiamos',\n",
       " 'habiais',\n",
       " 'habian',\n",
       " 'hube',\n",
       " 'hubiste',\n",
       " 'hubo',\n",
       " 'hubimos',\n",
       " 'hubisteis',\n",
       " 'hubieron',\n",
       " 'hubiera',\n",
       " 'hubieras',\n",
       " 'hubieramos',\n",
       " 'hubierais',\n",
       " 'hubieran',\n",
       " 'hubiese',\n",
       " 'hubieses',\n",
       " 'hubiesemos',\n",
       " 'hubieseis',\n",
       " 'hubiesen',\n",
       " 'habiendo',\n",
       " 'habido',\n",
       " 'habida',\n",
       " 'habidos',\n",
       " 'habidas',\n",
       " 'soy',\n",
       " 'eres',\n",
       " 'es',\n",
       " 'somos',\n",
       " 'sois',\n",
       " 'son',\n",
       " 'sea',\n",
       " 'seas',\n",
       " 'seamos',\n",
       " 'seais',\n",
       " 'sean',\n",
       " 'sere',\n",
       " 'seras',\n",
       " 'sera',\n",
       " 'seremos',\n",
       " 'sereis',\n",
       " 'seran',\n",
       " 'seria',\n",
       " 'serias',\n",
       " 'seriamos',\n",
       " 'seriais',\n",
       " 'serian',\n",
       " 'era',\n",
       " 'eras',\n",
       " 'eramos',\n",
       " 'erais',\n",
       " 'eran',\n",
       " 'fui',\n",
       " 'fuiste',\n",
       " 'fue',\n",
       " 'fuimos',\n",
       " 'fuisteis',\n",
       " 'fueron',\n",
       " 'fuera',\n",
       " 'fueras',\n",
       " 'fueramos',\n",
       " 'fuerais',\n",
       " 'fueran',\n",
       " 'fuese',\n",
       " 'fueses',\n",
       " 'fuesemos',\n",
       " 'fueseis',\n",
       " 'fuesen',\n",
       " 'sintiendo',\n",
       " 'sentido',\n",
       " 'sentida',\n",
       " 'sentidos',\n",
       " 'sentidas',\n",
       " 'siente',\n",
       " 'sentid',\n",
       " 'tengo',\n",
       " 'tienes',\n",
       " 'tiene',\n",
       " 'tenemos',\n",
       " 'teneis',\n",
       " 'tienen',\n",
       " 'tenga',\n",
       " 'tengas',\n",
       " 'tengamos',\n",
       " 'tengais',\n",
       " 'tengan',\n",
       " 'tendre',\n",
       " 'tendras',\n",
       " 'tendra',\n",
       " 'tendremos',\n",
       " 'tendreis',\n",
       " 'tendran',\n",
       " 'tendria',\n",
       " 'tendrias',\n",
       " 'tendriamos',\n",
       " 'tendriais',\n",
       " 'tendrian',\n",
       " 'tenia',\n",
       " 'tenias',\n",
       " 'teniamos',\n",
       " 'teniais',\n",
       " 'tenian',\n",
       " 'tuve',\n",
       " 'tuviste',\n",
       " 'tuvo',\n",
       " 'tuvimos',\n",
       " 'tuvisteis',\n",
       " 'tuvieron',\n",
       " 'tuviera',\n",
       " 'tuvieras',\n",
       " 'tuvieramos',\n",
       " 'tuvierais',\n",
       " 'tuvieran',\n",
       " 'tuviese',\n",
       " 'tuvieses',\n",
       " 'tuviesemos',\n",
       " 'tuvieseis',\n",
       " 'tuviesen',\n",
       " 'teniendo',\n",
       " 'tenido',\n",
       " 'tenida',\n",
       " 'tenidos',\n",
       " 'tenidas',\n",
       " 'tened']"
      ]
     },
     "execution_count": 15,
     "metadata": {},
     "output_type": "execute_result"
    }
   ],
   "source": [
    "stopwords_modificada"
   ]
  },
  {
   "cell_type": "code",
   "execution_count": 16,
   "metadata": {},
   "outputs": [
    {
     "data": {
      "text/plain": [
       "313"
      ]
     },
     "execution_count": 16,
     "metadata": {},
     "output_type": "execute_result"
    }
   ],
   "source": [
    "len (stopwords_modificada)"
   ]
  },
  {
   "cell_type": "markdown",
   "metadata": {},
   "source": [
    "### - **2.1.1 'corro las fuciones clean_text_round1 y clean_text_round2'**\n",
    "Función que remueve texto entre corchetes, elimina los signos de puntuación y las palabras que contengan números tanto el title como en body\n",
    "\n",
    "\n",
    "\n"
   ]
  },
  {
   "cell_type": "code",
   "execution_count": 17,
   "metadata": {},
   "outputs": [],
   "source": [
    "def clean_text_round1(text):\n",
    "    '''Make text lowercase, remove text in square brackets, remove punctuation and remove words containing numbers.'''\n",
    "    text = text.lower()\n",
    "    text = re.sub('\\[.*?¿\\]\\%', ' ', text)\n",
    "    text = re.sub('[%s]' % re.escape(string.punctuation), ' ', text)\n",
    "    text = re.sub('\\w*\\d\\w*', '', text)\n",
    "    return text\n",
    "  \n",
    "# Apply a second round of cleaning\n",
    "def clean_text_round2(text):\n",
    "    '''Get rid of some additional punctuation and non-sensical text that was missed the first time around.'''\n",
    "    text = re.sub('[‘’“”…«»]', '', text)\n",
    "    text = re.sub('\\n', ' ', text)\n",
    "    return text"
   ]
  },
  {
   "cell_type": "code",
   "execution_count": 18,
   "metadata": {},
   "outputs": [],
   "source": [
    "Amazon_train_concat['body'] = Amazon_train_concat['body'].apply(lambda x: clean_text_round1(x))"
   ]
  },
  {
   "cell_type": "code",
   "execution_count": 19,
   "metadata": {},
   "outputs": [],
   "source": [
    "Amazon_train_concat['body']= Amazon_train_concat['body'].apply(lambda x: clean_text_round2(x))"
   ]
  },
  {
   "cell_type": "code",
   "execution_count": 21,
   "metadata": {},
   "outputs": [],
   "source": [
    "Amazon_train_concat['title'] = Amazon_train_concat['title'].apply(lambda x: clean_text_round1(x))"
   ]
  },
  {
   "cell_type": "code",
   "execution_count": 22,
   "metadata": {},
   "outputs": [],
   "source": [
    "Amazon_train_concat['title']= Amazon_train_concat['title'].apply(lambda x: clean_text_round2(x))"
   ]
  },
  {
   "cell_type": "markdown",
   "metadata": {},
   "source": [
    "### BODY\n",
    "\n",
    "- **2.1.2 'pasamos texto a minuscula'** \n",
    "- **2.1.3 'tokenizar'** \n",
    "- **2.1.4 'limpiar caracteres'**\n",
    "- **2.1.5 'quitar acentos'**\n",
    "- **2.1.6 'quitar stopwords'** "
   ]
  },
  {
   "cell_type": "code",
   "execution_count": null,
   "metadata": {},
   "outputs": [],
   "source": [
    "Amazon_train_1_token = []\n",
    "for i in range(Amazon_train_concat.shape[0]):\n",
    "    token= Amazon_train_concat.iloc[i].body\n",
    "    token=token.lower()#pasamos texto a miniscula.\n",
    "    token=re.sub(\"[^a-zA-Z]\",\" \",str(token))# Vamos a reemplzar los caracteres que no sean letras por espacios\n",
    "    token= nltk.tokenize.RegexpTokenizer('[\\w]+').tokenize(token)# Tokeniza\n",
    "    token=  [eliminar_acentos(w) for w in token] # quito acentos\n",
    "    token=  [w for w in token if w not in stopwords_modificada] # Filtrar por stopwords\n",
    "    Amazon_train_1_token.append(token) \n",
    "\n",
    "# ejemplo de las primeras 3 review, tokenizadas, sin stopwors y sin acentos\n",
    "print(Amazon_train_1_token [0])\n",
    "print(Amazon_train_1_token [1])\n",
    "print(Amazon_train_1_token [2])"
   ]
  },
  {
   "cell_type": "code",
   "execution_count": null,
   "metadata": {},
   "outputs": [],
   "source": [
    "# Esta celda convierte una lista de listas en una unica lista. Podemos decir que obtenemos el ´BAG OF WORDS´\n",
    "Amazon_train_1_token = list(itertools.chain(*Amazon_train_1_token))"
   ]
  },
  {
   "cell_type": "code",
   "execution_count": null,
   "metadata": {
    "scrolled": true
   },
   "outputs": [],
   "source": [
    "#´BAG OF WORDS´\n",
    "Amazon_train_1_token"
   ]
  },
  {
   "cell_type": "code",
   "execution_count": null,
   "metadata": {},
   "outputs": [],
   "source": [
    "# ´BAG OF WORDS´ => 2.898.536 palabras\n",
    "len(Amazon_train_1_token)"
   ]
  },
  {
   "cell_type": "markdown",
   "metadata": {},
   "source": [
    "- **2.1.7 'palabas con menos de tres caracteres'**. Análizo y luego decido quitar las palabras que tienen menos de 3 caracteres"
   ]
  },
  {
   "cell_type": "code",
   "execution_count": null,
   "metadata": {},
   "outputs": [],
   "source": [
    "palabras_3 = []\n",
    "\n",
    "for i in Amazon_train_1_token:\n",
    "    if len(i)<=3:\n",
    "        palabras_3.append(i)"
   ]
  },
  {
   "cell_type": "code",
   "execution_count": null,
   "metadata": {},
   "outputs": [],
   "source": [
    "len(palabras_3)"
   ]
  },
  {
   "cell_type": "code",
   "execution_count": null,
   "metadata": {
    "scrolled": true
   },
   "outputs": [],
   "source": [
    "palabras_3"
   ]
  },
  {
   "cell_type": "code",
   "execution_count": null,
   "metadata": {},
   "outputs": [],
   "source": [
    "freq_palabras_3 = nltk.FreqDist(palabras_3)\n",
    "freq_palabras_3"
   ]
  },
  {
   "cell_type": "code",
   "execution_count": null,
   "metadata": {},
   "outputs": [],
   "source": [
    "freq_palabras_3_df= pd.DataFrame(list(freq_palabras_3.items()), columns=['Word', 'Frequency']).sort_values('Frequency',ascending=False).reset_index(drop = True)\n",
    "freq_palabras_3_df.head(10)"
   ]
  },
  {
   "cell_type": "code",
   "execution_count": null,
   "metadata": {},
   "outputs": [],
   "source": [
    "#calculo la columna 'Frec_abs'\n",
    "freq_palabras_3_df['Frec_rel_%'] = 100* (freq_palabras_3_df.Frequency / len(palabras_3))\n",
    "\n",
    "#tabla de frecuencias absolutas / reltivas / acumulada\n",
    "\n",
    "frec_rel_val= freq_palabras_3_df['Frec_rel_%'].values # es una lista que contiene los valores de frec_rel_%\n",
    "\n",
    "acum = []\n",
    "valor_acum = 0\n",
    "\n",
    "for i in frec_rel_val:\n",
    "    valor_acum = valor_acum + i \n",
    "    acum.append(valor_acum)\n",
    "\n",
    "freq_palabras_3_df['frec_rel_%_acum'] = acum\n",
    "freq_palabras_3_df.head(50)"
   ]
  },
  {
   "cell_type": "markdown",
   "metadata": {},
   "source": [
    "- Como se puede ver revisando hasta el 80% de estas palabras de menos de tres caracteres casi no agregan valor por lo que las quitamos del 'bag of words'"
   ]
  },
  {
   "cell_type": "code",
   "execution_count": null,
   "metadata": {},
   "outputs": [],
   "source": [
    "Amazon_train_2_token = []\n",
    "\n",
    "for i in Amazon_train_1_token:\n",
    "    if len(i)>3:\n",
    "        Amazon_train_2_token.append(i)"
   ]
  },
  {
   "cell_type": "code",
   "execution_count": null,
   "metadata": {
    "scrolled": true
   },
   "outputs": [],
   "source": [
    "Amazon_train_2_token"
   ]
  },
  {
   "cell_type": "code",
   "execution_count": null,
   "metadata": {},
   "outputs": [],
   "source": [
    "# ´BAG OF WORDS´ => 2.374.695 palabras\n",
    "len(Amazon_train_2_token)"
   ]
  },
  {
   "cell_type": "code",
   "execution_count": null,
   "metadata": {},
   "outputs": [],
   "source": [
    "freq_Amazon_train_2_token = nltk.FreqDist(Amazon_train_2_token)\n",
    "freq_Amazon_train_2_token"
   ]
  },
  {
   "cell_type": "code",
   "execution_count": null,
   "metadata": {},
   "outputs": [],
   "source": [
    "#Armo un data frame con la frecuencia de repetición de las palabras\n",
    "Amazon_train_2_df= pd.DataFrame(list(freq_Amazon_train_2_token.items()), columns=['Word', 'Frequency']).sort_values('Frequency',ascending=False).reset_index(drop = True)\n",
    "Amazon_train_2_df.head(5)"
   ]
  },
  {
   "cell_type": "code",
   "execution_count": null,
   "metadata": {},
   "outputs": [],
   "source": [
    "# palbras unicas en el ´BAG OF WORDS´ => 47.527\n",
    "Amazon_train_2_df.shape[0]"
   ]
  },
  {
   "cell_type": "code",
   "execution_count": null,
   "metadata": {},
   "outputs": [],
   "source": [
    "#Grafico de las 40 palabras con más freciencia del ´BAG OF WORDS´ \n",
    "plt.figure(figsize = (15,8))\n",
    "plot = sns.barplot(x  = Amazon_train_2_df.iloc[:40].Word, y = Amazon_train_2_df.iloc[:40].Frequency)\n",
    "for item in plot.get_xticklabels():\n",
    "    item.set_rotation(90)\n",
    "plt.show()"
   ]
  },
  {
   "cell_type": "code",
   "execution_count": null,
   "metadata": {},
   "outputs": [],
   "source": [
    "#tabla de drecuencias del´BAG OF WORDS´ \n",
    "\n",
    "Amazon_train_2_dff\n",
    "#calculo la coliumna 'Frec_abs'\n",
    "Amazon_train_2_df['Frec_rel_%'] = 100* (Amazon_train_2_df.Frequency / len(Amazon_train_2_token))\n",
    "\n",
    "#tabla de frecuencias absolutas / reltivas / acumulada\n",
    "\n",
    "frec_rel_val_bw= Amazon_train_2_df['Frec_rel_%'].values # es una lista que contiene los valores de frec_rel_%\n",
    "\n",
    "acum_bw = []\n",
    "valor_acum_bw = 0\n",
    "\n",
    "for i in frec_rel_val_bw:\n",
    "    valor_acum_bw = valor_acum_bw + i \n",
    "    acum_bw.append(valor_acum_bw)\n",
    "\n",
    "Amazon_train_2_df['frec_rel_%_acum'] = acum_bw\n",
    "Amazon_train_2_df.head()"
   ]
  },
  {
   "cell_type": "code",
   "execution_count": null,
   "metadata": {},
   "outputs": [],
   "source": [
    "Amazon_train_2_df[Amazon_train_2_df.index==2350]"
   ]
  },
  {
   "cell_type": "markdown",
   "metadata": {},
   "source": [
    "- Tenemos que 2350 es el set de palabras unicas que representan en 80% de la cantidad de palabras totales del 'bag of words'"
   ]
  },
  {
   "cell_type": "markdown",
   "metadata": {},
   "source": [
    "### TITLE\n",
    "\n",
    "- **2.1.2 'pasamos texto a minuscula'** \n",
    "- **2.1.3 'tokenizar'** \n",
    "- **2.1.4 'limpiar caracteres'**\n",
    "- **2.1.5 'quitar acentos'**\n",
    "- **2.1.6 'quitar stopwords'** "
   ]
  },
  {
   "cell_type": "code",
   "execution_count": null,
   "metadata": {},
   "outputs": [],
   "source": [
    "Amazon_train_1_title = []\n",
    "for i in range(Amazon_train_concat.shape[0]):\n",
    "    token= Amazon_train_concat.iloc[i].title\n",
    "    token=token.lower()#pasamos texto a miniscula.\n",
    "    token=re.sub(\"[^a-zA-Z]\",\" \",str(token))# Vamos a reemplzar los caracteres que no sean letras por espacios\n",
    "    token= nltk.tokenize.RegexpTokenizer('[\\w]+').tokenize(token)# Tokeniza\n",
    "    token=  [eliminar_acentos(w) for w in token] # quito acentos\n",
    "    token=  [w for w in token if w not in stopwords_modificada] # Filtrar por stopwords\n",
    "    Amazon_train_1_title.append(token) \n",
    "\n",
    "# ejemplo de las primeras 3 titulos, tokenizadas, sin stopwors y sin acentos\n",
    "print(Amazon_train_1_title [0])\n",
    "print(Amazon_train_1_title [1])\n",
    "print(Amazon_train_1_title [2])"
   ]
  },
  {
   "cell_type": "code",
   "execution_count": null,
   "metadata": {},
   "outputs": [],
   "source": [
    "# Esta celda convierte una lista de listas en una unica lista. Podemos decir que obtenemos el ´BAG OF WORDS´\n",
    "Amazon_train_1_title = list(itertools.chain(*Amazon_train_1_title))"
   ]
  },
  {
   "cell_type": "code",
   "execution_count": null,
   "metadata": {
    "scrolled": true
   },
   "outputs": [],
   "source": [
    "#´BAG OF WORDS´\n",
    "Amazon_train_1_title"
   ]
  },
  {
   "cell_type": "code",
   "execution_count": null,
   "metadata": {},
   "outputs": [],
   "source": [
    "# ´BAG OF WORDS´ => 444.674 palabras\n",
    "len(Amazon_train_1_title)"
   ]
  },
  {
   "cell_type": "markdown",
   "metadata": {},
   "source": [
    "- **2.1.7 'palabas con menos de tres caracteres'**. Análizo y luego decido quitar las palabras que tienen menos de 3 caracteres"
   ]
  },
  {
   "cell_type": "code",
   "execution_count": null,
   "metadata": {},
   "outputs": [],
   "source": [
    "palabras_3_tit = []\n",
    "\n",
    "for i in Amazon_train_1_title:\n",
    "    if len(i)<=3:\n",
    "        palabras_3_tit.append(i)"
   ]
  },
  {
   "cell_type": "code",
   "execution_count": null,
   "metadata": {
    "scrolled": true
   },
   "outputs": [],
   "source": [
    "palabras_3_tit"
   ]
  },
  {
   "cell_type": "code",
   "execution_count": null,
   "metadata": {},
   "outputs": [],
   "source": [
    "freq_palabras_3_tit = nltk.FreqDist(palabras_3_tit)\n",
    "freq_palabras_3_tit"
   ]
  },
  {
   "cell_type": "code",
   "execution_count": null,
   "metadata": {},
   "outputs": [],
   "source": [
    "freq_palabras_3_tit_df= pd.DataFrame(list(freq_palabras_3_tit.items()), columns=['Word', 'Frequency']).sort_values('Frequency',ascending=False).reset_index(drop = True)\n",
    "freq_palabras_3_tit_df.head(10)"
   ]
  },
  {
   "cell_type": "code",
   "execution_count": null,
   "metadata": {},
   "outputs": [],
   "source": [
    "#calculo la columna 'Frec_abs'\n",
    "freq_palabras_3_tit_df['Frec_rel_%'] = 100* (freq_palabras_3_tit_df.Frequency / len(palabras_3))\n",
    "\n",
    "#tabla de frecuencias absolutas / reltivas / acumulada\n",
    "\n",
    "frec_rel_val_tit= freq_palabras_3_tit_df['Frec_rel_%'].values # es una lista que contiene los valores de frec_rel_%\n",
    "\n",
    "acum = []\n",
    "valor_acum = 0\n",
    "\n",
    "for i in frec_rel_val_tit:\n",
    "    valor_acum = valor_acum + i \n",
    "    acum.append(valor_acum)\n",
    "\n",
    "freq_palabras_3_tit_df['frec_rel_%_acum'] = acum\n",
    "freq_palabras_3_tit_df.head(50)"
   ]
  },
  {
   "cell_type": "markdown",
   "metadata": {},
   "source": [
    "- Como se puede ver revisando estas palabras de menos de tres caracteres casi no agregan valor por lo que las quitamos del 'bag of words'"
   ]
  },
  {
   "cell_type": "code",
   "execution_count": null,
   "metadata": {},
   "outputs": [],
   "source": [
    "Amazon_train_2_title = []\n",
    "\n",
    "for i in Amazon_train_1_title:\n",
    "    if len(i)>3:\n",
    "        Amazon_train_2_title.append(i)"
   ]
  },
  {
   "cell_type": "code",
   "execution_count": null,
   "metadata": {
    "scrolled": true
   },
   "outputs": [],
   "source": [
    "Amazon_train_2_title"
   ]
  },
  {
   "cell_type": "code",
   "execution_count": null,
   "metadata": {},
   "outputs": [],
   "source": [
    "# ´BAG OF WORDS´ => 382.357 palabras\n",
    "len(Amazon_train_2_title)"
   ]
  },
  {
   "cell_type": "code",
   "execution_count": null,
   "metadata": {},
   "outputs": [],
   "source": [
    "freq_Amazon_train_2_title = nltk.FreqDist(Amazon_train_2_title)\n",
    "freq_Amazon_train_2_title"
   ]
  },
  {
   "cell_type": "code",
   "execution_count": null,
   "metadata": {},
   "outputs": [],
   "source": [
    "#Armo un data frame con la frecuencia de repetición de las palabras\n",
    "Amazon_train_2_tit_df= pd.DataFrame(list(freq_Amazon_train_2_title.items()), columns=['Word', 'Frequency']).sort_values('Frequency',ascending=False).reset_index(drop = True)\n",
    "Amazon_train_2_tit_df.head(5)"
   ]
  },
  {
   "cell_type": "code",
   "execution_count": null,
   "metadata": {},
   "outputs": [],
   "source": [
    "# palbras unicas en el ´BAG OF WORDS´ => 20.555\n",
    "Amazon_train_2_tit_df.shape[0]"
   ]
  },
  {
   "cell_type": "markdown",
   "metadata": {},
   "source": [
    "### - **2.1.8 Llevamos las palabras a su raíz**\n",
    "    \n",
    "    - Lemmatization => WordNetLemmatizer\n",
    "    \n",
    "    - Stemming => Snowballstemmer\n",
    "   \n",
    "    \n",
    "### **Utilizamos WordNetLemmatizer**"
   ]
  },
  {
   "cell_type": "code",
   "execution_count": null,
   "metadata": {},
   "outputs": [],
   "source": [
    "# Importamos el lemmatizar de NLTK, y creamos el objeto\n",
    "from nltk.stem import WordNetLemmatizer\n",
    "wordnet_lemmatizer = WordNetLemmatizer() \n",
    "\n",
    "from nltk.corpus import wordnet\n",
    "\n",
    "def get_wordnet_pos(word):\n",
    "    \"\"\"Map POS tag to first character lemmatize() accepts\"\"\"\n",
    "    tag = nltk.pos_tag([word])[0][1][0].upper()\n",
    "    tag_dict = {\"J\": wordnet.ADJ,\n",
    "                \"N\": wordnet.NOUN,\n",
    "                \"V\": wordnet.VERB,\n",
    "                \"R\": wordnet.ADV}\n",
    "\n",
    "    return tag_dict.get(tag, wordnet.NOUN)"
   ]
  },
  {
   "cell_type": "code",
   "execution_count": null,
   "metadata": {},
   "outputs": [],
   "source": [
    "Amazon_train_concat.head()"
   ]
  },
  {
   "cell_type": "code",
   "execution_count": null,
   "metadata": {
    "scrolled": true
   },
   "outputs": [],
   "source": [
    "#BAG OF WORDS del Body, todas con repeticiones\n",
    "len(Amazon_train_2_token) "
   ]
  },
  {
   "cell_type": "code",
   "execution_count": null,
   "metadata": {},
   "outputs": [],
   "source": [
    "# Palbras unicas en el ´BAG OF WORDS´ => 47.527\n",
    "Amazon_train_2_df.shape[0]"
   ]
  },
  {
   "cell_type": "code",
   "execution_count": null,
   "metadata": {
    "scrolled": true
   },
   "outputs": [],
   "source": [
    "#BAG OF WORDS del Title, todas con repeticiones\n",
    "len(Amazon_train_2_title)"
   ]
  },
  {
   "cell_type": "code",
   "execution_count": null,
   "metadata": {},
   "outputs": [],
   "source": [
    "# palbras unicas en el ´BAG OF WORDS´ => 20.555\n",
    "Amazon_train_2_tit_df.shape[0]"
   ]
  },
  {
   "cell_type": "markdown",
   "metadata": {},
   "source": [
    "### - BODY"
   ]
  },
  {
   "cell_type": "code",
   "execution_count": null,
   "metadata": {},
   "outputs": [],
   "source": [
    "Amazon_train_1_body_lema = []\n",
    "\n",
    "for i in range(Amazon_train_concat.shape[0]):\n",
    "    token= Amazon_train_concat.iloc[i].body\n",
    "    token=token.lower()#pasamos texto a miniscula.\n",
    "    token=re.sub(\"[^a-zA-Z]\",\" \",str(token))# Vamos a reemplzar los caracteres que no sean letras por espacios\n",
    "    token= nltk.tokenize.RegexpTokenizer('[\\w]+').tokenize(token)# Tokeniza\n",
    "    token=  [eliminar_acentos(w) for w in token] # quito acentos\n",
    "    token=  [w for w in token if w not in stopwords_modificada] # Filtrar por stopwords\n",
    "    token = [w for w in token if len(w)>3]\n",
    "    \n",
    "    frase_lemma = [wordnet_lemmatizer.lemmatize(w, get_wordnet_pos(w)) for w in token]# Aplicamos el Lemmatizer\n",
    "     \n",
    "    token=\" \".join(token)# Por ultimo volvemos a unir el titular\n",
    "    \n",
    "    Amazon_train_1_body_lema.append(token) "
   ]
  },
  {
   "cell_type": "code",
   "execution_count": null,
   "metadata": {},
   "outputs": [],
   "source": [
    "# ejemplo de las primeras 3 review, tokenizadas, sin stopwors y sin acentos\n",
    "print(Amazon_train_1_body_lema [0])\n",
    "print(Amazon_train_1_body_lema [1])\n",
    "print(Amazon_train_1_body_lema [2])"
   ]
  },
  {
   "cell_type": "code",
   "execution_count": null,
   "metadata": {},
   "outputs": [],
   "source": [
    "#Comparamos el body con el body lemmatizado\n",
    "Amazon_train_concat['body_lemm'] = Amazon_train_1_body_lema\n",
    "Amazon_train_concat[['body','body_lemm']].head()"
   ]
  },
  {
   "cell_type": "markdown",
   "metadata": {},
   "source": [
    "- Reviso el 'bag of words' de los body lemmatizados"
   ]
  },
  {
   "cell_type": "code",
   "execution_count": null,
   "metadata": {},
   "outputs": [],
   "source": [
    "Amazon_train_BOW_B = []\n",
    "for i in range(Amazon_train_concat.shape[0]):\n",
    "    token= Amazon_train_concat.iloc[i].body_lemm\n",
    "\n",
    "    token= nltk.tokenize.word_tokenize(token)# Tokeniza\n",
    "\n",
    "    Amazon_train_BOW_B.append(token) \n",
    "\n",
    "# ejemplo de las primeras 3 review, tokenizadas, sin stopwors y sin acentos\n",
    "print(Amazon_train_BOW_B [0])\n",
    "print(Amazon_train_BOW_B [1])\n",
    "print(Amazon_train_BOW_B [2])"
   ]
  },
  {
   "cell_type": "code",
   "execution_count": null,
   "metadata": {},
   "outputs": [],
   "source": [
    "# Esta celda convierte una lista de listas en una unica lista. Podemos decir que obtenemos el ´BAG OF WORDS´\n",
    "Amazon_train_BOW_B = list(itertools.chain(*Amazon_train_BOW_B))"
   ]
  },
  {
   "cell_type": "code",
   "execution_count": null,
   "metadata": {},
   "outputs": [],
   "source": [
    "freq_Amazon_train_BOW_B = nltk.FreqDist(Amazon_train_BOW_B)\n",
    "freq_Amazon_train_BOW_B"
   ]
  },
  {
   "cell_type": "code",
   "execution_count": null,
   "metadata": {},
   "outputs": [],
   "source": [
    "freq_Amazon_train_BOW_B_df= pd.DataFrame(list(freq_Amazon_train_BOW_B.items()), columns=['Word', 'Frequency']).sort_values('Frequency',ascending=False).reset_index(drop = True)\n",
    "freq_Amazon_train_BOW_B_df.head()"
   ]
  },
  {
   "cell_type": "code",
   "execution_count": null,
   "metadata": {},
   "outputs": [],
   "source": [
    "freq_Amazon_train_BOW_B_df.sort_values(['Word']).head()"
   ]
  },
  {
   "cell_type": "code",
   "execution_count": null,
   "metadata": {},
   "outputs": [],
   "source": [
    "#BAG OF WORDS, 47.527\n",
    "freq_Amazon_train_BOW_B_df.shape"
   ]
  },
  {
   "cell_type": "markdown",
   "metadata": {},
   "source": [
    " - Parece que el lemmatizadfo no esta funcionando adecuadamente, tengo la misma cantidad de palabras unicas antes de lemmatizar que despues de lemmatizar"
   ]
  },
  {
   "cell_type": "markdown",
   "metadata": {},
   "source": [
    "### - TITLE"
   ]
  },
  {
   "cell_type": "code",
   "execution_count": null,
   "metadata": {},
   "outputs": [],
   "source": [
    "Amazon_train_1_title_lema = []\n",
    "\n",
    "for i in range(Amazon_train_concat.shape[0]):\n",
    "    token= Amazon_train_concat.iloc[i].title\n",
    "    token=token.lower()#pasamos texto a miniscula.\n",
    "    token=re.sub(\"[^a-zA-Z]\",\" \",str(token))# Vamos a reemplzar los caracteres que no sean letras por espacios\n",
    "    token= nltk.tokenize.RegexpTokenizer('[\\w]+').tokenize(token)# Tokeniza\n",
    "    token=  [eliminar_acentos(w) for w in token] # quito acentos\n",
    "    token=  [w for w in token if w not in stopwords_modificada] # Filtrar por stopwords\n",
    "    token = [w for w in token if len(w)>3]\n",
    "    \n",
    "    frase_lemma = [wordnet_lemmatizer.lemmatize(w, get_wordnet_pos(w)) for w in token]# Aplicamos el Lemmatizer\n",
    "     \n",
    "    token=\" \".join(token)# Por ultimo volvemos a unir el titular\n",
    "    \n",
    "    Amazon_train_1_title_lema.append(token) "
   ]
  },
  {
   "cell_type": "code",
   "execution_count": null,
   "metadata": {},
   "outputs": [],
   "source": [
    "# ejemplo de las primeras 3 review, tokenizadas, sin stopwors y sin acentos\n",
    "print(Amazon_train_1_title_lema [0])\n",
    "print(Amazon_train_1_title_lema [1])\n",
    "print(Amazon_train_1_title_lema [2])"
   ]
  },
  {
   "cell_type": "code",
   "execution_count": null,
   "metadata": {},
   "outputs": [],
   "source": [
    "#Comparamos el title con el title lemmatizado\n",
    "Amazon_train_concat['title_lemm'] = Amazon_train_1_title_lema\n",
    "Amazon_train_concat[['title','title_lemm','body','body_lemm']].head()"
   ]
  },
  {
   "cell_type": "markdown",
   "metadata": {},
   "source": [
    "- Reviso el 'bag of words' de los titulares lemmatizados"
   ]
  },
  {
   "cell_type": "code",
   "execution_count": null,
   "metadata": {},
   "outputs": [],
   "source": [
    "Amazon_train_concat.shape"
   ]
  },
  {
   "cell_type": "code",
   "execution_count": null,
   "metadata": {},
   "outputs": [],
   "source": [
    "Amazon_train_BOW = []\n",
    "for i in range(Amazon_train_concat.shape[0]):\n",
    "    token= Amazon_train_concat.iloc[i].title_lemm\n",
    "\n",
    "    token= nltk.tokenize.word_tokenize(token)# Tokeniza\n",
    "\n",
    "    Amazon_train_BOW.append(token) \n",
    "\n",
    "# ejemplo de las primeras 3 review, tokenizadas, sin stopwors y sin acentos\n",
    "print(Amazon_train_BOW [0])\n",
    "print(Amazon_train_BOW [1])\n",
    "print(Amazon_train_BOW [2])"
   ]
  },
  {
   "cell_type": "code",
   "execution_count": null,
   "metadata": {},
   "outputs": [],
   "source": [
    "# Esta celda convierte una lista de listas en una unica lista. Podemos decir que obtenemos el ´BAG OF WORDS´\n",
    "Amazon_train_BOW = list(itertools.chain(*Amazon_train_BOW))"
   ]
  },
  {
   "cell_type": "code",
   "execution_count": null,
   "metadata": {},
   "outputs": [],
   "source": [
    "freq_Amazon_train_BOW = nltk.FreqDist(Amazon_train_BOW)\n",
    "freq_Amazon_train_BOW"
   ]
  },
  {
   "cell_type": "code",
   "execution_count": null,
   "metadata": {},
   "outputs": [],
   "source": [
    "freq_Amazon_train_BOW_df= pd.DataFrame(list(freq_Amazon_train_BOW.items()), columns=['Word', 'Frequency']).sort_values('Frequency',ascending=False).reset_index(drop = True)\n",
    "freq_Amazon_train_BOW_df.head()"
   ]
  },
  {
   "cell_type": "code",
   "execution_count": null,
   "metadata": {},
   "outputs": [],
   "source": [
    "freq_Amazon_train_BOW_df.sort_values(['Word']).head()"
   ]
  },
  {
   "cell_type": "code",
   "execution_count": null,
   "metadata": {},
   "outputs": [],
   "source": [
    "#BAG OF WORDS\n",
    "freq_Amazon_train_BOW_df.shape"
   ]
  },
  {
   "cell_type": "markdown",
   "metadata": {},
   "source": [
    " - Parece que el lemmatizadfo no esta funcionando, tengo la misma cantidad de palabras unicas antes de lemmatizar que despues de lemmatizar"
   ]
  },
  {
   "cell_type": "markdown",
   "metadata": {},
   "source": [
    "### - **Utilizamos SnowballStemmer**"
   ]
  },
  {
   "cell_type": "code",
   "execution_count": 23,
   "metadata": {},
   "outputs": [],
   "source": [
    "from nltk.stem.snowball import SnowballStemmer\n",
    "stemmer = SnowballStemmer(language='spanish')"
   ]
  },
  {
   "cell_type": "markdown",
   "metadata": {},
   "source": [
    "### - BODY"
   ]
  },
  {
   "cell_type": "code",
   "execution_count": 24,
   "metadata": {},
   "outputs": [],
   "source": [
    "Amazon_train_1_stem_B = []\n",
    "bow_train_1_stem_B = []\n",
    "\n",
    "for i in range(Amazon_train_concat.shape[0]):\n",
    "    token= Amazon_train_concat.iloc[i].body\n",
    "    token=token.lower()#pasamos texto a miniscula.\n",
    "    token=re.sub(\"[^a-zA-Z]\",\" \",str(token))# Vamos a reemplzar los caracteres que no sean letras por espacios\n",
    "    token= nltk.tokenize.RegexpTokenizer('[\\w]+').tokenize(token)# Tokeniza\n",
    "    token=  [eliminar_acentos(w) for w in token] # quito acentos\n",
    "    token=  [w for w in token if w not in stopwords_modificada] # Filtrar por stopwords\n",
    "    token = [w for w in token if len(w)>3]\n",
    "    \n",
    "    token = [stemmer.stem(w) for w in token]# Aplicamos el Lemmatizer\n",
    "\n",
    "    bow_train_1_stem_B.append(token)\n",
    "    \n",
    "    token=\" \".join(token)# Por ultimo volvemos a unir el titular\n",
    "    \n",
    "    Amazon_train_1_stem_B.append(token) "
   ]
  },
  {
   "cell_type": "code",
   "execution_count": 25,
   "metadata": {},
   "outputs": [
    {
     "name": "stdout",
     "output_type": "stream",
     "text": [
      "buen pantall men mes recib respuest fabric\n",
      "horribl compr sab ingl inform tic despu hor capaz instal\n",
      "oblig compr unidad lleg sol form reclam autent estaf compreis\n"
     ]
    }
   ],
   "source": [
    "# ejemplo de las primeras 3 review, tokenizadas, sin stopwors y sin acentos\n",
    "print(Amazon_train_1_stem_B [0])\n",
    "print(Amazon_train_1_stem_B [1])\n",
    "print(Amazon_train_1_stem_B [2])"
   ]
  },
  {
   "cell_type": "code",
   "execution_count": 26,
   "metadata": {},
   "outputs": [
    {
     "data": {
      "text/plain": [
       "200000"
      ]
     },
     "execution_count": 26,
     "metadata": {},
     "output_type": "execute_result"
    }
   ],
   "source": [
    "len(bow_train_1_stem_B)"
   ]
  },
  {
   "cell_type": "code",
   "execution_count": 27,
   "metadata": {},
   "outputs": [],
   "source": [
    "# Esta celda convierte una lista de listas en una unica lista. Podemos decir que obtenemos el ´BAG OF WORDS´\n",
    "bow_train_1_stem_B = list(itertools.chain(*bow_train_1_stem_B))"
   ]
  },
  {
   "cell_type": "code",
   "execution_count": 28,
   "metadata": {},
   "outputs": [
    {
     "data": {
      "text/plain": [
       "FreqDist({'bien': 51659, 'buen': 41476, 'compr': 32881, 'calid': 31933, 'product': 26126, 'lleg': 25280, 'preci': 23304, 'funcion': 22022, 'perfect': 20048, 'hac': 18523, ...})"
      ]
     },
     "execution_count": 28,
     "metadata": {},
     "output_type": "execute_result"
    }
   ],
   "source": [
    "freq_bow_train_1_stem_B = nltk.FreqDist(bow_train_1_stem_B)\n",
    "freq_bow_train_1_stem_B"
   ]
  },
  {
   "cell_type": "code",
   "execution_count": 29,
   "metadata": {},
   "outputs": [
    {
     "data": {
      "text/html": [
       "<div>\n",
       "<style scoped>\n",
       "    .dataframe tbody tr th:only-of-type {\n",
       "        vertical-align: middle;\n",
       "    }\n",
       "\n",
       "    .dataframe tbody tr th {\n",
       "        vertical-align: top;\n",
       "    }\n",
       "\n",
       "    .dataframe thead th {\n",
       "        text-align: right;\n",
       "    }\n",
       "</style>\n",
       "<table border=\"1\" class=\"dataframe\">\n",
       "  <thead>\n",
       "    <tr style=\"text-align: right;\">\n",
       "      <th></th>\n",
       "      <th>Word</th>\n",
       "      <th>Frequency</th>\n",
       "    </tr>\n",
       "  </thead>\n",
       "  <tbody>\n",
       "    <tr>\n",
       "      <th>0</th>\n",
       "      <td>bien</td>\n",
       "      <td>51659</td>\n",
       "    </tr>\n",
       "    <tr>\n",
       "      <th>1</th>\n",
       "      <td>buen</td>\n",
       "      <td>41476</td>\n",
       "    </tr>\n",
       "    <tr>\n",
       "      <th>2</th>\n",
       "      <td>compr</td>\n",
       "      <td>32881</td>\n",
       "    </tr>\n",
       "    <tr>\n",
       "      <th>3</th>\n",
       "      <td>calid</td>\n",
       "      <td>31933</td>\n",
       "    </tr>\n",
       "    <tr>\n",
       "      <th>4</th>\n",
       "      <td>product</td>\n",
       "      <td>26126</td>\n",
       "    </tr>\n",
       "  </tbody>\n",
       "</table>\n",
       "</div>"
      ],
      "text/plain": [
       "      Word  Frequency\n",
       "0     bien      51659\n",
       "1     buen      41476\n",
       "2    compr      32881\n",
       "3    calid      31933\n",
       "4  product      26126"
      ]
     },
     "execution_count": 29,
     "metadata": {},
     "output_type": "execute_result"
    }
   ],
   "source": [
    "freq_bow_train_1_stem_B_df= pd.DataFrame(list(freq_bow_train_1_stem_B.items()), columns=['Word', 'Frequency']).sort_values('Frequency',ascending=False).reset_index(drop = True)\n",
    "freq_bow_train_1_stem_B_df.head()"
   ]
  },
  {
   "cell_type": "code",
   "execution_count": 30,
   "metadata": {},
   "outputs": [
    {
     "data": {
      "text/plain": [
       "(21130, 2)"
      ]
     },
     "execution_count": 30,
     "metadata": {},
     "output_type": "execute_result"
    }
   ],
   "source": [
    "#BAG OF WORDS: 21.133\n",
    "freq_bow_train_1_stem_B_df.shape"
   ]
  },
  {
   "cell_type": "markdown",
   "metadata": {},
   "source": [
    "### - TITLE"
   ]
  },
  {
   "cell_type": "code",
   "execution_count": 31,
   "metadata": {},
   "outputs": [],
   "source": [
    "Amazon_train_1_stem_T = []\n",
    "bow_train_1_stem_T = []\n",
    "\n",
    "for i in range(Amazon_train_concat.shape[0]):\n",
    "    token= Amazon_train_concat.iloc[i].title\n",
    "    token=token.lower()#pasamos texto a miniscula.\n",
    "    token=re.sub(\"[^a-zA-Z]\",\" \",str(token))# Vamos a reemplzar los caracteres que no sean letras por espacios\n",
    "    token= nltk.tokenize.RegexpTokenizer('[\\w]+').tokenize(token)# Tokeniza\n",
    "    token=  [eliminar_acentos(w) for w in token] # quito acentos\n",
    "    token=  [w for w in token if w not in stopwords_modificada] # Filtrar por stopwords\n",
    "    token = [w for w in token if len(w)>3]\n",
    "    \n",
    "    token = [stemmer.stem(w) for w in token]# Aplicamos el Lemmatizer\n",
    "\n",
    "    bow_train_1_stem_T.append(token)\n",
    "    \n",
    "    token=\" \".join(token)# Por ultimo volvemos a unir el titular\n",
    "    \n",
    "    Amazon_train_1_stem_T.append(token) "
   ]
  },
  {
   "cell_type": "code",
   "execution_count": 32,
   "metadata": {},
   "outputs": [
    {
     "name": "stdout",
     "output_type": "stream",
     "text": [
      "television nev\n",
      "diner tir basur compr\n",
      "sol lleg unid oblig compr\n"
     ]
    }
   ],
   "source": [
    "# ejemplo de las primeras 3 review, tokenizadas, sin stopwors y sin acentos\n",
    "print(Amazon_train_1_stem_T [0])\n",
    "print(Amazon_train_1_stem_T [1])\n",
    "print(Amazon_train_1_stem_T [2])"
   ]
  },
  {
   "cell_type": "code",
   "execution_count": 33,
   "metadata": {},
   "outputs": [
    {
     "data": {
      "text/plain": [
       "200000"
      ]
     },
     "execution_count": 33,
     "metadata": {},
     "output_type": "execute_result"
    }
   ],
   "source": [
    "len(bow_train_1_stem_T)"
   ]
  },
  {
   "cell_type": "code",
   "execution_count": 34,
   "metadata": {},
   "outputs": [],
   "source": [
    "# Esta celda convierte una lista de listas en una unica lista. Podemos decir que obtenemos el ´BAG OF WORDS´\n",
    "bow_train_1_stem_T = list(itertools.chain(*bow_train_1_stem_T))"
   ]
  },
  {
   "cell_type": "code",
   "execution_count": 35,
   "metadata": {},
   "outputs": [
    {
     "data": {
      "text/plain": [
       "FreqDist({'buen': 22191, 'calid': 15612, 'bien': 11899, 'preci': 8699, 'product': 7529, 'perfect': 6362, 'mal': 5836, 'funcion': 5736, 'compr': 5448, 'bonit': 4032, ...})"
      ]
     },
     "execution_count": 35,
     "metadata": {},
     "output_type": "execute_result"
    }
   ],
   "source": [
    "freq_bow_train_1_stem_T = nltk.FreqDist(bow_train_1_stem_T)\n",
    "freq_bow_train_1_stem_T"
   ]
  },
  {
   "cell_type": "code",
   "execution_count": 36,
   "metadata": {},
   "outputs": [
    {
     "data": {
      "text/html": [
       "<div>\n",
       "<style scoped>\n",
       "    .dataframe tbody tr th:only-of-type {\n",
       "        vertical-align: middle;\n",
       "    }\n",
       "\n",
       "    .dataframe tbody tr th {\n",
       "        vertical-align: top;\n",
       "    }\n",
       "\n",
       "    .dataframe thead th {\n",
       "        text-align: right;\n",
       "    }\n",
       "</style>\n",
       "<table border=\"1\" class=\"dataframe\">\n",
       "  <thead>\n",
       "    <tr style=\"text-align: right;\">\n",
       "      <th></th>\n",
       "      <th>Word</th>\n",
       "      <th>Frequency</th>\n",
       "    </tr>\n",
       "  </thead>\n",
       "  <tbody>\n",
       "    <tr>\n",
       "      <th>0</th>\n",
       "      <td>buen</td>\n",
       "      <td>22191</td>\n",
       "    </tr>\n",
       "    <tr>\n",
       "      <th>1</th>\n",
       "      <td>calid</td>\n",
       "      <td>15612</td>\n",
       "    </tr>\n",
       "    <tr>\n",
       "      <th>2</th>\n",
       "      <td>bien</td>\n",
       "      <td>11899</td>\n",
       "    </tr>\n",
       "    <tr>\n",
       "      <th>3</th>\n",
       "      <td>preci</td>\n",
       "      <td>8699</td>\n",
       "    </tr>\n",
       "    <tr>\n",
       "      <th>4</th>\n",
       "      <td>product</td>\n",
       "      <td>7529</td>\n",
       "    </tr>\n",
       "  </tbody>\n",
       "</table>\n",
       "</div>"
      ],
      "text/plain": [
       "      Word  Frequency\n",
       "0     buen      22191\n",
       "1    calid      15612\n",
       "2     bien      11899\n",
       "3    preci       8699\n",
       "4  product       7529"
      ]
     },
     "execution_count": 36,
     "metadata": {},
     "output_type": "execute_result"
    }
   ],
   "source": [
    "freq_bow_train_1_stem_T_df= pd.DataFrame(list(freq_bow_train_1_stem_T.items()), columns=['Word', 'Frequency']).sort_values('Frequency',ascending=False).reset_index(drop = True)\n",
    "freq_bow_train_1_stem_T_df.head()"
   ]
  },
  {
   "cell_type": "code",
   "execution_count": 37,
   "metadata": {},
   "outputs": [
    {
     "data": {
      "text/plain": [
       "(11755, 2)"
      ]
     },
     "execution_count": 37,
     "metadata": {},
     "output_type": "execute_result"
    }
   ],
   "source": [
    "#BAG OF WORDS: 11.759\n",
    "freq_bow_train_1_stem_T_df.shape"
   ]
  },
  {
   "cell_type": "markdown",
   "metadata": {},
   "source": [
    "**Con la aplicación del stemmer vemos**\n",
    " - Body => pasamos de 47.527 a 21.130 => disminución del 55%\n",
    " - Title => pasamos de 20.555 a 11.755 => disminución del 43% "
   ]
  },
  {
   "cell_type": "code",
   "execution_count": 38,
   "metadata": {},
   "outputs": [
    {
     "data": {
      "text/html": [
       "<div>\n",
       "<style scoped>\n",
       "    .dataframe tbody tr th:only-of-type {\n",
       "        vertical-align: middle;\n",
       "    }\n",
       "\n",
       "    .dataframe tbody tr th {\n",
       "        vertical-align: top;\n",
       "    }\n",
       "\n",
       "    .dataframe thead th {\n",
       "        text-align: right;\n",
       "    }\n",
       "</style>\n",
       "<table border=\"1\" class=\"dataframe\">\n",
       "  <thead>\n",
       "    <tr style=\"text-align: right;\">\n",
       "      <th></th>\n",
       "      <th>title</th>\n",
       "      <th>title_stem</th>\n",
       "      <th>body</th>\n",
       "      <th>body_stem</th>\n",
       "    </tr>\n",
       "  </thead>\n",
       "  <tbody>\n",
       "    <tr>\n",
       "      <th>0</th>\n",
       "      <td>television nevir</td>\n",
       "      <td>television nev</td>\n",
       "      <td>nada bueno se me fue ka pantalla en menos de  ...</td>\n",
       "      <td>buen pantall men mes recib respuest fabric</td>\n",
       "    </tr>\n",
       "    <tr>\n",
       "      <th>1</th>\n",
       "      <td>dinero tirado a la basura con esta compra</td>\n",
       "      <td>diner tir basur compr</td>\n",
       "      <td>horrible  nos tuvimos que comprar otro porque ...</td>\n",
       "      <td>horribl compr sab ingl inform tic despu hor ca...</td>\n",
       "    </tr>\n",
       "    <tr>\n",
       "      <th>2</th>\n",
       "      <td>solo llega una unidad cuando te obligan a comp...</td>\n",
       "      <td>sol lleg unid oblig compr</td>\n",
       "      <td>te obligan a comprar dos unidades y te llega s...</td>\n",
       "      <td>oblig compr unidad lleg sol form reclam autent...</td>\n",
       "    </tr>\n",
       "    <tr>\n",
       "      <th>3</th>\n",
       "      <td>producto no recibido</td>\n",
       "      <td>product recib</td>\n",
       "      <td>no entro en descalificar al vendedor  solo pue...</td>\n",
       "      <td>entro descalific vendedor sol pued dec tras me...</td>\n",
       "    </tr>\n",
       "    <tr>\n",
       "      <th>4</th>\n",
       "      <td>devuelto</td>\n",
       "      <td>devuelt</td>\n",
       "      <td>llega tarde y co la talla equivocada</td>\n",
       "      <td>lleg tard tall equivoc</td>\n",
       "    </tr>\n",
       "  </tbody>\n",
       "</table>\n",
       "</div>"
      ],
      "text/plain": [
       "                                               title  \\\n",
       "0                                   television nevir   \n",
       "1          dinero tirado a la basura con esta compra   \n",
       "2  solo llega una unidad cuando te obligan a comp...   \n",
       "3                              producto no recibido    \n",
       "4                                           devuelto   \n",
       "\n",
       "                  title_stem  \\\n",
       "0             television nev   \n",
       "1      diner tir basur compr   \n",
       "2  sol lleg unid oblig compr   \n",
       "3              product recib   \n",
       "4                    devuelt   \n",
       "\n",
       "                                                body  \\\n",
       "0  nada bueno se me fue ka pantalla en menos de  ...   \n",
       "1  horrible  nos tuvimos que comprar otro porque ...   \n",
       "2  te obligan a comprar dos unidades y te llega s...   \n",
       "3  no entro en descalificar al vendedor  solo pue...   \n",
       "4               llega tarde y co la talla equivocada   \n",
       "\n",
       "                                           body_stem  \n",
       "0         buen pantall men mes recib respuest fabric  \n",
       "1  horribl compr sab ingl inform tic despu hor ca...  \n",
       "2  oblig compr unidad lleg sol form reclam autent...  \n",
       "3  entro descalific vendedor sol pued dec tras me...  \n",
       "4                             lleg tard tall equivoc  "
      ]
     },
     "execution_count": 38,
     "metadata": {},
     "output_type": "execute_result"
    }
   ],
   "source": [
    "#Comparamos el title y body con stemmer y sin stemmer\n",
    "\n",
    "Amazon_train_concat['title_stem'] = Amazon_train_1_stem_T\n",
    "Amazon_train_concat['body_stem'] = Amazon_train_1_stem_B\n",
    "\n",
    "Amazon_train_concat[['title','title_stem','body','body_stem']].head()"
   ]
  },
  {
   "cell_type": "markdown",
   "metadata": {},
   "source": [
    "- Aca si podemos apreciar en la tabla superior el efecto que ha generado el stemmer. "
   ]
  },
  {
   "cell_type": "markdown",
   "metadata": {},
   "source": [
    "- Tenemos todo el data set con los titulares y el body lemmatizado y stemmizado. Como vimos vamos a seguir adelante con las columnas stemmizadas"
   ]
  },
  {
   "cell_type": "code",
   "execution_count": 39,
   "metadata": {},
   "outputs": [
    {
     "data": {
      "text/html": [
       "<div>\n",
       "<style scoped>\n",
       "    .dataframe tbody tr th:only-of-type {\n",
       "        vertical-align: middle;\n",
       "    }\n",
       "\n",
       "    .dataframe tbody tr th {\n",
       "        vertical-align: top;\n",
       "    }\n",
       "\n",
       "    .dataframe thead th {\n",
       "        text-align: right;\n",
       "    }\n",
       "</style>\n",
       "<table border=\"1\" class=\"dataframe\">\n",
       "  <thead>\n",
       "    <tr style=\"text-align: right;\">\n",
       "      <th></th>\n",
       "      <th>stars</th>\n",
       "      <th>category</th>\n",
       "      <th>title</th>\n",
       "      <th>title_stem</th>\n",
       "      <th>body</th>\n",
       "      <th>body_stem</th>\n",
       "    </tr>\n",
       "  </thead>\n",
       "  <tbody>\n",
       "    <tr>\n",
       "      <th>0</th>\n",
       "      <td>1</td>\n",
       "      <td>electronics</td>\n",
       "      <td>television nevir</td>\n",
       "      <td>television nev</td>\n",
       "      <td>nada bueno se me fue ka pantalla en menos de  ...</td>\n",
       "      <td>buen pantall men mes recib respuest fabric</td>\n",
       "    </tr>\n",
       "    <tr>\n",
       "      <th>1</th>\n",
       "      <td>1</td>\n",
       "      <td>electronics</td>\n",
       "      <td>dinero tirado a la basura con esta compra</td>\n",
       "      <td>diner tir basur compr</td>\n",
       "      <td>horrible  nos tuvimos que comprar otro porque ...</td>\n",
       "      <td>horribl compr sab ingl inform tic despu hor ca...</td>\n",
       "    </tr>\n",
       "    <tr>\n",
       "      <th>2</th>\n",
       "      <td>1</td>\n",
       "      <td>drugstore</td>\n",
       "      <td>solo llega una unidad cuando te obligan a comp...</td>\n",
       "      <td>sol lleg unid oblig compr</td>\n",
       "      <td>te obligan a comprar dos unidades y te llega s...</td>\n",
       "      <td>oblig compr unidad lleg sol form reclam autent...</td>\n",
       "    </tr>\n",
       "    <tr>\n",
       "      <th>3</th>\n",
       "      <td>1</td>\n",
       "      <td>wireless</td>\n",
       "      <td>producto no recibido</td>\n",
       "      <td>product recib</td>\n",
       "      <td>no entro en descalificar al vendedor  solo pue...</td>\n",
       "      <td>entro descalific vendedor sol pued dec tras me...</td>\n",
       "    </tr>\n",
       "    <tr>\n",
       "      <th>4</th>\n",
       "      <td>1</td>\n",
       "      <td>shoes</td>\n",
       "      <td>devuelto</td>\n",
       "      <td>devuelt</td>\n",
       "      <td>llega tarde y co la talla equivocada</td>\n",
       "      <td>lleg tard tall equivoc</td>\n",
       "    </tr>\n",
       "  </tbody>\n",
       "</table>\n",
       "</div>"
      ],
      "text/plain": [
       "   stars     category                                              title  \\\n",
       "0      1  electronics                                   television nevir   \n",
       "1      1  electronics          dinero tirado a la basura con esta compra   \n",
       "2      1    drugstore  solo llega una unidad cuando te obligan a comp...   \n",
       "3      1     wireless                              producto no recibido    \n",
       "4      1        shoes                                           devuelto   \n",
       "\n",
       "                  title_stem  \\\n",
       "0             television nev   \n",
       "1      diner tir basur compr   \n",
       "2  sol lleg unid oblig compr   \n",
       "3              product recib   \n",
       "4                    devuelt   \n",
       "\n",
       "                                                body  \\\n",
       "0  nada bueno se me fue ka pantalla en menos de  ...   \n",
       "1  horrible  nos tuvimos que comprar otro porque ...   \n",
       "2  te obligan a comprar dos unidades y te llega s...   \n",
       "3  no entro en descalificar al vendedor  solo pue...   \n",
       "4               llega tarde y co la talla equivocada   \n",
       "\n",
       "                                           body_stem  \n",
       "0         buen pantall men mes recib respuest fabric  \n",
       "1  horribl compr sab ingl inform tic despu hor ca...  \n",
       "2  oblig compr unidad lleg sol form reclam autent...  \n",
       "3  entro descalific vendedor sol pued dec tras me...  \n",
       "4                             lleg tard tall equivoc  "
      ]
     },
     "execution_count": 39,
     "metadata": {},
     "output_type": "execute_result"
    }
   ],
   "source": [
    "Amazon_train_concat= Amazon_train_concat[['stars','category','title','title_stem','body','body_stem']]\n",
    "Amazon_train_concat.head()"
   ]
  },
  {
   "cell_type": "markdown",
   "metadata": {},
   "source": [
    "## 3. VECTORIZACIÓN"
   ]
  },
  {
   "cell_type": "markdown",
   "metadata": {},
   "source": [
    " - Para BODY tomamos un max feature de 2000\n",
    " - Para TITLE tomamos un max featrure de 1000\n",
    " \n",
    " Esta diferencia se debe a que tanto body como title son muy diferentes en su longitud. "
   ]
  },
  {
   "cell_type": "code",
   "execution_count": 40,
   "metadata": {},
   "outputs": [],
   "source": [
    "from sklearn.feature_extraction.text import TfidfVectorizer\n",
    "\n",
    "vectorizer_B=TfidfVectorizer(max_features=2000, min_df= 5) # stop_words=\"english\" , ngram_range=(1, 2)"
   ]
  },
  {
   "cell_type": "markdown",
   "metadata": {},
   "source": [
    "### - BODY"
   ]
  },
  {
   "cell_type": "code",
   "execution_count": 41,
   "metadata": {},
   "outputs": [
    {
     "data": {
      "text/plain": [
       "TfidfVectorizer(max_features=2000, min_df=5)"
      ]
     },
     "execution_count": 41,
     "metadata": {},
     "output_type": "execute_result"
    }
   ],
   "source": [
    "vectorizer_B"
   ]
  },
  {
   "cell_type": "code",
   "execution_count": 42,
   "metadata": {},
   "outputs": [],
   "source": [
    "vector_b= list(Amazon_train_concat['body_stem'].values)\n",
    "stars_b = Amazon_train_concat['stars']"
   ]
  },
  {
   "cell_type": "code",
   "execution_count": 43,
   "metadata": {},
   "outputs": [
    {
     "name": "stdout",
     "output_type": "stream",
     "text": [
      "50 palabras mas usadas:  ['abaj', 'abiert', 'aboll', 'abon', 'abre', 'abren', 'abres', 'abri', 'abrig', 'abril', 'abrir', 'abrirl', 'absolut', 'absorb', 'abult', 'aburr', 'acab', 'acced', 'acces', 'accesori', 'aceit', 'acept', 'acer', 'acerc', 'acert', 'aciert', 'aclar', 'acolch', 'acomp', 'acondicion', 'aconsej', 'acopl', 'acord', 'acostumbr', 'activ', 'actual', 'actualiz', 'actualizaci', 'acuari', 'acuerd', 'acumul', 'adapt', 'adecu', 'adel', 'adem', 'adher', 'adherent', 'adhes', 'adhier', 'adicional']\n"
     ]
    }
   ],
   "source": [
    "matriz_body = vectorizer_B.fit_transform(vector_b)\n",
    "\n",
    "# Tomamos las palabras\n",
    "all_words_b = vectorizer_B.get_feature_names()\n",
    "\n",
    "# Vizualizamos las 50 palabras mas usadas\n",
    "print(\"50 palabras mas usadas: \",all_words_b[0:50])"
   ]
  },
  {
   "cell_type": "code",
   "execution_count": 45,
   "metadata": {},
   "outputs": [
    {
     "data": {
      "text/plain": [
       "<200000x2000 sparse matrix of type '<class 'numpy.float64'>'\n",
       "\twith 2032527 stored elements in Compressed Sparse Row format>"
      ]
     },
     "execution_count": 45,
     "metadata": {},
     "output_type": "execute_result"
    }
   ],
   "source": [
    "matriz_body #sparse matrix: 2.032.527"
   ]
  },
  {
   "cell_type": "markdown",
   "metadata": {},
   "source": [
    "### - TITLE"
   ]
  },
  {
   "cell_type": "code",
   "execution_count": 46,
   "metadata": {},
   "outputs": [],
   "source": [
    "vectorizer_T=TfidfVectorizer(max_features=1000, min_df= 5) # stop_words=\"english\" , ngram_range=(1, 2)"
   ]
  },
  {
   "cell_type": "code",
   "execution_count": 47,
   "metadata": {},
   "outputs": [
    {
     "data": {
      "text/plain": [
       "TfidfVectorizer(max_features=1000, min_df=5)"
      ]
     },
     "execution_count": 47,
     "metadata": {},
     "output_type": "execute_result"
    }
   ],
   "source": [
    "vectorizer_T"
   ]
  },
  {
   "cell_type": "code",
   "execution_count": 48,
   "metadata": {},
   "outputs": [],
   "source": [
    "vector_T= list(Amazon_train_concat['title_stem'].values)"
   ]
  },
  {
   "cell_type": "code",
   "execution_count": 49,
   "metadata": {},
   "outputs": [],
   "source": [
    "matriz_title = vectorizer_T.fit_transform(vector_T)"
   ]
  },
  {
   "cell_type": "code",
   "execution_count": 50,
   "metadata": {},
   "outputs": [
    {
     "data": {
      "text/plain": [
       "<200000x1000 sparse matrix of type '<class 'numpy.float64'>'\n",
       "\twith 326968 stored elements in Compressed Sparse Row format>"
      ]
     },
     "execution_count": 50,
     "metadata": {},
     "output_type": "execute_result"
    }
   ],
   "source": [
    "matriz_title # sparse matrix: 326.968 "
   ]
  },
  {
   "cell_type": "markdown",
   "metadata": {},
   "source": [
    "## 4 Modelado"
   ]
  },
  {
   "cell_type": "markdown",
   "metadata": {},
   "source": [
    "Vamos a aplicar tres modelos al BODY y al TITULO\n",
    "  - **Naives Bayes**\n",
    "  - **Random Forest**\n",
    "  - **Support Vector Machine**\n",
    " \n",
    "En termino de metrcias con vamos a a ver tanto para train como para test \n",
    "  - **Confusion matrix**\n",
    "  - **classification_report**\n",
    "    - Precision\n",
    "    - Recall\n",
    "    - F1 Score"
   ]
  },
  {
   "cell_type": "markdown",
   "metadata": {},
   "source": [
    "Separamos los datos para suministrar al modelo\n",
    "\n",
    " - **x** => son los datos que vienen del **BODY**\n",
    " - **x1** => son los datos que vienen del **TITLE**\n",
    " - **y** => es nuestra variable target que son las **STARS**"
   ]
  },
  {
   "cell_type": "code",
   "execution_count": 51,
   "metadata": {},
   "outputs": [],
   "source": [
    "x = matriz_body.toarray() # esto nos tranforma el data set a una lista / arreglo\n",
    "y = stars_b\n",
    "x1=matriz_title.toarray()"
   ]
  },
  {
   "cell_type": "code",
   "execution_count": 52,
   "metadata": {},
   "outputs": [],
   "source": [
    "from sklearn.model_selection import train_test_split\n",
    "x_train, x_test, y_train, y_test = train_test_split(x,y,test_size=0.2,random_state=42,stratify=y)\n",
    "\n",
    "from sklearn.metrics import confusion_matrix,accuracy_score, classification_report\n",
    "\n",
    "#Codgo para dar formato a la matriz\n",
    "def confusion(y_test,y_pred):\n",
    "    names=['1','2','3','4','5']\n",
    "    cm=confusion_matrix(y_test,y_pred)\n",
    "    f,ax=plt.subplots(figsize=(5,5))\n",
    "    sns.heatmap(cm,annot=True,linewidth=.5,linecolor=\"r\",fmt=\".0f\",ax=ax)\n",
    "    plt.xlabel(\"y_pred\")\n",
    "    plt.ylabel(\"y_true\")\n",
    "    ax.set_xticklabels(names)\n",
    "    ax.set_yticklabels(names)\n",
    "    plt.show()\n",
    "\n",
    "    return"
   ]
  },
  {
   "cell_type": "code",
   "execution_count": 54,
   "metadata": {},
   "outputs": [
    {
     "data": {
      "text/plain": [
       "(200000, 2000)"
      ]
     },
     "execution_count": 54,
     "metadata": {},
     "output_type": "execute_result"
    }
   ],
   "source": [
    "x.shape"
   ]
  },
  {
   "cell_type": "code",
   "execution_count": 55,
   "metadata": {},
   "outputs": [
    {
     "data": {
      "text/plain": [
       "(200000,)"
      ]
     },
     "execution_count": 55,
     "metadata": {},
     "output_type": "execute_result"
    }
   ],
   "source": [
    "y.shape"
   ]
  },
  {
   "cell_type": "markdown",
   "metadata": {},
   "source": [
    "###  - BODY"
   ]
  },
  {
   "cell_type": "markdown",
   "metadata": {},
   "source": [
    "### 3.1 Naive Bayes - Benchmark"
   ]
  },
  {
   "cell_type": "code",
   "execution_count": 56,
   "metadata": {},
   "outputs": [
    {
     "data": {
      "text/plain": [
       "GaussianNB()"
      ]
     },
     "execution_count": 56,
     "metadata": {},
     "output_type": "execute_result"
    }
   ],
   "source": [
    "from sklearn.naive_bayes import GaussianNB\n",
    "\n",
    "nb = GaussianNB()\n",
    "nb.fit(x_train,y_train)"
   ]
  },
  {
   "cell_type": "code",
   "execution_count": 57,
   "metadata": {},
   "outputs": [],
   "source": [
    "y_train_pred = nb.predict(x_train)\n",
    "y_test_pred = nb.predict(x_test)"
   ]
  },
  {
   "cell_type": "code",
   "execution_count": 58,
   "metadata": {},
   "outputs": [
    {
     "name": "stdout",
     "output_type": "stream",
     "text": [
      "RESULTADOS TRAIN\n",
      "              precision    recall  f1-score   support\n",
      "\n",
      "           1       0.48      0.64      0.55     32000\n",
      "           2       0.38      0.23      0.28     32000\n",
      "           3       0.35      0.18      0.24     32000\n",
      "           4       0.33      0.20      0.25     32000\n",
      "           5       0.38      0.74      0.50     32000\n",
      "\n",
      "    accuracy                           0.40    160000\n",
      "   macro avg       0.38      0.40      0.36    160000\n",
      "weighted avg       0.38      0.40      0.36    160000\n",
      "\n"
     ]
    },
    {
     "data": {
      "image/png": "[encoded data removed]",
      "text/plain": [
       "<Figure size 360x360 with 2 Axes>"
      ]
     },
     "metadata": {},
     "output_type": "display_data"
    },
    {
     "name": "stdout",
     "output_type": "stream",
     "text": [
      "RESULTADOS TEST\n",
      "              precision    recall  f1-score   support\n",
      "\n",
      "           1       0.47      0.62      0.53      8000\n",
      "           2       0.32      0.20      0.24      8000\n",
      "           3       0.30      0.16      0.21      8000\n",
      "           4       0.29      0.17      0.21      8000\n",
      "           5       0.37      0.72      0.49      8000\n",
      "\n",
      "    accuracy                           0.37     40000\n",
      "   macro avg       0.35      0.37      0.34     40000\n",
      "weighted avg       0.35      0.37      0.34     40000\n",
      "\n"
     ]
    },
    {
     "data": {
      "image/png": "[encoded data removed]",
      "text/plain": [
       "<Figure size 360x360 with 2 Axes>"
      ]
     },
     "metadata": {},
     "output_type": "display_data"
    }
   ],
   "source": [
    "print('RESULTADOS TRAIN')\n",
    "print(classification_report(y_train, y_train_pred))\n",
    "confusion(y_train,y_train_pred)\n",
    "\n",
    "print('RESULTADOS TEST')\n",
    "print(classification_report(y_test, y_test_pred))\n",
    "confusion(y_test,y_test_pred)"
   ]
  },
  {
   "cell_type": "markdown",
   "metadata": {},
   "source": [
    "### 3.2 Random Forest Classifier"
   ]
  },
  {
   "cell_type": "code",
   "execution_count": 59,
   "metadata": {},
   "outputs": [
    {
     "data": {
      "text/plain": [
       "RandomForestClassifier(n_estimators=50, random_state=42)"
      ]
     },
     "execution_count": 59,
     "metadata": {},
     "output_type": "execute_result"
    }
   ],
   "source": [
    "from sklearn.ensemble import RandomForestClassifier\n",
    "\n",
    "rf = RandomForestClassifier(n_estimators = 50, random_state=42)\n",
    "rf.fit(x_train,y_train)"
   ]
  },
  {
   "cell_type": "code",
   "execution_count": 60,
   "metadata": {},
   "outputs": [],
   "source": [
    "y_train_pred_rf = rf.predict(x_train)\n",
    "y_test_pred_rf = rf.predict(x_test)"
   ]
  },
  {
   "cell_type": "code",
   "execution_count": 61,
   "metadata": {},
   "outputs": [
    {
     "name": "stdout",
     "output_type": "stream",
     "text": [
      "RESULTADOS TRAIN\n",
      "              precision    recall  f1-score   support\n",
      "\n",
      "           1       0.99      0.99      0.99     32000\n",
      "           2       0.99      0.98      0.98     32000\n",
      "           3       0.98      0.97      0.98     32000\n",
      "           4       0.96      0.97      0.96     32000\n",
      "           5       0.97      0.97      0.97     32000\n",
      "\n",
      "    accuracy                           0.98    160000\n",
      "   macro avg       0.98      0.98      0.98    160000\n",
      "weighted avg       0.98      0.98      0.98    160000\n",
      "\n"
     ]
    },
    {
     "data": {
      "image/png": "[encoded data removed]",
      "text/plain": [
       "<Figure size 360x360 with 2 Axes>"
      ]
     },
     "metadata": {},
     "output_type": "display_data"
    },
    {
     "name": "stdout",
     "output_type": "stream",
     "text": [
      "RESULTADOS TEST\n",
      "              precision    recall  f1-score   support\n",
      "\n",
      "           1       0.56      0.67      0.61      8000\n",
      "           2       0.37      0.35      0.36      8000\n",
      "           3       0.35      0.30      0.33      8000\n",
      "           4       0.39      0.35      0.37      8000\n",
      "           5       0.52      0.58      0.55      8000\n",
      "\n",
      "    accuracy                           0.45     40000\n",
      "   macro avg       0.44      0.45      0.44     40000\n",
      "weighted avg       0.44      0.45      0.44     40000\n",
      "\n"
     ]
    },
    {
     "data": {
      "image/png": "[encoded data removed]",
      "text/plain": [
       "<Figure size 360x360 with 2 Axes>"
      ]
     },
     "metadata": {},
     "output_type": "display_data"
    }
   ],
   "source": [
    "print('RESULTADOS TRAIN')\n",
    "print(classification_report(y_train, y_train_pred_rf))\n",
    "confusion(y_train,y_train_pred_rf)\n",
    "\n",
    "print('RESULTADOS TEST')\n",
    "print(classification_report(y_test, y_test_pred_rf))\n",
    "confusion(y_test,y_test_pred_rf)"
   ]
  },
  {
   "cell_type": "markdown",
   "metadata": {},
   "source": [
    " - Aca podemos ver la importancia de los features que uso el modelo para clasificar"
   ]
  },
  {
   "cell_type": "code",
   "execution_count": 62,
   "metadata": {},
   "outputs": [
    {
     "data": {
      "image/png": "[encoded data removed]",
      "text/plain": [
       "<Figure size 1080x576 with 1 Axes>"
      ]
     },
     "metadata": {},
     "output_type": "display_data"
    }
   ],
   "source": [
    "# Le preguntamos la importancia de cada feature (cada palabra)\n",
    "importances = rf.feature_importances_\n",
    "# Tomamos la lista de palabras\n",
    "all_words_b = vectorizer_B.get_feature_names()\n",
    "columns = all_words_b\n",
    "\n",
    "# Ordenamos por importnacia y tomamos las 20 primeras\n",
    "indices = np.argsort(importances)[::-1]\n",
    "indices = indices[:20]\n",
    "selected_columns = [columns[i] for i in indices]\n",
    "selected_importances = importances[indices]\n",
    "\n",
    "# Por ultimo graficamos\n",
    "plt.figure(figsize = (15,8))\n",
    "sns.barplot(selected_columns, selected_importances)\n",
    "plt.show()"
   ]
  },
  {
   "cell_type": "markdown",
   "metadata": {},
   "source": [
    "### 3.3 SVM"
   ]
  },
  {
   "cell_type": "code",
   "execution_count": 63,
   "metadata": {},
   "outputs": [
    {
     "data": {
      "text/plain": [
       "LinearSVC(C=1)"
      ]
     },
     "execution_count": 63,
     "metadata": {},
     "output_type": "execute_result"
    }
   ],
   "source": [
    "from sklearn.svm import LinearSVC\n",
    "\n",
    "svc = LinearSVC(C = 1)\n",
    "svc.fit(x_train,y_train)"
   ]
  },
  {
   "cell_type": "code",
   "execution_count": 64,
   "metadata": {},
   "outputs": [],
   "source": [
    "y_train_pred_svm = svc.predict(x_train)\n",
    "y_test_pred_svm = svc.predict(x_test)"
   ]
  },
  {
   "cell_type": "code",
   "execution_count": 65,
   "metadata": {},
   "outputs": [
    {
     "name": "stdout",
     "output_type": "stream",
     "text": [
      "RESULTADOS TRAIN\n",
      "              precision    recall  f1-score   support\n",
      "\n",
      "           1       0.57      0.72      0.64     32000\n",
      "           2       0.43      0.39      0.41     32000\n",
      "           3       0.41      0.31      0.36     32000\n",
      "           4       0.45      0.36      0.40     32000\n",
      "           5       0.55      0.70      0.61     32000\n",
      "\n",
      "    accuracy                           0.50    160000\n",
      "   macro avg       0.48      0.50      0.48    160000\n",
      "weighted avg       0.48      0.50      0.48    160000\n",
      "\n"
     ]
    },
    {
     "data": {
      "image/png": "[encoded data removed]",
      "text/plain": [
       "<Figure size 360x360 with 2 Axes>"
      ]
     },
     "metadata": {},
     "output_type": "display_data"
    },
    {
     "name": "stdout",
     "output_type": "stream",
     "text": [
      "RESULTADOS TEST\n",
      "              precision    recall  f1-score   support\n",
      "\n",
      "           1       0.55      0.70      0.62      8000\n",
      "           2       0.39      0.35      0.37      8000\n",
      "           3       0.39      0.29      0.33      8000\n",
      "           4       0.41      0.33      0.37      8000\n",
      "           5       0.53      0.68      0.59      8000\n",
      "\n",
      "    accuracy                           0.47     40000\n",
      "   macro avg       0.45      0.47      0.46     40000\n",
      "weighted avg       0.45      0.47      0.46     40000\n",
      "\n"
     ]
    },
    {
     "data": {
      "image/png": "[encoded data removed]",
      "text/plain": [
       "<Figure size 360x360 with 2 Axes>"
      ]
     },
     "metadata": {},
     "output_type": "display_data"
    }
   ],
   "source": [
    "print('RESULTADOS TRAIN')\n",
    "print(classification_report(y_train, y_train_pred_svm))\n",
    "confusion(y_train,y_train_pred_svm)\n",
    "\n",
    "print('RESULTADOS TEST')\n",
    "print(classification_report(y_test, y_test_pred_svm))\n",
    "confusion(y_test,y_test_pred_svm)"
   ]
  },
  {
   "cell_type": "markdown",
   "metadata": {},
   "source": [
    "### - TITLE "
   ]
  },
  {
   "cell_type": "code",
   "execution_count": 66,
   "metadata": {},
   "outputs": [],
   "source": [
    "x1_train, x1_test, y1_train, y1_test = train_test_split(x1,y,test_size=0.2,random_state=42,stratify=y)"
   ]
  },
  {
   "cell_type": "markdown",
   "metadata": {},
   "source": [
    "### 3.1 Naive Bayes - Benchmark"
   ]
  },
  {
   "cell_type": "code",
   "execution_count": 67,
   "metadata": {},
   "outputs": [
    {
     "data": {
      "text/plain": [
       "GaussianNB()"
      ]
     },
     "execution_count": 67,
     "metadata": {},
     "output_type": "execute_result"
    }
   ],
   "source": [
    "nb1 = GaussianNB()\n",
    "nb1.fit(x1_train,y1_train)"
   ]
  },
  {
   "cell_type": "code",
   "execution_count": 68,
   "metadata": {},
   "outputs": [
    {
     "name": "stdout",
     "output_type": "stream",
     "text": [
      "RESULTADOS TRAIN\n",
      "              precision    recall  f1-score   support\n",
      "\n",
      "           1       0.47      0.51      0.49     32000\n",
      "           2       0.42      0.11      0.17     32000\n",
      "           3       0.39      0.09      0.14     32000\n",
      "           4       0.26      0.06      0.09     32000\n",
      "           5       0.29      0.92      0.44     32000\n",
      "\n",
      "    accuracy                           0.34    160000\n",
      "   macro avg       0.36      0.34      0.27    160000\n",
      "weighted avg       0.36      0.34      0.27    160000\n",
      "\n"
     ]
    },
    {
     "data": {
      "image/png": "[encoded data removed]",
      "text/plain": [
       "<Figure size 360x360 with 2 Axes>"
      ]
     },
     "metadata": {},
     "output_type": "display_data"
    },
    {
     "name": "stdout",
     "output_type": "stream",
     "text": [
      "RESULTADOS TEST\n",
      "              precision    recall  f1-score   support\n",
      "\n",
      "           1       0.46      0.50      0.48      8000\n",
      "           2       0.38      0.10      0.15      8000\n",
      "           3       0.35      0.08      0.13      8000\n",
      "           4       0.24      0.05      0.09      8000\n",
      "           5       0.28      0.91      0.43      8000\n",
      "\n",
      "    accuracy                           0.33     40000\n",
      "   macro avg       0.34      0.33      0.26     40000\n",
      "weighted avg       0.34      0.33      0.26     40000\n",
      "\n"
     ]
    },
    {
     "data": {
      "image/png": "[encoded data removed]",
      "text/plain": [
       "<Figure size 360x360 with 2 Axes>"
      ]
     },
     "metadata": {},
     "output_type": "display_data"
    }
   ],
   "source": [
    "y1_train_pred = nb1.predict(x1_train)\n",
    "y1_test_pred = nb1.predict(x1_test)\n",
    "\n",
    "\n",
    "print('RESULTADOS TRAIN')\n",
    "print(classification_report(y1_train, y1_train_pred))\n",
    "confusion(y1_train,y1_train_pred)\n",
    "\n",
    "print('RESULTADOS TEST')\n",
    "print(classification_report(y1_test, y1_test_pred))\n",
    "confusion(y1_test,y1_test_pred)"
   ]
  },
  {
   "cell_type": "markdown",
   "metadata": {},
   "source": [
    "### 3.2 Random Forest Classifier"
   ]
  },
  {
   "cell_type": "code",
   "execution_count": 69,
   "metadata": {},
   "outputs": [
    {
     "data": {
      "text/plain": [
       "RandomForestClassifier(n_estimators=50, random_state=40)"
      ]
     },
     "execution_count": 69,
     "metadata": {},
     "output_type": "execute_result"
    }
   ],
   "source": [
    "rf1 = RandomForestClassifier(n_estimators = 50, random_state=40)\n",
    "rf1.fit(x1_train,y1_train)"
   ]
  },
  {
   "cell_type": "code",
   "execution_count": 70,
   "metadata": {},
   "outputs": [],
   "source": [
    "y1_train_pred_rf = rf1.predict(x1_train)\n",
    "y1_test_pred_rf = rf1.predict(x1_test)"
   ]
  },
  {
   "cell_type": "code",
   "execution_count": 71,
   "metadata": {},
   "outputs": [
    {
     "name": "stdout",
     "output_type": "stream",
     "text": [
      "RESULTADOS TRAIN\n",
      "              precision    recall  f1-score   support\n",
      "\n",
      "           1       0.69      0.66      0.68     32000\n",
      "           2       0.61      0.51      0.55     32000\n",
      "           3       0.46      0.57      0.51     32000\n",
      "           4       0.52      0.57      0.54     32000\n",
      "           5       0.64      0.57      0.60     32000\n",
      "\n",
      "    accuracy                           0.57    160000\n",
      "   macro avg       0.59      0.57      0.58    160000\n",
      "weighted avg       0.59      0.57      0.58    160000\n",
      "\n"
     ]
    },
    {
     "data": {
      "image/png": "[encoded data removed]",
      "text/plain": [
       "<Figure size 360x360 with 2 Axes>"
      ]
     },
     "metadata": {},
     "output_type": "display_data"
    },
    {
     "name": "stdout",
     "output_type": "stream",
     "text": [
      "RESULTADOS TEST\n",
      "              precision    recall  f1-score   support\n",
      "\n",
      "           1       0.56      0.55      0.55      8000\n",
      "           2       0.38      0.31      0.34      8000\n",
      "           3       0.30      0.37      0.33      8000\n",
      "           4       0.38      0.41      0.39      8000\n",
      "           5       0.50      0.45      0.47      8000\n",
      "\n",
      "    accuracy                           0.42     40000\n",
      "   macro avg       0.42      0.42      0.42     40000\n",
      "weighted avg       0.42      0.42      0.42     40000\n",
      "\n"
     ]
    },
    {
     "data": {
      "image/png": "[encoded data removed]",
      "text/plain": [
       "<Figure size 360x360 with 2 Axes>"
      ]
     },
     "metadata": {},
     "output_type": "display_data"
    }
   ],
   "source": [
    "print('RESULTADOS TRAIN')\n",
    "print(classification_report(y1_train, y1_train_pred_rf))\n",
    "confusion(y1_train,y1_train_pred_rf)\n",
    "\n",
    "print('RESULTADOS TEST')\n",
    "print(classification_report(y1_test, y1_test_pred_rf))\n",
    "confusion(y1_test,y1_test_pred_rf)"
   ]
  },
  {
   "cell_type": "markdown",
   "metadata": {},
   "source": [
    "### 3.3 SVM"
   ]
  },
  {
   "cell_type": "code",
   "execution_count": 72,
   "metadata": {},
   "outputs": [
    {
     "data": {
      "text/plain": [
       "LinearSVC(C=1)"
      ]
     },
     "execution_count": 72,
     "metadata": {},
     "output_type": "execute_result"
    }
   ],
   "source": [
    "svc1 = LinearSVC(C = 1)\n",
    "svc1.fit(x1_train,y1_train)"
   ]
  },
  {
   "cell_type": "code",
   "execution_count": 73,
   "metadata": {},
   "outputs": [],
   "source": [
    "y1_train_pred_svm = svc1.predict(x1_train)\n",
    "y1_test_pred_svm = svc1.predict(x1_test)"
   ]
  },
  {
   "cell_type": "code",
   "execution_count": 74,
   "metadata": {},
   "outputs": [
    {
     "name": "stdout",
     "output_type": "stream",
     "text": [
      "RESULTADOS TRAIN\n",
      "              precision    recall  f1-score   support\n",
      "\n",
      "           1       0.55      0.58      0.56     32000\n",
      "           2       0.40      0.34      0.37     32000\n",
      "           3       0.32      0.35      0.34     32000\n",
      "           4       0.40      0.41      0.41     32000\n",
      "           5       0.51      0.49      0.50     32000\n",
      "\n",
      "    accuracy                           0.43    160000\n",
      "   macro avg       0.44      0.43      0.43    160000\n",
      "weighted avg       0.44      0.43      0.43    160000\n",
      "\n"
     ]
    },
    {
     "data": {
      "image/png": "[encoded data removed]",
      "text/plain": [
       "<Figure size 360x360 with 2 Axes>"
      ]
     },
     "metadata": {},
     "output_type": "display_data"
    },
    {
     "name": "stdout",
     "output_type": "stream",
     "text": [
      "RESULTADOS TEST\n",
      "              precision    recall  f1-score   support\n",
      "\n",
      "           1       0.54      0.57      0.56      8000\n",
      "           2       0.38      0.32      0.35      8000\n",
      "           3       0.31      0.33      0.32      8000\n",
      "           4       0.38      0.40      0.39      8000\n",
      "           5       0.50      0.48      0.49      8000\n",
      "\n",
      "    accuracy                           0.42     40000\n",
      "   macro avg       0.42      0.42      0.42     40000\n",
      "weighted avg       0.42      0.42      0.42     40000\n",
      "\n"
     ]
    },
    {
     "data": {
      "image/png": "[encoded data removed]",
      "text/plain": [
       "<Figure size 360x360 with 2 Axes>"
      ]
     },
     "metadata": {},
     "output_type": "display_data"
    }
   ],
   "source": [
    "print('RESULTADOS TRAIN')\n",
    "print(classification_report(y1_train, y1_train_pred_svm))\n",
    "confusion(y1_train,y1_train_pred_svm)\n",
    "\n",
    "print('RESULTADOS TEST')\n",
    "print(classification_report(y1_test, y1_test_pred_svm))\n",
    "confusion(y1_test,y1_test_pred_svm)"
   ]
  },
  {
   "cell_type": "markdown",
   "metadata": {},
   "source": [
    "## Conlusiones de los modelos\n",
    "\n",
    "A nivel general en los 6 modelos que hemos ejecutado tanto para BODY como para TITLE las metricas dan mejor en train que es test como es de esperar y nos indica la lógica. \n",
    "\n",
    "Hemos seleccionado como modelo bench al Naives Bayes (NB), el cual en terminos de metricas nos da los valores más bajos. Los otros dos modelos RF y SVM mejoran dichas metricas. \n",
    "\n",
    "Por otro lado buscando conclusiones respecto al análisis de TITLE y BODY el modelo que mejores metricas consigue en test es el SVM para el BODY. \n",
    "\n",
    "De los modelos expuestos se a buscado interpretarlos y correrlos modificacando sus hiperparametros llegando a los resultado expuestos que entendemos son los mejores y se detallan a constinuación\n",
    "\n",
    "### - **BODY**\n",
    "- **NB**: constituye nuestro modelo benckmark, donde eobservamos las metricas más bajas respecto a los otros modelos\n",
    "\n",
    "- **RF**:\n",
    "\n",
    "    -**Train**: vemos un marcado overfiting, con metricas todas superiores al 0.98, es decir, el modelo esta aprendiendo los datos de memoria. Además se observan metricas muy altas para los valores de 2,3 y 4 estrellas que por lo general son las más confusas.\n",
    "\n",
    "    -**Test**: los valores parecen normalizarse, con un accuracy de 0.45 y una diagonal en la matriz de confusion que contiene el valor más alto de la fila. tambien vemos que las estrellas de 1 y 5 tiene las metricas más elevadas mientras que las estrellas intermedias (1,2,4) no presentan metricas superiores a 0.37, donde vemos que al modelo le cuesta clasificar. \n",
    "\n",
    "- **SVM**: \n",
    "\n",
    "    -**Train**: vemos el acuracy más alto logrado (0.5), un abuena diagonal en la matriz, pero mucha confusión en los valores intermadios de las estrellas\n",
    "    \n",
    "    -**Test**: las metricas en test disminusción un poco respecto a train y seguimos viendo confusión en los valores intermedios. Igualmente es el valor en test (0.47) más alto de accuracy obtenido y la diagonal de la matriz tiene los valores más altos de la fila. \n",
    "\n",
    "### - **TITLE**\n",
    "- **NB**: constituye nuestro modelo benchmark, donde eobservamos las metricas más bajas respecto a los otros modelos\n",
    "\n",
    "- **RF**: \n",
    "\n",
    "    -**Train**:Como era una posibilidad que se vio durante el EDA que el titulo fuese un muy buen predictor, este RF obtiene el mejor occuracy en train (0.57) y todos valores encima de 0.5 en las clasificaciones intermedias. \n",
    "    \n",
    "    -**Test**: a pesar del muy buen resultado en train el test baja a un accuracy de 0.42 y vemos imporntates niveles de confisión en los valores 2, 3 y 4. \n",
    "\n",
    "- **SVM**: \n",
    "\n",
    "    -**Train**: las metricas son inferiores al SVM aplicado sobre el BODY\n",
    "    \n",
    "    -**Test**: las metricas son inferiores al SVM aplicado sobre el BODY\n",
    "    \n",
    "    \n",
    "### - **FINALMENTE**\n",
    "\n",
    "El modelo que esta funcionando mejor en las instacia de test según todo el análisis expuesto y las conclusiones anteriores es el SVM aplicado sobre el BODY de las review.\n",
    "\n",
    "Interpreto que por más de variar los hiperparametros de los modelos, las metricas no mejorar sustancialmente debido principalmente a la cantidad de vocabulario del data set y la riqueza o diferentes maneras de expresiones que tiene el idioma español. \n",
    "\n",
    "### - **Proximos Pasos y resultados esperados**\n",
    "\n",
    " 1. Buscar probar un nuevo modelo no utilizado hasta el momento. El modelo que voy a buscar utilzar es XGBOOST, por los siguientes motivos\n",
    " \n",
    "     - Investigando doy con que es un modelo muy popular y de amplia aplicación no visto en el presente curso el cual me gustaría invertir tiempo en conocer.\n",
    "     - Modelo reconocido por su velocidad de ejecución y rendimiento\n",
    "     - Como entrada admite una sparse matrix que es nuestro caso (Sparsity: acepta entradas dispersas tanto para el reforzador de árboles como para el reforzador lineal), y está optimizado para entradas dispersas\n",
    "     - Utiliza procesamiento en paralelo, poda de árboles, manejo de valores perdidos y regularización (optimización que penaliza la complejidad de los modelos) para evitar en lo posible sobreajuste o sesgo del modelo.\n",
    " \n",
    " \n",
    " 2. ¿Hay algo que te gustaría investigar o probar?\n",
    " \n",
    " - Trabajar con el data set haciendo foco en las 15 categorías de productos que responden al 80% de las review y buscar si existen palabras especificas para cada categoría o grupo de categorías. Esto posiblemente implique probar modelos por categorías y evaluarlos. \n",
    " En esto punto planteo dividir el problema y analizar las reviews por categoría para ver si logro mejorar la performance de los modelos viendo categorías individuales o grupos de categorías que se califiquen de manera similar\n",
    " \n",
    " 3. ¿Valdrá la pena convertir el problema de Machine Learning en un problema binario? Es decir, asignar únicamente las etiquetas Positiva y Negativa a cada crítica y hacer un modelo que, en lugar de predecir las estrellas, prediga esa etiqueta. Pensar en qué situación puede ser útil. ¿Esperas que el desempeño sea mejor o peor?\n",
    "\n",
    "Considero que sería una muy buena opción a probar y evaluar. Solamente que no pondría los extremos 'positivo' y 'negativo' si no que transformaría a las estrellas en las dos opciones expuestas a continuación y evaluaria resultados de los modelos, \n",
    " \n",
    "Opción 1:\n",
    "\n",
    " - 1 => Positivo\n",
    " - 2, 3 y 4 => Neutro. Aca es donde hemos visto más cuesta al modelo diferenciar\n",
    " - 5 => negativo\n",
    "\n",
    "Opción 2\n",
    "\n",
    " - 1 y 2 => Positivo\n",
    " - 3 => Neutro\n",
    " - 4 y 5 => negativo \n",
    " \n",
    "Me parece que si puede mejorar el desempeño. El problema que estaríamos cambiando la logica en cierta manera de como ya esta clasificado el dataset que tiene 5 posibilidades cambiandolo a 3, es decir, tendriamos una nueva verión del data set. Por otro lado si este fuese el sistema de calificación de un cliente habría que hacer una modificación más profunda sobre como los usuarios clasifican, ya que el sistema debería mutar de uno de 5 opciones a uno de 3 a lahora de clasificar. \n",
    " \n",
    "\n"
   ]
  }
 ],
 "metadata": {
  "colab": {
   "collapsed_sections": [],
   "name": "Copia de DS_Proyecto_03_NLP.ipynb",
   "provenance": [
    {
     "file_id": "1oK2UQA57i6GpzRjqmW2wjOQ4l1MyEyia",
     "timestamp": 1620347758104
    }
   ]
  },
  "kernelspec": {
   "display_name": "Python 3",
   "language": "python",
   "name": "python3"
  },
  "language_info": {
   "codemirror_mode": {
    "name": "ipython",
    "version": 3
   },
   "file_extension": ".py",
   "mimetype": "text/x-python",
   "name": "python",
   "nbconvert_exporter": "python",
   "pygments_lexer": "ipython3",
   "version": "3.8.5"
  }
 },
 "nbformat": 4,
 "nbformat_minor": 4
}
